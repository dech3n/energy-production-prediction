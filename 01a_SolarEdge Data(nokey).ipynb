{
 "cells": [
  {
   "cell_type": "markdown",
   "id": "2562ecc7",
   "metadata": {},
   "source": [
    "## <span style=\"color:blue\"> SolarEdge Data </span>"
   ]
  },
  {
   "cell_type": "markdown",
   "id": "63cbf64d",
   "metadata": {},
   "source": [
    "#### <b style=\"color:blue;\"> Site Energy / Power Measurements </b>\n",
    "\n",
    "SolarEdge API Handbook: https://www.solaredge.com/sites/default/files/se_monitoring_api.pdf\n",
    "\n",
    "Potential APIs:\n",
    "\n",
    "**Site Energy** Site energy measurements <br>\n",
    "**Site Energy – Time Period** Site energy for a requested timeframe <br>\n",
    "**Site Power** Site power measurements in a 15-minute resolution <br>\n",
    "**Site Overview** Site current power, energy production (today, this month, lifetime) and lifetime revenue <br>\n",
    "**Site Power** Detailed site power measurements including meters such as consumption, export (feed-in), import (purchase), etc. <br>\n",
    "**Site Energy** Detailed site energy measurements including meters such as consumption<br>\n",
    "**Site Power** Flow Get the power flowchart of the site <br>\n",
    "**Site Image** The site image as uploaded to the server, either scaled or original size <br>\n",
    "**Site Environmental Benefits** Summary of site’s positive impact on the environment <br>\n",
    "**Inverter Technical Data** Technical data on the inverter performance for a requested period of time <br>\n",
    "**Account List API** The account details and list of all sub-accounts <br>\n",
    "**Get Sensor List** The list of sensors installed in the site <br>\n",
    "**Get Sensor Data** The measurements of the sensors installed in the site <br>\n",
    "**Get Meters Data** Information about each meter in the site including: lifetime energy, metadata and the device to which it’s connected to. <br>\n",
    "**API Versions** The current and supported version numbers<br>"
   ]
  },
  {
   "cell_type": "markdown",
   "id": "0491ad69",
   "metadata": {},
   "source": [
    "| **Commands**                | **Description**                                  |   | **Commands**           | **Description**                                |\n",
    "|-----------------------------|--------------------------------------------------|---|------------------------|------------------------------------------------|\n",
    "| accounts                    | Get the accessible   >sub< accounts.             |   | site_inventory         | Inventory of SolarEdge equipment at the   site |\n",
    "| site_current_power_flow     | Current power flow between all elements   of...  |   | site_meters            | Meter lifetime energy, metadata and...         |\n",
    "| site_data_period            | Sites(s) start_date and end_date of...           |   | site_overview          | Sites(s) overview data                         |\n",
    "| site_details                | Get site details; name, location,   status,...   |   | site_power             | Site(s) power measurements                     |\n",
    "| site_energy                 | Site(s) energy measurements                      |   | site_power_details     | Detailed site power measurements from   meters |\n",
    "| site_energy_details         | Detailed site energy measurements from   meters  |   | site_storage_data      | Detailed storage information from   batteries  |\n",
    "| site_environmental_benefits | Environmental benefits based on site   energy... |   | site_time_frame_energy | Site(s) total energy produced for a   given... |\n",
    "| site_equipment_change_log   | Equipment component replacements ordered   by... |   | sites                  | Get the list of accessible sites               |\n",
    "| site_equipment_data         | Get specific inverter data for a given...        |   | version_current        | Current version in   <major.minor.revision>... |\n",
    "| site_equipment_sensors      | Sensors in the site and connections              |   | version_supported      | Supported version numbers in...                |"
   ]
  },
  {
   "cell_type": "markdown",
   "id": "6be0e93f",
   "metadata": {},
   "source": [
    "Meters:\n",
    "- Production = Produktion\n",
    "- Consumption = Verbrauch\n",
    "- SelfConsumption = Eigenverbrauch\n",
    "- FeedIn = Einspeisung\n",
    "- Purchased = Gekauft"
   ]
  },
  {
   "cell_type": "markdown",
   "id": "94675e1f",
   "metadata": {},
   "source": [
    "Date and time formats in all APIs are:\n",
    "- Date and time: YYYY-MM-DD hh:mm:ss \n",
    "- Date only: YYYY-MM-DD "
   ]
  },
  {
   "cell_type": "code",
   "execution_count": 1,
   "id": "d200c959",
   "metadata": {},
   "outputs": [],
   "source": [
    "import pandas as pd\n",
    "from pandas.tseries.offsets import MonthEnd\n",
    "import requests\n",
    "from datetime import datetime\n",
    "import matplotlib.pyplot as plt\n",
    "import seaborn as sns"
   ]
  },
  {
   "cell_type": "code",
   "execution_count": 2,
   "id": "fd67ee4f",
   "metadata": {},
   "outputs": [],
   "source": [
    "api_key = \"your_key\" # replace 'your_key'\n",
    "site_id = \"your_id\" # replace 'your_id'"
   ]
  },
  {
   "cell_type": "markdown",
   "id": "46cf819a",
   "metadata": {},
   "source": [
    "### <b style=\"color:blue;\"> Options for using SolarEdge API </b>\n",
    "\n",
    "#### <b style=\"color:blue;\"> Basic script </b>\n",
    "\n",
    "https://www.instructables.com/Accessing-Your-Solaredge-Data-Using-Python/\n",
    "\n",
    "**Conclusion**: Works, not yet scalable\n"
   ]
  },
  {
   "cell_type": "markdown",
   "id": "f232e248",
   "metadata": {},
   "source": [
    "#### <b style=\"color:blue;\"> Python library: Solaredge </b>\n",
    "\n",
    "Basis: https://pypi.org/project/solaredge/"
   ]
  },
  {
   "cell_type": "code",
   "execution_count": 82,
   "id": "5c19cacb",
   "metadata": {},
   "outputs": [],
   "source": [
    "import solaredge\n",
    "import time"
   ]
  },
  {
   "cell_type": "markdown",
   "id": "14f422f0",
   "metadata": {},
   "source": [
    "Example Production Data in 15-minute-intervalls from: https://samfirke.com/2020/12/30/python-script-to-retrieve-solaredge-solar-panel-data/\n",
    "\n",
    "\"That analysis is for later, though. Here is how I first retrieved the production data for my system from the SolarEdge API, in fifteen-minute intervals. It pulls data for both energy (watt-hours generated) and power (power production, in watts). I think the power is average power over that 15 minute period, though I don’t see that documented and it doesn’t line up exactly with energy generation. I’m a Python beginner and relied on my brother, who kindly wrote almost all of this code.\"\n",
    "\n",
    "**Conclusion**: timestamps are not correct as e.g. energy production during night hours; furthermore returned data is inconsistent when code is rerun"
   ]
  },
  {
   "cell_type": "markdown",
   "id": "c5d79a6d",
   "metadata": {},
   "source": [
    "#### <b style=\"color:blue;\"> Python library: SolarEdge API </b>\n",
    "\n",
    "Blogpost: https://www.nicholasdejong.com/solaredge-interface-release/ <br>\n",
    "Github: https://github.com/ndejong/solaredge-interface <br>\n",
    "Documentation: https://solaredge-interface.readthedocs.io/"
   ]
  },
  {
   "cell_type": "code",
   "execution_count": 83,
   "id": "f762eebe",
   "metadata": {},
   "outputs": [],
   "source": [
    "from solaredge_interface.api.SolarEdgeAPI import SolarEdgeAPI"
   ]
  },
  {
   "cell_type": "code",
   "execution_count": 84,
   "id": "4b27ce0c",
   "metadata": {},
   "outputs": [],
   "source": [
    "api = SolarEdgeAPI(api_key=api_key, datetime_response=True, pandas_response=True)"
   ]
  },
  {
   "cell_type": "code",
   "execution_count": 2,
   "id": "1101c99a",
   "metadata": {},
   "outputs": [],
   "source": [
    "start_date = # \"2023-01-01\"\n",
    "end_date = # \"2023-01-01\""
   ]
  },
  {
   "cell_type": "markdown",
   "id": "73d21149",
   "metadata": {},
   "source": [
    "**Conclusion**: \n",
    "Basic queries like current power flow are ok\n",
    "Downloads of e.g. energy consumption is not correct for 15-minutes intervals. Values tend to be repeated, leading to wrong total values compared with the daily or hourly downloads and compared to the official SolarEdge Android App"
   ]
  },
  {
   "cell_type": "code",
   "execution_count": null,
   "id": "51f0a342",
   "metadata": {},
   "outputs": [],
   "source": [
    "response = api.get_site_current_power_flow(site_id)\n",
    "response.data"
   ]
  },
  {
   "cell_type": "code",
   "execution_count": null,
   "id": "ed426e6c",
   "metadata": {},
   "outputs": [],
   "source": [
    "print(api.get_site_data_period(site_id))"
   ]
  },
  {
   "cell_type": "code",
   "execution_count": null,
   "id": "35595599",
   "metadata": {},
   "outputs": [],
   "source": [
    "api.get_site_data_period(site_id).elapsed"
   ]
  },
  {
   "cell_type": "code",
   "execution_count": null,
   "id": "a81a74ed",
   "metadata": {},
   "outputs": [],
   "source": [
    "start_period = start_date + ' 00:00:00'\n",
    "end_period   = end_date +  ' 23:59:59'"
   ]
  },
  {
   "cell_type": "code",
   "execution_count": null,
   "id": "c2aab85c",
   "metadata": {},
   "outputs": [],
   "source": [
    "api.get_site_energy(site_id, start_date, end_date,  time_unit=\"DAY\").pandas"
   ]
  },
  {
   "cell_type": "code",
   "execution_count": null,
   "id": "eff4cdfc",
   "metadata": {},
   "outputs": [],
   "source": [
    "api.get_site_energy_details(site_id, start_period, end_period, meters=None, time_unit=\"DAY\").pandas"
   ]
  },
  {
   "cell_type": "code",
   "execution_count": null,
   "id": "2b87f265",
   "metadata": {},
   "outputs": [],
   "source": [
    "data = api.get_site_energy_details(site_id, start_period, end_period, meters=None, time_unit=\"QUARTER_OF_AN_HOUR\").pandas\n",
    "data.groupby(by=[\"energyDetails.meters.type\"]).sum()  # stimmt nicht überein: Consumption, Production, Purchased"
   ]
  },
  {
   "cell_type": "code",
   "execution_count": null,
   "id": "a633b85f",
   "metadata": {},
   "outputs": [],
   "source": [
    "data.loc[(data['energyDetails.meters.type'] == \"Production\") & (data['energyDetails.meters.values.value'] >0)].head(10)"
   ]
  },
  {
   "cell_type": "markdown",
   "id": "cd2d0e94",
   "metadata": {},
   "source": [
    "production values are repeated -> leads to wrong totals"
   ]
  },
  {
   "cell_type": "code",
   "execution_count": null,
   "id": "d7a32ce3",
   "metadata": {},
   "outputs": [],
   "source": [
    "data = api.get_site_energy_details(site_id, start_period, end_period, meters=None, time_unit=\"HOUR\").pandas\n",
    "data.groupby(by=[\"energyDetails.meters.type\"]).sum()  # stimmt nicht überein: Consumption, Production, Purchased"
   ]
  },
  {
   "cell_type": "code",
   "execution_count": null,
   "id": "6f6effab",
   "metadata": {
    "scrolled": true
   },
   "outputs": [],
   "source": [
    "data.loc[(data['energyDetails.meters.type'] == \"Production\") & (data['energyDetails.meters.values.value'] >0)]"
   ]
  },
  {
   "cell_type": "markdown",
   "id": "0577469a",
   "metadata": {},
   "source": [
    "### <b style=\"color:blue;\"> Get data directly from montoring API in different time intervalls </b>"
   ]
  },
  {
   "cell_type": "markdown",
   "id": "7a034b52",
   "metadata": {},
   "source": [
    "**Site Energy - Detailed**\n",
    "Description: Detailed site energy measurements from meters such as consumption, export (feed-in), import (purchase), etc. "
   ]
  },
  {
   "cell_type": "code",
   "execution_count": null,
   "id": "55e4f83c",
   "metadata": {},
   "outputs": [],
   "source": [
    "#example SolarEdge manual pg 25:\n",
    "solaredge = 'https://monitoringapi.solaredge.com/%20site/'+ site_id + '/energyDetails?meters=PRODUCTION,CONSUMPTION&timeUnit=DAY&startTime=2023-01-01%2011:00:00&endTime=2023-01-01%2013:00:00&api_key=' + api_key\n",
    "json_data = requests.get(solaredge).json()\n",
    "json_data"
   ]
  },
  {
   "cell_type": "markdown",
   "id": "8868a053",
   "metadata": {},
   "source": [
    "#### <b style=\"color:blue;\"> Download data per day, hour and quarter of an hour for consistency check </b>"
   ]
  },
  {
   "cell_type": "markdown",
   "id": "f0da151c",
   "metadata": {},
   "source": [
    "#### whole day at once"
   ]
  },
  {
   "cell_type": "code",
   "execution_count": null,
   "id": "6761526c",
   "metadata": {},
   "outputs": [],
   "source": [
    "solaredge = 'https://monitoringapi.solaredge.com/%20site/'+ site_id + '/energyDetails?meters=PRODUCTION,CONSUMPTION&timeUnit=DAY&startTime=2023-01-01%2023:00:00&endTime=2023-01-01%2023:59:59&api_key=' + api_key\n",
    "json_data = requests.get(solaredge).json()\n",
    "json_data"
   ]
  },
  {
   "cell_type": "markdown",
   "id": "de408ece",
   "metadata": {},
   "source": [
    "#### hourly"
   ]
  },
  {
   "cell_type": "code",
   "execution_count": null,
   "id": "fd3c457f",
   "metadata": {},
   "outputs": [],
   "source": [
    "solaredge = 'https://monitoringapi.solaredge.com/%20site/'+ site_id + '/energyDetails?meters=PRODUCTION,CONSUMPTION&timeUnit=HOUR&startTime=2023-01-01%2000:00:00&endTime=2023-01-01%2023:59:59&api_key=' + api_key\n",
    "json_hourly = requests.get(solaredge).json()"
   ]
  },
  {
   "cell_type": "code",
   "execution_count": null,
   "id": "0195af63",
   "metadata": {},
   "outputs": [],
   "source": [
    "prod_hourly = pd.DataFrame(\n",
    "    json_hourly['energyDetails'][\"meters\"]\n",
    "    [0] # [0] = 'Production', [1] = 'Consumption'\n",
    "    [\"values\"]).rename(columns = {'date':'timestamp', 'value':'production'})\n",
    "prod_hourly.sum()"
   ]
  },
  {
   "cell_type": "code",
   "execution_count": null,
   "id": "e56c557b",
   "metadata": {},
   "outputs": [],
   "source": [
    "prod_hourly = pd.DataFrame(\n",
    "    json_hourly['energyDetails'][\"meters\"]\n",
    "    [1] # [0] = 'Production', [1] = 'Consumption'\n",
    "    [\"values\"]).rename(columns = {'date':'timestamp', 'value':'consumption'})\n",
    "prod_hourly.sum()"
   ]
  },
  {
   "cell_type": "markdown",
   "id": "54ec1937",
   "metadata": {},
   "source": [
    "#### each quarter of an hour"
   ]
  },
  {
   "cell_type": "code",
   "execution_count": null,
   "id": "ede34381",
   "metadata": {},
   "outputs": [],
   "source": [
    "solaredge = 'https://monitoringapi.solaredge.com/%20site/'+ site_id + '/energyDetails?meters=PRODUCTION,CONSUMPTION&timeUnit=QUARTER_OF_AN_HOUR&startTime=2023-01-01%2000:00:00&endTime=2023-01-01%2023:59:59&api_key=' + api_key\n",
    "json_qhourly = requests.get(solaredge).json()"
   ]
  },
  {
   "cell_type": "code",
   "execution_count": null,
   "id": "2bd746a2",
   "metadata": {},
   "outputs": [],
   "source": [
    "prod_qhourly = pd.DataFrame(\n",
    "    json_qhourly['energyDetails'][\"meters\"]\n",
    "    [0] # [1] = 'Production', [0] = 'Consumption'\n",
    "    [\"values\"]).rename(columns = {'date':'timestamp', 'value':'consumption'})\n",
    "prod_qhourly.sum()"
   ]
  },
  {
   "cell_type": "code",
   "execution_count": null,
   "id": "3cfb05ab",
   "metadata": {},
   "outputs": [],
   "source": [
    "prod_qhourly = pd.DataFrame(\n",
    "    json_qhourly['energyDetails'][\"meters\"]\n",
    "    [1] # [0] = 'Production', [1] = 'Consumption'\n",
    "    [\"values\"]).rename(columns = {'date':'timestamp', 'value':'production'})\n",
    "prod_qhourly.sum()"
   ]
  },
  {
   "cell_type": "markdown",
   "id": "ad74e4e2",
   "metadata": {},
   "source": [
    "**Conclusion**: data is consistent and matches the official monitoring app / online monitoring dashboard"
   ]
  },
  {
   "cell_type": "code",
   "execution_count": null,
   "id": "69738490",
   "metadata": {
    "scrolled": true
   },
   "outputs": [],
   "source": [
    "prod_qhourly[30:70]"
   ]
  },
  {
   "cell_type": "markdown",
   "id": "c6ceb4c3",
   "metadata": {},
   "source": [
    "### <b style=\"color:blue;\"> Get data in 15-minutes-intervals for time periods > 1 month </b>\n",
    "\n",
    "Usage limitation: This API is limited to: \n",
    "- A year when using daily resolution (timeUnit=DAY) \n",
    "- A month when using hourly resolution of higher (timeUnit=QUARTER_OF_AN_HOUR or \n",
    "timeUnit=HOUR) \n",
    "- Lower resolutions (weekly, monthly, yearly) have no period limitation \n",
    "In case the requested resolution is not allowed for the requested period, error 403 with proper description will be returned. \n",
    "\n",
    "*Time intervalls need to be split to months in order to download data per quarter of an hour*"
   ]
  },
  {
   "cell_type": "markdown",
   "id": "d524d426",
   "metadata": {},
   "source": [
    "Define start and end dates for time intervalls"
   ]
  },
  {
   "cell_type": "code",
   "execution_count": 3,
   "id": "1f0d353e",
   "metadata": {},
   "outputs": [],
   "source": [
    "start_date = \"2019-03-11\" # first day: 2019-03-11\n",
    "end_date = \"2022-12-31\" # \n",
    "month_s = pd.date_range(start=start_date, end=end_date, freq='MS')\n",
    "month_e = pd.date_range(start=start_date, end=end_date, freq='M')"
   ]
  },
  {
   "cell_type": "code",
   "execution_count": 4,
   "id": "066abd72",
   "metadata": {},
   "outputs": [],
   "source": [
    "start_dates = []\n",
    "start_dates.append(start_date)\n",
    "\n",
    "if start_date < month_s[0].strftime('%Y-%m-%d'):\n",
    "    start_dates.append(month_s[0].strftime('%Y-%m-%d'))\n",
    "\n",
    "for i in range(1,len(month_s)):\n",
    "    start_dates.append(month_s[i].strftime('%Y-%m-%d'))\n",
    "#print(\"start_dates: \", start_dates)\n",
    "\n",
    "end_dates = []\n",
    "\n",
    "for i in range(0,len(month_e)-1):\n",
    "    end_dates.append(month_e[i].strftime('%Y-%m-%d'))\n",
    "\n",
    "end_dates.append(end_date)\n",
    "\n",
    "#print(\"end_dates: \", end_dates)"
   ]
  },
  {
   "cell_type": "markdown",
   "id": "aca6e07c",
   "metadata": {},
   "source": [
    "Download data for first interval"
   ]
  },
  {
   "cell_type": "code",
   "execution_count": null,
   "id": "c1e59204",
   "metadata": {},
   "outputs": [],
   "source": [
    "data = []\n",
    "\n",
    "ti = 0\n",
    "solaredge = ('https://monitoringapi.solaredge.com/%20site/' \n",
    "    + site_id \n",
    "    + '/energyDetails?' # Site Energy - Detailed API\n",
    "    + 'meters=PRODUCTION,SELFCONSUMPTION,FEEDIN' # ALL or list of PRODUCTION,CONSUMPTION,SELFCONSUMPTION,FEEDIN,PURCHASED\n",
    "    + '&timeUnit=QUARTER_OF_AN_HOUR' # or: HOUR, DAY, WEEK, MONTH, YEAR\n",
    "    + '&startTime='+ start_dates[ti] + '%2000:00:00'\n",
    "    + '&endTime='+ end_dates[ti] + '%2023:59:59'\n",
    "    + '&api_key=' + api_key)\n",
    "\n",
    "print(solaredge)\n",
    "print(start_dates[ti] + '-' + end_dates[ti])\n",
    "    \n",
    "json_qhourly = requests.get(solaredge).json()\n",
    "meters_count = len(json_qhourly['energyDetails'][\"meters\"]) #5\n",
    "\n",
    "# first meter\n",
    "data = (pd.DataFrame(json_qhourly['energyDetails'][\"meters\"][0][\"values\"])\n",
    "                    .rename(columns = {'date':'timestamp', 'value': json_qhourly['energyDetails'][\"meters\"][0][\"type\"].lower()}))\n",
    "\n",
    "# remaining meters\n",
    "for i in range(1,meters_count):\n",
    "    data = (pd.merge(data, \n",
    "                     pd.DataFrame(json_qhourly['energyDetails'][\"meters\"][i][\"values\"])\n",
    "                     .rename(columns = {'date':'timestamp', 'value': json_qhourly['energyDetails'][\"meters\"][i][\"type\"].lower()})\n",
    "                    , on=[\"timestamp\"]))\n",
    "#data"
   ]
  },
  {
   "cell_type": "markdown",
   "id": "804ca6d8",
   "metadata": {},
   "source": [
    "Download data for remaining intervals:"
   ]
  },
  {
   "cell_type": "code",
   "execution_count": 6,
   "id": "d881d76c",
   "metadata": {},
   "outputs": [],
   "source": [
    "for ti in range(1,len(start_dates)):\n",
    "    solaredge = ('https://monitoringapi.solaredge.com/%20site/' \n",
    "    + site_id \n",
    "    + '/energyDetails?' # Site Energy - Detailed API\n",
    "    + 'meters=PRODUCTION,SELFCONSUMPTION,FEEDIN' # ALL or list of PRODUCTION,CONSUMPTION,SELFCONSUMPTION,FEEDIN,PURCHASED\n",
    "    + '&timeUnit=QUARTER_OF_AN_HOUR' # or: HOUR, DAY, WEEK, MONTH, YEAR\n",
    "    + '&startTime='+ start_dates[ti] + '%2000:00:00'\n",
    "    + '&endTime='+ end_dates[ti] + '%2023:59:59'\n",
    "    + '&api_key=' + api_key)\n",
    "    #print(start_dates[ti] + '-' + end_dates[ti])\n",
    "    \n",
    "    json_qhourly = requests.get(solaredge).json()\n",
    "    meters_count = len(json_qhourly['energyDetails'][\"meters\"]) #5\n",
    "    \n",
    "    # first meter\n",
    "    new_data = (pd.DataFrame(json_qhourly['energyDetails'][\"meters\"][0][\"values\"])\n",
    "                    .rename(columns = {'date':'timestamp', 'value': json_qhourly['energyDetails'][\"meters\"][0][\"type\"].lower()}))\n",
    "\n",
    "    # remaining meters\n",
    "    for i in range(1,meters_count):\n",
    "        new_data = (pd.merge(new_data, \n",
    "                     pd.DataFrame(json_qhourly['energyDetails'][\"meters\"][i][\"values\"])\n",
    "                     .rename(columns = {'date':'timestamp', 'value': json_qhourly['energyDetails'][\"meters\"][i][\"type\"].lower()})\n",
    "                    , on=[\"timestamp\"]))\n",
    "    \n",
    "    data = (pd.concat([data,new_data], axis=0))\n",
    "\n",
    "data.reset_index()\n",
    "data['timestamp'] =  pd.to_datetime(data['timestamp'], format=\"%Y-%m-%d %H:%M:%S\")\n",
    "#data"
   ]
  },
  {
   "cell_type": "code",
   "execution_count": 7,
   "id": "47b70e69",
   "metadata": {},
   "outputs": [
    {
     "data": {
      "text/plain": [
       "feedin             35449.400\n",
       "selfconsumption    14481.536\n",
       "production         49930.850\n",
       "dtype: float64"
      ]
     },
     "execution_count": 7,
     "metadata": {},
     "output_type": "execute_result"
    }
   ],
   "source": [
    "data.iloc[:,1:] = data.iloc[:,1:]/1000\n",
    "data.iloc[:,1:].sum()"
   ]
  },
  {
   "cell_type": "markdown",
   "id": "6f5a175d",
   "metadata": {},
   "source": [
    "Save data to csv:"
   ]
  },
  {
   "cell_type": "code",
   "execution_count": 8,
   "id": "a2ad50b1",
   "metadata": {},
   "outputs": [],
   "source": [
    "data.to_csv(\"SolarEdge_ProductionWSplit.csv\", index=False)"
   ]
  },
  {
   "cell_type": "markdown",
   "id": "1b401972",
   "metadata": {},
   "source": [
    "Read data from csv:"
   ]
  },
  {
   "cell_type": "code",
   "execution_count": 9,
   "id": "0eed9eb9",
   "metadata": {},
   "outputs": [],
   "source": [
    "data_from_csv = pd.read_csv(\"SolarEdge_ProductionWSplit.csv\")"
   ]
  },
  {
   "cell_type": "markdown",
   "id": "241211a5",
   "metadata": {},
   "source": [
    "Visualize data"
   ]
  },
  {
   "cell_type": "code",
   "execution_count": 59,
   "id": "62c1a7c6",
   "metadata": {},
   "outputs": [
    {
     "data": {
      "text/plain": [
       "Index(['timestamp', 'feedin', 'selfconsumption', 'production', 'year', 'month',\n",
       "       'day', 'daymonth', 'monthday'],\n",
       "      dtype='object')"
      ]
     },
     "execution_count": 59,
     "metadata": {},
     "output_type": "execute_result"
    }
   ],
   "source": [
    "data_from_csv.columns"
   ]
  },
  {
   "cell_type": "code",
   "execution_count": 113,
   "id": "f694d492",
   "metadata": {},
   "outputs": [],
   "source": [
    "data_from_csv['timestamp'] =  pd.to_datetime(data_from_csv['timestamp'], format=\"%Y-%m-%d %H:%M:%S\")"
   ]
  },
  {
   "cell_type": "code",
   "execution_count": 25,
   "id": "5a74819e",
   "metadata": {},
   "outputs": [],
   "source": [
    "data_from_csv['year'] =  data_from_csv['timestamp'].dt.year\n",
    "data_from_csv['month'] =  data_from_csv['timestamp'].dt.month\n",
    "data_from_csv['day'] =  data_from_csv['timestamp'].dt.day"
   ]
  },
  {
   "cell_type": "code",
   "execution_count": 58,
   "id": "ed1066d7",
   "metadata": {},
   "outputs": [
    {
     "data": {
      "text/plain": [
       "<seaborn.axisgrid.FacetGrid at 0x19f6e2198e0>"
      ]
     },
     "execution_count": 58,
     "metadata": {},
     "output_type": "execute_result"
    },
    {
     "data": {
      "image/png": "[encoded data removed]",
      "text/plain": [
       "<Figure size 589x500 with 1 Axes>"
      ]
     },
     "metadata": {},
     "output_type": "display_data"
    }
   ],
   "source": [
    "sns.relplot(\n",
    "    data=data_from_csv,\n",
    "    x=\"month\", y=\"production\",\n",
    "    hue=\"year\",\n",
    "    kind=\"line\", \n",
    "    height=5, aspect=1,\n",
    "    palette = sns.color_palette(\"icefire\", as_cmap=True)\n",
    ")"
   ]
  },
  {
   "cell_type": "code",
   "execution_count": 81,
   "id": "581ca02b",
   "metadata": {},
   "outputs": [
    {
     "data": {
      "text/plain": [
       "<AxesSubplot:xlabel='hour'>"
      ]
     },
     "execution_count": 81,
     "metadata": {},
     "output_type": "execute_result"
    },
    {
     "data": {
      "image/png": "[encoded data removed]",
      "text/plain": [
       "<Figure size 1200x400 with 1 Axes>"
      ]
     },
     "metadata": {},
     "output_type": "display_data"
    }
   ],
   "source": [
    "fig, axs = plt.subplots(figsize=(12, 4))\n",
    "data_from_csv.groupby(data_from_csv[\"timestamp\"].dt.hour)[\"production\"].mean().plot(\n",
    "    kind='bar', rot=0, ax=axs,\n",
    "    xlabel = 'hour'\n",
    ")"
   ]
  },
  {
   "cell_type": "code",
   "execution_count": 116,
   "id": "e5247d92",
   "metadata": {},
   "outputs": [
    {
     "data": {
      "text/plain": [
       "<AxesSubplot:xlabel='month'>"
      ]
     },
     "execution_count": 116,
     "metadata": {},
     "output_type": "execute_result"
    },
    {
     "data": {
      "image/png": "[encoded data removed]",
      "text/plain": [
       "<Figure size 1200x400 with 1 Axes>"
      ]
     },
     "metadata": {},
     "output_type": "display_data"
    }
   ],
   "source": [
    "fig, axs = plt.subplots(figsize=(12, 4))\n",
    "data_from_csv.groupby(data_from_csv[\"timestamp\"].dt.month)[\"production\"].mean().plot(\n",
    "    kind='bar', rot=0, ax=axs,\n",
    "    xlabel = 'month'\n",
    ")"
   ]
  },
  {
   "cell_type": "markdown",
   "id": "97116d5b",
   "metadata": {},
   "source": [
    "### <b style=\"color:blue;\"> Split data for modelling and streaming </b>"
   ]
  },
  {
   "cell_type": "code",
   "execution_count": 4,
   "id": "743dd4ff",
   "metadata": {},
   "outputs": [],
   "source": [
    "SolarEdge_from_csv = pd.read_csv(\"SolarEdge_ProductionWSplit.csv\")"
   ]
  },
  {
   "cell_type": "code",
   "execution_count": 16,
   "id": "4884d5ae",
   "metadata": {},
   "outputs": [],
   "source": [
    "start_date = '2019-07-01 00:00:00'\n",
    "split_date = '2022-11-01 00:00:00'\n",
    "end_date = '2022-11-30 23:59:59'"
   ]
  },
  {
   "cell_type": "code",
   "execution_count": 20,
   "id": "2f75c9c0",
   "metadata": {},
   "outputs": [],
   "source": [
    "model_df = SolarEdge_from_csv\n",
    "model_df = model_df.iloc[:,[0,3]].loc[model_df['timestamp'] < split_date]\n",
    "model_df = model_df.loc[model_df['timestamp'] >= start_date]\n",
    "\n",
    "stream_df = SolarEdge_from_csv\n",
    "stream_df = stream_df.iloc[:,[0,3]].loc[stream_df['timestamp'] >= split_date]\n",
    "stream_df = stream_df.loc[stream_df['timestamp'] < end_date]"
   ]
  },
  {
   "cell_type": "code",
   "execution_count": 24,
   "id": "75bdff8a",
   "metadata": {},
   "outputs": [],
   "source": [
    "model_df.to_csv(\"SolarEdge_data_for_modelling.csv\", index=True)\n",
    "stream_df.to_csv(\"SolarEdge_data_for_streaming.csv\", index=True)"
   ]
  },
  {
   "cell_type": "code",
   "execution_count": null,
   "id": "9df07d8a",
   "metadata": {},
   "outputs": [],
   "source": []
  }
 ],
 "metadata": {
  "kernelspec": {
   "display_name": "Python 3 (ipykernel)",
   "language": "python",
   "name": "python3"
  },
  "language_info": {
   "codemirror_mode": {
    "name": "ipython",
    "version": 3
   },
   "file_extension": ".py",
   "mimetype": "text/x-python",
   "name": "python",
   "nbconvert_exporter": "python",
   "pygments_lexer": "ipython3",
   "version": "3.8.0"
  }
 },
 "nbformat": 4,
 "nbformat_minor": 5
}
