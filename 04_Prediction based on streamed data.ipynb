{
 "cells": [
  {
   "cell_type": "markdown",
   "metadata": {
    "application/vnd.databricks.v1+cell": {
     "cellMetadata": {},
     "inputWidgets": {},
     "nuid": "946a8c33-e81c-457a-81dc-b72b7b268e93",
     "showTitle": false,
     "title": ""
    }
   },
   "source": [
    "### <b style=\"color:blue;\"> Photovoltaic Energy Production Prediction using Structured Streaming </b>\n",
    "\n",
    "**Goal**: receive current production and current weather data, apply prediction model (from other notebook) to predict energy production in the next hour"
   ]
  },
  {
   "cell_type": "code",
   "execution_count": 0,
   "metadata": {
    "application/vnd.databricks.v1+cell": {
     "cellMetadata": {},
     "inputWidgets": {},
     "nuid": "dc1c865d-55ea-470f-b24b-7f6c0ccc2288",
     "showTitle": false,
     "title": ""
    }
   },
   "outputs": [
    {
     "data": {
      "text/html": [
       "<style scoped>\n",
       "  .ansiout {\n",
       "    display: block;\n",
       "    unicode-bidi: embed;\n",
       "    white-space: pre-wrap;\n",
       "    word-wrap: break-word;\n",
       "    word-break: break-all;\n",
       "    font-family: \"Source Code Pro\", \"Menlo\", monospace;;\n",
       "    font-size: 13px;\n",
       "    color: #555;\n",
       "    margin-left: 4px;\n",
       "    line-height: 19px;\n",
       "  }\n",
       "</style>\n",
       "<div class=\"ansiout\"></div>"
      ]
     },
     "metadata": {
      "application/vnd.databricks.v1+output": {
       "addedWidgets": {},
       "arguments": {},
       "data": "<div class=\"ansiout\"></div>",
       "datasetInfos": [],
       "metadata": {},
       "removedWidgets": [],
       "type": "html"
      }
     },
     "output_type": "display_data"
    }
   ],
   "source": [
    "import socket, time\n",
    "from pyspark.sql.types import *\n",
    "from pyspark.sql.functions import *\n",
    "from pyspark.sql.window import Window\n",
    "from pyspark.ml.pipeline import PipelineModel\n",
    "from pyspark.ml.feature import VectorAssembler "
   ]
  },
  {
   "cell_type": "code",
   "execution_count": 0,
   "metadata": {
    "application/vnd.databricks.v1+cell": {
     "cellMetadata": {},
     "inputWidgets": {},
     "nuid": "2501026f-0f9d-4375-aab8-feaf2ef11d4b",
     "showTitle": false,
     "title": ""
    }
   },
   "outputs": [
    {
     "data": {
      "text/html": [
       "<style scoped>\n",
       "  .ansiout {\n",
       "    display: block;\n",
       "    unicode-bidi: embed;\n",
       "    white-space: pre-wrap;\n",
       "    word-wrap: break-word;\n",
       "    word-break: break-all;\n",
       "    font-family: \"Source Code Pro\", \"Menlo\", monospace;;\n",
       "    font-size: 13px;\n",
       "    color: #555;\n",
       "    margin-left: 4px;\n",
       "    line-height: 19px;\n",
       "  }\n",
       "</style>\n",
       "<div class=\"ansiout\"></div>"
      ]
     },
     "metadata": {
      "application/vnd.databricks.v1+output": {
       "addedWidgets": {},
       "arguments": {},
       "data": "<div class=\"ansiout\"></div>",
       "datasetInfos": [],
       "metadata": {},
       "removedWidgets": [],
       "type": "html"
      }
     },
     "output_type": "display_data"
    }
   ],
   "source": [
    "# Data structure PV data:\n",
    "\n",
    "# \ttimestamp\tproduction\n",
    "# 127776\t01/11/2022 00:00\t\n",
    "# 127777\t01/11/2022 00:15\t\n",
    "\n",
    "# 1. Read input stream from socket (by default, sockets contain raw strings, which we must then parse in a structured format)\n",
    "lines_PV = spark.readStream.format(\"socket\")\\\n",
    "  .option(\"host\", \"localhost\")\\\n",
    "  .option(\"port\", 9996)\\\n",
    "  .load()\n",
    "\n",
    "# 2. Split the lines by comma,, select relevant columns, assign column names, cast to proper type (default = String)\n",
    "structuredStream_PV = lines_PV.select(\\\n",
    "  split(lines_PV.value, \",\")[1].cast('Timestamp').alias(\"DateTime\"),\\\n",
    "  split(lines_PV.value, \",\")[2].cast('Float').alias(\"production\"))"
   ]
  },
  {
   "cell_type": "code",
   "execution_count": 0,
   "metadata": {
    "application/vnd.databricks.v1+cell": {
     "cellMetadata": {},
     "inputWidgets": {},
     "nuid": "b9a67c3b-d141-4b42-94df-13aa3f0aeb04",
     "showTitle": false,
     "title": ""
    }
   },
   "outputs": [
    {
     "data": {
      "text/html": [
       "<style scoped>\n",
       "  .ansiout {\n",
       "    display: block;\n",
       "    unicode-bidi: embed;\n",
       "    white-space: pre-wrap;\n",
       "    word-wrap: break-word;\n",
       "    word-break: break-all;\n",
       "    font-family: \"Source Code Pro\", \"Menlo\", monospace;;\n",
       "    font-size: 13px;\n",
       "    color: #555;\n",
       "    margin-left: 4px;\n",
       "    line-height: 19px;\n",
       "  }\n",
       "</style>\n",
       "<div class=\"ansiout\"></div>"
      ]
     },
     "metadata": {
      "application/vnd.databricks.v1+output": {
       "addedWidgets": {},
       "arguments": {},
       "data": "<div class=\"ansiout\"></div>",
       "datasetInfos": [],
       "metadata": {},
       "removedWidgets": [],
       "type": "html"
      }
     },
     "output_type": "display_data"
    }
   ],
   "source": [
    "# Data structure weather data:\n",
    "\n",
    "### CURRENT:\n",
    "# \tDateTime\trr_SMA\tss_SMA\tdd_SMA\tff_SMA\n",
    "# 0\t2022-11-01 00:00:00+00:00\t0\t0\t171.3333333\t2\n",
    "# 1\t2022-11-01 00:30:00+00:00\t0\t0\t230.3333333\t1.6\n",
    "# 2\t2022-11-01 01:00:00+00:00\t0\t0\t183.6666667\t2.766666667\n",
    "\n",
    "# 1. Read input stream from socket (by default, sockets contain raw strings, which we must then parse in a structured format)\n",
    "\n",
    "lines_SMN = spark.readStream.format(\"socket\")\\\n",
    "  .option(\"host\", \"localhost\")\\\n",
    "  .option(\"port\", 9998)\\\n",
    "  .load()\n",
    "\n",
    "# 2. Split the lines by comma,, select relevant columns, assign column names, cast to proper type (default = String)\n",
    "structuredStream_SMN = lines_SMN.select(\\\n",
    "  split(lines_SMN.value, \",\")[1].cast('Timestamp').alias(\"DateTime\"),\\\n",
    "  split(lines_SMN.value, \",\")[2].cast('Float').alias(\"rr_SMA\"),\\\n",
    "  split(lines_SMN.value, \",\")[3].cast('Float').alias(\"ss_SMA\"),\\\n",
    "  split(lines_SMN.value, \",\")[4].cast('Float').alias(\"dd_SMA\"),\\\n",
    "  split(lines_SMN.value, \",\")[5].cast('Float').alias(\"ff_SMA\"))"
   ]
  },
  {
   "cell_type": "code",
   "execution_count": 0,
   "metadata": {
    "application/vnd.databricks.v1+cell": {
     "cellMetadata": {},
     "inputWidgets": {},
     "nuid": "0b1f10b4-5116-43dd-807a-a88270564ee8",
     "showTitle": false,
     "title": ""
    }
   },
   "outputs": [
    {
     "data": {
      "text/html": [
       "<style scoped>\n",
       "  .ansiout {\n",
       "    display: block;\n",
       "    unicode-bidi: embed;\n",
       "    white-space: pre-wrap;\n",
       "    word-wrap: break-word;\n",
       "    word-break: break-all;\n",
       "    font-family: \"Source Code Pro\", \"Menlo\", monospace;;\n",
       "    font-size: 13px;\n",
       "    color: #555;\n",
       "    margin-left: 4px;\n",
       "    line-height: 19px;\n",
       "  }\n",
       "</style>\n",
       "<div class=\"ansiout\"></div>"
      ]
     },
     "metadata": {
      "application/vnd.databricks.v1+output": {
       "addedWidgets": {},
       "arguments": {},
       "data": "<div class=\"ansiout\"></div>",
       "datasetInfos": [],
       "metadata": {},
       "removedWidgets": [],
       "type": "html"
      }
     },
     "output_type": "display_data"
    }
   ],
   "source": [
    "#display(structuredStream_PV)"
   ]
  },
  {
   "cell_type": "code",
   "execution_count": 0,
   "metadata": {
    "application/vnd.databricks.v1+cell": {
     "cellMetadata": {},
     "inputWidgets": {},
     "nuid": "27bf0f5a-b7a2-4359-a48e-af627de5ee11",
     "showTitle": false,
     "title": ""
    }
   },
   "outputs": [
    {
     "data": {
      "text/html": [
       "<style scoped>\n",
       "  .ansiout {\n",
       "    display: block;\n",
       "    unicode-bidi: embed;\n",
       "    white-space: pre-wrap;\n",
       "    word-wrap: break-word;\n",
       "    word-break: break-all;\n",
       "    font-family: \"Source Code Pro\", \"Menlo\", monospace;;\n",
       "    font-size: 13px;\n",
       "    color: #555;\n",
       "    margin-left: 4px;\n",
       "    line-height: 19px;\n",
       "  }\n",
       "</style>\n",
       "<div class=\"ansiout\"></div>"
      ]
     },
     "metadata": {
      "application/vnd.databricks.v1+output": {
       "addedWidgets": {},
       "arguments": {},
       "data": "<div class=\"ansiout\"></div>",
       "datasetInfos": [],
       "metadata": {},
       "removedWidgets": [],
       "type": "html"
      }
     },
     "output_type": "display_data"
    }
   ],
   "source": [
    "#display(structuredStream_SMN)"
   ]
  },
  {
   "cell_type": "markdown",
   "metadata": {
    "application/vnd.databricks.v1+cell": {
     "cellMetadata": {},
     "inputWidgets": {},
     "nuid": "f0215085-d449-4c8a-b297-edae2f167b54",
     "showTitle": false,
     "title": ""
    }
   },
   "source": [
    "#### <b style=\"color:blue;\"> Generate the running query </b>\n",
    "\n",
    "Group and process streaming data in windows of time, aggregate in order that windows for two streams result in the same timerange:\n",
    "- Streamed SolarEdge data with updates every 15' (real time), 1.5 seconds for the purpose of this exercise\n",
    "- Streamed weather data with updates every 30' (real time), 3.0 seconds for the purpose of this exercise\n",
    "\n",
    "i.e. aggregate every 60' (real time), 60 seconds for the purpose of this exercise"
   ]
  },
  {
   "cell_type": "code",
   "execution_count": 0,
   "metadata": {
    "application/vnd.databricks.v1+cell": {
     "cellMetadata": {},
     "inputWidgets": {},
     "nuid": "f95cdf16-56bd-41eb-aa3a-def2f24706ac",
     "showTitle": false,
     "title": ""
    }
   },
   "outputs": [
    {
     "data": {
      "text/html": [
       "<style scoped>\n",
       "  .ansiout {\n",
       "    display: block;\n",
       "    unicode-bidi: embed;\n",
       "    white-space: pre-wrap;\n",
       "    word-wrap: break-word;\n",
       "    word-break: break-all;\n",
       "    font-family: \"Source Code Pro\", \"Menlo\", monospace;;\n",
       "    font-size: 13px;\n",
       "    color: #555;\n",
       "    margin-left: 4px;\n",
       "    line-height: 19px;\n",
       "  }\n",
       "</style>\n",
       "<div class=\"ansiout\"></div>"
      ]
     },
     "metadata": {
      "application/vnd.databricks.v1+output": {
       "addedWidgets": {},
       "arguments": {},
       "data": "<div class=\"ansiout\"></div>",
       "datasetInfos": [],
       "metadata": {},
       "removedWidgets": [],
       "type": "html"
      }
     },
     "output_type": "display_data"
    }
   ],
   "source": [
    "# Generate window computations\n",
    "windowedStream_PV = structuredStream_PV.groupBy(window(\"DateTime\", \"60 minutes\", \"60 minutes\"))\n",
    "windowedStream_SMN = structuredStream_SMN.groupBy(window(\"DateTime\", \"60 minutes\", \"60 minutes\"))"
   ]
  },
  {
   "cell_type": "code",
   "execution_count": 0,
   "metadata": {
    "application/vnd.databricks.v1+cell": {
     "cellMetadata": {},
     "inputWidgets": {},
     "nuid": "344d3dac-ff9f-4010-8e54-ecc9335b48b3",
     "showTitle": false,
     "title": ""
    }
   },
   "outputs": [
    {
     "data": {
      "text/html": [
       "<style scoped>\n",
       "  .ansiout {\n",
       "    display: block;\n",
       "    unicode-bidi: embed;\n",
       "    white-space: pre-wrap;\n",
       "    word-wrap: break-word;\n",
       "    word-break: break-all;\n",
       "    font-family: \"Source Code Pro\", \"Menlo\", monospace;;\n",
       "    font-size: 13px;\n",
       "    color: #555;\n",
       "    margin-left: 4px;\n",
       "    line-height: 19px;\n",
       "  }\n",
       "</style>\n",
       "<div class=\"ansiout\"></div>"
      ]
     },
     "metadata": {
      "application/vnd.databricks.v1+output": {
       "addedWidgets": {},
       "arguments": {},
       "data": "<div class=\"ansiout\"></div>",
       "datasetInfos": [],
       "metadata": {},
       "removedWidgets": [],
       "type": "html"
      }
     },
     "output_type": "display_data"
    }
   ],
   "source": [
    "# Aggregate the windowed computations\n",
    "agregationsStream_PV = windowedStream_PV.agg(sum(\"production\").alias(\"production\"), count(\"DateTime\").alias(\"count_PV_items\"))\n",
    "\n",
    "agregationsStream_SMN = (windowedStream_SMN.agg(\n",
    "    sum(\"rr_SMA\").alias(\"rr_SMA_w\"),\n",
    "    sum(\"ss_SMA\").alias(\"ss_SMA_w\"),\n",
    "    avg(\"dd_SMA\").alias(\"dd_SMA_w\"),\n",
    "    avg(\"ff_SMA\").alias(\"ff_SMA_w\"),\n",
    "    count(\"DateTime\").alias(\"count_SMN_items\")))\n",
    "\n",
    "#agregationsStream = windowedStream.agg(avg(\"price_high\").alias(\"window_price_average\"), sum(\"price_high\").alias(\"price_sum\"), count(\"timestamp\").alias(\"count_prices\"))"
   ]
  },
  {
   "cell_type": "code",
   "execution_count": 0,
   "metadata": {
    "application/vnd.databricks.v1+cell": {
     "cellMetadata": {},
     "inputWidgets": {},
     "nuid": "5c1abf24-353d-4dac-8dd7-c8fa6fd53147",
     "showTitle": false,
     "title": ""
    }
   },
   "outputs": [
    {
     "data": {
      "text/html": [
       "<style scoped>\n",
       "  .ansiout {\n",
       "    display: block;\n",
       "    unicode-bidi: embed;\n",
       "    white-space: pre-wrap;\n",
       "    word-wrap: break-word;\n",
       "    word-break: break-all;\n",
       "    font-family: \"Source Code Pro\", \"Menlo\", monospace;;\n",
       "    font-size: 13px;\n",
       "    color: #555;\n",
       "    margin-left: 4px;\n",
       "    line-height: 19px;\n",
       "  }\n",
       "</style>\n",
       "<div class=\"ansiout\"></div>"
      ]
     },
     "metadata": {
      "application/vnd.databricks.v1+output": {
       "addedWidgets": {},
       "arguments": {},
       "data": "<div class=\"ansiout\"></div>",
       "datasetInfos": [],
       "metadata": {},
       "removedWidgets": [],
       "type": "html"
      }
     },
     "output_type": "display_data"
    }
   ],
   "source": [
    "# NOTE: always use 'complete' outputMode for aggregations and 'append' outputMode to get complete records (the entire stream)\n",
    "\n",
    "streamingETLQuery_PV =\\\n",
    "agregationsStream_PV \\\n",
    "  .writeStream \\\n",
    "  .format(\"memory\") \\\n",
    "  .queryName(\"aggDF_PV\") \\\n",
    "  .outputMode(\"complete\")\\\n",
    "  .start()  "
   ]
  },
  {
   "cell_type": "code",
   "execution_count": 0,
   "metadata": {
    "application/vnd.databricks.v1+cell": {
     "cellMetadata": {},
     "inputWidgets": {},
     "nuid": "11d7ed4a-3c2f-49f1-9942-2d141d0d655b",
     "showTitle": false,
     "title": ""
    }
   },
   "outputs": [
    {
     "data": {
      "text/html": [
       "<style scoped>\n",
       "  .ansiout {\n",
       "    display: block;\n",
       "    unicode-bidi: embed;\n",
       "    white-space: pre-wrap;\n",
       "    word-wrap: break-word;\n",
       "    word-break: break-all;\n",
       "    font-family: \"Source Code Pro\", \"Menlo\", monospace;;\n",
       "    font-size: 13px;\n",
       "    color: #555;\n",
       "    margin-left: 4px;\n",
       "    line-height: 19px;\n",
       "  }\n",
       "</style>\n",
       "<div class=\"ansiout\"></div>"
      ]
     },
     "metadata": {
      "application/vnd.databricks.v1+output": {
       "addedWidgets": {},
       "arguments": {},
       "data": "<div class=\"ansiout\"></div>",
       "datasetInfos": [],
       "metadata": {},
       "removedWidgets": [],
       "type": "html"
      }
     },
     "output_type": "display_data"
    }
   ],
   "source": [
    "streamingETLQuery_SMN =\\\n",
    "agregationsStream_SMN \\\n",
    "  .writeStream \\\n",
    "  .format(\"memory\") \\\n",
    "  .queryName(\"aggDF_SMN\") \\\n",
    "  .outputMode(\"complete\")\\\n",
    "  .start()"
   ]
  },
  {
   "cell_type": "code",
   "execution_count": 0,
   "metadata": {
    "application/vnd.databricks.v1+cell": {
     "cellMetadata": {},
     "inputWidgets": {},
     "nuid": "72e2c646-fae8-4963-9ba1-79361fbf1491",
     "showTitle": false,
     "title": ""
    }
   },
   "outputs": [
    {
     "data": {
      "text/html": [
       "<style scoped>\n",
       "  .ansiout {\n",
       "    display: block;\n",
       "    unicode-bidi: embed;\n",
       "    white-space: pre-wrap;\n",
       "    word-wrap: break-word;\n",
       "    word-break: break-all;\n",
       "    font-family: \"Source Code Pro\", \"Menlo\", monospace;;\n",
       "    font-size: 13px;\n",
       "    color: #555;\n",
       "    margin-left: 4px;\n",
       "    line-height: 19px;\n",
       "  }\n",
       "</style>\n",
       "<div class=\"ansiout\"></div>"
      ]
     },
     "metadata": {
      "application/vnd.databricks.v1+output": {
       "addedWidgets": {},
       "arguments": {},
       "data": "<div class=\"ansiout\"></div>",
       "datasetInfos": [],
       "metadata": {},
       "removedWidgets": [],
       "type": "html"
      }
     },
     "output_type": "display_data"
    }
   ],
   "source": [
    "#display(dbutils.fs)"
   ]
  },
  {
   "cell_type": "code",
   "execution_count": 0,
   "metadata": {
    "application/vnd.databricks.v1+cell": {
     "cellMetadata": {},
     "inputWidgets": {},
     "nuid": "304d9a6a-7347-40a2-a751-839ed2f99d92",
     "showTitle": false,
     "title": ""
    }
   },
   "outputs": [
    {
     "data": {
      "text/html": [
       "<style scoped>\n",
       "  .ansiout {\n",
       "    display: block;\n",
       "    unicode-bidi: embed;\n",
       "    white-space: pre-wrap;\n",
       "    word-wrap: break-word;\n",
       "    word-break: break-all;\n",
       "    font-family: \"Source Code Pro\", \"Menlo\", monospace;;\n",
       "    font-size: 13px;\n",
       "    color: #555;\n",
       "    margin-left: 4px;\n",
       "    line-height: 19px;\n",
       "  }\n",
       "</style>\n",
       "<div class=\"ansiout\"></div>"
      ]
     },
     "metadata": {
      "application/vnd.databricks.v1+output": {
       "addedWidgets": {},
       "arguments": {},
       "data": "<div class=\"ansiout\"></div>",
       "datasetInfos": [],
       "metadata": {},
       "removedWidgets": [],
       "type": "html"
      }
     },
     "output_type": "display_data"
    }
   ],
   "source": [
    "#display(agregationsStream_PV.sort(desc(\"window.start\")))"
   ]
  },
  {
   "cell_type": "code",
   "execution_count": 0,
   "metadata": {
    "application/vnd.databricks.v1+cell": {
     "cellMetadata": {},
     "inputWidgets": {},
     "nuid": "dfe83668-d87f-45bd-85b7-6e841d4e4466",
     "showTitle": false,
     "title": ""
    }
   },
   "outputs": [
    {
     "data": {
      "text/html": [
       "<style scoped>\n",
       "  .ansiout {\n",
       "    display: block;\n",
       "    unicode-bidi: embed;\n",
       "    white-space: pre-wrap;\n",
       "    word-wrap: break-word;\n",
       "    word-break: break-all;\n",
       "    font-family: \"Source Code Pro\", \"Menlo\", monospace;;\n",
       "    font-size: 13px;\n",
       "    color: #555;\n",
       "    margin-left: 4px;\n",
       "    line-height: 19px;\n",
       "  }\n",
       "</style>\n",
       "<div class=\"ansiout\"></div>"
      ]
     },
     "metadata": {
      "application/vnd.databricks.v1+output": {
       "addedWidgets": {},
       "arguments": {},
       "data": "<div class=\"ansiout\"></div>",
       "datasetInfos": [],
       "metadata": {},
       "removedWidgets": [],
       "type": "html"
      }
     },
     "output_type": "display_data"
    }
   ],
   "source": [
    "#display(agregationsStream_SMN.sort(desc(\"window.start\")))"
   ]
  },
  {
   "cell_type": "markdown",
   "metadata": {
    "application/vnd.databricks.v1+cell": {
     "cellMetadata": {},
     "inputWidgets": {},
     "nuid": "fdcda491-96c9-44c6-8973-ab9b2b0cd7f9",
     "showTitle": false,
     "title": ""
    }
   },
   "source": [
    "#### <b style=\"color:blue;\"> Load the model </b>"
   ]
  },
  {
   "cell_type": "code",
   "execution_count": 0,
   "metadata": {
    "application/vnd.databricks.v1+cell": {
     "cellMetadata": {},
     "inputWidgets": {},
     "nuid": "5f7cea5c-d175-486e-b6f5-d10be3feb74e",
     "showTitle": false,
     "title": ""
    }
   },
   "outputs": [
    {
     "data": {
      "text/html": [
       "<style scoped>\n",
       "  .ansiout {\n",
       "    display: block;\n",
       "    unicode-bidi: embed;\n",
       "    white-space: pre-wrap;\n",
       "    word-wrap: break-word;\n",
       "    word-break: break-all;\n",
       "    font-family: \"Source Code Pro\", \"Menlo\", monospace;;\n",
       "    font-size: 13px;\n",
       "    color: #555;\n",
       "    margin-left: 4px;\n",
       "    line-height: 19px;\n",
       "  }\n",
       "</style>\n",
       "<div class=\"ansiout\"></div>"
      ]
     },
     "metadata": {
      "application/vnd.databricks.v1+output": {
       "addedWidgets": {},
       "arguments": {},
       "data": "<div class=\"ansiout\"></div>",
       "datasetInfos": [],
       "metadata": {},
       "removedWidgets": [],
       "type": "html"
      }
     },
     "output_type": "display_data"
    }
   ],
   "source": [
    "mPath =  \"/path/to/model/folder/rf_model_wlag1h\"  # chosen model\n",
    "model = PipelineModel.load(mPath)"
   ]
  },
  {
   "cell_type": "markdown",
   "metadata": {
    "application/vnd.databricks.v1+cell": {
     "cellMetadata": {},
     "inputWidgets": {},
     "nuid": "b4b577df-0f87-40b5-924f-c6dcdc00adca",
     "showTitle": false,
     "title": ""
    }
   },
   "source": [
    "#### <b style=\"color:blue;\"> Computation and visualization of the resulting streaming dataframe</b>"
   ]
  },
  {
   "cell_type": "code",
   "execution_count": 0,
   "metadata": {
    "application/vnd.databricks.v1+cell": {
     "cellMetadata": {},
     "inputWidgets": {},
     "nuid": "0deb03f2-3fcc-4290-b230-1b43f9d85679",
     "showTitle": false,
     "title": ""
    }
   },
   "outputs": [
    {
     "data": {
      "text/html": [
       "<style scoped>\n",
       "  .ansiout {\n",
       "    display: block;\n",
       "    unicode-bidi: embed;\n",
       "    white-space: pre-wrap;\n",
       "    word-wrap: break-word;\n",
       "    word-break: break-all;\n",
       "    font-family: \"Source Code Pro\", \"Menlo\", monospace;;\n",
       "    font-size: 13px;\n",
       "    color: #555;\n",
       "    margin-left: 4px;\n",
       "    line-height: 19px;\n",
       "  }\n",
       "</style>\n",
       "<div class=\"ansiout\"></div>"
      ]
     },
     "metadata": {
      "application/vnd.databricks.v1+output": {
       "addedWidgets": {},
       "arguments": {},
       "data": "<div class=\"ansiout\"></div>",
       "datasetInfos": [],
       "metadata": {},
       "removedWidgets": [],
       "type": "html"
      }
     },
     "output_type": "display_data"
    }
   ],
   "source": [
    "lag_window = Window.orderBy(\"DateTime\")"
   ]
  },
  {
   "cell_type": "code",
   "execution_count": 0,
   "metadata": {
    "application/vnd.databricks.v1+cell": {
     "cellMetadata": {},
     "inputWidgets": {},
     "nuid": "44f3c304-90f8-45c0-bf84-e0fcdeba5d34",
     "showTitle": false,
     "title": ""
    }
   },
   "outputs": [
    {
     "data": {
      "text/html": [
       "<style scoped>\n",
       "  .ansiout {\n",
       "    display: block;\n",
       "    unicode-bidi: embed;\n",
       "    white-space: pre-wrap;\n",
       "    word-wrap: break-word;\n",
       "    word-break: break-all;\n",
       "    font-family: \"Source Code Pro\", \"Menlo\", monospace;;\n",
       "    font-size: 13px;\n",
       "    color: #555;\n",
       "    margin-left: 4px;\n",
       "    line-height: 19px;\n",
       "  }\n",
       "</style>\n",
       "<div class=\"ansiout\">Running SQL (initialization may take a while)...\n",
       "*********************************************************************************************************\n",
       "\n",
       "Iteration no. 1\n",
       "\n",
       "Sample data from streaming dataframe:\n",
       "\n",
       "+------------------------------------------+----------+--------+--------+------------------+------------------+-------------------+-----------+\n",
       "window                                    |production|rr_SMA_w|ss_SMA_w|dd_SMA_w          |ff_SMA_w          |DateTime           |count_items|\n",
       "+------------------------------------------+----------+--------+--------+------------------+------------------+-------------------+-----------+\n",
       "{2022-11-01 04:00:00, 2022-11-01 05:00:00}|null      |0.0     |0.0     |281.3333435058594 |5.666666507720947 |2022-11-01 04:00:00|5          |\n",
       "{2022-11-01 03:00:00, 2022-11-01 04:00:00}|null      |0.0     |0.0     |209.33333587646484|2.933333396911621 |2022-11-01 03:00:00|6          |\n",
       "{2022-11-01 02:00:00, 2022-11-01 03:00:00}|null      |0.0     |0.0     |141.33333206176758|1.3333333432674408|2022-11-01 02:00:00|6          |\n",
       "{2022-11-01 01:00:00, 2022-11-01 02:00:00}|null      |0.0     |0.0     |224.33333587646484|2.3333333134651184|2022-11-01 01:00:00|6          |\n",
       "{2022-11-01 00:00:00, 2022-11-01 01:00:00}|null      |0.0     |0.0     |200.8333282470703 |1.800000011920929 |2022-11-01 00:00:00|6          |\n",
       "+------------------------------------------+----------+--------+--------+------------------+------------------+-------------------+-----------+\n",
       "\n",
       "Current number of windows processed in stream: 5\n",
       "\n",
       "+-------------------+----------+------+------+------------------+------------------+----------+----+-----+---+----+---------------+------------+------+\n",
       "           DateTime|production|rr_SMA|ss_SMA|            dd_SMA|            ff_SMA|      date|year|month|day|hour|quarter-of-year|week-of-year|lag_1h|\n",
       "+-------------------+----------+------+------+------------------+------------------+----------+----+-----+---+----+---------------+------------+------+\n",
       "2022-11-01 04:00:00|       0.0|   0.0|   0.0| 287.6666717529297| 5.049999952316284|2022-11-01|2022|   11|  1|   4|              4|          44|   0.0|\n",
       "2022-11-01 03:00:00|       0.0|   0.0|   0.0|209.33333587646484| 2.933333396911621|2022-11-01|2022|   11|  1|   3|              4|          44|   0.0|\n",
       "2022-11-01 02:00:00|       0.0|   0.0|   0.0|141.33333206176758|1.3333333432674408|2022-11-01|2022|   11|  1|   2|              4|          44|   0.0|\n",
       "2022-11-01 01:00:00|       0.0|   0.0|   0.0|224.33333587646484|2.3333333134651184|2022-11-01|2022|   11|  1|   1|              4|          44|   0.0|\n",
       "+-------------------+----------+------+------+------------------+------------------+----------+----+-----+---+----+---------------+------------+------+\n",
       "\n",
       "+-------------------+----------+------+------+------------------+------------------+----------+----+-----+---+----+---------------+------------+------+--------------------+--------------------+\n",
       "           DateTime|production|rr_SMA|ss_SMA|            dd_SMA|            ff_SMA|      date|year|month|day|hour|quarter-of-year|week-of-year|lag_1h|            features|predicted_production|\n",
       "+-------------------+----------+------+------+------------------+------------------+----------+----+-----+---+----+---------------+------------+------+--------------------+--------------------+\n",
       "2022-11-01 05:00:00|       0.0|   0.0|   0.0| 267.6666564941406|14.033333778381348|2022-11-01|2022|   11|  1|   5|              4|          44|   0.0|[0.0,0.0,267.6666...|   0.304943573673363|\n",
       "2022-11-01 04:00:00|       0.0|   0.0|   0.0| 287.6666717529297| 5.049999952316284|2022-11-01|2022|   11|  1|   4|              4|          44|   0.0|[0.0,0.0,287.6666...|   0.304943573673363|\n",
       "2022-11-01 03:00:00|       0.0|   0.0|   0.0|209.33333587646484| 2.933333396911621|2022-11-01|2022|   11|  1|   3|              4|          44|   0.0|[0.0,0.0,209.3333...|  0.3024498578402746|\n",
       "2022-11-01 02:00:00|       0.0|   0.0|   0.0|141.33333206176758|1.3333333432674408|2022-11-01|2022|   11|  1|   2|              4|          44|   0.0|[0.0,0.0,141.3333...| 0.28158185512701006|\n",
       "+-------------------+----------+------+------+------------------+------------------+----------+----+-----+---+----+---------------+------------+------+--------------------+--------------------+\n",
       "\n",
       "----|  Last hour&#39;s predicted production:  0.304943573673363\n",
       "----|  Last hour&#39;s effective production:  0.0\n",
       "----|  Next hour&#39;s predicted production:  0.304943573673363\n",
       "*********************************************************************************************************\n",
       "\n",
       "Iteration no. 2\n",
       "\n",
       "Sample data from streaming dataframe:\n",
       "\n",
       "+------------------------------------------+---------------------+--------+--------+------------------+------------------+-------------------+-----------+\n",
       "window                                    |production           |rr_SMA_w|ss_SMA_w|dd_SMA_w          |ff_SMA_w          |DateTime           |count_items|\n",
       "+------------------------------------------+---------------------+--------+--------+------------------+------------------+-------------------+-----------+\n",
       "{2022-11-01 07:00:00, 2022-11-01 08:00:00}|0.0010000000474974513|0.0     |0.0     |236.0             |6.0               |2022-11-01 07:00:00|5          |\n",
       "{2022-11-01 06:00:00, 2022-11-01 07:00:00}|null                 |0.0     |0.0     |266.5             |14.78333330154419 |2022-11-01 06:00:00|6          |\n",
       "{2022-11-01 05:00:00, 2022-11-01 06:00:00}|0.0                  |0.0     |0.0     |258.49999237060547|19.916666507720947|2022-11-01 05:00:00|6          |\n",
       "{2022-11-01 04:00:00, 2022-11-01 05:00:00}|null                 |0.0     |0.0     |287.6666717529297 |5.049999952316284 |2022-11-01 04:00:00|6          |\n",
       "{2022-11-01 03:00:00, 2022-11-01 04:00:00}|null                 |0.0     |0.0     |209.33333587646484|2.933333396911621 |2022-11-01 03:00:00|6          |\n",
       "+------------------------------------------+---------------------+--------+--------+------------------+------------------+-------------------+-----------+\n",
       "only showing top 5 rows\n",
       "\n",
       "Current number of windows processed in stream: 8\n",
       "\n",
       "+-------------------+--------------------+------+------+------------------+------------------+----------+----+-----+---+----+---------------+------------+------+\n",
       "           DateTime|          production|rr_SMA|ss_SMA|            dd_SMA|            ff_SMA|      date|year|month|day|hour|quarter-of-year|week-of-year|lag_1h|\n",
       "+-------------------+--------------------+------+------+------------------+------------------+----------+----+-----+---+----+---------------+------------+------+\n",
       "2022-11-01 07:00:00|0.001000000047497...|   0.0|   0.0|             236.0|               6.0|2022-11-01|2022|   11|  1|   7|              4|          44|   0.0|\n",
       "2022-11-01 06:00:00|                 0.0|   0.0|   0.0|             266.5| 14.78333330154419|2022-11-01|2022|   11|  1|   6|              4|          44|   0.0|\n",
       "2022-11-01 05:00:00|                 0.0|   0.0|   0.0|258.49999237060547|19.916666507720947|2022-11-01|2022|   11|  1|   5|              4|          44|   0.0|\n",
       "2022-11-01 04:00:00|                 0.0|   0.0|   0.0| 287.6666717529297| 5.049999952316284|2022-11-01|2022|   11|  1|   4|              4|          44|   0.0|\n",
       "+-------------------+--------------------+------+------+------------------+------------------+----------+----+-----+---+----+---------------+------------+------+\n",
       "\n",
       "+-------------------+--------------------+------+------+------------------+------------------+----------+----+-----+---+----+---------------+------------+------+--------------------+--------------------+\n",
       "           DateTime|          production|rr_SMA|ss_SMA|            dd_SMA|            ff_SMA|      date|year|month|day|hour|quarter-of-year|week-of-year|lag_1h|            features|predicted_production|\n",
       "+-------------------+--------------------+------+------+------------------+------------------+----------+----+-----+---+----+---------------+------------+------+--------------------+--------------------+\n",
       "2022-11-01 07:00:00|0.001000000047497...|   0.0|   0.0|             236.0|               6.0|2022-11-01|2022|   11|  1|   7|              4|          44|   0.0|[0.0,0.0,236.0,6....| 0.30266635137732256|\n",
       "2022-11-01 06:00:00|                 0.0|   0.0|   0.0|             266.5| 14.78333330154419|2022-11-01|2022|   11|  1|   6|              4|          44|   0.0|[0.0,0.0,266.5,14...|   0.304943573673363|\n",
       "2022-11-01 05:00:00|                 0.0|   0.0|   0.0|258.49999237060547|19.916666507720947|2022-11-01|2022|   11|  1|   5|              4|          44|   0.0|[0.0,0.0,258.4999...|   0.304943573673363|\n",
       "2022-11-01 04:00:00|                 0.0|   0.0|   0.0| 287.6666717529297| 5.049999952316284|2022-11-01|2022|   11|  1|   4|              4|          44|   0.0|[0.0,0.0,287.6666...|   0.304943573673363|\n",
       "+-------------------+--------------------+------+------+------------------+------------------+----------+----+-----+---+----+---------------+------------+------+--------------------+--------------------+\n",
       "\n",
       "****||----|  Last hour&#39;s predicted production:  0.304943573673363\n",
       "----|  Last hour&#39;s effective production:  0.0\n",
       "----|  Next hour&#39;s predicted production:  0.30266635137732256\n",
       "*********************************************************************************************************\n",
       "\n",
       "Iteration no. 3\n",
       "\n",
       "Sample data from streaming dataframe:\n",
       "\n",
       "+------------------------------------------+---------------------+--------+--------+------------------+------------------+-------------------+-----------+\n",
       "window                                    |production           |rr_SMA_w|ss_SMA_w|dd_SMA_w          |ff_SMA_w          |DateTime           |count_items|\n",
       "+------------------------------------------+---------------------+--------+--------+------------------+------------------+-------------------+-----------+\n",
       "{2022-11-01 08:00:00, 2022-11-01 09:00:00}|0.15199999883770943  |0.0     |0.0     |229.0             |6.6499998569488525|2022-11-01 08:00:00|5          |\n",
       "{2022-11-01 07:00:00, 2022-11-01 08:00:00}|0.0010000000474974513|0.0     |0.0     |240.83333587646484|7.0               |2022-11-01 07:00:00|6          |\n",
       "{2022-11-01 06:00:00, 2022-11-01 07:00:00}|null                 |0.0     |0.0     |266.5             |14.78333330154419 |2022-11-01 06:00:00|6          |\n",
       "{2022-11-01 05:00:00, 2022-11-01 06:00:00}|0.0                  |0.0     |0.0     |258.49999237060547|19.916666507720947|2022-11-01 05:00:00|6          |\n",
       "{2022-11-01 04:00:00, 2022-11-01 05:00:00}|null                 |0.0     |0.0     |287.6666717529297 |5.049999952316284 |2022-11-01 04:00:00|6          |\n",
       "+------------------------------------------+---------------------+--------+--------+------------------+------------------+-------------------+-----------+\n",
       "only showing top 5 rows\n",
       "\n",
       "Current number of windows processed in stream: 9\n",
       "\n",
       "+-------------------+--------------------+------+------+------------------+------------------+----------+----+-----+---+----+---------------+------------+--------------------+\n",
       "           DateTime|          production|rr_SMA|ss_SMA|            dd_SMA|            ff_SMA|      date|year|month|day|hour|quarter-of-year|week-of-year|              lag_1h|\n",
       "+-------------------+--------------------+------+------+------------------+------------------+----------+----+-----+---+----+---------------+------------+--------------------+\n",
       "2022-11-01 08:00:00|  0.2940000034868717|   0.0|   0.0|             229.0|6.6499998569488525|2022-11-01|2022|   11|  1|   8|              4|          44|0.001000000047497...|\n",
       "2022-11-01 07:00:00|0.001000000047497...|   0.0|   0.0|240.83333587646484|               7.0|2022-11-01|2022|   11|  1|   7|              4|          44|                 0.0|\n",
       "2022-11-01 06:00:00|                 0.0|   0.0|   0.0|             266.5| 14.78333330154419|2022-11-01|2022|   11|  1|   6|              4|          44|                 0.0|\n",
       "2022-11-01 05:00:00|                 0.0|   0.0|   0.0|258.49999237060547|19.916666507720947|2022-11-01|2022|   11|  1|   5|              4|          44|                 0.0|\n",
       "+-------------------+--------------------+------+------+------------------+------------------+----------+----+-----+---+----+---------------+------------+--------------------+\n",
       "\n",
       "+-------------------+--------------------+------+------+------------------+------------------+----------+----+-----+---+----+---------------+------------+--------------------+--------------------+--------------------+\n",
       "           DateTime|          production|rr_SMA|ss_SMA|            dd_SMA|            ff_SMA|      date|year|month|day|hour|quarter-of-year|week-of-year|              lag_1h|            features|predicted_production|\n",
       "+-------------------+--------------------+------+------+------------------+------------------+----------+----+-----+---+----+---------------+------------+--------------------+--------------------+--------------------+\n",
       "2022-11-01 08:00:00|  0.2940000034868717|   0.0|   0.0|             229.0|6.6499998569488525|2022-11-01|2022|   11|  1|   8|              4|          44|0.001000000047497...|[0.0,0.0,229.0,6....|  0.3365240725222309|\n",
       "2022-11-01 07:00:00|0.001000000047497...|   0.0|   0.0|240.83333587646484|               7.0|2022-11-01|2022|   11|  1|   7|              4|          44|                 0.0|[0.0,0.0,240.8333...| 0.30266635137732256|\n",
       "2022-11-01 06:00:00|                 0.0|   0.0|   0.0|             266.5| 14.78333330154419|2022-11-01|2022|   11|  1|   6|              4|          44|                 0.0|[0.0,0.0,266.5,14...|   0.304943573673363|\n",
       "2022-11-01 05:00:00|                 0.0|   0.0|   0.0|258.49999237060547|19.916666507720947|2022-11-01|2022|   11|  1|   5|              4|          44|                 0.0|[0.0,0.0,258.4999...|   0.304943573673363|\n",
       "+-------------------+--------------------+------+------+------------------+------------------+----------+----+-----+---+----+---------------+------------+--------------------+--------------------+--------------------+\n",
       "\n",
       "****||****||----|  Last hour&#39;s predicted production:  0.3365240725222309\n",
       "----|  Last hour&#39;s effective production:  0.2940000034868717\n",
       "----|  Next hour&#39;s predicted production:  0.7030614195476711\n",
       "*********************************************************************************************************\n",
       "\n",
       "Iteration no. 4\n",
       "\n",
       "Sample data from streaming dataframe:\n",
       "\n",
       "+------------------------------------------+---------------------+--------+--------+------------------+------------------+-------------------+-----------+\n",
       "window                                    |production           |rr_SMA_w|ss_SMA_w|dd_SMA_w          |ff_SMA_w          |DateTime           |count_items|\n",
       "+------------------------------------------+---------------------+--------+--------+------------------+------------------+-------------------+-----------+\n",
       "{2022-11-01 09:00:00, 2022-11-01 10:00:00}|0.80799999833107     |0.0     |0.0     |205.0             |10.083333015441895|2022-11-01 09:00:00|6          |\n",
       "{2022-11-01 08:00:00, 2022-11-01 09:00:00}|0.2940000034868717   |0.0     |0.0     |229.0             |6.6499998569488525|2022-11-01 08:00:00|6          |\n",
       "{2022-11-01 07:00:00, 2022-11-01 08:00:00}|0.0010000000474974513|0.0     |0.0     |240.83333587646484|7.0               |2022-11-01 07:00:00|6          |\n",
       "{2022-11-01 06:00:00, 2022-11-01 07:00:00}|null                 |0.0     |0.0     |266.5             |14.78333330154419 |2022-11-01 06:00:00|6          |\n",
       "{2022-11-01 05:00:00, 2022-11-01 06:00:00}|0.0                  |0.0     |0.0     |258.49999237060547|19.916666507720947|2022-11-01 05:00:00|6          |\n",
       "+------------------------------------------+---------------------+--------+--------+------------------+------------------+-------------------+-----------+\n",
       "only showing top 5 rows\n",
       "\n",
       "Current number of windows processed in stream: 11\n",
       "\n",
       "+-------------------+--------------------+------+------+------------------+------------------+----------+----+-----+---+----+---------------+------------+--------------------+\n",
       "           DateTime|          production|rr_SMA|ss_SMA|            dd_SMA|            ff_SMA|      date|year|month|day|hour|quarter-of-year|week-of-year|              lag_1h|\n",
       "+-------------------+--------------------+------+------+------------------+------------------+----------+----+-----+---+----+---------------+------------+--------------------+\n",
       "2022-11-01 10:00:00|  0.9659999907016754|   0.0|   0.0| 183.6666717529297|11.266666412353516|2022-11-01|2022|   11|  1|  10|              4|          44|    0.80799999833107|\n",
       "2022-11-01 09:00:00|    0.80799999833107|   0.0|   0.0|             205.0|10.083333015441895|2022-11-01|2022|   11|  1|   9|              4|          44|  0.2940000034868717|\n",
       "2022-11-01 08:00:00|  0.2940000034868717|   0.0|   0.0|             229.0|6.6499998569488525|2022-11-01|2022|   11|  1|   8|              4|          44|0.001000000047497...|\n",
       "2022-11-01 07:00:00|0.001000000047497...|   0.0|   0.0|240.83333587646484|               7.0|2022-11-01|2022|   11|  1|   7|              4|          44|                 0.0|\n",
       "+-------------------+--------------------+------+------+------------------+------------------+----------+----+-----+---+----+---------------+------------+--------------------+\n",
       "\n",
       "+-------------------+--------------------+------+------+------------------+------------------+----------+----+-----+---+----+---------------+------------+--------------------+--------------------+--------------------+\n",
       "           DateTime|          production|rr_SMA|ss_SMA|            dd_SMA|            ff_SMA|      date|year|month|day|hour|quarter-of-year|week-of-year|              lag_1h|            features|predicted_production|\n",
       "+-------------------+--------------------+------+------+------------------+------------------+----------+----+-----+---+----+---------------+------------+--------------------+--------------------+--------------------+\n",
       "2022-11-01 10:00:00|  0.9659999907016754|   0.0|   0.0| 197.6666717529297|12.583333015441895|2022-11-01|2022|   11|  1|  10|              4|          44|    0.80799999833107|[0.0,0.0,197.6666...|  0.7469588698694889|\n",
       "2022-11-01 09:00:00|    0.80799999833107|   0.0|   0.0|             205.0|10.083333015441895|2022-11-01|2022|   11|  1|   9|              4|          44|  0.2940000034868717|[0.0,0.0,205.0,10...|  0.7030614195476711|\n",
       "2022-11-01 08:00:00|  0.2940000034868717|   0.0|   0.0|             229.0|6.6499998569488525|2022-11-01|2022|   11|  1|   8|              4|          44|0.001000000047497...|[0.0,0.0,229.0,6....|  0.3365240725222309|\n",
       "2022-11-01 07:00:00|0.001000000047497...|   0.0|   0.0|240.83333587646484|               7.0|2022-11-01|2022|   11|  1|   7|              4|          44|                 0.0|[0.0,0.0,240.8333...| 0.30266635137732256|\n",
       "+-------------------+--------------------+------+------+------------------+------------------+----------+----+-----+---+----+---------------+------------+--------------------+--------------------+--------------------+\n",
       "\n",
       "****||****||****||----|  Last hour&#39;s predicted production:  0.7469588698694889\n",
       "----|  Last hour&#39;s effective production:  0.9659999907016754\n",
       "----|  Next hour&#39;s predicted production:  0.8058812087960933\n",
       "*********************************************************************************************************\n",
       "\n",
       "Iteration no. 5\n",
       "\n",
       "Sample data from streaming dataframe:\n",
       "\n",
       "+------------------------------------------+------------------+--------+--------+------------------+------------------+-------------------+-----------+\n",
       "window                                    |production        |rr_SMA_w|ss_SMA_w|dd_SMA_w          |ff_SMA_w          |DateTime           |count_items|\n",
       "+------------------------------------------+------------------+--------+--------+------------------+------------------+-------------------+-----------+\n",
       "{2022-11-01 12:00:00, 2022-11-01 13:00:00}|1.609000027179718 |0.0     |0.0     |253.6666717529297 |12.266666412353516|2022-11-01 12:00:00|5          |\n",
       "{2022-11-01 11:00:00, 2022-11-01 12:00:00}|1.7550000250339508|0.0     |0.0     |234.83333587646484|10.383333206176758|2022-11-01 11:00:00|6          |\n",
       "{2022-11-01 10:00:00, 2022-11-01 11:00:00}|0.9659999907016754|0.0     |0.0     |197.6666717529297 |12.583333015441895|2022-11-01 10:00:00|6          |\n",
       "{2022-11-01 09:00:00, 2022-11-01 10:00:00}|0.80799999833107  |0.0     |0.0     |205.0             |10.083333015441895|2022-11-01 09:00:00|6          |\n",
       "{2022-11-01 08:00:00, 2022-11-01 09:00:00}|0.2940000034868717|0.0     |0.0     |229.0             |6.6499998569488525|2022-11-01 08:00:00|6          |\n",
       "+------------------------------------------+------------------+--------+--------+------------------+------------------+-------------------+-----------+\n",
       "only showing top 5 rows\n",
       "\n",
       "Current number of windows processed in stream: 13\n",
       "\n",
       "+-------------------+------------------+------+------+------------------+------------------+----------+----+-----+---+----+---------------+------------+------------------+\n",
       "           DateTime|        production|rr_SMA|ss_SMA|            dd_SMA|            ff_SMA|      date|year|month|day|hour|quarter-of-year|week-of-year|            lag_1h|\n",
       "+-------------------+------------------+------+------+------------------+------------------+----------+----+-----+---+----+---------------+------------+------------------+\n",
       "2022-11-01 12:00:00| 1.609000027179718|   0.0|   0.0| 253.6666717529297|12.266666412353516|2022-11-01|2022|   11|  1|  12|              4|          44|1.7550000250339508|\n",
       "2022-11-01 11:00:00|1.7550000250339508|   0.0|   0.0|234.83333587646484|10.383333206176758|2022-11-01|2022|   11|  1|  11|              4|          44|0.9659999907016754|\n",
       "2022-11-01 10:00:00|0.9659999907016754|   0.0|   0.0| 197.6666717529297|12.583333015441895|2022-11-01|2022|   11|  1|  10|              4|          44|  0.80799999833107|\n",
       "2022-11-01 09:00:00|  0.80799999833107|   0.0|   0.0|             205.0|10.083333015441895|2022-11-01|2022|   11|  1|   9|              4|          44|0.2940000034868717|\n",
       "+-------------------+------------------+------+------+------------------+------------------+----------+----+-----+---+----+---------------+------------+------------------+\n",
       "\n",
       "+-------------------+------------------+------+------+------------------+------------------+----------+----+-----+---+----+---------------+------------+------------------+--------------------+--------------------+\n",
       "           DateTime|        production|rr_SMA|ss_SMA|            dd_SMA|            ff_SMA|      date|year|month|day|hour|quarter-of-year|week-of-year|            lag_1h|            features|predicted_production|\n",
       "+-------------------+------------------+------+------+------------------+------------------+----------+----+-----+---+----+---------------+------------+------------------+--------------------+--------------------+\n",
       "2022-11-01 12:00:00| 1.609000027179718|   0.0|   0.0| 253.6666717529297|12.266666412353516|2022-11-01|2022|   11|  1|  12|              4|          44|1.7550000250339508|[0.0,0.0,253.6666...|    1.57738623092048|\n",
       "2022-11-01 11:00:00|1.7550000250339508|   0.0|   0.0|234.83333587646484|10.383333206176758|2022-11-01|2022|   11|  1|  11|              4|          44|0.9659999907016754|[0.0,0.0,234.8333...|  0.8058812087960933|\n",
       "2022-11-01 10:00:00|0.9659999907016754|   0.0|   0.0| 197.6666717529297|12.583333015441895|2022-11-01|2022|   11|  1|  10|              4|          44|  0.80799999833107|[0.0,0.0,197.6666...|  0.7469588698694889|\n",
       "2022-11-01 09:00:00|  0.80799999833107|   0.0|   0.0|             205.0|10.083333015441895|2022-11-01|2022|   11|  1|   9|              4|          44|0.2940000034868717|[0.0,0.0,205.0,10...|  0.7030614195476711|\n",
       "+-------------------+------------------+------+------+------------------+------------------+----------+----+-----+---+----+---------------+------------+------------------+--------------------+--------------------+\n",
       "\n",
       "****||****||****||****||----|  Last hour&#39;s predicted production:  0.8058812087960933\n",
       "----|  Last hour&#39;s effective production:  1.7550000250339508\n",
       "----|  Next hour&#39;s predicted production:  1.57738623092048\n",
       "*********************************************************************************************************\n",
       "\n",
       "Iteration no. 6\n",
       "\n",
       "Sample data from streaming dataframe:\n",
       "\n",
       "+------------------------------------------+------------------+--------+--------+------------------+------------------+-------------------+-----------+\n",
       "window                                    |production        |rr_SMA_w|ss_SMA_w|dd_SMA_w          |ff_SMA_w          |DateTime           |count_items|\n",
       "+------------------------------------------+------------------+--------+--------+------------------+------------------+-------------------+-----------+\n",
       "{2022-11-01 12:00:00, 2022-11-01 13:00:00}|1.609000027179718 |0.0     |0.0     |243.5             |11.599999904632568|2022-11-01 12:00:00|6          |\n",
       "{2022-11-01 11:00:00, 2022-11-01 12:00:00}|1.7550000250339508|0.0     |0.0     |234.83333587646484|10.383333206176758|2022-11-01 11:00:00|6          |\n",
       "{2022-11-01 10:00:00, 2022-11-01 11:00:00}|0.9659999907016754|0.0     |0.0     |197.6666717529297 |12.583333015441895|2022-11-01 10:00:00|6          |\n",
       "{2022-11-01 09:00:00, 2022-11-01 10:00:00}|0.80799999833107  |0.0     |0.0     |205.0             |10.083333015441895|2022-11-01 09:00:00|6          |\n",
       "{2022-11-01 08:00:00, 2022-11-01 09:00:00}|0.2940000034868717|0.0     |0.0     |229.0             |6.6499998569488525|2022-11-01 08:00:00|6          |\n",
       "+------------------------------------------+------------------+--------+--------+------------------+------------------+-------------------+-----------+\n",
       "only showing top 5 rows\n",
       "\n",
       "Current number of windows processed in stream: 14\n",
       "\n",
       "+-------------------+------------------+------+------+------------------+------------------+----------+----+-----+---+----+---------------+------------+------------------+\n",
       "           DateTime|        production|rr_SMA|ss_SMA|            dd_SMA|            ff_SMA|      date|year|month|day|hour|quarter-of-year|week-of-year|            lag_1h|\n",
       "+-------------------+------------------+------+------+------------------+------------------+----------+----+-----+---+----+---------------+------------+------------------+\n",
       "2022-11-01 12:00:00| 1.609000027179718|   0.0|   0.0|             243.5|11.599999904632568|2022-11-01|2022|   11|  1|  12|              4|          44|1.7550000250339508|\n",
       "2022-11-01 11:00:00|1.7550000250339508|   0.0|   0.0|234.83333587646484|10.383333206176758|2022-11-01|2022|   11|  1|  11|              4|          44|0.9659999907016754|\n",
       "2022-11-01 10:00:00|0.9659999907016754|   0.0|   0.0| 197.6666717529297|12.583333015441895|2022-11-01|2022|   11|  1|  10|              4|          44|  0.80799999833107|\n",
       "2022-11-01 09:00:00|  0.80799999833107|   0.0|   0.0|             205.0|10.083333015441895|2022-11-01|2022|   11|  1|   9|              4|          44|0.2940000034868717|\n",
       "+-------------------+------------------+------+------+------------------+------------------+----------+----+-----+---+----+---------------+------------+------------------+\n",
       "\n",
       "+-------------------+------------------+------+------+------------------+------------------+----------+----+-----+---+----+---------------+------------+------------------+--------------------+--------------------+\n",
       "           DateTime|        production|rr_SMA|ss_SMA|            dd_SMA|            ff_SMA|      date|year|month|day|hour|quarter-of-year|week-of-year|            lag_1h|            features|predicted_production|\n",
       "+-------------------+------------------+------+------+------------------+------------------+----------+----+-----+---+----+---------------+------------+------------------+--------------------+--------------------+\n",
       "2022-11-01 12:00:00| 1.609000027179718|   0.0|   0.0|             243.5|11.599999904632568|2022-11-01|2022|   11|  1|  12|              4|          44|1.7550000250339508|[0.0,0.0,243.5,11...|    1.57738623092048|\n",
       "2022-11-01 11:00:00|1.7550000250339508|   0.0|   0.0|234.83333587646484|10.383333206176758|2022-11-01|2022|   11|  1|  11|              4|          44|0.9659999907016754|[0.0,0.0,234.8333...|  0.8058812087960933|\n",
       "2022-11-01 10:00:00|0.9659999907016754|   0.0|   0.0| 197.6666717529297|12.583333015441895|2022-11-01|2022|   11|  1|  10|              4|          44|  0.80799999833107|[0.0,0.0,197.6666...|  0.7469588698694889|\n",
       "2022-11-01 09:00:00|  0.80799999833107|   0.0|   0.0|             205.0|10.083333015441895|2022-11-01|2022|   11|  1|   9|              4|          44|0.2940000034868717|[0.0,0.0,205.0,10...|  0.7030614195476711|\n",
       "+-------------------+------------------+------+------+------------------+------------------+----------+----+-----+---+----+---------------+------------+------------------+--------------------+--------------------+\n",
       "\n",
       "****||****||****||****||****||----|  Last hour&#39;s predicted production:  1.57738623092048\n",
       "----|  Last hour&#39;s effective production:  1.609000027179718\n",
       "----|  Next hour&#39;s predicted production:  1.57738623092048\n",
       "*********************************************************************************************************\n",
       "\n",
       "Iteration no. 7\n",
       "\n",
       "Sample data from streaming dataframe:\n",
       "\n",
       "+------------------------------------------+------------------+--------+--------+------------------+------------------+-------------------+-----------+\n",
       "window                                    |production        |rr_SMA_w|ss_SMA_w|dd_SMA_w          |ff_SMA_w          |DateTime           |count_items|\n",
       "+------------------------------------------+------------------+--------+--------+------------------+------------------+-------------------+-----------+\n",
       "{2022-11-01 13:00:00, 2022-11-01 14:00:00}|1.7469999492168427|0.0     |21.0    |235.83333587646484|7.516666650772095 |2022-11-01 13:00:00|6          |\n",
       "{2022-11-01 12:00:00, 2022-11-01 13:00:00}|1.609000027179718 |0.0     |0.0     |243.5             |11.599999904632568|2022-11-01 12:00:00|6          |\n",
       "{2022-11-01 11:00:00, 2022-11-01 12:00:00}|1.7550000250339508|0.0     |0.0     |234.83333587646484|10.383333206176758|2022-11-01 11:00:00|6          |\n",
       "{2022-11-01 10:00:00, 2022-11-01 11:00:00}|0.9659999907016754|0.0     |0.0     |197.6666717529297 |12.583333015441895|2022-11-01 10:00:00|6          |\n",
       "{2022-11-01 09:00:00, 2022-11-01 10:00:00}|0.80799999833107  |0.0     |0.0     |205.0             |10.083333015441895|2022-11-01 09:00:00|6          |\n",
       "+------------------------------------------+------------------+--------+--------+------------------+------------------+-------------------+-----------+\n",
       "only showing top 5 rows\n",
       "\n",
       "Current number of windows processed in stream: 15\n",
       "\n",
       "+-------------------+------------------+------+------+------------------+------------------+----------+----+-----+---+----+---------------+------------+------------------+\n",
       "           DateTime|        production|rr_SMA|ss_SMA|            dd_SMA|            ff_SMA|      date|year|month|day|hour|quarter-of-year|week-of-year|            lag_1h|\n",
       "+-------------------+------------------+------+------+------------------+------------------+----------+----+-----+---+----+---------------+------------+------------------+\n",
       "2022-11-01 13:00:00|1.7469999492168427|   0.0|  21.0|235.83333587646484| 7.516666650772095|2022-11-01|2022|   11|  1|  13|              4|          44| 1.609000027179718|\n",
       "2022-11-01 12:00:00| 1.609000027179718|   0.0|   0.0|             243.5|11.599999904632568|2022-11-01|2022|   11|  1|  12|              4|          44|1.7550000250339508|\n",
       "2022-11-01 11:00:00|1.7550000250339508|   0.0|   0.0|234.83333587646484|10.383333206176758|2022-11-01|2022|   11|  1|  11|              4|          44|0.9659999907016754|\n",
       "2022-11-01 10:00:00|0.9659999907016754|   0.0|   0.0| 197.6666717529297|12.583333015441895|2022-11-01|2022|   11|  1|  10|              4|          44|  0.80799999833107|\n",
       "+-------------------+------------------+------+------+------------------+------------------+----------+----+-----+---+----+---------------+------------+------------------+\n",
       "\n",
       "+-------------------+------------------+------+------+------------------+------------------+----------+----+-----+---+----+---------------+------------+------------------+--------------------+--------------------+\n",
       "           DateTime|        production|rr_SMA|ss_SMA|            dd_SMA|            ff_SMA|      date|year|month|day|hour|quarter-of-year|week-of-year|            lag_1h|            features|predicted_production|\n",
       "+-------------------+------------------+------+------+------------------+------------------+----------+----+-----+---+----+---------------+------------+------------------+--------------------+--------------------+\n",
       "2022-11-01 13:00:00|1.7469999492168427|   0.0|  21.0|235.83333587646484| 7.516666650772095|2022-11-01|2022|   11|  1|  13|              4|          44| 1.609000027179718|[0.0,21.0,235.833...|   2.898733377837447|\n",
       "2022-11-01 12:00:00| 1.609000027179718|   0.0|   0.0|             243.5|11.599999904632568|2022-11-01|2022|   11|  1|  12|              4|          44|1.7550000250339508|[0.0,0.0,243.5,11...|    1.57738623092048|\n",
       "2022-11-01 11:00:00|1.7550000250339508|   0.0|   0.0|234.83333587646484|10.383333206176758|2022-11-01|2022|   11|  1|  11|              4|          44|0.9659999907016754|[0.0,0.0,234.8333...|  0.8058812087960933|\n",
       "2022-11-01 10:00:00|0.9659999907016754|   0.0|   0.0| 197.6666717529297|12.583333015441895|2022-11-01|2022|   11|  1|  10|              4|          44|  0.80799999833107|[0.0,0.0,197.6666...|  0.7469588698694889|\n",
       "+-------------------+------------------+------+------+------------------+------------------+----------+----+-----+---+----+---------------+------------+------------------+--------------------+--------------------+\n",
       "\n",
       "****||****||****||****||****||****||----|  Last hour&#39;s predicted production:  2.898733377837447\n",
       "----|  Last hour&#39;s effective production:  1.7469999492168427\n",
       "----|  Next hour&#39;s predicted production:  2.1760444587831573\n",
       "*********************************************************************************************************\n",
       "\n",
       "Iteration no. 8\n",
       "\n",
       "Sample data from streaming dataframe:\n",
       "\n",
       "+------------------------------------------+------------------+--------+--------+------------------+------------------+-------------------+-----------+\n",
       "window                                    |production        |rr_SMA_w|ss_SMA_w|dd_SMA_w          |ff_SMA_w          |DateTime           |count_items|\n",
       "+------------------------------------------+------------------+--------+--------+------------------+------------------+-------------------+-----------+\n",
       "{2022-11-01 15:00:00, 2022-11-01 16:00:00}|1.9500000029802322|0.0     |0.0     |223.3333282470703 |6.933333396911621 |2022-11-01 15:00:00|5          |\n",
       "{2022-11-01 14:00:00, 2022-11-01 15:00:00}|3.402000069618225 |0.0     |22.0    |227.66666412353516|6.066666603088379 |2022-11-01 14:00:00|6          |\n",
       "{2022-11-01 13:00:00, 2022-11-01 14:00:00}|1.7469999492168427|0.0     |21.0    |235.83333587646484|7.516666650772095 |2022-11-01 13:00:00|6          |\n",
       "{2022-11-01 12:00:00, 2022-11-01 13:00:00}|1.609000027179718 |0.0     |0.0     |243.5             |11.599999904632568|2022-11-01 12:00:00|6          |\n",
       "{2022-11-01 11:00:00, 2022-11-01 12:00:00}|1.7550000250339508|0.0     |0.0     |234.83333587646484|10.383333206176758|2022-11-01 11:00:00|6          |\n",
       "+------------------------------------------+------------------+--------+--------+------------------+------------------+-------------------+-----------+\n",
       "only showing top 5 rows\n",
       "\n",
       "Current number of windows processed in stream: 16\n",
       "\n",
       "</div>"
      ]
     },
     "metadata": {
      "application/vnd.databricks.v1+output": {
       "addedWidgets": {},
       "arguments": {},
       "data": "<div class=\"ansiout\">Running SQL (initialization may take a while)...\n*********************************************************************************************************\n\nIteration no. 1\n\nSample data from streaming dataframe:\n\n+------------------------------------------+----------+--------+--------+------------------+------------------+-------------------+-----------+\n|window                                    |production|rr_SMA_w|ss_SMA_w|dd_SMA_w          |ff_SMA_w          |DateTime           |count_items|\n+------------------------------------------+----------+--------+--------+------------------+------------------+-------------------+-----------+\n|{2022-11-01 04:00:00, 2022-11-01 05:00:00}|null      |0.0     |0.0     |281.3333435058594 |5.666666507720947 |2022-11-01 04:00:00|5          |\n|{2022-11-01 03:00:00, 2022-11-01 04:00:00}|null      |0.0     |0.0     |209.33333587646484|2.933333396911621 |2022-11-01 03:00:00|6          |\n|{2022-11-01 02:00:00, 2022-11-01 03:00:00}|null      |0.0     |0.0     |141.33333206176758|1.3333333432674408|2022-11-01 02:00:00|6          |\n|{2022-11-01 01:00:00, 2022-11-01 02:00:00}|null      |0.0     |0.0     |224.33333587646484|2.3333333134651184|2022-11-01 01:00:00|6          |\n|{2022-11-01 00:00:00, 2022-11-01 01:00:00}|null      |0.0     |0.0     |200.8333282470703 |1.800000011920929 |2022-11-01 00:00:00|6          |\n+------------------------------------------+----------+--------+--------+------------------+------------------+-------------------+-----------+\n\nCurrent number of windows processed in stream: 5\n\n+-------------------+----------+------+------+------------------+------------------+----------+----+-----+---+----+---------------+------------+------+\n|           DateTime|production|rr_SMA|ss_SMA|            dd_SMA|            ff_SMA|      date|year|month|day|hour|quarter-of-year|week-of-year|lag_1h|\n+-------------------+----------+------+------+------------------+------------------+----------+----+-----+---+----+---------------+------------+------+\n|2022-11-01 04:00:00|       0.0|   0.0|   0.0| 287.6666717529297| 5.049999952316284|2022-11-01|2022|   11|  1|   4|              4|          44|   0.0|\n|2022-11-01 03:00:00|       0.0|   0.0|   0.0|209.33333587646484| 2.933333396911621|2022-11-01|2022|   11|  1|   3|              4|          44|   0.0|\n|2022-11-01 02:00:00|       0.0|   0.0|   0.0|141.33333206176758|1.3333333432674408|2022-11-01|2022|   11|  1|   2|              4|          44|   0.0|\n|2022-11-01 01:00:00|       0.0|   0.0|   0.0|224.33333587646484|2.3333333134651184|2022-11-01|2022|   11|  1|   1|              4|          44|   0.0|\n+-------------------+----------+------+------+------------------+------------------+----------+----+-----+---+----+---------------+------------+------+\n\n+-------------------+----------+------+------+------------------+------------------+----------+----+-----+---+----+---------------+------------+------+--------------------+--------------------+\n|           DateTime|production|rr_SMA|ss_SMA|            dd_SMA|            ff_SMA|      date|year|month|day|hour|quarter-of-year|week-of-year|lag_1h|            features|predicted_production|\n+-------------------+----------+------+------+------------------+------------------+----------+----+-----+---+----+---------------+------------+------+--------------------+--------------------+\n|2022-11-01 05:00:00|       0.0|   0.0|   0.0| 267.6666564941406|14.033333778381348|2022-11-01|2022|   11|  1|   5|              4|          44|   0.0|[0.0,0.0,267.6666...|   0.304943573673363|\n|2022-11-01 04:00:00|       0.0|   0.0|   0.0| 287.6666717529297| 5.049999952316284|2022-11-01|2022|   11|  1|   4|              4|          44|   0.0|[0.0,0.0,287.6666...|   0.304943573673363|\n|2022-11-01 03:00:00|       0.0|   0.0|   0.0|209.33333587646484| 2.933333396911621|2022-11-01|2022|   11|  1|   3|              4|          44|   0.0|[0.0,0.0,209.3333...|  0.3024498578402746|\n|2022-11-01 02:00:00|       0.0|   0.0|   0.0|141.33333206176758|1.3333333432674408|2022-11-01|2022|   11|  1|   2|              4|          44|   0.0|[0.0,0.0,141.3333...| 0.28158185512701006|\n+-------------------+----------+------+------+------------------+------------------+----------+----+-----+---+----+---------------+------------+------+--------------------+--------------------+\n\n|----|  Last hour&#39;s predicted production:  0.304943573673363\n|----|  Last hour&#39;s effective production:  0.0\n|----|  Next hour&#39;s predicted production:  0.304943573673363\n*********************************************************************************************************\n\nIteration no. 2\n\nSample data from streaming dataframe:\n\n+------------------------------------------+---------------------+--------+--------+------------------+------------------+-------------------+-----------+\n|window                                    |production           |rr_SMA_w|ss_SMA_w|dd_SMA_w          |ff_SMA_w          |DateTime           |count_items|\n+------------------------------------------+---------------------+--------+--------+------------------+------------------+-------------------+-----------+\n|{2022-11-01 07:00:00, 2022-11-01 08:00:00}|0.0010000000474974513|0.0     |0.0     |236.0             |6.0               |2022-11-01 07:00:00|5          |\n|{2022-11-01 06:00:00, 2022-11-01 07:00:00}|null                 |0.0     |0.0     |266.5             |14.78333330154419 |2022-11-01 06:00:00|6          |\n|{2022-11-01 05:00:00, 2022-11-01 06:00:00}|0.0                  |0.0     |0.0     |258.49999237060547|19.916666507720947|2022-11-01 05:00:00|6          |\n|{2022-11-01 04:00:00, 2022-11-01 05:00:00}|null                 |0.0     |0.0     |287.6666717529297 |5.049999952316284 |2022-11-01 04:00:00|6          |\n|{2022-11-01 03:00:00, 2022-11-01 04:00:00}|null                 |0.0     |0.0     |209.33333587646484|2.933333396911621 |2022-11-01 03:00:00|6          |\n+------------------------------------------+---------------------+--------+--------+------------------+------------------+-------------------+-----------+\nonly showing top 5 rows\n\nCurrent number of windows processed in stream: 8\n\n+-------------------+--------------------+------+------+------------------+------------------+----------+----+-----+---+----+---------------+------------+------+\n|           DateTime|          production|rr_SMA|ss_SMA|            dd_SMA|            ff_SMA|      date|year|month|day|hour|quarter-of-year|week-of-year|lag_1h|\n+-------------------+--------------------+------+------+------------------+------------------+----------+----+-----+---+----+---------------+------------+------+\n|2022-11-01 07:00:00|0.001000000047497...|   0.0|   0.0|             236.0|               6.0|2022-11-01|2022|   11|  1|   7|              4|          44|   0.0|\n|2022-11-01 06:00:00|                 0.0|   0.0|   0.0|             266.5| 14.78333330154419|2022-11-01|2022|   11|  1|   6|              4|          44|   0.0|\n|2022-11-01 05:00:00|                 0.0|   0.0|   0.0|258.49999237060547|19.916666507720947|2022-11-01|2022|   11|  1|   5|              4|          44|   0.0|\n|2022-11-01 04:00:00|                 0.0|   0.0|   0.0| 287.6666717529297| 5.049999952316284|2022-11-01|2022|   11|  1|   4|              4|          44|   0.0|\n+-------------------+--------------------+------+------+------------------+------------------+----------+----+-----+---+----+---------------+------------+------+\n\n+-------------------+--------------------+------+------+------------------+------------------+----------+----+-----+---+----+---------------+------------+------+--------------------+--------------------+\n|           DateTime|          production|rr_SMA|ss_SMA|            dd_SMA|            ff_SMA|      date|year|month|day|hour|quarter-of-year|week-of-year|lag_1h|            features|predicted_production|\n+-------------------+--------------------+------+------+------------------+------------------+----------+----+-----+---+----+---------------+------------+------+--------------------+--------------------+\n|2022-11-01 07:00:00|0.001000000047497...|   0.0|   0.0|             236.0|               6.0|2022-11-01|2022|   11|  1|   7|              4|          44|   0.0|[0.0,0.0,236.0,6....| 0.30266635137732256|\n|2022-11-01 06:00:00|                 0.0|   0.0|   0.0|             266.5| 14.78333330154419|2022-11-01|2022|   11|  1|   6|              4|          44|   0.0|[0.0,0.0,266.5,14...|   0.304943573673363|\n|2022-11-01 05:00:00|                 0.0|   0.0|   0.0|258.49999237060547|19.916666507720947|2022-11-01|2022|   11|  1|   5|              4|          44|   0.0|[0.0,0.0,258.4999...|   0.304943573673363|\n|2022-11-01 04:00:00|                 0.0|   0.0|   0.0| 287.6666717529297| 5.049999952316284|2022-11-01|2022|   11|  1|   4|              4|          44|   0.0|[0.0,0.0,287.6666...|   0.304943573673363|\n+-------------------+--------------------+------+------+------------------+------------------+----------+----+-----+---+----+---------------+------------+------+--------------------+--------------------+\n\n|****||----|  Last hour&#39;s predicted production:  0.304943573673363\n|----|  Last hour&#39;s effective production:  0.0\n|----|  Next hour&#39;s predicted production:  0.30266635137732256\n*********************************************************************************************************\n\nIteration no. 3\n\nSample data from streaming dataframe:\n\n+------------------------------------------+---------------------+--------+--------+------------------+------------------+-------------------+-----------+\n|window                                    |production           |rr_SMA_w|ss_SMA_w|dd_SMA_w          |ff_SMA_w          |DateTime           |count_items|\n+------------------------------------------+---------------------+--------+--------+------------------+------------------+-------------------+-----------+\n|{2022-11-01 08:00:00, 2022-11-01 09:00:00}|0.15199999883770943  |0.0     |0.0     |229.0             |6.6499998569488525|2022-11-01 08:00:00|5          |\n|{2022-11-01 07:00:00, 2022-11-01 08:00:00}|0.0010000000474974513|0.0     |0.0     |240.83333587646484|7.0               |2022-11-01 07:00:00|6          |\n|{2022-11-01 06:00:00, 2022-11-01 07:00:00}|null                 |0.0     |0.0     |266.5             |14.78333330154419 |2022-11-01 06:00:00|6          |\n|{2022-11-01 05:00:00, 2022-11-01 06:00:00}|0.0                  |0.0     |0.0     |258.49999237060547|19.916666507720947|2022-11-01 05:00:00|6          |\n|{2022-11-01 04:00:00, 2022-11-01 05:00:00}|null                 |0.0     |0.0     |287.6666717529297 |5.049999952316284 |2022-11-01 04:00:00|6          |\n+------------------------------------------+---------------------+--------+--------+------------------+------------------+-------------------+-----------+\nonly showing top 5 rows\n\nCurrent number of windows processed in stream: 9\n\n+-------------------+--------------------+------+------+------------------+------------------+----------+----+-----+---+----+---------------+------------+--------------------+\n|           DateTime|          production|rr_SMA|ss_SMA|            dd_SMA|            ff_SMA|      date|year|month|day|hour|quarter-of-year|week-of-year|              lag_1h|\n+-------------------+--------------------+------+------+------------------+------------------+----------+----+-----+---+----+---------------+------------+--------------------+\n|2022-11-01 08:00:00|  0.2940000034868717|   0.0|   0.0|             229.0|6.6499998569488525|2022-11-01|2022|   11|  1|   8|              4|          44|0.001000000047497...|\n|2022-11-01 07:00:00|0.001000000047497...|   0.0|   0.0|240.83333587646484|               7.0|2022-11-01|2022|   11|  1|   7|              4|          44|                 0.0|\n|2022-11-01 06:00:00|                 0.0|   0.0|   0.0|             266.5| 14.78333330154419|2022-11-01|2022|   11|  1|   6|              4|          44|                 0.0|\n|2022-11-01 05:00:00|                 0.0|   0.0|   0.0|258.49999237060547|19.916666507720947|2022-11-01|2022|   11|  1|   5|              4|          44|                 0.0|\n+-------------------+--------------------+------+------+------------------+------------------+----------+----+-----+---+----+---------------+------------+--------------------+\n\n+-------------------+--------------------+------+------+------------------+------------------+----------+----+-----+---+----+---------------+------------+--------------------+--------------------+--------------------+\n|           DateTime|          production|rr_SMA|ss_SMA|            dd_SMA|            ff_SMA|      date|year|month|day|hour|quarter-of-year|week-of-year|              lag_1h|            features|predicted_production|\n+-------------------+--------------------+------+------+------------------+------------------+----------+----+-----+---+----+---------------+------------+--------------------+--------------------+--------------------+\n|2022-11-01 08:00:00|  0.2940000034868717|   0.0|   0.0|             229.0|6.6499998569488525|2022-11-01|2022|   11|  1|   8|              4|          44|0.001000000047497...|[0.0,0.0,229.0,6....|  0.3365240725222309|\n|2022-11-01 07:00:00|0.001000000047497...|   0.0|   0.0|240.83333587646484|               7.0|2022-11-01|2022|   11|  1|   7|              4|          44|                 0.0|[0.0,0.0,240.8333...| 0.30266635137732256|\n|2022-11-01 06:00:00|                 0.0|   0.0|   0.0|             266.5| 14.78333330154419|2022-11-01|2022|   11|  1|   6|              4|          44|                 0.0|[0.0,0.0,266.5,14...|   0.304943573673363|\n|2022-11-01 05:00:00|                 0.0|   0.0|   0.0|258.49999237060547|19.916666507720947|2022-11-01|2022|   11|  1|   5|              4|          44|                 0.0|[0.0,0.0,258.4999...|   0.304943573673363|\n+-------------------+--------------------+------+------+------------------+------------------+----------+----+-----+---+----+---------------+------------+--------------------+--------------------+--------------------+\n\n|****||****||----|  Last hour&#39;s predicted production:  0.3365240725222309\n|----|  Last hour&#39;s effective production:  0.2940000034868717\n|----|  Next hour&#39;s predicted production:  0.7030614195476711\n*********************************************************************************************************\n\nIteration no. 4\n\nSample data from streaming dataframe:\n\n+------------------------------------------+---------------------+--------+--------+------------------+------------------+-------------------+-----------+\n|window                                    |production           |rr_SMA_w|ss_SMA_w|dd_SMA_w          |ff_SMA_w          |DateTime           |count_items|\n+------------------------------------------+---------------------+--------+--------+------------------+------------------+-------------------+-----------+\n|{2022-11-01 09:00:00, 2022-11-01 10:00:00}|0.80799999833107     |0.0     |0.0     |205.0             |10.083333015441895|2022-11-01 09:00:00|6          |\n|{2022-11-01 08:00:00, 2022-11-01 09:00:00}|0.2940000034868717   |0.0     |0.0     |229.0             |6.6499998569488525|2022-11-01 08:00:00|6          |\n|{2022-11-01 07:00:00, 2022-11-01 08:00:00}|0.0010000000474974513|0.0     |0.0     |240.83333587646484|7.0               |2022-11-01 07:00:00|6          |\n|{2022-11-01 06:00:00, 2022-11-01 07:00:00}|null                 |0.0     |0.0     |266.5             |14.78333330154419 |2022-11-01 06:00:00|6          |\n|{2022-11-01 05:00:00, 2022-11-01 06:00:00}|0.0                  |0.0     |0.0     |258.49999237060547|19.916666507720947|2022-11-01 05:00:00|6          |\n+------------------------------------------+---------------------+--------+--------+------------------+------------------+-------------------+-----------+\nonly showing top 5 rows\n\nCurrent number of windows processed in stream: 11\n\n+-------------------+--------------------+------+------+------------------+------------------+----------+----+-----+---+----+---------------+------------+--------------------+\n|           DateTime|          production|rr_SMA|ss_SMA|            dd_SMA|            ff_SMA|      date|year|month|day|hour|quarter-of-year|week-of-year|              lag_1h|\n+-------------------+--------------------+------+------+------------------+------------------+----------+----+-----+---+----+---------------+------------+--------------------+\n|2022-11-01 10:00:00|  0.9659999907016754|   0.0|   0.0| 183.6666717529297|11.266666412353516|2022-11-01|2022|   11|  1|  10|              4|          44|    0.80799999833107|\n|2022-11-01 09:00:00|    0.80799999833107|   0.0|   0.0|             205.0|10.083333015441895|2022-11-01|2022|   11|  1|   9|              4|          44|  0.2940000034868717|\n|2022-11-01 08:00:00|  0.2940000034868717|   0.0|   0.0|             229.0|6.6499998569488525|2022-11-01|2022|   11|  1|   8|              4|          44|0.001000000047497...|\n|2022-11-01 07:00:00|0.001000000047497...|   0.0|   0.0|240.83333587646484|               7.0|2022-11-01|2022|   11|  1|   7|              4|          44|                 0.0|\n+-------------------+--------------------+------+------+------------------+------------------+----------+----+-----+---+----+---------------+------------+--------------------+\n\n+-------------------+--------------------+------+------+------------------+------------------+----------+----+-----+---+----+---------------+------------+--------------------+--------------------+--------------------+\n|           DateTime|          production|rr_SMA|ss_SMA|            dd_SMA|            ff_SMA|      date|year|month|day|hour|quarter-of-year|week-of-year|              lag_1h|            features|predicted_production|\n+-------------------+--------------------+------+------+------------------+------------------+----------+----+-----+---+----+---------------+------------+--------------------+--------------------+--------------------+\n|2022-11-01 10:00:00|  0.9659999907016754|   0.0|   0.0| 197.6666717529297|12.583333015441895|2022-11-01|2022|   11|  1|  10|              4|          44|    0.80799999833107|[0.0,0.0,197.6666...|  0.7469588698694889|\n|2022-11-01 09:00:00|    0.80799999833107|   0.0|   0.0|             205.0|10.083333015441895|2022-11-01|2022|   11|  1|   9|              4|          44|  0.2940000034868717|[0.0,0.0,205.0,10...|  0.7030614195476711|\n|2022-11-01 08:00:00|  0.2940000034868717|   0.0|   0.0|             229.0|6.6499998569488525|2022-11-01|2022|   11|  1|   8|              4|          44|0.001000000047497...|[0.0,0.0,229.0,6....|  0.3365240725222309|\n|2022-11-01 07:00:00|0.001000000047497...|   0.0|   0.0|240.83333587646484|               7.0|2022-11-01|2022|   11|  1|   7|              4|          44|                 0.0|[0.0,0.0,240.8333...| 0.30266635137732256|\n+-------------------+--------------------+------+------+------------------+------------------+----------+----+-----+---+----+---------------+------------+--------------------+--------------------+--------------------+\n\n|****||****||****||----|  Last hour&#39;s predicted production:  0.7469588698694889\n|----|  Last hour&#39;s effective production:  0.9659999907016754\n|----|  Next hour&#39;s predicted production:  0.8058812087960933\n*********************************************************************************************************\n\nIteration no. 5\n\nSample data from streaming dataframe:\n\n+------------------------------------------+------------------+--------+--------+------------------+------------------+-------------------+-----------+\n|window                                    |production        |rr_SMA_w|ss_SMA_w|dd_SMA_w          |ff_SMA_w          |DateTime           |count_items|\n+------------------------------------------+------------------+--------+--------+------------------+------------------+-------------------+-----------+\n|{2022-11-01 12:00:00, 2022-11-01 13:00:00}|1.609000027179718 |0.0     |0.0     |253.6666717529297 |12.266666412353516|2022-11-01 12:00:00|5          |\n|{2022-11-01 11:00:00, 2022-11-01 12:00:00}|1.7550000250339508|0.0     |0.0     |234.83333587646484|10.383333206176758|2022-11-01 11:00:00|6          |\n|{2022-11-01 10:00:00, 2022-11-01 11:00:00}|0.9659999907016754|0.0     |0.0     |197.6666717529297 |12.583333015441895|2022-11-01 10:00:00|6          |\n|{2022-11-01 09:00:00, 2022-11-01 10:00:00}|0.80799999833107  |0.0     |0.0     |205.0             |10.083333015441895|2022-11-01 09:00:00|6          |\n|{2022-11-01 08:00:00, 2022-11-01 09:00:00}|0.2940000034868717|0.0     |0.0     |229.0             |6.6499998569488525|2022-11-01 08:00:00|6          |\n+------------------------------------------+------------------+--------+--------+------------------+------------------+-------------------+-----------+\nonly showing top 5 rows\n\nCurrent number of windows processed in stream: 13\n\n+-------------------+------------------+------+------+------------------+------------------+----------+----+-----+---+----+---------------+------------+------------------+\n|           DateTime|        production|rr_SMA|ss_SMA|            dd_SMA|            ff_SMA|      date|year|month|day|hour|quarter-of-year|week-of-year|            lag_1h|\n+-------------------+------------------+------+------+------------------+------------------+----------+----+-----+---+----+---------------+------------+------------------+\n|2022-11-01 12:00:00| 1.609000027179718|   0.0|   0.0| 253.6666717529297|12.266666412353516|2022-11-01|2022|   11|  1|  12|              4|          44|1.7550000250339508|\n|2022-11-01 11:00:00|1.7550000250339508|   0.0|   0.0|234.83333587646484|10.383333206176758|2022-11-01|2022|   11|  1|  11|              4|          44|0.9659999907016754|\n|2022-11-01 10:00:00|0.9659999907016754|   0.0|   0.0| 197.6666717529297|12.583333015441895|2022-11-01|2022|   11|  1|  10|              4|          44|  0.80799999833107|\n|2022-11-01 09:00:00|  0.80799999833107|   0.0|   0.0|             205.0|10.083333015441895|2022-11-01|2022|   11|  1|   9|              4|          44|0.2940000034868717|\n+-------------------+------------------+------+------+------------------+------------------+----------+----+-----+---+----+---------------+------------+------------------+\n\n+-------------------+------------------+------+------+------------------+------------------+----------+----+-----+---+----+---------------+------------+------------------+--------------------+--------------------+\n|           DateTime|        production|rr_SMA|ss_SMA|            dd_SMA|            ff_SMA|      date|year|month|day|hour|quarter-of-year|week-of-year|            lag_1h|            features|predicted_production|\n+-------------------+------------------+------+------+------------------+------------------+----------+----+-----+---+----+---------------+------------+------------------+--------------------+--------------------+\n|2022-11-01 12:00:00| 1.609000027179718|   0.0|   0.0| 253.6666717529297|12.266666412353516|2022-11-01|2022|   11|  1|  12|              4|          44|1.7550000250339508|[0.0,0.0,253.6666...|    1.57738623092048|\n|2022-11-01 11:00:00|1.7550000250339508|   0.0|   0.0|234.83333587646484|10.383333206176758|2022-11-01|2022|   11|  1|  11|              4|          44|0.9659999907016754|[0.0,0.0,234.8333...|  0.8058812087960933|\n|2022-11-01 10:00:00|0.9659999907016754|   0.0|   0.0| 197.6666717529297|12.583333015441895|2022-11-01|2022|   11|  1|  10|              4|          44|  0.80799999833107|[0.0,0.0,197.6666...|  0.7469588698694889|\n|2022-11-01 09:00:00|  0.80799999833107|   0.0|   0.0|             205.0|10.083333015441895|2022-11-01|2022|   11|  1|   9|              4|          44|0.2940000034868717|[0.0,0.0,205.0,10...|  0.7030614195476711|\n+-------------------+------------------+------+------+------------------+------------------+----------+----+-----+---+----+---------------+------------+------------------+--------------------+--------------------+\n\n|****||****||****||****||----|  Last hour&#39;s predicted production:  0.8058812087960933\n|----|  Last hour&#39;s effective production:  1.7550000250339508\n|----|  Next hour&#39;s predicted production:  1.57738623092048\n*********************************************************************************************************\n\nIteration no. 6\n\nSample data from streaming dataframe:\n\n+------------------------------------------+------------------+--------+--------+------------------+------------------+-------------------+-----------+\n|window                                    |production        |rr_SMA_w|ss_SMA_w|dd_SMA_w          |ff_SMA_w          |DateTime           |count_items|\n+------------------------------------------+------------------+--------+--------+------------------+------------------+-------------------+-----------+\n|{2022-11-01 12:00:00, 2022-11-01 13:00:00}|1.609000027179718 |0.0     |0.0     |243.5             |11.599999904632568|2022-11-01 12:00:00|6          |\n|{2022-11-01 11:00:00, 2022-11-01 12:00:00}|1.7550000250339508|0.0     |0.0     |234.83333587646484|10.383333206176758|2022-11-01 11:00:00|6          |\n|{2022-11-01 10:00:00, 2022-11-01 11:00:00}|0.9659999907016754|0.0     |0.0     |197.6666717529297 |12.583333015441895|2022-11-01 10:00:00|6          |\n|{2022-11-01 09:00:00, 2022-11-01 10:00:00}|0.80799999833107  |0.0     |0.0     |205.0             |10.083333015441895|2022-11-01 09:00:00|6          |\n|{2022-11-01 08:00:00, 2022-11-01 09:00:00}|0.2940000034868717|0.0     |0.0     |229.0             |6.6499998569488525|2022-11-01 08:00:00|6          |\n+------------------------------------------+------------------+--------+--------+------------------+------------------+-------------------+-----------+\nonly showing top 5 rows\n\nCurrent number of windows processed in stream: 14\n\n+-------------------+------------------+------+------+------------------+------------------+----------+----+-----+---+----+---------------+------------+------------------+\n|           DateTime|        production|rr_SMA|ss_SMA|            dd_SMA|            ff_SMA|      date|year|month|day|hour|quarter-of-year|week-of-year|            lag_1h|\n+-------------------+------------------+------+------+------------------+------------------+----------+----+-----+---+----+---------------+------------+------------------+\n|2022-11-01 12:00:00| 1.609000027179718|   0.0|   0.0|             243.5|11.599999904632568|2022-11-01|2022|   11|  1|  12|              4|          44|1.7550000250339508|\n|2022-11-01 11:00:00|1.7550000250339508|   0.0|   0.0|234.83333587646484|10.383333206176758|2022-11-01|2022|   11|  1|  11|              4|          44|0.9659999907016754|\n|2022-11-01 10:00:00|0.9659999907016754|   0.0|   0.0| 197.6666717529297|12.583333015441895|2022-11-01|2022|   11|  1|  10|              4|          44|  0.80799999833107|\n|2022-11-01 09:00:00|  0.80799999833107|   0.0|   0.0|             205.0|10.083333015441895|2022-11-01|2022|   11|  1|   9|              4|          44|0.2940000034868717|\n+-------------------+------------------+------+------+------------------+------------------+----------+----+-----+---+----+---------------+------------+------------------+\n\n+-------------------+------------------+------+------+------------------+------------------+----------+----+-----+---+----+---------------+------------+------------------+--------------------+--------------------+\n|           DateTime|        production|rr_SMA|ss_SMA|            dd_SMA|            ff_SMA|      date|year|month|day|hour|quarter-of-year|week-of-year|            lag_1h|            features|predicted_production|\n+-------------------+------------------+------+------+------------------+------------------+----------+----+-----+---+----+---------------+------------+------------------+--------------------+--------------------+\n|2022-11-01 12:00:00| 1.609000027179718|   0.0|   0.0|             243.5|11.599999904632568|2022-11-01|2022|   11|  1|  12|              4|          44|1.7550000250339508|[0.0,0.0,243.5,11...|    1.57738623092048|\n|2022-11-01 11:00:00|1.7550000250339508|   0.0|   0.0|234.83333587646484|10.383333206176758|2022-11-01|2022|   11|  1|  11|              4|          44|0.9659999907016754|[0.0,0.0,234.8333...|  0.8058812087960933|\n|2022-11-01 10:00:00|0.9659999907016754|   0.0|   0.0| 197.6666717529297|12.583333015441895|2022-11-01|2022|   11|  1|  10|              4|          44|  0.80799999833107|[0.0,0.0,197.6666...|  0.7469588698694889|\n|2022-11-01 09:00:00|  0.80799999833107|   0.0|   0.0|             205.0|10.083333015441895|2022-11-01|2022|   11|  1|   9|              4|          44|0.2940000034868717|[0.0,0.0,205.0,10...|  0.7030614195476711|\n+-------------------+------------------+------+------+------------------+------------------+----------+----+-----+---+----+---------------+------------+------------------+--------------------+--------------------+\n\n|****||****||****||****||****||----|  Last hour&#39;s predicted production:  1.57738623092048\n|----|  Last hour&#39;s effective production:  1.609000027179718\n|----|  Next hour&#39;s predicted production:  1.57738623092048\n*********************************************************************************************************\n\nIteration no. 7\n\nSample data from streaming dataframe:\n\n+------------------------------------------+------------------+--------+--------+------------------+------------------+-------------------+-----------+\n|window                                    |production        |rr_SMA_w|ss_SMA_w|dd_SMA_w          |ff_SMA_w          |DateTime           |count_items|\n+------------------------------------------+------------------+--------+--------+------------------+------------------+-------------------+-----------+\n|{2022-11-01 13:00:00, 2022-11-01 14:00:00}|1.7469999492168427|0.0     |21.0    |235.83333587646484|7.516666650772095 |2022-11-01 13:00:00|6          |\n|{2022-11-01 12:00:00, 2022-11-01 13:00:00}|1.609000027179718 |0.0     |0.0     |243.5             |11.599999904632568|2022-11-01 12:00:00|6          |\n|{2022-11-01 11:00:00, 2022-11-01 12:00:00}|1.7550000250339508|0.0     |0.0     |234.83333587646484|10.383333206176758|2022-11-01 11:00:00|6          |\n|{2022-11-01 10:00:00, 2022-11-01 11:00:00}|0.9659999907016754|0.0     |0.0     |197.6666717529297 |12.583333015441895|2022-11-01 10:00:00|6          |\n|{2022-11-01 09:00:00, 2022-11-01 10:00:00}|0.80799999833107  |0.0     |0.0     |205.0             |10.083333015441895|2022-11-01 09:00:00|6          |\n+------------------------------------------+------------------+--------+--------+------------------+------------------+-------------------+-----------+\nonly showing top 5 rows\n\nCurrent number of windows processed in stream: 15\n\n+-------------------+------------------+------+------+------------------+------------------+----------+----+-----+---+----+---------------+------------+------------------+\n|           DateTime|        production|rr_SMA|ss_SMA|            dd_SMA|            ff_SMA|      date|year|month|day|hour|quarter-of-year|week-of-year|            lag_1h|\n+-------------------+------------------+------+------+------------------+------------------+----------+----+-----+---+----+---------------+------------+------------------+\n|2022-11-01 13:00:00|1.7469999492168427|   0.0|  21.0|235.83333587646484| 7.516666650772095|2022-11-01|2022|   11|  1|  13|              4|          44| 1.609000027179718|\n|2022-11-01 12:00:00| 1.609000027179718|   0.0|   0.0|             243.5|11.599999904632568|2022-11-01|2022|   11|  1|  12|              4|          44|1.7550000250339508|\n|2022-11-01 11:00:00|1.7550000250339508|   0.0|   0.0|234.83333587646484|10.383333206176758|2022-11-01|2022|   11|  1|  11|              4|          44|0.9659999907016754|\n|2022-11-01 10:00:00|0.9659999907016754|   0.0|   0.0| 197.6666717529297|12.583333015441895|2022-11-01|2022|   11|  1|  10|              4|          44|  0.80799999833107|\n+-------------------+------------------+------+------+------------------+------------------+----------+----+-----+---+----+---------------+------------+------------------+\n\n+-------------------+------------------+------+------+------------------+------------------+----------+----+-----+---+----+---------------+------------+------------------+--------------------+--------------------+\n|           DateTime|        production|rr_SMA|ss_SMA|            dd_SMA|            ff_SMA|      date|year|month|day|hour|quarter-of-year|week-of-year|            lag_1h|            features|predicted_production|\n+-------------------+------------------+------+------+------------------+------------------+----------+----+-----+---+----+---------------+------------+------------------+--------------------+--------------------+\n|2022-11-01 13:00:00|1.7469999492168427|   0.0|  21.0|235.83333587646484| 7.516666650772095|2022-11-01|2022|   11|  1|  13|              4|          44| 1.609000027179718|[0.0,21.0,235.833...|   2.898733377837447|\n|2022-11-01 12:00:00| 1.609000027179718|   0.0|   0.0|             243.5|11.599999904632568|2022-11-01|2022|   11|  1|  12|              4|          44|1.7550000250339508|[0.0,0.0,243.5,11...|    1.57738623092048|\n|2022-11-01 11:00:00|1.7550000250339508|   0.0|   0.0|234.83333587646484|10.383333206176758|2022-11-01|2022|   11|  1|  11|              4|          44|0.9659999907016754|[0.0,0.0,234.8333...|  0.8058812087960933|\n|2022-11-01 10:00:00|0.9659999907016754|   0.0|   0.0| 197.6666717529297|12.583333015441895|2022-11-01|2022|   11|  1|  10|              4|          44|  0.80799999833107|[0.0,0.0,197.6666...|  0.7469588698694889|\n+-------------------+------------------+------+------+------------------+------------------+----------+----+-----+---+----+---------------+------------+------------------+--------------------+--------------------+\n\n|****||****||****||****||****||****||----|  Last hour&#39;s predicted production:  2.898733377837447\n|----|  Last hour&#39;s effective production:  1.7469999492168427\n|----|  Next hour&#39;s predicted production:  2.1760444587831573\n*********************************************************************************************************\n\nIteration no. 8\n\nSample data from streaming dataframe:\n\n+------------------------------------------+------------------+--------+--------+------------------+------------------+-------------------+-----------+\n|window                                    |production        |rr_SMA_w|ss_SMA_w|dd_SMA_w          |ff_SMA_w          |DateTime           |count_items|\n+------------------------------------------+------------------+--------+--------+------------------+------------------+-------------------+-----------+\n|{2022-11-01 15:00:00, 2022-11-01 16:00:00}|1.9500000029802322|0.0     |0.0     |223.3333282470703 |6.933333396911621 |2022-11-01 15:00:00|5          |\n|{2022-11-01 14:00:00, 2022-11-01 15:00:00}|3.402000069618225 |0.0     |22.0    |227.66666412353516|6.066666603088379 |2022-11-01 14:00:00|6          |\n|{2022-11-01 13:00:00, 2022-11-01 14:00:00}|1.7469999492168427|0.0     |21.0    |235.83333587646484|7.516666650772095 |2022-11-01 13:00:00|6          |\n|{2022-11-01 12:00:00, 2022-11-01 13:00:00}|1.609000027179718 |0.0     |0.0     |243.5             |11.599999904632568|2022-11-01 12:00:00|6          |\n|{2022-11-01 11:00:00, 2022-11-01 12:00:00}|1.7550000250339508|0.0     |0.0     |234.83333587646484|10.383333206176758|2022-11-01 11:00:00|6          |\n+------------------------------------------+------------------+--------+--------+------------------+------------------+-------------------+-----------+\nonly showing top 5 rows\n\nCurrent number of windows processed in stream: 16\n\n</div>",
       "datasetInfos": [],
       "metadata": {},
       "removedWidgets": [],
       "type": "html"
      }
     },
     "output_type": "display_data"
    },
    {
     "data": {
      "text/html": [
       "<style scoped>\n",
       "  .ansiout {\n",
       "    display: block;\n",
       "    unicode-bidi: embed;\n",
       "    white-space: pre-wrap;\n",
       "    word-wrap: break-word;\n",
       "    word-break: break-all;\n",
       "    font-family: \"Source Code Pro\", \"Menlo\", monospace;;\n",
       "    font-size: 13px;\n",
       "    color: #555;\n",
       "    margin-left: 4px;\n",
       "    line-height: 19px;\n",
       "  }\n",
       "</style>"
      ]
     },
     "metadata": {
      "application/vnd.databricks.v1+output": {
       "arguments": {},
       "data": "",
       "errorSummary": "Cancelled",
       "errorTraceType": "html",
       "metadata": {},
       "type": "ipynbError"
      }
     },
     "output_type": "display_data"
    }
   ],
   "source": [
    "df_PV = spark.sql(\"select * from aggDF_PV\")\n",
    "df_SMN = spark.sql(\"select * from aggDF_SMN\")\n",
    "print(\"Running SQL (initialization may take a while)...\")\n",
    "\n",
    "iter = 1\n",
    "old_count = 0\n",
    "\n",
    "while True:\n",
    "  # only start computing once some data has been collected (note that the dataframe is automatically updated by Spark)\n",
    "  if(df_SMN.count() != 0):\n",
    "    #while(old_count == df.count()):\n",
    "    #  # don't do anything while there is no new data\n",
    "    while(old_count == df_SMN.count()):\n",
    "        # don't do anything while there is no new data\n",
    "        continue\n",
    "    \n",
    "    # update the total count in order to be able to use the condition above in the next iteration\n",
    "    old_count = df_SMN.count()\n",
    "\n",
    "    df = df_PV.join(df_SMN, ['window'], 'left')\n",
    "    \n",
    "    print(\"*********************************************************************************************************\")\n",
    "    print(\"\\nIteration no. \"+ str(iter) + \"\\n\")\n",
    "    print(\"Sample data from streaming dataframe:\\n\")\n",
    "    \n",
    "    # set the time to be the end of the window (just to have a visual indication of time)\n",
    "    df = df.withColumn(\"DateTime\", df.window.start)\n",
    "       \n",
    "    # we sort by time first, because by default there is no ordering in the streaming dataframe and we want to only show the most recent results\n",
    "    # the following allows showing the most recent 5 windows (the False parameter instructs Spark not to truncate the output)\n",
    "    df = df.sort(desc(\"DateTime\"))\n",
    "    df = df.withColumn(\"count_items\", col(\"count_PV_items\")+col(\"count_SMN_items\"))\n",
    "    df = df.drop(\"count_PV_items\", \"count_SMN_items\")\n",
    "    df = df.filter(df.count_items >= 4)\n",
    "    df.show(5, False)\n",
    "    # set the time to be the end of the window (just to have a visual indication of time)\n",
    "    df = df.withColumn(\"time\", df.window.end)\n",
    "\n",
    "    print(\"Current number of windows processed in stream: \"+ str(old_count) + \"\\n\")\n",
    "\n",
    "    # prepare DF for prediction\n",
    "    input_df = df.select(\"DateTime\",\"production\", df.rr_SMA_w.alias(\"rr_SMA\"), df.ss_SMA_w.alias(\"ss_SMA\"), df.dd_SMA_w.alias(\"dd_SMA\"), df.ff_SMA_w.alias(\"ff_SMA\")).limit(5) # select and rename columns\n",
    "    input_df = input_df.fillna(0) # Replace missing values\n",
    "    input_df = input_df.withColumn('date', col('DateTime').cast('date'))\n",
    "    input_df = input_df.withColumn(\"year\",year(\"DateTime\")) # To Get Year from date or Time column\n",
    "    input_df = input_df.withColumn(\"month\",month(\"DateTime\"))\n",
    "    input_df = input_df.withColumn(\"day\",dayofmonth(\"DateTime\"))\n",
    "    input_df = input_df.withColumn(\"hour\",hour(\"DateTime\"))\n",
    "    input_df = input_df.withColumn(\"quarter-of-year\",quarter(\"DateTime\"))\n",
    "    input_df = input_df.withColumn(\"week-of-year\",weekofyear(\"DateTime\"))\n",
    "    input_df = input_df.withColumn(\"lag_1h\",lag(\"production\",1).over(lag_window))\n",
    "    input_df = input_df.sort(desc(\"DateTime\"))\n",
    "    input_df = input_df.limit(4)\n",
    "    input_df.show()\n",
    "\n",
    "    predictions_df = model.transform(input_df)\n",
    "    predictions_df = predictions_df.sort(desc(\"DateTime\"))\n",
    "    predictions_df.show()\n",
    "    \n",
    "    for indent in range(iter - 1):\n",
    "      sys.stdout.write(\"|****|\")\n",
    "    print (\"|----|  Last hour's predicted production: \", str(predictions_df.collect()[1][15]))\n",
    "    print (\"|----|  Last hour's effective production: \", str(predictions_df.collect()[1][1]))\n",
    "    print (\"|----|  Next hour's predicted production: \", str(predictions_df.collect()[0][15]))\n",
    "    #print (\"|----|  test 1: \" + str(df.select(\"production\").take(2))[0][0])\n",
    "    #print (\"|----|  test 2: \" + str(df.select(\"production\").take(2))[0][1])\n",
    "    #print (\"|----|  test 3: \" + str(df.select(\"production\").take(2))[1][0])\n",
    "    sys.stdout.flush()\n",
    "\n",
    "    # #TODO: take the most recent window average - use the field name you assigned for the average price per window\n",
    "    # # since we already ordered by time, you can simply take the first element of the result\n",
    "    # current_avg = df.select(\"window_price_average\").take(1)[0][0]\n",
    "    \n",
    "    # # the following lines just handle pretty-printing the output...\n",
    "    # for indent in range(iter - 1):\n",
    "    #   sys.stdout.write(\"      \") \n",
    "    # sys.stdout.write(\"|****| \" + \" Current window average price: \" + str(current_avg))\n",
    "    # print\n",
    "\n",
    "    # # compute the percentage change from the historic average up until this window (ignoring the first iteration, where the historic average is a random number)\n",
    "    # if((math.fabs(current_avg - prev_avg)/prev_avg) > 0.3 and iter > 1):\n",
    "    #     print(\"\\n\\t!!! ANOMALY DETECTED: price fluctuated by \"+ str(float(\"{0:.2f}\".format(math.fabs(current_avg - prev_avg)/prev_avg)) * 100) + \" % !!!\\n\\n\\n\")\n",
    "        \n",
    "    # prev_avg = historic_avg\n",
    "    \n",
    "    iter += 1"
   ]
  }
 ],
 "metadata": {
  "application/vnd.databricks.v1+notebook": {
   "dashboards": [],
   "language": "python",
   "notebookMetadata": {
    "pythonIndentUnit": 4
   },
   "notebookName": "Prediction based on streamed data",
   "notebookOrigID": 1560136390089550,
   "widgets": {}
  },
  "kernelspec": {
   "display_name": "Python 3 (ipykernel)",
   "language": "python",
   "name": "python3"
  },
  "language_info": {
   "codemirror_mode": {
    "name": "ipython",
    "version": 3
   },
   "file_extension": ".py",
   "mimetype": "text/x-python",
   "name": "python",
   "nbconvert_exporter": "python",
   "pygments_lexer": "ipython3",
   "version": "3.8.0"
  },
  "name": "StructTest sliding stream",
  "notebookId": 3417154191564475
 },
 "nbformat": 4,
 "nbformat_minor": 1
}
