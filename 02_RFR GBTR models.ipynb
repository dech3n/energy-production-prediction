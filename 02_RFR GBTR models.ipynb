{
 "cells": [
  {
   "cell_type": "markdown",
   "metadata": {
    "application/vnd.databricks.v1+cell": {
     "cellMetadata": {},
     "inputWidgets": {},
     "nuid": "76a19140-52f3-482e-b11a-3865550330c0",
     "showTitle": false,
     "title": ""
    }
   },
   "source": [
    "### <b style=\"color:blue;\"> Gather Input Data </b>"
   ]
  },
  {
   "cell_type": "code",
   "execution_count": 0,
   "metadata": {
    "application/vnd.databricks.v1+cell": {
     "cellMetadata": {},
     "inputWidgets": {},
     "nuid": "5610b68b-1135-48e0-8e02-a59a78b521e6",
     "showTitle": false,
     "title": ""
    }
   },
   "outputs": [
    {
     "data": {
      "text/html": [
       "<style scoped>\n",
       "  .table-result-container {\n",
       "    max-height: 300px;\n",
       "    overflow: auto;\n",
       "  }\n",
       "  table, th, td {\n",
       "    border: 1px solid black;\n",
       "    border-collapse: collapse;\n",
       "  }\n",
       "  th, td {\n",
       "    padding: 5px;\n",
       "  }\n",
       "  th {\n",
       "    text-align: left;\n",
       "  }\n",
       "</style><div class='table-result-container'><table class='table-result'><thead style='background-color: white'><tr><th>path</th><th>name</th><th>size</th><th>modificationTime</th></tr></thead><tbody><tr><td>dbfs:/FileStore/tables/ged/SolarEdge_data_for_modelling.csv</td><td>SolarEdge_data_for_modelling.csv</td><td>3607239</td><td>1673709696000</td></tr><tr><td>dbfs:/FileStore/tables/ged/SolarEdge_data_for_streaming.csv</td><td>SolarEdge_data_for_streaming.csv</td><td>89278</td><td>1673709690000</td></tr><tr><td>dbfs:/FileStore/tables/ged/lab4/</td><td>lab4/</td><td>0</td><td>1669732281000</td></tr><tr><td>dbfs:/FileStore/tables/ged/weather_data_for_modelling.csv</td><td>weather_data_for_modelling.csv</td><td>3526145</td><td>1673709918000</td></tr><tr><td>dbfs:/FileStore/tables/ged/weather_data_for_streaming.csv</td><td>weather_data_for_streaming.csv</td><td>84313</td><td>1673709908000</td></tr></tbody></table></div>"
      ]
     },
     "metadata": {
      "application/vnd.databricks.v1+output": {
       "addedWidgets": {},
       "aggData": [],
       "aggError": "",
       "aggOverflow": false,
       "aggSchema": [],
       "aggSeriesLimitReached": false,
       "aggType": "",
       "arguments": {},
       "columnCustomDisplayInfos": {},
       "data": [
        [
         "dbfs:/FileStore/tables/ged/SolarEdge_data_for_modelling.csv",
         "SolarEdge_data_for_modelling.csv",
         3607239,
         1673709696000
        ],
        [
         "dbfs:/FileStore/tables/ged/SolarEdge_data_for_streaming.csv",
         "SolarEdge_data_for_streaming.csv",
         89278,
         1673709690000
        ],
        [
         "dbfs:/FileStore/tables/ged/lab4/",
         "lab4/",
         0,
         1669732281000
        ],
        [
         "dbfs:/FileStore/tables/ged/weather_data_for_modelling.csv",
         "weather_data_for_modelling.csv",
         3526145,
         1673709918000
        ],
        [
         "dbfs:/FileStore/tables/ged/weather_data_for_streaming.csv",
         "weather_data_for_streaming.csv",
         84313,
         1673709908000
        ]
       ],
       "datasetInfos": [],
       "dbfsResultPath": null,
       "isJsonSchema": true,
       "metadata": {
        "isDbfsCommandResult": false
       },
       "overflow": false,
       "plotOptions": {
        "customPlotOptions": {},
        "displayType": "table",
        "pivotAggregation": null,
        "pivotColumns": null,
        "xColumns": null,
        "yColumns": null
       },
       "removedWidgets": [],
       "schema": [
        {
         "metadata": "{}",
         "name": "path",
         "type": "\"string\""
        },
        {
         "metadata": "{}",
         "name": "name",
         "type": "\"string\""
        },
        {
         "metadata": "{}",
         "name": "size",
         "type": "\"long\""
        },
        {
         "metadata": "{}",
         "name": "modificationTime",
         "type": "\"long\""
        }
       ],
       "type": "table"
      }
     },
     "output_type": "display_data"
    }
   ],
   "source": [
    "%fs ls /FileStore/tables/ged"
   ]
  },
  {
   "cell_type": "code",
   "execution_count": 0,
   "metadata": {
    "application/vnd.databricks.v1+cell": {
     "cellMetadata": {},
     "inputWidgets": {},
     "nuid": "c1ef9449-8ab9-4551-87d4-4080a10394c5",
     "showTitle": false,
     "title": ""
    }
   },
   "outputs": [
    {
     "data": {
      "text/html": [
       "<style scoped>\n",
       "  .ansiout {\n",
       "    display: block;\n",
       "    unicode-bidi: embed;\n",
       "    white-space: pre-wrap;\n",
       "    word-wrap: break-word;\n",
       "    word-break: break-all;\n",
       "    font-family: \"Source Code Pro\", \"Menlo\", monospace;;\n",
       "    font-size: 13px;\n",
       "    color: #555;\n",
       "    margin-left: 4px;\n",
       "    line-height: 19px;\n",
       "  }\n",
       "</style>\n",
       "<div class=\"ansiout\">Out[1]: True</div>"
      ]
     },
     "metadata": {
      "application/vnd.databricks.v1+output": {
       "addedWidgets": {},
       "arguments": {},
       "data": "<div class=\"ansiout\">Out[1]: True</div>",
       "datasetInfos": [],
       "metadata": {},
       "removedWidgets": [],
       "type": "html"
      }
     },
     "output_type": "display_data"
    }
   ],
   "source": [
    "# remove tables\n",
    "#dbutils.fs.rm('dbfs:/FileStore/tables/ged/SolarEdge_ProductionWSplit.csv', True)"
   ]
  },
  {
   "cell_type": "code",
   "execution_count": 0,
   "metadata": {
    "application/vnd.databricks.v1+cell": {
     "cellMetadata": {},
     "inputWidgets": {},
     "nuid": "3ca3500d-b77f-4376-a47c-3dd09b9f2fe0",
     "showTitle": false,
     "title": ""
    }
   },
   "outputs": [
    {
     "data": {
      "text/html": [
       "<style scoped>\n",
       "  .ansiout {\n",
       "    display: block;\n",
       "    unicode-bidi: embed;\n",
       "    white-space: pre-wrap;\n",
       "    word-wrap: break-word;\n",
       "    word-break: break-all;\n",
       "    font-family: \"Source Code Pro\", \"Menlo\", monospace;;\n",
       "    font-size: 13px;\n",
       "    color: #555;\n",
       "    margin-left: 4px;\n",
       "    line-height: 19px;\n",
       "  }\n",
       "</style>\n",
       "<div class=\"ansiout\"></div>"
      ]
     },
     "metadata": {
      "application/vnd.databricks.v1+output": {
       "addedWidgets": {},
       "arguments": {},
       "data": "<div class=\"ansiout\"></div>",
       "datasetInfos": [],
       "metadata": {},
       "removedWidgets": [],
       "type": "html"
      }
     },
     "output_type": "display_data"
    }
   ],
   "source": [
    "#import seaborn as sns\n",
    "import pandas as pd\n",
    "#import matplotlib as plt\n",
    "from pyspark.sql.functions import *\n",
    "from datetime import date, datetime, timedelta\n",
    "\n",
    "from pyspark.sql.window import Window\n",
    "from pyspark.sql.functions import row_number\n",
    "\n",
    "from pyspark.ml.regression import RandomForestRegressor\n",
    "from pyspark.ml.regression import GBTRegressor\n",
    "from pyspark.ml.evaluation import RegressionEvaluator \n",
    "from pyspark.ml.feature import VectorAssembler \n",
    "from pyspark.ml import Pipeline\n",
    "from pyspark.ml.tuning import CrossValidator, ParamGridBuilder"
   ]
  },
  {
   "cell_type": "code",
   "execution_count": 0,
   "metadata": {
    "application/vnd.databricks.v1+cell": {
     "cellMetadata": {},
     "inputWidgets": {},
     "nuid": "81eacbc8-e614-47ee-804b-d8bf29a7069d",
     "showTitle": false,
     "title": ""
    }
   },
   "outputs": [
    {
     "data": {
      "text/html": [
       "<style scoped>\n",
       "  .ansiout {\n",
       "    display: block;\n",
       "    unicode-bidi: embed;\n",
       "    white-space: pre-wrap;\n",
       "    word-wrap: break-word;\n",
       "    word-break: break-all;\n",
       "    font-family: \"Source Code Pro\", \"Menlo\", monospace;;\n",
       "    font-size: 13px;\n",
       "    color: #555;\n",
       "    margin-left: 4px;\n",
       "    line-height: 19px;\n",
       "  }\n",
       "</style>\n",
       "<div class=\"ansiout\">3.2.1\n",
       "3.8\n",
       "</div>"
      ]
     },
     "metadata": {
      "application/vnd.databricks.v1+output": {
       "addedWidgets": {},
       "arguments": {},
       "data": "<div class=\"ansiout\">3.2.1\n3.8\n</div>",
       "datasetInfos": [],
       "metadata": {},
       "removedWidgets": [],
       "type": "html"
      }
     },
     "output_type": "display_data"
    }
   ],
   "source": [
    "print(sc.version) # SparkContext version\n",
    "print(sc.pythonVer) # Python version of Spark Context"
   ]
  },
  {
   "cell_type": "markdown",
   "metadata": {
    "application/vnd.databricks.v1+cell": {
     "cellMetadata": {},
     "inputWidgets": {},
     "nuid": "ebf65221-2a30-491e-83bd-4dd6ea640183",
     "showTitle": false,
     "title": ""
    }
   },
   "source": [
    "#### <b style=\"color:blue;\"> SolarEdge PV data </b>\n",
    "\n",
    "Production, SelfConsumption, FeedIn"
   ]
  },
  {
   "cell_type": "code",
   "execution_count": 0,
   "metadata": {
    "application/vnd.databricks.v1+cell": {
     "cellMetadata": {},
     "inputWidgets": {},
     "nuid": "c89ace96-7bb8-4561-ab56-08f8f11f73ad",
     "showTitle": false,
     "title": ""
    }
   },
   "outputs": [
    {
     "data": {
      "text/html": [
       "<style scoped>\n",
       "  .ansiout {\n",
       "    display: block;\n",
       "    unicode-bidi: embed;\n",
       "    white-space: pre-wrap;\n",
       "    word-wrap: break-word;\n",
       "    word-break: break-all;\n",
       "    font-family: \"Source Code Pro\", \"Menlo\", monospace;;\n",
       "    font-size: 13px;\n",
       "    color: #555;\n",
       "    margin-left: 4px;\n",
       "    line-height: 19px;\n",
       "  }\n",
       "</style>\n",
       "<div class=\"ansiout\"></div>"
      ]
     },
     "metadata": {
      "application/vnd.databricks.v1+output": {
       "addedWidgets": {},
       "arguments": {},
       "data": "<div class=\"ansiout\"></div>",
       "datasetInfos": [],
       "metadata": {},
       "removedWidgets": [],
       "type": "html"
      }
     },
     "output_type": "display_data"
    }
   ],
   "source": [
    "pv_df = spark.read.csv(\"dbfs:/FileStore/tables/ged/SolarEdge_data_for_modelling.csv\", header=True, inferSchema=True)"
   ]
  },
  {
   "cell_type": "code",
   "execution_count": 0,
   "metadata": {
    "application/vnd.databricks.v1+cell": {
     "cellMetadata": {},
     "inputWidgets": {},
     "nuid": "62ecb45e-b4c4-40c4-a1a8-7a87257292ae",
     "showTitle": false,
     "title": ""
    }
   },
   "outputs": [
    {
     "data": {
      "text/html": [
       "<style scoped>\n",
       "  .ansiout {\n",
       "    display: block;\n",
       "    unicode-bidi: embed;\n",
       "    white-space: pre-wrap;\n",
       "    word-wrap: break-word;\n",
       "    word-break: break-all;\n",
       "    font-family: \"Source Code Pro\", \"Menlo\", monospace;;\n",
       "    font-size: 13px;\n",
       "    color: #555;\n",
       "    margin-left: 4px;\n",
       "    line-height: 19px;\n",
       "  }\n",
       "</style>\n",
       "<div class=\"ansiout\"></div>"
      ]
     },
     "metadata": {
      "application/vnd.databricks.v1+output": {
       "addedWidgets": {},
       "arguments": {},
       "data": "<div class=\"ansiout\"></div>",
       "datasetInfos": [],
       "metadata": {},
       "removedWidgets": [],
       "type": "html"
      }
     },
     "output_type": "display_data"
    }
   ],
   "source": [
    "#type(pv_df)"
   ]
  },
  {
   "cell_type": "code",
   "execution_count": 0,
   "metadata": {
    "application/vnd.databricks.v1+cell": {
     "cellMetadata": {},
     "inputWidgets": {},
     "nuid": "1af763a9-9440-4a38-9a11-867f7240a03e",
     "showTitle": false,
     "title": ""
    }
   },
   "outputs": [
    {
     "data": {
      "text/html": [
       "<style scoped>\n",
       "  .ansiout {\n",
       "    display: block;\n",
       "    unicode-bidi: embed;\n",
       "    white-space: pre-wrap;\n",
       "    word-wrap: break-word;\n",
       "    word-break: break-all;\n",
       "    font-family: \"Source Code Pro\", \"Menlo\", monospace;;\n",
       "    font-size: 13px;\n",
       "    color: #555;\n",
       "    margin-left: 4px;\n",
       "    line-height: 19px;\n",
       "  }\n",
       "</style>\n",
       "<div class=\"ansiout\">root\n",
       "-- _c0: integer (nullable = true)\n",
       "-- timestamp: timestamp (nullable = true)\n",
       "-- production: double (nullable = true)\n",
       "\n",
       "</div>"
      ]
     },
     "metadata": {
      "application/vnd.databricks.v1+output": {
       "addedWidgets": {},
       "arguments": {},
       "data": "<div class=\"ansiout\">root\n |-- _c0: integer (nullable = true)\n |-- timestamp: timestamp (nullable = true)\n |-- production: double (nullable = true)\n\n</div>",
       "datasetInfos": [],
       "metadata": {},
       "removedWidgets": [],
       "type": "html"
      }
     },
     "output_type": "display_data"
    }
   ],
   "source": [
    "pv_df.printSchema() # Check the schema of columns"
   ]
  },
  {
   "cell_type": "code",
   "execution_count": 0,
   "metadata": {
    "application/vnd.databricks.v1+cell": {
     "cellMetadata": {},
     "inputWidgets": {},
     "nuid": "d7bbe6d2-571a-4b8c-bd4a-abeba08f29cc",
     "showTitle": false,
     "title": ""
    }
   },
   "outputs": [
    {
     "data": {
      "text/html": [
       "<style scoped>\n",
       "  .ansiout {\n",
       "    display: block;\n",
       "    unicode-bidi: embed;\n",
       "    white-space: pre-wrap;\n",
       "    word-wrap: break-word;\n",
       "    word-break: break-all;\n",
       "    font-family: \"Source Code Pro\", \"Menlo\", monospace;;\n",
       "    font-size: 13px;\n",
       "    color: #555;\n",
       "    margin-left: 4px;\n",
       "    line-height: 19px;\n",
       "  }\n",
       "</style>\n",
       "<div class=\"ansiout\"></div>"
      ]
     },
     "metadata": {
      "application/vnd.databricks.v1+output": {
       "addedWidgets": {},
       "arguments": {},
       "data": "<div class=\"ansiout\"></div>",
       "datasetInfos": [],
       "metadata": {},
       "removedWidgets": [],
       "type": "html"
      }
     },
     "output_type": "display_data"
    }
   ],
   "source": [
    "pv_df = pv_df.withColumnRenamed(\"timestamp\",\"DateTime\")\n",
    "pv_df = pv_df.select(\"DateTime\", \"production\")\n",
    "pv_df = pv_df.withColumn(\"DateTime\", date_trunc(\"hour\", pv_df.DateTime))\n",
    "pv_df = pv_df.groupby('DateTime').agg(sum('production').alias('production'))\n",
    "pv_df = pv_df.sort(\"DateTime\")"
   ]
  },
  {
   "cell_type": "code",
   "execution_count": 0,
   "metadata": {
    "application/vnd.databricks.v1+cell": {
     "cellMetadata": {},
     "inputWidgets": {},
     "nuid": "9744584c-dffa-44fd-a37a-e66fcfeb5316",
     "showTitle": false,
     "title": ""
    }
   },
   "outputs": [
    {
     "data": {
      "text/html": [
       "<style scoped>\n",
       "  .ansiout {\n",
       "    display: block;\n",
       "    unicode-bidi: embed;\n",
       "    white-space: pre-wrap;\n",
       "    word-wrap: break-word;\n",
       "    word-break: break-all;\n",
       "    font-family: \"Source Code Pro\", \"Menlo\", monospace;;\n",
       "    font-size: 13px;\n",
       "    color: #555;\n",
       "    margin-left: 4px;\n",
       "    line-height: 19px;\n",
       "  }\n",
       "</style>\n",
       "<div class=\"ansiout\">root\n",
       "-- DateTime: timestamp (nullable = true)\n",
       "-- production: double (nullable = true)\n",
       "\n",
       "</div>"
      ]
     },
     "metadata": {
      "application/vnd.databricks.v1+output": {
       "addedWidgets": {},
       "arguments": {},
       "data": "<div class=\"ansiout\">root\n |-- DateTime: timestamp (nullable = true)\n |-- production: double (nullable = true)\n\n</div>",
       "datasetInfos": [],
       "metadata": {},
       "removedWidgets": [],
       "type": "html"
      }
     },
     "output_type": "display_data"
    }
   ],
   "source": [
    "pv_df.printSchema() # Check the schema of columns"
   ]
  },
  {
   "cell_type": "code",
   "execution_count": 0,
   "metadata": {
    "application/vnd.databricks.v1+cell": {
     "cellMetadata": {},
     "inputWidgets": {},
     "nuid": "4af1e664-c0c8-486b-8ff1-cb9b2a5ad320",
     "showTitle": false,
     "title": ""
    }
   },
   "outputs": [
    {
     "data": {
      "text/html": [
       "<style scoped>\n",
       "  .ansiout {\n",
       "    display: block;\n",
       "    unicode-bidi: embed;\n",
       "    white-space: pre-wrap;\n",
       "    word-wrap: break-word;\n",
       "    word-break: break-all;\n",
       "    font-family: \"Source Code Pro\", \"Menlo\", monospace;;\n",
       "    font-size: 13px;\n",
       "    color: #555;\n",
       "    margin-left: 4px;\n",
       "    line-height: 19px;\n",
       "  }\n",
       "</style>\n",
       "<div class=\"ansiout\"></div>"
      ]
     },
     "metadata": {
      "application/vnd.databricks.v1+output": {
       "addedWidgets": {},
       "arguments": {},
       "data": "<div class=\"ansiout\"></div>",
       "datasetInfos": [],
       "metadata": {},
       "removedWidgets": [],
       "type": "html"
      }
     },
     "output_type": "display_data"
    }
   ],
   "source": [
    "#display(pv_df.describe())"
   ]
  },
  {
   "cell_type": "markdown",
   "metadata": {
    "application/vnd.databricks.v1+cell": {
     "cellMetadata": {},
     "inputWidgets": {},
     "nuid": "b70b4be8-8030-4eca-9e06-435feaa6bc8c",
     "showTitle": false,
     "title": ""
    }
   },
   "source": [
    "#### <b style=\"color:blue;\"> Weather data </b>"
   ]
  },
  {
   "cell_type": "code",
   "execution_count": 0,
   "metadata": {
    "application/vnd.databricks.v1+cell": {
     "cellMetadata": {},
     "inputWidgets": {},
     "nuid": "94353798-01ca-48d8-9e8c-5efb31330999",
     "showTitle": false,
     "title": ""
    }
   },
   "outputs": [
    {
     "data": {
      "text/html": [
       "<style scoped>\n",
       "  .ansiout {\n",
       "    display: block;\n",
       "    unicode-bidi: embed;\n",
       "    white-space: pre-wrap;\n",
       "    word-wrap: break-word;\n",
       "    word-break: break-all;\n",
       "    font-family: \"Source Code Pro\", \"Menlo\", monospace;;\n",
       "    font-size: 13px;\n",
       "    color: #555;\n",
       "    margin-left: 4px;\n",
       "    line-height: 19px;\n",
       "  }\n",
       "</style>\n",
       "<div class=\"ansiout\"></div>"
      ]
     },
     "metadata": {
      "application/vnd.databricks.v1+output": {
       "addedWidgets": {},
       "arguments": {},
       "data": "<div class=\"ansiout\"></div>",
       "datasetInfos": [],
       "metadata": {},
       "removedWidgets": [],
       "type": "html"
      }
     },
     "output_type": "display_data"
    }
   ],
   "source": [
    "smn_df = spark.read.csv(\"dbfs:/FileStore/tables/ged/weather_data_for_modelling.csv\", header=True, inferSchema=True)"
   ]
  },
  {
   "cell_type": "code",
   "execution_count": 0,
   "metadata": {
    "application/vnd.databricks.v1+cell": {
     "cellMetadata": {},
     "inputWidgets": {},
     "nuid": "87aea433-b9b7-4ab7-ba43-99d03bd3e910",
     "showTitle": false,
     "title": ""
    }
   },
   "outputs": [
    {
     "data": {
      "text/html": [
       "<style scoped>\n",
       "  .ansiout {\n",
       "    display: block;\n",
       "    unicode-bidi: embed;\n",
       "    white-space: pre-wrap;\n",
       "    word-wrap: break-word;\n",
       "    word-break: break-all;\n",
       "    font-family: \"Source Code Pro\", \"Menlo\", monospace;;\n",
       "    font-size: 13px;\n",
       "    color: #555;\n",
       "    margin-left: 4px;\n",
       "    line-height: 19px;\n",
       "  }\n",
       "</style>\n",
       "<div class=\"ansiout\">+-------------------+------+------+-------------+------------+\n",
       "           DateTime|rr_SMA|ss_SMA|       dd_SMA|      ff_SMA|\n",
       "+-------------------+------+------+-------------+------------+\n",
       "2019-07-01 00:00:00|   0.0|   0.0|  249.6666667| 2.516666667|\n",
       "2019-07-01 01:00:00|   0.0|   0.0|  247.1666667|         9.2|\n",
       "2019-07-01 02:00:00|   0.0|   0.0| 248.83333335|12.466666665|\n",
       "2019-07-01 03:00:00|   0.0|   0.0|        227.5|6.9666666665|\n",
       "2019-07-01 04:00:00|   0.0|   0.0|131.999999985|         3.7|\n",
       "+-------------------+------+------+-------------+------------+\n",
       "only showing top 5 rows\n",
       "\n",
       "</div>"
      ]
     },
     "metadata": {
      "application/vnd.databricks.v1+output": {
       "addedWidgets": {},
       "arguments": {},
       "data": "<div class=\"ansiout\">+-------------------+------+------+-------------+------------+\n|           DateTime|rr_SMA|ss_SMA|       dd_SMA|      ff_SMA|\n+-------------------+------+------+-------------+------------+\n|2019-07-01 00:00:00|   0.0|   0.0|  249.6666667| 2.516666667|\n|2019-07-01 01:00:00|   0.0|   0.0|  247.1666667|         9.2|\n|2019-07-01 02:00:00|   0.0|   0.0| 248.83333335|12.466666665|\n|2019-07-01 03:00:00|   0.0|   0.0|        227.5|6.9666666665|\n|2019-07-01 04:00:00|   0.0|   0.0|131.999999985|         3.7|\n+-------------------+------+------+-------------+------------+\nonly showing top 5 rows\n\n</div>",
       "datasetInfos": [],
       "metadata": {},
       "removedWidgets": [],
       "type": "html"
      }
     },
     "output_type": "display_data"
    }
   ],
   "source": [
    "smn_df = smn_df.select(\"DateTime\", \"rr_SMA\", \"ss_SMA\", \"dd_SMA\", \"ff_SMA\")\n",
    "smn_df = smn_df.withColumn(\"DateTime\", date_trunc(\"hour\", smn_df.DateTime))\n",
    "smn_df = smn_df.groupby(['DateTime']).agg(\n",
    "    sum('rr_SMA').alias('rr_SMA'),\\\n",
    "    sum('ss_SMA').alias('ss_SMA'),\\\n",
    "    mean('dd_SMA').alias('dd_SMA'),\\\n",
    "    mean('ff_SMA').alias('ff_SMA'))\n",
    "smn_df= smn_df.sort(\"DateTime\")\n",
    "smn_df.show(5)"
   ]
  },
  {
   "cell_type": "markdown",
   "metadata": {
    "application/vnd.databricks.v1+cell": {
     "cellMetadata": {},
     "inputWidgets": {},
     "nuid": "0f9266e8-74dd-410f-9aea-ec9c2282f449",
     "showTitle": false,
     "title": ""
    }
   },
   "source": [
    "#### <b style=\"color:blue;\"> Combine and prepare data </b>"
   ]
  },
  {
   "cell_type": "code",
   "execution_count": 0,
   "metadata": {
    "application/vnd.databricks.v1+cell": {
     "cellMetadata": {},
     "inputWidgets": {},
     "nuid": "fe9539cf-4c99-403c-9879-d698c535a101",
     "showTitle": false,
     "title": ""
    }
   },
   "outputs": [
    {
     "data": {
      "text/html": [
       "<style scoped>\n",
       "  .ansiout {\n",
       "    display: block;\n",
       "    unicode-bidi: embed;\n",
       "    white-space: pre-wrap;\n",
       "    word-wrap: break-word;\n",
       "    word-break: break-all;\n",
       "    font-family: \"Source Code Pro\", \"Menlo\", monospace;;\n",
       "    font-size: 13px;\n",
       "    color: #555;\n",
       "    margin-left: 4px;\n",
       "    line-height: 19px;\n",
       "  }\n",
       "</style>\n",
       "<div class=\"ansiout\"></div>"
      ]
     },
     "metadata": {
      "application/vnd.databricks.v1+output": {
       "addedWidgets": {},
       "arguments": {},
       "data": "<div class=\"ansiout\"></div>",
       "datasetInfos": [],
       "metadata": {},
       "removedWidgets": [],
       "type": "html"
      }
     },
     "output_type": "display_data"
    }
   ],
   "source": [
    "data_df = pv_df.join(smn_df, ['DateTime'], 'left').sort(\"DateTime\")"
   ]
  },
  {
   "cell_type": "code",
   "execution_count": 0,
   "metadata": {
    "application/vnd.databricks.v1+cell": {
     "cellMetadata": {},
     "inputWidgets": {},
     "nuid": "c67bf30e-7043-4121-ba73-338021738b83",
     "showTitle": false,
     "title": ""
    }
   },
   "outputs": [
    {
     "data": {
      "text/html": [
       "<style scoped>\n",
       "  .ansiout {\n",
       "    display: block;\n",
       "    unicode-bidi: embed;\n",
       "    white-space: pre-wrap;\n",
       "    word-wrap: break-word;\n",
       "    word-break: break-all;\n",
       "    font-family: \"Source Code Pro\", \"Menlo\", monospace;;\n",
       "    font-size: 13px;\n",
       "    color: #555;\n",
       "    margin-left: 4px;\n",
       "    line-height: 19px;\n",
       "  }\n",
       "</style>\n",
       "<div class=\"ansiout\">+----------+------+------+------+------+\n",
       "production|rr_SMA|ss_SMA|dd_SMA|ff_SMA|\n",
       "+----------+------+------+------+------+\n",
       "         0|     0|     0|     0|     0|\n",
       "+----------+------+------+------+------+\n",
       "\n",
       "</div>"
      ]
     },
     "metadata": {
      "application/vnd.databricks.v1+output": {
       "addedWidgets": {},
       "arguments": {},
       "data": "<div class=\"ansiout\">+----------+------+------+------+------+\n|production|rr_SMA|ss_SMA|dd_SMA|ff_SMA|\n+----------+------+------+------+------+\n|         0|     0|     0|     0|     0|\n+----------+------+------+------+------+\n\n</div>",
       "datasetInfos": [],
       "metadata": {},
       "removedWidgets": [],
       "type": "html"
      }
     },
     "output_type": "display_data"
    }
   ],
   "source": [
    "data_df.select([count(when(isnan(c), c)).alias(c) for c in data_df.drop('DateTime').columns]).show() # count NaNs"
   ]
  },
  {
   "cell_type": "code",
   "execution_count": 0,
   "metadata": {
    "application/vnd.databricks.v1+cell": {
     "cellMetadata": {},
     "inputWidgets": {},
     "nuid": "9d532945-7866-4601-91de-5d977985bb61",
     "showTitle": false,
     "title": ""
    }
   },
   "outputs": [
    {
     "data": {
      "text/html": [
       "<style scoped>\n",
       "  .ansiout {\n",
       "    display: block;\n",
       "    unicode-bidi: embed;\n",
       "    white-space: pre-wrap;\n",
       "    word-wrap: break-word;\n",
       "    word-break: break-all;\n",
       "    font-family: \"Source Code Pro\", \"Menlo\", monospace;;\n",
       "    font-size: 13px;\n",
       "    color: #555;\n",
       "    margin-left: 4px;\n",
       "    line-height: 19px;\n",
       "  }\n",
       "</style>\n",
       "<div class=\"ansiout\">+----------+------+------+------+------+\n",
       "production|rr_SMA|ss_SMA|dd_SMA|ff_SMA|\n",
       "+----------+------+------+------+------+\n",
       "     10858|     0|     0|     0|     0|\n",
       "+----------+------+------+------+------+\n",
       "\n",
       "</div>"
      ]
     },
     "metadata": {
      "application/vnd.databricks.v1+output": {
       "addedWidgets": {},
       "arguments": {},
       "data": "<div class=\"ansiout\">+----------+------+------+------+------+\n|production|rr_SMA|ss_SMA|dd_SMA|ff_SMA|\n+----------+------+------+------+------+\n|     10858|     0|     0|     0|     0|\n+----------+------+------+------+------+\n\n</div>",
       "datasetInfos": [],
       "metadata": {},
       "removedWidgets": [],
       "type": "html"
      }
     },
     "output_type": "display_data"
    }
   ],
   "source": [
    "data_df.select([count(when(isnull(c), c)).alias(c) for c in data_df.drop('DateTime').columns]).show() # count Nulls"
   ]
  },
  {
   "cell_type": "code",
   "execution_count": 0,
   "metadata": {
    "application/vnd.databricks.v1+cell": {
     "cellMetadata": {},
     "inputWidgets": {},
     "nuid": "0031582d-f94b-4e2b-a143-5565cd4c509f",
     "showTitle": false,
     "title": ""
    }
   },
   "outputs": [
    {
     "data": {
      "text/html": [
       "<style scoped>\n",
       "  .ansiout {\n",
       "    display: block;\n",
       "    unicode-bidi: embed;\n",
       "    white-space: pre-wrap;\n",
       "    word-wrap: break-word;\n",
       "    word-break: break-all;\n",
       "    font-family: \"Source Code Pro\", \"Menlo\", monospace;;\n",
       "    font-size: 13px;\n",
       "    color: #555;\n",
       "    margin-left: 4px;\n",
       "    line-height: 19px;\n",
       "  }\n",
       "</style>\n",
       "<div class=\"ansiout\"></div>"
      ]
     },
     "metadata": {
      "application/vnd.databricks.v1+output": {
       "addedWidgets": {},
       "arguments": {},
       "data": "<div class=\"ansiout\"></div>",
       "datasetInfos": [],
       "metadata": {},
       "removedWidgets": [],
       "type": "html"
      }
     },
     "output_type": "display_data"
    }
   ],
   "source": [
    "data_df = data_df.fillna(0) # Replace missing values"
   ]
  },
  {
   "cell_type": "code",
   "execution_count": 0,
   "metadata": {
    "application/vnd.databricks.v1+cell": {
     "cellMetadata": {},
     "inputWidgets": {},
     "nuid": "1d5dbde6-e4b9-4c80-9f43-90564da9861a",
     "showTitle": false,
     "title": ""
    }
   },
   "outputs": [
    {
     "data": {
      "text/html": [
       "<style scoped>\n",
       "  .ansiout {\n",
       "    display: block;\n",
       "    unicode-bidi: embed;\n",
       "    white-space: pre-wrap;\n",
       "    word-wrap: break-word;\n",
       "    word-break: break-all;\n",
       "    font-family: \"Source Code Pro\", \"Menlo\", monospace;;\n",
       "    font-size: 13px;\n",
       "    color: #555;\n",
       "    margin-left: 4px;\n",
       "    line-height: 19px;\n",
       "  }\n",
       "</style>\n",
       "<div class=\"ansiout\">+-------------------+----------+------+------+------------+------------+----------+----+-----+---+----+---------------+------------+\n",
       "           DateTime|production|rr_SMA|ss_SMA|      dd_SMA|      ff_SMA|      date|year|month|day|hour|quarter-of-year|week-of-year|\n",
       "+-------------------+----------+------+------+------------+------------+----------+----+-----+---+----+---------------+------------+\n",
       "2019-07-01 00:00:00|       0.0|   0.0|   0.0| 249.6666667| 2.516666667|2019-07-01|2019|    7|  1|   0|              3|          27|\n",
       "2019-07-01 01:00:00|       0.0|   0.0|   0.0| 247.1666667|         9.2|2019-07-01|2019|    7|  1|   1|              3|          27|\n",
       "2019-07-01 02:00:00|       0.0|   0.0|   0.0|248.83333335|12.466666665|2019-07-01|2019|    7|  1|   2|              3|          27|\n",
       "+-------------------+----------+------+------+------------+------------+----------+----+-----+---+----+---------------+------------+\n",
       "only showing top 3 rows\n",
       "\n",
       "</div>"
      ]
     },
     "metadata": {
      "application/vnd.databricks.v1+output": {
       "addedWidgets": {},
       "arguments": {},
       "data": "<div class=\"ansiout\">+-------------------+----------+------+------+------------+------------+----------+----+-----+---+----+---------------+------------+\n|           DateTime|production|rr_SMA|ss_SMA|      dd_SMA|      ff_SMA|      date|year|month|day|hour|quarter-of-year|week-of-year|\n+-------------------+----------+------+------+------------+------------+----------+----+-----+---+----+---------------+------------+\n|2019-07-01 00:00:00|       0.0|   0.0|   0.0| 249.6666667| 2.516666667|2019-07-01|2019|    7|  1|   0|              3|          27|\n|2019-07-01 01:00:00|       0.0|   0.0|   0.0| 247.1666667|         9.2|2019-07-01|2019|    7|  1|   1|              3|          27|\n|2019-07-01 02:00:00|       0.0|   0.0|   0.0|248.83333335|12.466666665|2019-07-01|2019|    7|  1|   2|              3|          27|\n+-------------------+----------+------+------+------------+------------+----------+----+-----+---+----+---------------+------------+\nonly showing top 3 rows\n\n</div>",
       "datasetInfos": [],
       "metadata": {},
       "removedWidgets": [],
       "type": "html"
      }
     },
     "output_type": "display_data"
    }
   ],
   "source": [
    "#https://www.learntospark.com/2022/07/apache-spark-date-format-and-timestamp.html\n",
    "data_df = data_df.withColumn('date', col('DateTime').cast('date'))\n",
    "data_df = data_df.withColumn(\"year\",year(\"DateTime\")) # To Get Year from date or Time column\n",
    "data_df = data_df.withColumn(\"month\",month(\"DateTime\"))\n",
    "data_df = data_df.withColumn(\"day\",dayofmonth(\"DateTime\"))\n",
    "data_df = data_df.withColumn(\"hour\",hour(\"DateTime\"))\n",
    "data_df = data_df.withColumn(\"quarter-of-year\",quarter(\"DateTime\"))\n",
    "data_df = data_df.withColumn(\"week-of-year\",weekofyear(\"DateTime\")) \n",
    "\n",
    "data_df.show(3)"
   ]
  },
  {
   "cell_type": "markdown",
   "metadata": {
    "application/vnd.databricks.v1+cell": {
     "cellMetadata": {},
     "inputWidgets": {},
     "nuid": "7e23359f-f7c0-431c-9abf-38fbaba00bab",
     "showTitle": false,
     "title": ""
    }
   },
   "source": [
    "#### <b style=\"color:blue;\"> Visualise data </b>"
   ]
  },
  {
   "cell_type": "code",
   "execution_count": 0,
   "metadata": {
    "application/vnd.databricks.v1+cell": {
     "cellMetadata": {},
     "inputWidgets": {},
     "nuid": "854defcf-ae96-48f2-92a9-ad4e5872cbfb",
     "showTitle": false,
     "title": ""
    }
   },
   "outputs": [
    {
     "data": {
      "text/html": [
       "<style scoped>\n",
       "  .ansiout {\n",
       "    display: block;\n",
       "    unicode-bidi: embed;\n",
       "    white-space: pre-wrap;\n",
       "    word-wrap: break-word;\n",
       "    word-break: break-all;\n",
       "    font-family: \"Source Code Pro\", \"Menlo\", monospace;;\n",
       "    font-size: 13px;\n",
       "    color: #555;\n",
       "    margin-left: 4px;\n",
       "    line-height: 19px;\n",
       "  }\n",
       "</style>\n",
       "<div class=\"ansiout\">+-------------------+----------+------+------+------------+------------+----------+----+-----+---+----+---------------+------------+\n",
       "           DateTime|production|rr_SMA|ss_SMA|      dd_SMA|      ff_SMA|      date|year|month|day|hour|quarter-of-year|week-of-year|\n",
       "+-------------------+----------+------+------+------------+------------+----------+----+-----+---+----+---------------+------------+\n",
       "2019-07-01 00:00:00|       0.0|   0.0|   0.0| 249.6666667| 2.516666667|2019-07-01|2019|    7|  1|   0|              3|          27|\n",
       "2019-07-01 01:00:00|       0.0|   0.0|   0.0| 247.1666667|         9.2|2019-07-01|2019|    7|  1|   1|              3|          27|\n",
       "2019-07-01 02:00:00|       0.0|   0.0|   0.0|248.83333335|12.466666665|2019-07-01|2019|    7|  1|   2|              3|          27|\n",
       "+-------------------+----------+------+------+------------+------------+----------+----+-----+---+----+---------------+------------+\n",
       "only showing top 3 rows\n",
       "\n",
       "</div>"
      ]
     },
     "metadata": {
      "application/vnd.databricks.v1+output": {
       "addedWidgets": {},
       "arguments": {},
       "data": "<div class=\"ansiout\">+-------------------+----------+------+------+------------+------------+----------+----+-----+---+----+---------------+------------+\n|           DateTime|production|rr_SMA|ss_SMA|      dd_SMA|      ff_SMA|      date|year|month|day|hour|quarter-of-year|week-of-year|\n+-------------------+----------+------+------+------------+------------+----------+----+-----+---+----+---------------+------------+\n|2019-07-01 00:00:00|       0.0|   0.0|   0.0| 249.6666667| 2.516666667|2019-07-01|2019|    7|  1|   0|              3|          27|\n|2019-07-01 01:00:00|       0.0|   0.0|   0.0| 247.1666667|         9.2|2019-07-01|2019|    7|  1|   1|              3|          27|\n|2019-07-01 02:00:00|       0.0|   0.0|   0.0|248.83333335|12.466666665|2019-07-01|2019|    7|  1|   2|              3|          27|\n+-------------------+----------+------+------+------------+------------+----------+----+-----+---+----+---------------+------------+\nonly showing top 3 rows\n\n</div>",
       "datasetInfos": [],
       "metadata": {},
       "removedWidgets": [],
       "type": "html"
      }
     },
     "output_type": "display_data"
    }
   ],
   "source": [
    "data_df.show(3)"
   ]
  },
  {
   "cell_type": "code",
   "execution_count": 0,
   "metadata": {
    "application/vnd.databricks.v1+cell": {
     "cellMetadata": {},
     "inputWidgets": {},
     "nuid": "af6c3067-5a3c-4107-8615-5469374bed97",
     "showTitle": false,
     "title": ""
    }
   },
   "outputs": [
    {
     "data": {
      "text/html": [
       "<style scoped>\n",
       "  .ansiout {\n",
       "    display: block;\n",
       "    unicode-bidi: embed;\n",
       "    white-space: pre-wrap;\n",
       "    word-wrap: break-word;\n",
       "    word-break: break-all;\n",
       "    font-family: \"Source Code Pro\", \"Menlo\", monospace;;\n",
       "    font-size: 13px;\n",
       "    color: #555;\n",
       "    margin-left: 4px;\n",
       "    line-height: 19px;\n",
       "  }\n",
       "</style>\n",
       "<div class=\"ansiout\">+-------------------+-------------------+------+------+------------------+------------------+----------+----+-----+---+----+---------------+------------+\n",
       "           DateTime|         production|rr_SMA|ss_SMA|            dd_SMA|            ff_SMA|      date|year|month|day|hour|quarter-of-year|week-of-year|\n",
       "+-------------------+-------------------+------+------+------------------+------------------+----------+----+-----+---+----+---------------+------------+\n",
       "2019-07-01 00:00:00|                0.0|   0.0|   0.0|       249.6666667|       2.516666667|2019-07-01|2019|    7|  1|   0|              3|          27|\n",
       "2019-07-01 01:00:00|                0.0|   0.0|   0.0|       247.1666667|               9.2|2019-07-01|2019|    7|  1|   1|              3|          27|\n",
       "2019-07-01 02:00:00|                0.0|   0.0|   0.0|      248.83333335|      12.466666665|2019-07-01|2019|    7|  1|   2|              3|          27|\n",
       "2019-07-01 03:00:00|                0.0|   0.0|   0.0|             227.5|      6.9666666665|2019-07-01|2019|    7|  1|   3|              3|          27|\n",
       "2019-07-01 04:00:00|                0.0|   0.0|   0.0|     131.999999985|               3.7|2019-07-01|2019|    7|  1|   4|              3|          27|\n",
       "2019-07-01 05:00:00|              0.005|   0.0|   8.0|      153.66666665|               2.5|2019-07-01|2019|    7|  1|   5|              3|          27|\n",
       "2019-07-01 06:00:00|0.33399999999999996|   0.0|  58.0|             178.5|       3.183333333|2019-07-01|2019|    7|  1|   6|              3|          27|\n",
       "2019-07-01 07:00:00| 0.7320000000000001|   0.0|  60.0|             236.0|      7.0166666665|2019-07-01|2019|    7|  1|   7|              3|          27|\n",
       "2019-07-01 08:00:00|              1.676|   0.0|  19.0|      248.83333335|              12.0|2019-07-01|2019|    7|  1|   8|              3|          27|\n",
       "2019-07-01 09:00:00|              4.254|   0.0|  53.0|       207.3333333|13.149999999999999|2019-07-01|2019|    7|  1|   9|              3|          27|\n",
       "2019-07-01 10:00:00|              6.106|   0.0|  60.0|       180.1666667|13.916666665000001|2019-07-01|2019|    7|  1|  10|              3|          27|\n",
       "2019-07-01 11:00:00|              5.602|   0.0|  60.0|             187.0|      13.066666665|2019-07-01|2019|    7|  1|  11|              3|          27|\n",
       "2019-07-01 12:00:00|              7.513|   0.0|  60.0|       184.6666667|             12.95|2019-07-01|2019|    7|  1|  12|              3|          27|\n",
       "2019-07-01 13:00:00|              9.683|   0.0|  60.0|      199.33333335| 9.116666666499999|2019-07-01|2019|    7|  1|  13|              3|          27|\n",
       "2019-07-01 14:00:00|              9.607|   0.0|  60.0|      195.83333335| 8.649999999999999|2019-07-01|2019|    7|  1|  14|              3|          27|\n",
       "2019-07-01 15:00:00|  9.068999999999999|   0.0|  50.0|       223.1666667|      8.9333333315|2019-07-01|2019|    7|  1|  15|              3|          27|\n",
       "2019-07-01 16:00:00|              7.336|   0.0|  60.0|       204.1666667|      11.566666665|2019-07-01|2019|    7|  1|  16|              3|          27|\n",
       "2019-07-01 17:00:00|              5.513|   0.0|  45.0|             274.0|     11.3999999985|2019-07-01|2019|    7|  1|  17|              3|          27|\n",
       "2019-07-01 18:00:00|              3.689|   0.0|   0.0|       257.6666667|      6.5333333335|2019-07-01|2019|    7|  1|  18|              3|          27|\n",
       "2019-07-01 19:00:00| 0.8950000000000001|   0.0|   0.0|      177.66666665|       4.983333333|2019-07-01|2019|    7|  1|  19|              3|          27|\n",
       "2019-07-01 20:00:00|              0.038|   0.0|   0.0|             237.0|      3.9666666665|2019-07-01|2019|    7|  1|  20|              3|          27|\n",
       "2019-07-01 21:00:00|              0.008|   0.0|   0.0|      346.58333335| 7.074999999999999|2019-07-01|2019|    7|  1|  21|              3|          27|\n",
       "2019-07-01 22:00:00|                0.0|   0.0|   0.0|124.33333331499999|6.6000000000000005|2019-07-01|2019|    7|  1|  22|              3|          27|\n",
       "2019-07-01 23:00:00|                0.0|   1.6|   0.0|100.00000001500001|      10.083333335|2019-07-01|2019|    7|  1|  23|              3|          27|\n",
       "+-------------------+-------------------+------+------+------------------+------------------+----------+----+-----+---+----+---------------+------------+\n",
       "only showing top 24 rows\n",
       "\n",
       "</div>"
      ]
     },
     "metadata": {
      "application/vnd.databricks.v1+output": {
       "addedWidgets": {},
       "arguments": {},
       "data": "<div class=\"ansiout\">+-------------------+-------------------+------+------+------------------+------------------+----------+----+-----+---+----+---------------+------------+\n|           DateTime|         production|rr_SMA|ss_SMA|            dd_SMA|            ff_SMA|      date|year|month|day|hour|quarter-of-year|week-of-year|\n+-------------------+-------------------+------+------+------------------+------------------+----------+----+-----+---+----+---------------+------------+\n|2019-07-01 00:00:00|                0.0|   0.0|   0.0|       249.6666667|       2.516666667|2019-07-01|2019|    7|  1|   0|              3|          27|\n|2019-07-01 01:00:00|                0.0|   0.0|   0.0|       247.1666667|               9.2|2019-07-01|2019|    7|  1|   1|              3|          27|\n|2019-07-01 02:00:00|                0.0|   0.0|   0.0|      248.83333335|      12.466666665|2019-07-01|2019|    7|  1|   2|              3|          27|\n|2019-07-01 03:00:00|                0.0|   0.0|   0.0|             227.5|      6.9666666665|2019-07-01|2019|    7|  1|   3|              3|          27|\n|2019-07-01 04:00:00|                0.0|   0.0|   0.0|     131.999999985|               3.7|2019-07-01|2019|    7|  1|   4|              3|          27|\n|2019-07-01 05:00:00|              0.005|   0.0|   8.0|      153.66666665|               2.5|2019-07-01|2019|    7|  1|   5|              3|          27|\n|2019-07-01 06:00:00|0.33399999999999996|   0.0|  58.0|             178.5|       3.183333333|2019-07-01|2019|    7|  1|   6|              3|          27|\n|2019-07-01 07:00:00| 0.7320000000000001|   0.0|  60.0|             236.0|      7.0166666665|2019-07-01|2019|    7|  1|   7|              3|          27|\n|2019-07-01 08:00:00|              1.676|   0.0|  19.0|      248.83333335|              12.0|2019-07-01|2019|    7|  1|   8|              3|          27|\n|2019-07-01 09:00:00|              4.254|   0.0|  53.0|       207.3333333|13.149999999999999|2019-07-01|2019|    7|  1|   9|              3|          27|\n|2019-07-01 10:00:00|              6.106|   0.0|  60.0|       180.1666667|13.916666665000001|2019-07-01|2019|    7|  1|  10|              3|          27|\n|2019-07-01 11:00:00|              5.602|   0.0|  60.0|             187.0|      13.066666665|2019-07-01|2019|    7|  1|  11|              3|          27|\n|2019-07-01 12:00:00|              7.513|   0.0|  60.0|       184.6666667|             12.95|2019-07-01|2019|    7|  1|  12|              3|          27|\n|2019-07-01 13:00:00|              9.683|   0.0|  60.0|      199.33333335| 9.116666666499999|2019-07-01|2019|    7|  1|  13|              3|          27|\n|2019-07-01 14:00:00|              9.607|   0.0|  60.0|      195.83333335| 8.649999999999999|2019-07-01|2019|    7|  1|  14|              3|          27|\n|2019-07-01 15:00:00|  9.068999999999999|   0.0|  50.0|       223.1666667|      8.9333333315|2019-07-01|2019|    7|  1|  15|              3|          27|\n|2019-07-01 16:00:00|              7.336|   0.0|  60.0|       204.1666667|      11.566666665|2019-07-01|2019|    7|  1|  16|              3|          27|\n|2019-07-01 17:00:00|              5.513|   0.0|  45.0|             274.0|     11.3999999985|2019-07-01|2019|    7|  1|  17|              3|          27|\n|2019-07-01 18:00:00|              3.689|   0.0|   0.0|       257.6666667|      6.5333333335|2019-07-01|2019|    7|  1|  18|              3|          27|\n|2019-07-01 19:00:00| 0.8950000000000001|   0.0|   0.0|      177.66666665|       4.983333333|2019-07-01|2019|    7|  1|  19|              3|          27|\n|2019-07-01 20:00:00|              0.038|   0.0|   0.0|             237.0|      3.9666666665|2019-07-01|2019|    7|  1|  20|              3|          27|\n|2019-07-01 21:00:00|              0.008|   0.0|   0.0|      346.58333335| 7.074999999999999|2019-07-01|2019|    7|  1|  21|              3|          27|\n|2019-07-01 22:00:00|                0.0|   0.0|   0.0|124.33333331499999|6.6000000000000005|2019-07-01|2019|    7|  1|  22|              3|          27|\n|2019-07-01 23:00:00|                0.0|   1.6|   0.0|100.00000001500001|      10.083333335|2019-07-01|2019|    7|  1|  23|              3|          27|\n+-------------------+-------------------+------+------+------------------+------------------+----------+----+-----+---+----+---------------+------------+\nonly showing top 24 rows\n\n</div>",
       "datasetInfos": [],
       "metadata": {},
       "removedWidgets": [],
       "type": "html"
      }
     },
     "output_type": "display_data"
    }
   ],
   "source": [
    "data_df.filter((data_df.month == 7) & (data_df.day ==1)).show(24)"
   ]
  },
  {
   "cell_type": "code",
   "execution_count": 0,
   "metadata": {
    "application/vnd.databricks.v1+cell": {
     "cellMetadata": {},
     "inputWidgets": {},
     "nuid": "2a5f5dea-5c50-416e-88b9-524f7c7ed617",
     "showTitle": false,
     "title": ""
    }
   },
   "outputs": [
    {
     "data": {
      "text/html": [
       "<style scoped>\n",
       "  .ansiout {\n",
       "    display: block;\n",
       "    unicode-bidi: embed;\n",
       "    white-space: pre-wrap;\n",
       "    word-wrap: break-word;\n",
       "    word-break: break-all;\n",
       "    font-family: \"Source Code Pro\", \"Menlo\", monospace;;\n",
       "    font-size: 13px;\n",
       "    color: #555;\n",
       "    margin-left: 4px;\n",
       "    line-height: 19px;\n",
       "  }\n",
       "</style>\n",
       "<div class=\"ansiout\"></div>"
      ]
     },
     "metadata": {
      "application/vnd.databricks.v1+output": {
       "addedWidgets": {},
       "arguments": {},
       "data": "<div class=\"ansiout\"></div>",
       "datasetInfos": [],
       "metadata": {},
       "removedWidgets": [],
       "type": "html"
      }
     },
     "output_type": "display_data"
    }
   ],
   "source": [
    "data_pddf_0701 = data_df.filter((data_df.month == 7) & (data_df.day ==1))"
   ]
  },
  {
   "cell_type": "code",
   "execution_count": 0,
   "metadata": {
    "application/vnd.databricks.v1+cell": {
     "cellMetadata": {},
     "inputWidgets": {},
     "nuid": "f13b55f0-a5a8-4dd0-8498-d0e3879e6e5c",
     "showTitle": false,
     "title": ""
    }
   },
   "outputs": [
    {
     "data": {
      "text/html": [
       "<style scoped>\n",
       "  .table-result-container {\n",
       "    max-height: 300px;\n",
       "    overflow: auto;\n",
       "  }\n",
       "  table, th, td {\n",
       "    border: 1px solid black;\n",
       "    border-collapse: collapse;\n",
       "  }\n",
       "  th, td {\n",
       "    padding: 5px;\n",
       "  }\n",
       "  th {\n",
       "    text-align: left;\n",
       "  }\n",
       "</style><div class='table-result-container'><table class='table-result'><thead style='background-color: white'><tr><th>DateTime</th><th>production</th><th>rr_SMA</th><th>ss_SMA</th><th>dd_SMA</th><th>ff_SMA</th><th>date</th><th>year</th><th>month</th><th>day</th><th>hour</th><th>quarter-of-year</th><th>week-of-year</th></tr></thead><tbody><tr><td>2019-07-01T00:00:00.000+0000</td><td>0.0</td><td>0.0</td><td>0.0</td><td>249.6666667</td><td>2.516666667</td><td>2019-07-01</td><td>2019</td><td>7</td><td>1</td><td>0</td><td>3</td><td>27</td></tr><tr><td>2019-07-01T01:00:00.000+0000</td><td>0.0</td><td>0.0</td><td>0.0</td><td>247.1666667</td><td>9.2</td><td>2019-07-01</td><td>2019</td><td>7</td><td>1</td><td>1</td><td>3</td><td>27</td></tr><tr><td>2019-07-01T02:00:00.000+0000</td><td>0.0</td><td>0.0</td><td>0.0</td><td>248.83333335</td><td>12.466666665</td><td>2019-07-01</td><td>2019</td><td>7</td><td>1</td><td>2</td><td>3</td><td>27</td></tr><tr><td>2019-07-01T03:00:00.000+0000</td><td>0.0</td><td>0.0</td><td>0.0</td><td>227.5</td><td>6.9666666665</td><td>2019-07-01</td><td>2019</td><td>7</td><td>1</td><td>3</td><td>3</td><td>27</td></tr><tr><td>2019-07-01T04:00:00.000+0000</td><td>0.0</td><td>0.0</td><td>0.0</td><td>131.999999985</td><td>3.7</td><td>2019-07-01</td><td>2019</td><td>7</td><td>1</td><td>4</td><td>3</td><td>27</td></tr><tr><td>2019-07-01T05:00:00.000+0000</td><td>0.005</td><td>0.0</td><td>8.0</td><td>153.66666665</td><td>2.5</td><td>2019-07-01</td><td>2019</td><td>7</td><td>1</td><td>5</td><td>3</td><td>27</td></tr><tr><td>2019-07-01T06:00:00.000+0000</td><td>0.33399999999999996</td><td>0.0</td><td>58.0</td><td>178.5</td><td>3.183333333</td><td>2019-07-01</td><td>2019</td><td>7</td><td>1</td><td>6</td><td>3</td><td>27</td></tr><tr><td>2019-07-01T07:00:00.000+0000</td><td>0.7320000000000001</td><td>0.0</td><td>60.0</td><td>236.0</td><td>7.0166666665</td><td>2019-07-01</td><td>2019</td><td>7</td><td>1</td><td>7</td><td>3</td><td>27</td></tr><tr><td>2019-07-01T08:00:00.000+0000</td><td>1.676</td><td>0.0</td><td>19.0</td><td>248.83333335</td><td>12.0</td><td>2019-07-01</td><td>2019</td><td>7</td><td>1</td><td>8</td><td>3</td><td>27</td></tr><tr><td>2019-07-01T09:00:00.000+0000</td><td>4.254</td><td>0.0</td><td>53.0</td><td>207.3333333</td><td>13.149999999999999</td><td>2019-07-01</td><td>2019</td><td>7</td><td>1</td><td>9</td><td>3</td><td>27</td></tr><tr><td>2019-07-01T10:00:00.000+0000</td><td>6.106</td><td>0.0</td><td>60.0</td><td>180.1666667</td><td>13.916666665000001</td><td>2019-07-01</td><td>2019</td><td>7</td><td>1</td><td>10</td><td>3</td><td>27</td></tr><tr><td>2019-07-01T11:00:00.000+0000</td><td>5.602</td><td>0.0</td><td>60.0</td><td>187.0</td><td>13.066666665</td><td>2019-07-01</td><td>2019</td><td>7</td><td>1</td><td>11</td><td>3</td><td>27</td></tr><tr><td>2019-07-01T12:00:00.000+0000</td><td>7.513</td><td>0.0</td><td>60.0</td><td>184.6666667</td><td>12.95</td><td>2019-07-01</td><td>2019</td><td>7</td><td>1</td><td>12</td><td>3</td><td>27</td></tr><tr><td>2019-07-01T13:00:00.000+0000</td><td>9.683</td><td>0.0</td><td>60.0</td><td>199.33333335</td><td>9.116666666499999</td><td>2019-07-01</td><td>2019</td><td>7</td><td>1</td><td>13</td><td>3</td><td>27</td></tr><tr><td>2019-07-01T14:00:00.000+0000</td><td>9.607</td><td>0.0</td><td>60.0</td><td>195.83333335</td><td>8.649999999999999</td><td>2019-07-01</td><td>2019</td><td>7</td><td>1</td><td>14</td><td>3</td><td>27</td></tr><tr><td>2019-07-01T15:00:00.000+0000</td><td>9.068999999999999</td><td>0.0</td><td>50.0</td><td>223.1666667</td><td>8.9333333315</td><td>2019-07-01</td><td>2019</td><td>7</td><td>1</td><td>15</td><td>3</td><td>27</td></tr><tr><td>2019-07-01T16:00:00.000+0000</td><td>7.336</td><td>0.0</td><td>60.0</td><td>204.1666667</td><td>11.566666665</td><td>2019-07-01</td><td>2019</td><td>7</td><td>1</td><td>16</td><td>3</td><td>27</td></tr><tr><td>2019-07-01T17:00:00.000+0000</td><td>5.513</td><td>0.0</td><td>45.0</td><td>274.0</td><td>11.3999999985</td><td>2019-07-01</td><td>2019</td><td>7</td><td>1</td><td>17</td><td>3</td><td>27</td></tr><tr><td>2019-07-01T18:00:00.000+0000</td><td>3.689</td><td>0.0</td><td>0.0</td><td>257.6666667</td><td>6.5333333335</td><td>2019-07-01</td><td>2019</td><td>7</td><td>1</td><td>18</td><td>3</td><td>27</td></tr><tr><td>2019-07-01T19:00:00.000+0000</td><td>0.8950000000000001</td><td>0.0</td><td>0.0</td><td>177.66666665</td><td>4.983333333</td><td>2019-07-01</td><td>2019</td><td>7</td><td>1</td><td>19</td><td>3</td><td>27</td></tr><tr><td>2019-07-01T20:00:00.000+0000</td><td>0.038</td><td>0.0</td><td>0.0</td><td>237.0</td><td>3.9666666665</td><td>2019-07-01</td><td>2019</td><td>7</td><td>1</td><td>20</td><td>3</td><td>27</td></tr><tr><td>2019-07-01T21:00:00.000+0000</td><td>0.008</td><td>0.0</td><td>0.0</td><td>346.58333335</td><td>7.074999999999999</td><td>2019-07-01</td><td>2019</td><td>7</td><td>1</td><td>21</td><td>3</td><td>27</td></tr><tr><td>2019-07-01T22:00:00.000+0000</td><td>0.0</td><td>0.0</td><td>0.0</td><td>124.33333331499999</td><td>6.6000000000000005</td><td>2019-07-01</td><td>2019</td><td>7</td><td>1</td><td>22</td><td>3</td><td>27</td></tr><tr><td>2019-07-01T23:00:00.000+0000</td><td>0.0</td><td>1.6</td><td>0.0</td><td>100.00000001500001</td><td>10.083333335</td><td>2019-07-01</td><td>2019</td><td>7</td><td>1</td><td>23</td><td>3</td><td>27</td></tr><tr><td>2020-07-01T00:00:00.000+0000</td><td>0.0</td><td>0.0</td><td>0.0</td><td>130.33333335</td><td>1.2666666665</td><td>2020-07-01</td><td>2020</td><td>7</td><td>1</td><td>0</td><td>3</td><td>27</td></tr><tr><td>2020-07-01T01:00:00.000+0000</td><td>0.0</td><td>0.0</td><td>0.0</td><td>146.1666667</td><td>0.8833333329999999</td><td>2020-07-01</td><td>2020</td><td>7</td><td>1</td><td>1</td><td>3</td><td>27</td></tr><tr><td>2020-07-01T02:00:00.000+0000</td><td>0.0</td><td>0.0</td><td>0.0</td><td>150.66666665</td><td>1.9166666664999998</td><td>2020-07-01</td><td>2020</td><td>7</td><td>1</td><td>2</td><td>3</td><td>27</td></tr><tr><td>2020-07-01T03:00:00.000+0000</td><td>0.0</td><td>0.0</td><td>0.0</td><td>140.6666667</td><td>1.95</td><td>2020-07-01</td><td>2020</td><td>7</td><td>1</td><td>3</td><td>3</td><td>27</td></tr><tr><td>2020-07-01T04:00:00.000+0000</td><td>0.0</td><td>0.0</td><td>0.0</td><td>187.66666665</td><td>1.983333333</td><td>2020-07-01</td><td>2020</td><td>7</td><td>1</td><td>4</td><td>3</td><td>27</td></tr><tr><td>2020-07-01T05:00:00.000+0000</td><td>0.002</td><td>0.0</td><td>31.0</td><td>168.0</td><td>2.7166666665</td><td>2020-07-01</td><td>2020</td><td>7</td><td>1</td><td>5</td><td>3</td><td>27</td></tr><tr><td>2020-07-01T06:00:00.000+0000</td><td>0.142</td><td>0.0</td><td>42.0</td><td>185.66666665</td><td>2.5</td><td>2020-07-01</td><td>2020</td><td>7</td><td>1</td><td>6</td><td>3</td><td>27</td></tr><tr><td>2020-07-01T07:00:00.000+0000</td><td>0.478</td><td>0.0</td><td>60.0</td><td>186.66666665</td><td>3.1833333335000003</td><td>2020-07-01</td><td>2020</td><td>7</td><td>1</td><td>7</td><td>3</td><td>27</td></tr><tr><td>2020-07-01T08:00:00.000+0000</td><td>1.6189999999999998</td><td>0.0</td><td>56.0</td><td>195.16666665</td><td>4.683333333</td><td>2020-07-01</td><td>2020</td><td>7</td><td>1</td><td>8</td><td>3</td><td>27</td></tr><tr><td>2020-07-01T09:00:00.000+0000</td><td>4.24</td><td>0.0</td><td>57.0</td><td>207.5</td><td>5.683333333</td><td>2020-07-01</td><td>2020</td><td>7</td><td>1</td><td>9</td><td>3</td><td>27</td></tr><tr><td>2020-07-01T10:00:00.000+0000</td><td>5.617</td><td>0.0</td><td>58.0</td><td>190.16666665</td><td>6.4833333335</td><td>2020-07-01</td><td>2020</td><td>7</td><td>1</td><td>10</td><td>3</td><td>27</td></tr><tr><td>2020-07-01T11:00:00.000+0000</td><td>7.763</td><td>0.0</td><td>60.0</td><td>214.16666665</td><td>9.483333331499999</td><td>2020-07-01</td><td>2020</td><td>7</td><td>1</td><td>11</td><td>3</td><td>27</td></tr><tr><td>2020-07-01T12:00:00.000+0000</td><td>7.557</td><td>0.0</td><td>60.0</td><td>234.66666665</td><td>13.2</td><td>2020-07-01</td><td>2020</td><td>7</td><td>1</td><td>12</td><td>3</td><td>27</td></tr><tr><td>2020-07-01T13:00:00.000+0000</td><td>9.506</td><td>0.0</td><td>55.0</td><td>233.66666665</td><td>14.100000000000001</td><td>2020-07-01</td><td>2020</td><td>7</td><td>1</td><td>13</td><td>3</td><td>27</td></tr><tr><td>2020-07-01T14:00:00.000+0000</td><td>9.333</td><td>0.0</td><td>59.0</td><td>235.33333335</td><td>15.116666665</td><td>2020-07-01</td><td>2020</td><td>7</td><td>1</td><td>14</td><td>3</td><td>27</td></tr><tr><td>2020-07-01T15:00:00.000+0000</td><td>7.790000000000001</td><td>0.0</td><td>60.0</td><td>259.5</td><td>16.916666665</td><td>2020-07-01</td><td>2020</td><td>7</td><td>1</td><td>15</td><td>3</td><td>27</td></tr><tr><td>2020-07-01T16:00:00.000+0000</td><td>6.5600000000000005</td><td>0.0</td><td>60.0</td><td>263.16666665</td><td>12.1</td><td>2020-07-01</td><td>2020</td><td>7</td><td>1</td><td>16</td><td>3</td><td>27</td></tr><tr><td>2020-07-01T17:00:00.000+0000</td><td>4.366</td><td>0.0</td><td>60.0</td><td>188.16666665</td><td>13.483333335</td><td>2020-07-01</td><td>2020</td><td>7</td><td>1</td><td>17</td><td>3</td><td>27</td></tr><tr><td>2020-07-01T18:00:00.000+0000</td><td>3.972</td><td>0.0</td><td>45.0</td><td>187.8333333</td><td>8.6500000015</td><td>2020-07-01</td><td>2020</td><td>7</td><td>1</td><td>18</td><td>3</td><td>27</td></tr><tr><td>2020-07-01T19:00:00.000+0000</td><td>1.152</td><td>4.8999999999999995</td><td>8.0</td><td>175.1666667</td><td>6.4666666665</td><td>2020-07-01</td><td>2020</td><td>7</td><td>1</td><td>19</td><td>3</td><td>27</td></tr><tr><td>2020-07-01T20:00:00.000+0000</td><td>0.136</td><td>0.1</td><td>0.0</td><td>201.16666665</td><td>6.8833333335</td><td>2020-07-01</td><td>2020</td><td>7</td><td>1</td><td>20</td><td>3</td><td>27</td></tr><tr><td>2020-07-01T21:00:00.000+0000</td><td>0.011</td><td>0.0</td><td>0.0</td><td>165.5</td><td>13.75</td><td>2020-07-01</td><td>2020</td><td>7</td><td>1</td><td>21</td><td>3</td><td>27</td></tr><tr><td>2020-07-01T22:00:00.000+0000</td><td>0.0</td><td>7.0</td><td>0.0</td><td>177.66666665</td><td>13.26666667</td><td>2020-07-01</td><td>2020</td><td>7</td><td>1</td><td>22</td><td>3</td><td>27</td></tr><tr><td>2020-07-01T23:00:00.000+0000</td><td>0.0</td><td>2.0</td><td>0.0</td><td>182.66666665</td><td>13.850000000000001</td><td>2020-07-01</td><td>2020</td><td>7</td><td>1</td><td>23</td><td>3</td><td>27</td></tr><tr><td>2021-07-01T00:00:00.000+0000</td><td>0.0</td><td>0.2</td><td>0.0</td><td>228.83333335</td><td>7.266666667000001</td><td>2021-07-01</td><td>2021</td><td>7</td><td>1</td><td>0</td><td>3</td><td>26</td></tr><tr><td>2021-07-01T01:00:00.000+0000</td><td>0.0</td><td>0.0</td><td>0.0</td><td>218.83333335</td><td>3.283333333</td><td>2021-07-01</td><td>2021</td><td>7</td><td>1</td><td>1</td><td>3</td><td>26</td></tr><tr><td>2021-07-01T02:00:00.000+0000</td><td>0.0</td><td>0.0</td><td>0.0</td><td>206.0</td><td>5.816666667</td><td>2021-07-01</td><td>2021</td><td>7</td><td>1</td><td>2</td><td>3</td><td>26</td></tr><tr><td>2021-07-01T03:00:00.000+0000</td><td>0.0</td><td>0.0</td><td>0.0</td><td>225.66666665</td><td>5.333333333500001</td><td>2021-07-01</td><td>2021</td><td>7</td><td>1</td><td>3</td><td>3</td><td>26</td></tr><tr><td>2021-07-01T04:00:00.000+0000</td><td>0.0</td><td>0.0</td><td>0.0</td><td>223.83333335</td><td>4.0833333335</td><td>2021-07-01</td><td>2021</td><td>7</td><td>1</td><td>4</td><td>3</td><td>26</td></tr><tr><td>2021-07-01T05:00:00.000+0000</td><td>0.0</td><td>0.0</td><td>0.0</td><td>212.83333335</td><td>3.7833333335</td><td>2021-07-01</td><td>2021</td><td>7</td><td>1</td><td>5</td><td>3</td><td>26</td></tr><tr><td>2021-07-01T06:00:00.000+0000</td><td>0.05499999999999999</td><td>0.1</td><td>0.0</td><td>212.5</td><td>4.8</td><td>2021-07-01</td><td>2021</td><td>7</td><td>1</td><td>6</td><td>3</td><td>26</td></tr><tr><td>2021-07-01T07:00:00.000+0000</td><td>0.5209999999999999</td><td>0.0</td><td>0.0</td><td>222.83333335</td><td>7.5</td><td>2021-07-01</td><td>2021</td><td>7</td><td>1</td><td>7</td><td>3</td><td>26</td></tr><tr><td>2021-07-01T08:00:00.000+0000</td><td>0.913</td><td>0.0</td><td>0.0</td><td>253.83333335</td><td>10.783333335</td><td>2021-07-01</td><td>2021</td><td>7</td><td>1</td><td>8</td><td>3</td><td>26</td></tr><tr><td>2021-07-01T09:00:00.000+0000</td><td>1.287</td><td>0.0</td><td>0.0</td><td>259.1666667</td><td>9.7833333335</td><td>2021-07-01</td><td>2021</td><td>7</td><td>1</td><td>9</td><td>3</td><td>26</td></tr><tr><td>2021-07-01T10:00:00.000+0000</td><td>2.601</td><td>0.0</td><td>0.0</td><td>266.66666665</td><td>10.4333333315</td><td>2021-07-01</td><td>2021</td><td>7</td><td>1</td><td>10</td><td>3</td><td>26</td></tr><tr><td>2021-07-01T11:00:00.000+0000</td><td>2.4200000000000004</td><td>0.0</td><td>22.0</td><td>264.75</td><td>12.166666665000001</td><td>2021-07-01</td><td>2021</td><td>7</td><td>1</td><td>11</td><td>3</td><td>26</td></tr><tr><td>2021-07-01T12:00:00.000+0000</td><td>4.051</td><td>0.0</td><td>9.0</td><td>265.33333335</td><td>11.566666665</td><td>2021-07-01</td><td>2021</td><td>7</td><td>1</td><td>12</td><td>3</td><td>26</td></tr><tr><td>2021-07-01T13:00:00.000+0000</td><td>4.438</td><td>0.0</td><td>26.0</td><td>226.83333335</td><td>11.35</td><td>2021-07-01</td><td>2021</td><td>7</td><td>1</td><td>13</td><td>3</td><td>26</td></tr><tr><td>2021-07-01T14:00:00.000+0000</td><td>5.8469999999999995</td><td>0.0</td><td>4.0</td><td>211.3333333</td><td>7.75</td><td>2021-07-01</td><td>2021</td><td>7</td><td>1</td><td>14</td><td>3</td><td>26</td></tr><tr><td>2021-07-01T15:00:00.000+0000</td><td>2.109</td><td>0.0</td><td>0.0</td><td>273.0</td><td>7.3833333334999995</td><td>2021-07-01</td><td>2021</td><td>7</td><td>1</td><td>15</td><td>3</td><td>26</td></tr><tr><td>2021-07-01T16:00:00.000+0000</td><td>1.8070000000000002</td><td>0.0</td><td>0.0</td><td>248.66666665</td><td>6.4666666665</td><td>2021-07-01</td><td>2021</td><td>7</td><td>1</td><td>16</td><td>3</td><td>26</td></tr><tr><td>2021-07-01T17:00:00.000+0000</td><td>3.6479999999999997</td><td>0.0</td><td>0.0</td><td>197.5</td><td>3.5333333335</td><td>2021-07-01</td><td>2021</td><td>7</td><td>1</td><td>17</td><td>3</td><td>26</td></tr><tr><td>2021-07-01T18:00:00.000+0000</td><td>2.965</td><td>0.0</td><td>0.0</td><td>179.66666665</td><td>3.7166666665</td><td>2021-07-01</td><td>2021</td><td>7</td><td>1</td><td>18</td><td>3</td><td>26</td></tr><tr><td>2021-07-01T19:00:00.000+0000</td><td>0.5389999999999999</td><td>0.0</td><td>0.0</td><td>133.66666665</td><td>1.9833333335</td><td>2021-07-01</td><td>2021</td><td>7</td><td>1</td><td>19</td><td>3</td><td>26</td></tr><tr><td>2021-07-01T20:00:00.000+0000</td><td>0.12200000000000001</td><td>0.0</td><td>0.0</td><td>168.1666667</td><td>1.7833333335</td><td>2021-07-01</td><td>2021</td><td>7</td><td>1</td><td>20</td><td>3</td><td>26</td></tr><tr><td>2021-07-01T21:00:00.000+0000</td><td>0.003</td><td>0.0</td><td>0.0</td><td>175.83333335</td><td>1.9666666665</td><td>2021-07-01</td><td>2021</td><td>7</td><td>1</td><td>21</td><td>3</td><td>26</td></tr><tr><td>2021-07-01T22:00:00.000+0000</td><td>0.0</td><td>0.0</td><td>0.0</td><td>163.0</td><td>4.083333333</td><td>2021-07-01</td><td>2021</td><td>7</td><td>1</td><td>22</td><td>3</td><td>26</td></tr><tr><td>2021-07-01T23:00:00.000+0000</td><td>0.0</td><td>0.0</td><td>0.0</td><td>166.83333335</td><td>4.0166666665</td><td>2021-07-01</td><td>2021</td><td>7</td><td>1</td><td>23</td><td>3</td><td>26</td></tr><tr><td>2022-07-01T00:00:00.000+0000</td><td>0.0</td><td>2.3</td><td>0.0</td><td>191.6666667</td><td>4.9666666665</td><td>2022-07-01</td><td>2022</td><td>7</td><td>1</td><td>0</td><td>3</td><td>26</td></tr><tr><td>2022-07-01T01:00:00.000+0000</td><td>0.0</td><td>0.1</td><td>0.0</td><td>172.3333333</td><td>2.9833333335</td><td>2022-07-01</td><td>2022</td><td>7</td><td>1</td><td>1</td><td>3</td><td>26</td></tr><tr><td>2022-07-01T02:00:00.000+0000</td><td>0.0</td><td>0.0</td><td>0.0</td><td>269.5</td><td>5.1499999999999995</td><td>2022-07-01</td><td>2022</td><td>7</td><td>1</td><td>2</td><td>3</td><td>26</td></tr><tr><td>2022-07-01T03:00:00.000+0000</td><td>0.0</td><td>0.30000000000000004</td><td>0.0</td><td>258.33333335</td><td>13.5</td><td>2022-07-01</td><td>2022</td><td>7</td><td>1</td><td>3</td><td>3</td><td>26</td></tr><tr><td>2022-07-01T04:00:00.000+0000</td><td>0.0</td><td>1.6</td><td>0.0</td><td>258.66666665</td><td>10.4999999985</td><td>2022-07-01</td><td>2022</td><td>7</td><td>1</td><td>4</td><td>3</td><td>26</td></tr><tr><td>2022-07-01T05:00:00.000+0000</td><td>0.0</td><td>0.2</td><td>0.0</td><td>241.3333333</td><td>4.15</td><td>2022-07-01</td><td>2022</td><td>7</td><td>1</td><td>5</td><td>3</td><td>26</td></tr><tr><td>2022-07-01T06:00:00.000+0000</td><td>0.027999999999999997</td><td>0.2</td><td>0.0</td><td>239.83333335</td><td>5.2833333335</td><td>2022-07-01</td><td>2022</td><td>7</td><td>1</td><td>6</td><td>3</td><td>26</td></tr><tr><td>2022-07-01T07:00:00.000+0000</td><td>0.314</td><td>0.0</td><td>0.0</td><td>242.1666667</td><td>2.0833333335</td><td>2022-07-01</td><td>2022</td><td>7</td><td>1</td><td>7</td><td>3</td><td>26</td></tr><tr><td>2022-07-01T08:00:00.000+0000</td><td>0.391</td><td>0.7999999999999999</td><td>0.0</td><td>219.66666665</td><td>2.083333333</td><td>2022-07-01</td><td>2022</td><td>7</td><td>1</td><td>8</td><td>3</td><td>26</td></tr><tr><td>2022-07-01T09:00:00.000+0000</td><td>0.637</td><td>0.6</td><td>0.0</td><td>324.8333333</td><td>5.1</td><td>2022-07-01</td><td>2022</td><td>7</td><td>1</td><td>9</td><td>3</td><td>26</td></tr><tr><td>2022-07-01T10:00:00.000+0000</td><td>0.794</td><td>0.0</td><td>0.0</td><td>312.16666665</td><td>4.3833333334999995</td><td>2022-07-01</td><td>2022</td><td>7</td><td>1</td><td>10</td><td>3</td><td>26</td></tr><tr><td>2022-07-01T11:00:00.000+0000</td><td>0.615</td><td>0.0</td><td>2.0</td><td>260.16666665</td><td>4.6166666670000005</td><td>2022-07-01</td><td>2022</td><td>7</td><td>1</td><td>11</td><td>3</td><td>26</td></tr><tr><td>2022-07-01T12:00:00.000+0000</td><td>1.056</td><td>0.0</td><td>5.0</td><td>238.83333335</td><td>4.1333333335</td><td>2022-07-01</td><td>2022</td><td>7</td><td>1</td><td>12</td><td>3</td><td>26</td></tr><tr><td>2022-07-01T13:00:00.000+0000</td><td>4.051</td><td>0.0</td><td>11.0</td><td>200.16666665</td><td>7.0833333335</td><td>2022-07-01</td><td>2022</td><td>7</td><td>1</td><td>13</td><td>3</td><td>26</td></tr><tr><td>2022-07-01T14:00:00.000+0000</td><td>3.713</td><td>0.0</td><td>19.0</td><td>192.0</td><td>9.35</td><td>2022-07-01</td><td>2022</td><td>7</td><td>1</td><td>14</td><td>3</td><td>26</td></tr><tr><td>2022-07-01T15:00:00.000+0000</td><td>6.043</td><td>0.0</td><td>60.0</td><td>190.5</td><td>8.850000000000001</td><td>2022-07-01</td><td>2022</td><td>7</td><td>1</td><td>15</td><td>3</td><td>26</td></tr><tr><td>2022-07-01T16:00:00.000+0000</td><td>4.865</td><td>0.0</td><td>44.0</td><td>196.8333333</td><td>6.766666667</td><td>2022-07-01</td><td>2022</td><td>7</td><td>1</td><td>16</td><td>3</td><td>26</td></tr><tr><td>2022-07-01T17:00:00.000+0000</td><td>3.35</td><td>0.0</td><td>60.0</td><td>200.0</td><td>8.283333333</td><td>2022-07-01</td><td>2022</td><td>7</td><td>1</td><td>17</td><td>3</td><td>26</td></tr><tr><td>2022-07-01T18:00:00.000+0000</td><td>3.517</td><td>0.0</td><td>52.0</td><td>189.0</td><td>7.8500000000000005</td><td>2022-07-01</td><td>2022</td><td>7</td><td>1</td><td>18</td><td>3</td><td>26</td></tr><tr><td>2022-07-01T19:00:00.000+0000</td><td>2.0180000000000002</td><td>0.0</td><td>28.0</td><td>157.0</td><td>4.2166666665</td><td>2022-07-01</td><td>2022</td><td>7</td><td>1</td><td>19</td><td>3</td><td>26</td></tr><tr><td>2022-07-01T20:00:00.000+0000</td><td>0.33799999999999997</td><td>0.0</td><td>0.0</td><td>97.999999985</td><td>2.7</td><td>2022-07-01</td><td>2022</td><td>7</td><td>1</td><td>20</td><td>3</td><td>26</td></tr><tr><td>2022-07-01T21:00:00.000+0000</td><td>0.011</td><td>0.0</td><td>0.0</td><td>162.8333333</td><td>2.4666666665</td><td>2022-07-01</td><td>2022</td><td>7</td><td>1</td><td>21</td><td>3</td><td>26</td></tr><tr><td>2022-07-01T22:00:00.000+0000</td><td>0.0</td><td>0.0</td><td>0.0</td><td>91.333333315</td><td>2.0333333335</td><td>2022-07-01</td><td>2022</td><td>7</td><td>1</td><td>22</td><td>3</td><td>26</td></tr><tr><td>2022-07-01T23:00:00.000+0000</td><td>0.0</td><td>0.0</td><td>0.0</td><td>45.333333335</td><td>3.1833333335000003</td><td>2022-07-01</td><td>2022</td><td>7</td><td>1</td><td>23</td><td>3</td><td>26</td></tr></tbody></table></div>"
      ]
     },
     "metadata": {
      "application/vnd.databricks.v1+output": {
       "addedWidgets": {},
       "aggData": [],
       "aggError": "",
       "aggOverflow": false,
       "aggSchema": [],
       "aggSeriesLimitReached": false,
       "aggType": "",
       "arguments": {},
       "columnCustomDisplayInfos": {},
       "data": [
        [
         "2019-07-01T00:00:00.000+0000",
         0,
         0,
         0,
         249.6666667,
         2.516666667,
         "2019-07-01",
         2019,
         7,
         1,
         0,
         3,
         27
        ],
        [
         "2019-07-01T01:00:00.000+0000",
         0,
         0,
         0,
         247.1666667,
         9.2,
         "2019-07-01",
         2019,
         7,
         1,
         1,
         3,
         27
        ],
        [
         "2019-07-01T02:00:00.000+0000",
         0,
         0,
         0,
         248.83333335,
         12.466666665,
         "2019-07-01",
         2019,
         7,
         1,
         2,
         3,
         27
        ],
        [
         "2019-07-01T03:00:00.000+0000",
         0,
         0,
         0,
         227.5,
         6.9666666665,
         "2019-07-01",
         2019,
         7,
         1,
         3,
         3,
         27
        ],
        [
         "2019-07-01T04:00:00.000+0000",
         0,
         0,
         0,
         131.999999985,
         3.7,
         "2019-07-01",
         2019,
         7,
         1,
         4,
         3,
         27
        ],
        [
         "2019-07-01T05:00:00.000+0000",
         0.005,
         0,
         8,
         153.66666665,
         2.5,
         "2019-07-01",
         2019,
         7,
         1,
         5,
         3,
         27
        ],
        [
         "2019-07-01T06:00:00.000+0000",
         0.33399999999999996,
         0,
         58,
         178.5,
         3.183333333,
         "2019-07-01",
         2019,
         7,
         1,
         6,
         3,
         27
        ],
        [
         "2019-07-01T07:00:00.000+0000",
         0.7320000000000001,
         0,
         60,
         236,
         7.0166666665,
         "2019-07-01",
         2019,
         7,
         1,
         7,
         3,
         27
        ],
        [
         "2019-07-01T08:00:00.000+0000",
         1.676,
         0,
         19,
         248.83333335,
         12,
         "2019-07-01",
         2019,
         7,
         1,
         8,
         3,
         27
        ],
        [
         "2019-07-01T09:00:00.000+0000",
         4.254,
         0,
         53,
         207.3333333,
         13.149999999999999,
         "2019-07-01",
         2019,
         7,
         1,
         9,
         3,
         27
        ],
        [
         "2019-07-01T10:00:00.000+0000",
         6.106,
         0,
         60,
         180.1666667,
         13.916666665000001,
         "2019-07-01",
         2019,
         7,
         1,
         10,
         3,
         27
        ],
        [
         "2019-07-01T11:00:00.000+0000",
         5.602,
         0,
         60,
         187,
         13.066666665,
         "2019-07-01",
         2019,
         7,
         1,
         11,
         3,
         27
        ],
        [
         "2019-07-01T12:00:00.000+0000",
         7.513,
         0,
         60,
         184.6666667,
         12.95,
         "2019-07-01",
         2019,
         7,
         1,
         12,
         3,
         27
        ],
        [
         "2019-07-01T13:00:00.000+0000",
         9.683,
         0,
         60,
         199.33333335,
         9.116666666499999,
         "2019-07-01",
         2019,
         7,
         1,
         13,
         3,
         27
        ],
        [
         "2019-07-01T14:00:00.000+0000",
         9.607,
         0,
         60,
         195.83333335,
         8.649999999999999,
         "2019-07-01",
         2019,
         7,
         1,
         14,
         3,
         27
        ],
        [
         "2019-07-01T15:00:00.000+0000",
         9.068999999999999,
         0,
         50,
         223.1666667,
         8.9333333315,
         "2019-07-01",
         2019,
         7,
         1,
         15,
         3,
         27
        ],
        [
         "2019-07-01T16:00:00.000+0000",
         7.336,
         0,
         60,
         204.1666667,
         11.566666665,
         "2019-07-01",
         2019,
         7,
         1,
         16,
         3,
         27
        ],
        [
         "2019-07-01T17:00:00.000+0000",
         5.513,
         0,
         45,
         274,
         11.3999999985,
         "2019-07-01",
         2019,
         7,
         1,
         17,
         3,
         27
        ],
        [
         "2019-07-01T18:00:00.000+0000",
         3.689,
         0,
         0,
         257.6666667,
         6.5333333335,
         "2019-07-01",
         2019,
         7,
         1,
         18,
         3,
         27
        ],
        [
         "2019-07-01T19:00:00.000+0000",
         0.8950000000000001,
         0,
         0,
         177.66666665,
         4.983333333,
         "2019-07-01",
         2019,
         7,
         1,
         19,
         3,
         27
        ],
        [
         "2019-07-01T20:00:00.000+0000",
         0.038,
         0,
         0,
         237,
         3.9666666665,
         "2019-07-01",
         2019,
         7,
         1,
         20,
         3,
         27
        ],
        [
         "2019-07-01T21:00:00.000+0000",
         0.008,
         0,
         0,
         346.58333335,
         7.074999999999999,
         "2019-07-01",
         2019,
         7,
         1,
         21,
         3,
         27
        ],
        [
         "2019-07-01T22:00:00.000+0000",
         0,
         0,
         0,
         124.33333331499999,
         6.6000000000000005,
         "2019-07-01",
         2019,
         7,
         1,
         22,
         3,
         27
        ],
        [
         "2019-07-01T23:00:00.000+0000",
         0,
         1.6,
         0,
         100.00000001500001,
         10.083333335,
         "2019-07-01",
         2019,
         7,
         1,
         23,
         3,
         27
        ],
        [
         "2020-07-01T00:00:00.000+0000",
         0,
         0,
         0,
         130.33333335,
         1.2666666665,
         "2020-07-01",
         2020,
         7,
         1,
         0,
         3,
         27
        ],
        [
         "2020-07-01T01:00:00.000+0000",
         0,
         0,
         0,
         146.1666667,
         0.8833333329999999,
         "2020-07-01",
         2020,
         7,
         1,
         1,
         3,
         27
        ],
        [
         "2020-07-01T02:00:00.000+0000",
         0,
         0,
         0,
         150.66666665,
         1.9166666664999998,
         "2020-07-01",
         2020,
         7,
         1,
         2,
         3,
         27
        ],
        [
         "2020-07-01T03:00:00.000+0000",
         0,
         0,
         0,
         140.6666667,
         1.95,
         "2020-07-01",
         2020,
         7,
         1,
         3,
         3,
         27
        ],
        [
         "2020-07-01T04:00:00.000+0000",
         0,
         0,
         0,
         187.66666665,
         1.983333333,
         "2020-07-01",
         2020,
         7,
         1,
         4,
         3,
         27
        ],
        [
         "2020-07-01T05:00:00.000+0000",
         0.002,
         0,
         31,
         168,
         2.7166666665,
         "2020-07-01",
         2020,
         7,
         1,
         5,
         3,
         27
        ],
        [
         "2020-07-01T06:00:00.000+0000",
         0.142,
         0,
         42,
         185.66666665,
         2.5,
         "2020-07-01",
         2020,
         7,
         1,
         6,
         3,
         27
        ],
        [
         "2020-07-01T07:00:00.000+0000",
         0.478,
         0,
         60,
         186.66666665,
         3.1833333335000003,
         "2020-07-01",
         2020,
         7,
         1,
         7,
         3,
         27
        ],
        [
         "2020-07-01T08:00:00.000+0000",
         1.6189999999999998,
         0,
         56,
         195.16666665,
         4.683333333,
         "2020-07-01",
         2020,
         7,
         1,
         8,
         3,
         27
        ],
        [
         "2020-07-01T09:00:00.000+0000",
         4.24,
         0,
         57,
         207.5,
         5.683333333,
         "2020-07-01",
         2020,
         7,
         1,
         9,
         3,
         27
        ],
        [
         "2020-07-01T10:00:00.000+0000",
         5.617,
         0,
         58,
         190.16666665,
         6.4833333335,
         "2020-07-01",
         2020,
         7,
         1,
         10,
         3,
         27
        ],
        [
         "2020-07-01T11:00:00.000+0000",
         7.763,
         0,
         60,
         214.16666665,
         9.483333331499999,
         "2020-07-01",
         2020,
         7,
         1,
         11,
         3,
         27
        ],
        [
         "2020-07-01T12:00:00.000+0000",
         7.557,
         0,
         60,
         234.66666665,
         13.2,
         "2020-07-01",
         2020,
         7,
         1,
         12,
         3,
         27
        ],
        [
         "2020-07-01T13:00:00.000+0000",
         9.506,
         0,
         55,
         233.66666665,
         14.100000000000001,
         "2020-07-01",
         2020,
         7,
         1,
         13,
         3,
         27
        ],
        [
         "2020-07-01T14:00:00.000+0000",
         9.333,
         0,
         59,
         235.33333335,
         15.116666665,
         "2020-07-01",
         2020,
         7,
         1,
         14,
         3,
         27
        ],
        [
         "2020-07-01T15:00:00.000+0000",
         7.790000000000001,
         0,
         60,
         259.5,
         16.916666665,
         "2020-07-01",
         2020,
         7,
         1,
         15,
         3,
         27
        ],
        [
         "2020-07-01T16:00:00.000+0000",
         6.5600000000000005,
         0,
         60,
         263.16666665,
         12.1,
         "2020-07-01",
         2020,
         7,
         1,
         16,
         3,
         27
        ],
        [
         "2020-07-01T17:00:00.000+0000",
         4.366,
         0,
         60,
         188.16666665,
         13.483333335,
         "2020-07-01",
         2020,
         7,
         1,
         17,
         3,
         27
        ],
        [
         "2020-07-01T18:00:00.000+0000",
         3.972,
         0,
         45,
         187.8333333,
         8.6500000015,
         "2020-07-01",
         2020,
         7,
         1,
         18,
         3,
         27
        ],
        [
         "2020-07-01T19:00:00.000+0000",
         1.152,
         4.8999999999999995,
         8,
         175.1666667,
         6.4666666665,
         "2020-07-01",
         2020,
         7,
         1,
         19,
         3,
         27
        ],
        [
         "2020-07-01T20:00:00.000+0000",
         0.136,
         0.1,
         0,
         201.16666665,
         6.8833333335,
         "2020-07-01",
         2020,
         7,
         1,
         20,
         3,
         27
        ],
        [
         "2020-07-01T21:00:00.000+0000",
         0.011,
         0,
         0,
         165.5,
         13.75,
         "2020-07-01",
         2020,
         7,
         1,
         21,
         3,
         27
        ],
        [
         "2020-07-01T22:00:00.000+0000",
         0,
         7,
         0,
         177.66666665,
         13.26666667,
         "2020-07-01",
         2020,
         7,
         1,
         22,
         3,
         27
        ],
        [
         "2020-07-01T23:00:00.000+0000",
         0,
         2,
         0,
         182.66666665,
         13.850000000000001,
         "2020-07-01",
         2020,
         7,
         1,
         23,
         3,
         27
        ],
        [
         "2021-07-01T00:00:00.000+0000",
         0,
         0.2,
         0,
         228.83333335,
         7.266666667000001,
         "2021-07-01",
         2021,
         7,
         1,
         0,
         3,
         26
        ],
        [
         "2021-07-01T01:00:00.000+0000",
         0,
         0,
         0,
         218.83333335,
         3.283333333,
         "2021-07-01",
         2021,
         7,
         1,
         1,
         3,
         26
        ],
        [
         "2021-07-01T02:00:00.000+0000",
         0,
         0,
         0,
         206,
         5.816666667,
         "2021-07-01",
         2021,
         7,
         1,
         2,
         3,
         26
        ],
        [
         "2021-07-01T03:00:00.000+0000",
         0,
         0,
         0,
         225.66666665,
         5.333333333500001,
         "2021-07-01",
         2021,
         7,
         1,
         3,
         3,
         26
        ],
        [
         "2021-07-01T04:00:00.000+0000",
         0,
         0,
         0,
         223.83333335,
         4.0833333335,
         "2021-07-01",
         2021,
         7,
         1,
         4,
         3,
         26
        ],
        [
         "2021-07-01T05:00:00.000+0000",
         0,
         0,
         0,
         212.83333335,
         3.7833333335,
         "2021-07-01",
         2021,
         7,
         1,
         5,
         3,
         26
        ],
        [
         "2021-07-01T06:00:00.000+0000",
         0.05499999999999999,
         0.1,
         0,
         212.5,
         4.8,
         "2021-07-01",
         2021,
         7,
         1,
         6,
         3,
         26
        ],
        [
         "2021-07-01T07:00:00.000+0000",
         0.5209999999999999,
         0,
         0,
         222.83333335,
         7.5,
         "2021-07-01",
         2021,
         7,
         1,
         7,
         3,
         26
        ],
        [
         "2021-07-01T08:00:00.000+0000",
         0.913,
         0,
         0,
         253.83333335,
         10.783333335,
         "2021-07-01",
         2021,
         7,
         1,
         8,
         3,
         26
        ],
        [
         "2021-07-01T09:00:00.000+0000",
         1.287,
         0,
         0,
         259.1666667,
         9.7833333335,
         "2021-07-01",
         2021,
         7,
         1,
         9,
         3,
         26
        ],
        [
         "2021-07-01T10:00:00.000+0000",
         2.601,
         0,
         0,
         266.66666665,
         10.4333333315,
         "2021-07-01",
         2021,
         7,
         1,
         10,
         3,
         26
        ],
        [
         "2021-07-01T11:00:00.000+0000",
         2.4200000000000004,
         0,
         22,
         264.75,
         12.166666665000001,
         "2021-07-01",
         2021,
         7,
         1,
         11,
         3,
         26
        ],
        [
         "2021-07-01T12:00:00.000+0000",
         4.051,
         0,
         9,
         265.33333335,
         11.566666665,
         "2021-07-01",
         2021,
         7,
         1,
         12,
         3,
         26
        ],
        [
         "2021-07-01T13:00:00.000+0000",
         4.438,
         0,
         26,
         226.83333335,
         11.35,
         "2021-07-01",
         2021,
         7,
         1,
         13,
         3,
         26
        ],
        [
         "2021-07-01T14:00:00.000+0000",
         5.8469999999999995,
         0,
         4,
         211.3333333,
         7.75,
         "2021-07-01",
         2021,
         7,
         1,
         14,
         3,
         26
        ],
        [
         "2021-07-01T15:00:00.000+0000",
         2.109,
         0,
         0,
         273,
         7.3833333334999995,
         "2021-07-01",
         2021,
         7,
         1,
         15,
         3,
         26
        ],
        [
         "2021-07-01T16:00:00.000+0000",
         1.8070000000000002,
         0,
         0,
         248.66666665,
         6.4666666665,
         "2021-07-01",
         2021,
         7,
         1,
         16,
         3,
         26
        ],
        [
         "2021-07-01T17:00:00.000+0000",
         3.6479999999999997,
         0,
         0,
         197.5,
         3.5333333335,
         "2021-07-01",
         2021,
         7,
         1,
         17,
         3,
         26
        ],
        [
         "2021-07-01T18:00:00.000+0000",
         2.965,
         0,
         0,
         179.66666665,
         3.7166666665,
         "2021-07-01",
         2021,
         7,
         1,
         18,
         3,
         26
        ],
        [
         "2021-07-01T19:00:00.000+0000",
         0.5389999999999999,
         0,
         0,
         133.66666665,
         1.9833333335,
         "2021-07-01",
         2021,
         7,
         1,
         19,
         3,
         26
        ],
        [
         "2021-07-01T20:00:00.000+0000",
         0.12200000000000001,
         0,
         0,
         168.1666667,
         1.7833333335,
         "2021-07-01",
         2021,
         7,
         1,
         20,
         3,
         26
        ],
        [
         "2021-07-01T21:00:00.000+0000",
         0.003,
         0,
         0,
         175.83333335,
         1.9666666665,
         "2021-07-01",
         2021,
         7,
         1,
         21,
         3,
         26
        ],
        [
         "2021-07-01T22:00:00.000+0000",
         0,
         0,
         0,
         163,
         4.083333333,
         "2021-07-01",
         2021,
         7,
         1,
         22,
         3,
         26
        ],
        [
         "2021-07-01T23:00:00.000+0000",
         0,
         0,
         0,
         166.83333335,
         4.0166666665,
         "2021-07-01",
         2021,
         7,
         1,
         23,
         3,
         26
        ],
        [
         "2022-07-01T00:00:00.000+0000",
         0,
         2.3,
         0,
         191.6666667,
         4.9666666665,
         "2022-07-01",
         2022,
         7,
         1,
         0,
         3,
         26
        ],
        [
         "2022-07-01T01:00:00.000+0000",
         0,
         0.1,
         0,
         172.3333333,
         2.9833333335,
         "2022-07-01",
         2022,
         7,
         1,
         1,
         3,
         26
        ],
        [
         "2022-07-01T02:00:00.000+0000",
         0,
         0,
         0,
         269.5,
         5.1499999999999995,
         "2022-07-01",
         2022,
         7,
         1,
         2,
         3,
         26
        ],
        [
         "2022-07-01T03:00:00.000+0000",
         0,
         0.30000000000000004,
         0,
         258.33333335,
         13.5,
         "2022-07-01",
         2022,
         7,
         1,
         3,
         3,
         26
        ],
        [
         "2022-07-01T04:00:00.000+0000",
         0,
         1.6,
         0,
         258.66666665,
         10.4999999985,
         "2022-07-01",
         2022,
         7,
         1,
         4,
         3,
         26
        ],
        [
         "2022-07-01T05:00:00.000+0000",
         0,
         0.2,
         0,
         241.3333333,
         4.15,
         "2022-07-01",
         2022,
         7,
         1,
         5,
         3,
         26
        ],
        [
         "2022-07-01T06:00:00.000+0000",
         0.027999999999999997,
         0.2,
         0,
         239.83333335,
         5.2833333335,
         "2022-07-01",
         2022,
         7,
         1,
         6,
         3,
         26
        ],
        [
         "2022-07-01T07:00:00.000+0000",
         0.314,
         0,
         0,
         242.1666667,
         2.0833333335,
         "2022-07-01",
         2022,
         7,
         1,
         7,
         3,
         26
        ],
        [
         "2022-07-01T08:00:00.000+0000",
         0.391,
         0.7999999999999999,
         0,
         219.66666665,
         2.083333333,
         "2022-07-01",
         2022,
         7,
         1,
         8,
         3,
         26
        ],
        [
         "2022-07-01T09:00:00.000+0000",
         0.637,
         0.6,
         0,
         324.8333333,
         5.1,
         "2022-07-01",
         2022,
         7,
         1,
         9,
         3,
         26
        ],
        [
         "2022-07-01T10:00:00.000+0000",
         0.794,
         0,
         0,
         312.16666665,
         4.3833333334999995,
         "2022-07-01",
         2022,
         7,
         1,
         10,
         3,
         26
        ],
        [
         "2022-07-01T11:00:00.000+0000",
         0.615,
         0,
         2,
         260.16666665,
         4.6166666670000005,
         "2022-07-01",
         2022,
         7,
         1,
         11,
         3,
         26
        ],
        [
         "2022-07-01T12:00:00.000+0000",
         1.056,
         0,
         5,
         238.83333335,
         4.1333333335,
         "2022-07-01",
         2022,
         7,
         1,
         12,
         3,
         26
        ],
        [
         "2022-07-01T13:00:00.000+0000",
         4.051,
         0,
         11,
         200.16666665,
         7.0833333335,
         "2022-07-01",
         2022,
         7,
         1,
         13,
         3,
         26
        ],
        [
         "2022-07-01T14:00:00.000+0000",
         3.713,
         0,
         19,
         192,
         9.35,
         "2022-07-01",
         2022,
         7,
         1,
         14,
         3,
         26
        ],
        [
         "2022-07-01T15:00:00.000+0000",
         6.043,
         0,
         60,
         190.5,
         8.850000000000001,
         "2022-07-01",
         2022,
         7,
         1,
         15,
         3,
         26
        ],
        [
         "2022-07-01T16:00:00.000+0000",
         4.865,
         0,
         44,
         196.8333333,
         6.766666667,
         "2022-07-01",
         2022,
         7,
         1,
         16,
         3,
         26
        ],
        [
         "2022-07-01T17:00:00.000+0000",
         3.35,
         0,
         60,
         200,
         8.283333333,
         "2022-07-01",
         2022,
         7,
         1,
         17,
         3,
         26
        ],
        [
         "2022-07-01T18:00:00.000+0000",
         3.517,
         0,
         52,
         189,
         7.8500000000000005,
         "2022-07-01",
         2022,
         7,
         1,
         18,
         3,
         26
        ],
        [
         "2022-07-01T19:00:00.000+0000",
         2.0180000000000002,
         0,
         28,
         157,
         4.2166666665,
         "2022-07-01",
         2022,
         7,
         1,
         19,
         3,
         26
        ],
        [
         "2022-07-01T20:00:00.000+0000",
         0.33799999999999997,
         0,
         0,
         97.999999985,
         2.7,
         "2022-07-01",
         2022,
         7,
         1,
         20,
         3,
         26
        ],
        [
         "2022-07-01T21:00:00.000+0000",
         0.011,
         0,
         0,
         162.8333333,
         2.4666666665,
         "2022-07-01",
         2022,
         7,
         1,
         21,
         3,
         26
        ],
        [
         "2022-07-01T22:00:00.000+0000",
         0,
         0,
         0,
         91.333333315,
         2.0333333335,
         "2022-07-01",
         2022,
         7,
         1,
         22,
         3,
         26
        ],
        [
         "2022-07-01T23:00:00.000+0000",
         0,
         0,
         0,
         45.333333335,
         3.1833333335000003,
         "2022-07-01",
         2022,
         7,
         1,
         23,
         3,
         26
        ]
       ],
       "datasetInfos": [],
       "dbfsResultPath": null,
       "isJsonSchema": true,
       "metadata": {},
       "overflow": false,
       "plotOptions": {
        "customPlotOptions": {},
        "displayType": "table",
        "pivotAggregation": null,
        "pivotColumns": null,
        "xColumns": null,
        "yColumns": null
       },
       "removedWidgets": [],
       "schema": [
        {
         "metadata": "{}",
         "name": "DateTime",
         "type": "\"timestamp\""
        },
        {
         "metadata": "{}",
         "name": "production",
         "type": "\"double\""
        },
        {
         "metadata": "{}",
         "name": "rr_SMA",
         "type": "\"double\""
        },
        {
         "metadata": "{}",
         "name": "ss_SMA",
         "type": "\"double\""
        },
        {
         "metadata": "{}",
         "name": "dd_SMA",
         "type": "\"double\""
        },
        {
         "metadata": "{}",
         "name": "ff_SMA",
         "type": "\"double\""
        },
        {
         "metadata": "{}",
         "name": "date",
         "type": "\"date\""
        },
        {
         "metadata": "{}",
         "name": "year",
         "type": "\"integer\""
        },
        {
         "metadata": "{}",
         "name": "month",
         "type": "\"integer\""
        },
        {
         "metadata": "{}",
         "name": "day",
         "type": "\"integer\""
        },
        {
         "metadata": "{}",
         "name": "hour",
         "type": "\"integer\""
        },
        {
         "metadata": "{}",
         "name": "quarter-of-year",
         "type": "\"integer\""
        },
        {
         "metadata": "{}",
         "name": "week-of-year",
         "type": "\"integer\""
        }
       ],
       "type": "table"
      }
     },
     "output_type": "display_data"
    },
    {
     "data": {
      "text/plain": [
       "Output can only be rendered in Databricks"
      ]
     },
     "metadata": {
      "application/vnd.databricks.v1.subcommand+json": {
       "bindings": {},
       "collapsed": false,
       "command": "%python\n__backend_agg_display_orig = display\n__backend_agg_dfs = []\ndef __backend_agg_display_new(df):\n    __backend_agg_df_modules = [\"pandas.core.frame\", \"databricks.koalas.frame\", \"pyspark.sql.dataframe\", \"pyspark.pandas.frame\"]\n    if (type(df).__module__ in __backend_agg_df_modules and type(df).__name__ == 'DataFrame') or isinstance(df, list):\n        __backend_agg_dfs.append(df)\n\ndisplay = __backend_agg_display_new\n\ndef __backend_agg_user_code_fn():\n    import base64\n    exec(base64.standard_b64decode(\"ZGlzcGxheShkYXRhX3BkZGZfMDcwMSk=\").decode())\n\ntry:\n    # run user code\n    __backend_agg_user_code_fn()\n\n    #reset display function\n    display = __backend_agg_display_orig\n\n    if len(__backend_agg_dfs) > 0:\n        # create a temp view\n        if hasattr(__backend_agg_dfs[0], \"to_spark\"):\n            # koalas dataframe\n            __backend_agg_dfs[0].to_spark().createOrReplaceTempView(\"DatabricksVieweddd275\")\n        elif type(__backend_agg_dfs[0]).__module__ == \"pandas.core.frame\" or isinstance(__backend_agg_dfs[0], list):\n            # pandas dataframe\n            spark.createDataFrame(__backend_agg_dfs[0]).createOrReplaceTempView(\"DatabricksVieweddd275\")\n        else:\n            __backend_agg_dfs[0].createOrReplaceTempView(\"DatabricksVieweddd275\")\n        #run backend agg\n        display(spark.sql(\"\"\"WITH q AS (select * from DatabricksVieweddd275) SELECT `hour`,SUM(`production`) `column_28b7b4f211`,`year` FROM q GROUP BY `hour`,`year`\"\"\"))\n    else:\n        displayHTML(\"dataframe no longer exists. If you're using dataframe.display(), use display(dataframe) instead.\")\n\n\nfinally:\n    spark.sql(\"drop view if exists DatabricksVieweddd275\")\n    display = __backend_agg_display_orig\n    del __backend_agg_display_new\n    del __backend_agg_display_orig\n    del __backend_agg_dfs\n    del __backend_agg_user_code_fn\n\n",
       "commandTitle": "Production",
       "commandType": "auto",
       "commandVersion": 0,
       "commentThread": [],
       "commentsVisible": false,
       "contentSha256Hex": null,
       "customPlotOptions": {
        "redashChart": [
         {
          "key": "type",
          "value": "CHART"
         },
         {
          "key": "options",
          "value": {
           "alignYAxesAtZero": true,
           "coefficient": 1,
           "columnConfigurationMap": {
            "series": {
             "column": "year",
             "id": "column_28b7b4f212"
            },
            "x": {
             "column": "hour",
             "id": "column_28b7b4f28"
            },
            "y": [
             {
              "column": "production",
              "id": "column_28b7b4f211",
              "transform": "SUM"
             }
            ]
           },
           "dateTimeFormat": "DD/MM/YYYY HH:mm",
           "direction": {
            "type": "counterclockwise"
           },
           "error_y": {
            "type": "data",
            "visible": true
           },
           "globalSeriesType": "line",
           "isAggregationOn": true,
           "legend": {
            "traceorder": "normal"
           },
           "missingValuesAsZero": true,
           "numberFormat": "0,0[.]00000",
           "percentFormat": "0[.]00%",
           "series": {
            "error_y": {
             "type": "data",
             "visible": true
            },
            "stacking": null
           },
           "seriesOptions": {
            "column_28b7b4f211": {
             "type": "line",
             "yAxis": 0
            },
            "column_28b7b4f214": {
             "type": "line",
             "yAxis": 0
            }
           },
           "showDataLabels": false,
           "sizemode": "diameter",
           "sortX": true,
           "sortY": true,
           "swappedAxes": false,
           "textFormat": "",
           "useAggregationsUi": true,
           "valuesOptions": {},
           "version": 2,
           "xAxis": {
            "labels": {
             "enabled": true
            },
            "type": "-"
           },
           "yAxis": [
            {
             "type": "-"
            },
            {
             "opposite": true,
             "type": "-"
            }
           ]
          }
         }
        ]
       },
       "datasetPreviewNameToCmdIdMap": {},
       "diffDeletes": [],
       "diffInserts": [],
       "displayType": "redashChart",
       "error": null,
       "errorSummary": null,
       "errorTraceType": null,
       "finishTime": 0,
       "globalVars": {},
       "guid": "68c47d72-44a2-4896-b83f-2c482c0e1f8c",
       "height": "auto",
       "hideCommandCode": false,
       "hideCommandResult": false,
       "iPythonMetadata": null,
       "inputWidgets": {},
       "isLockedInExamMode": false,
       "latestUser": "a user",
       "latestUserId": null,
       "listResultMetadata": null,
       "metadata": {},
       "nuid": "a86e9c99-1fd7-4662-a5be-f0b7e5c2936c",
       "origId": 1560136390089445,
       "parentHierarchy": [
        "ce577d63-49b2-4b65-bce7-73423a3da803"
       ],
       "pivotAggregation": null,
       "pivotColumns": null,
       "position": 12.184614139550831,
       "resultDbfsErrorMessage": null,
       "resultDbfsStatus": "INLINED_IN_TREE",
       "results": null,
       "showCommandTitle": false,
       "startTime": 0,
       "state": "input",
       "streamStates": {},
       "subcommandOptions": {
        "queryPlan": {
         "groups": [
          {
           "column": "hour",
           "type": "column"
          },
          {
           "column": "year",
           "type": "column"
          }
         ],
         "selects": [
          {
           "column": "hour",
           "type": "column"
          },
          {
           "alias": "column_28b7b4f211",
           "args": [
            {
             "column": "production",
             "type": "column"
            }
           ],
           "function": "SUM",
           "type": "function"
          },
          {
           "column": "year",
           "type": "column"
          }
         ]
        }
       },
       "submitTime": 0,
       "subtype": "tableResultSubCmd.visualization",
       "tableResultIndex": 0,
       "useConsistentColors": false,
       "version": "CommandV1",
       "width": "auto",
       "workflows": [],
       "xColumns": null,
       "yColumns": null
      }
     },
     "output_type": "display_data"
    }
   ],
   "source": [
    "display(data_pddf_0701)"
   ]
  },
  {
   "cell_type": "markdown",
   "metadata": {
    "application/vnd.databricks.v1+cell": {
     "cellMetadata": {},
     "inputWidgets": {},
     "nuid": "83cdbab2-03a1-459c-aca5-ada613bdc52c",
     "showTitle": false,
     "title": ""
    }
   },
   "source": [
    "#### <b style=\"color:blue;\"> Prepare data </b>\n",
    "\n",
    "Add production previous hour and previous day with [lag function](https://sparkbyexamples.com/pyspark/pyspark-lag-function/)"
   ]
  },
  {
   "cell_type": "code",
   "execution_count": 0,
   "metadata": {
    "application/vnd.databricks.v1+cell": {
     "cellMetadata": {},
     "inputWidgets": {},
     "nuid": "33c1e17b-2b1c-4fae-b22c-c1f78991b8c9",
     "showTitle": false,
     "title": ""
    }
   },
   "outputs": [
    {
     "data": {
      "text/html": [
       "<style scoped>\n",
       "  .ansiout {\n",
       "    display: block;\n",
       "    unicode-bidi: embed;\n",
       "    white-space: pre-wrap;\n",
       "    word-wrap: break-word;\n",
       "    word-break: break-all;\n",
       "    font-family: \"Source Code Pro\", \"Menlo\", monospace;;\n",
       "    font-size: 13px;\n",
       "    color: #555;\n",
       "    margin-left: 4px;\n",
       "    line-height: 19px;\n",
       "  }\n",
       "</style>\n",
       "<div class=\"ansiout\"></div>"
      ]
     },
     "metadata": {
      "application/vnd.databricks.v1+output": {
       "addedWidgets": {},
       "arguments": {},
       "data": "<div class=\"ansiout\"></div>",
       "datasetInfos": [],
       "metadata": {},
       "removedWidgets": [],
       "type": "html"
      }
     },
     "output_type": "display_data"
    }
   ],
   "source": [
    "window = Window.orderBy(\"DateTime\")\n",
    "data_df = data_df.withColumn(\"lag_1h\",lag(\"production\",1).over(window))\n",
    "data_df = data_df.withColumn(\"lag_24h\",lag(\"production\",24).over(window))\n",
    "data_df = data_df.na.drop() # drops data from 1st day"
   ]
  },
  {
   "cell_type": "code",
   "execution_count": 0,
   "metadata": {
    "application/vnd.databricks.v1+cell": {
     "cellMetadata": {},
     "inputWidgets": {},
     "nuid": "fb4ebac7-08da-4e3d-ada3-42b83b33bebe",
     "showTitle": false,
     "title": ""
    }
   },
   "outputs": [
    {
     "data": {
      "text/html": [
       "<style scoped>\n",
       "  .ansiout {\n",
       "    display: block;\n",
       "    unicode-bidi: embed;\n",
       "    white-space: pre-wrap;\n",
       "    word-wrap: break-word;\n",
       "    word-break: break-all;\n",
       "    font-family: \"Source Code Pro\", \"Menlo\", monospace;;\n",
       "    font-size: 13px;\n",
       "    color: #555;\n",
       "    margin-left: 4px;\n",
       "    line-height: 19px;\n",
       "  }\n",
       "</style>\n",
       "<div class=\"ansiout\"></div>"
      ]
     },
     "metadata": {
      "application/vnd.databricks.v1+output": {
       "addedWidgets": {},
       "arguments": {},
       "data": "<div class=\"ansiout\"></div>",
       "datasetInfos": [],
       "metadata": {},
       "removedWidgets": [],
       "type": "html"
      }
     },
     "output_type": "display_data"
    }
   ],
   "source": [
    "def train_test_split_date(df, split_col):\n",
    "  \"\"\"Calculate the date to split test and training sets\"\"\"\n",
    "  max_date = df.agg({split_col: 'max'}).collect()[0][0] # latest date in dataset\n",
    "  min_date = df.agg({split_col: 'min'}).collect()[0][0] # earliest date in dataset\n",
    "  range_in_days = max_date - min_date\n",
    "  split_date = max_date - timedelta(days=(range_in_days * 0.2).days) # testset = 20%\n",
    "  return split_date"
   ]
  },
  {
   "cell_type": "code",
   "execution_count": 0,
   "metadata": {
    "application/vnd.databricks.v1+cell": {
     "cellMetadata": {},
     "inputWidgets": {},
     "nuid": "d1fbcf05-6dcc-400f-b61a-bda96cae63ef",
     "showTitle": false,
     "title": ""
    }
   },
   "outputs": [
    {
     "data": {
      "text/html": [
       "<style scoped>\n",
       "  .ansiout {\n",
       "    display: block;\n",
       "    unicode-bidi: embed;\n",
       "    white-space: pre-wrap;\n",
       "    word-wrap: break-word;\n",
       "    word-break: break-all;\n",
       "    font-family: \"Source Code Pro\", \"Menlo\", monospace;;\n",
       "    font-size: 13px;\n",
       "    color: #555;\n",
       "    margin-left: 4px;\n",
       "    line-height: 19px;\n",
       "  }\n",
       "</style>\n",
       "<div class=\"ansiout\">train_df rows/cols:  23376 15\n",
       "test_df rows/cols:  5856 15\n",
       "</div>"
      ]
     },
     "metadata": {
      "application/vnd.databricks.v1+output": {
       "addedWidgets": {},
       "arguments": {},
       "data": "<div class=\"ansiout\">train_df rows/cols:  23376 15\ntest_df rows/cols:  5856 15\n</div>",
       "datasetInfos": [],
       "metadata": {},
       "removedWidgets": [],
       "type": "html"
      }
     },
     "output_type": "display_data"
    }
   ],
   "source": [
    "# Find the date to use in spitting test and train\n",
    "split_date = train_test_split_date(data_df, 'date')\n",
    "\n",
    "# Create Sequential Test and Training Sets\n",
    "train_df = data_df.where(data_df['date'] < split_date) \n",
    "test_df = data_df.where(data_df['date'] >= split_date)\n",
    "\n",
    "print(\"train_df rows/cols: \", train_df.count(), len(train_df.columns))\n",
    "print(\"test_df rows/cols: \", test_df.count(), len(test_df.columns))"
   ]
  },
  {
   "cell_type": "code",
   "execution_count": 0,
   "metadata": {
    "application/vnd.databricks.v1+cell": {
     "cellMetadata": {},
     "inputWidgets": {},
     "nuid": "7bca899b-8f65-4290-b65b-1e61c9dc0d49",
     "showTitle": false,
     "title": ""
    }
   },
   "outputs": [
    {
     "data": {
      "text/html": [
       "<style scoped>\n",
       "  .ansiout {\n",
       "    display: block;\n",
       "    unicode-bidi: embed;\n",
       "    white-space: pre-wrap;\n",
       "    word-wrap: break-word;\n",
       "    word-break: break-all;\n",
       "    font-family: \"Source Code Pro\", \"Menlo\", monospace;;\n",
       "    font-size: 13px;\n",
       "    color: #555;\n",
       "    margin-left: 4px;\n",
       "    line-height: 19px;\n",
       "  }\n",
       "</style>\n",
       "<div class=\"ansiout\"></div>"
      ]
     },
     "metadata": {
      "application/vnd.databricks.v1+output": {
       "addedWidgets": {},
       "arguments": {},
       "data": "<div class=\"ansiout\"></div>",
       "datasetInfos": [],
       "metadata": {},
       "removedWidgets": [],
       "type": "html"
      }
     },
     "output_type": "display_data"
    }
   ],
   "source": [
    "features_nolag = [i for i in list(data_df.columns) if i not in ['production', 'DateTime', 'date', 'day', 'lag_1h', 'lag_24h']] # also exclude target\n",
    "features_wlag1h = [i for i in list(data_df.columns) if i not in ['production', 'DateTime', 'date', 'day', 'lag_24h']] # also exclude target\n",
    "features_wlag24h = [i for i in list(data_df.columns) if i not in ['production', 'DateTime', 'date', 'day', 'lag_1h']] # also exclude target\n",
    "features_wlags = [i for i in list(data_df.columns) if i not in ['production', 'DateTime', 'date', 'day']] # also exclude target"
   ]
  },
  {
   "cell_type": "markdown",
   "metadata": {
    "application/vnd.databricks.v1+cell": {
     "cellMetadata": {},
     "inputWidgets": {},
     "nuid": "cb36d003-d814-4ee7-b8a4-2e410c856f7f",
     "showTitle": false,
     "title": ""
    }
   },
   "source": [
    "### <b style=\"color:blue;\"> Models </b>\n",
    "\n",
    "ML Pipeline"
   ]
  },
  {
   "cell_type": "code",
   "execution_count": 0,
   "metadata": {
    "application/vnd.databricks.v1+cell": {
     "cellMetadata": {},
     "inputWidgets": {},
     "nuid": "a2ff59da-d7e7-48ef-bece-1a22cab0381f",
     "showTitle": false,
     "title": ""
    }
   },
   "outputs": [
    {
     "data": {
      "text/html": [
       "<style scoped>\n",
       "  .ansiout {\n",
       "    display: block;\n",
       "    unicode-bidi: embed;\n",
       "    white-space: pre-wrap;\n",
       "    word-wrap: break-word;\n",
       "    word-break: break-all;\n",
       "    font-family: \"Source Code Pro\", \"Menlo\", monospace;;\n",
       "    font-size: 13px;\n",
       "    color: #555;\n",
       "    margin-left: 4px;\n",
       "    line-height: 19px;\n",
       "  }\n",
       "</style>\n",
       "<div class=\"ansiout\"></div>"
      ]
     },
     "metadata": {
      "application/vnd.databricks.v1+output": {
       "addedWidgets": {},
       "arguments": {},
       "data": "<div class=\"ansiout\"></div>",
       "datasetInfos": [],
       "metadata": {},
       "removedWidgets": [],
       "type": "html"
      }
     },
     "output_type": "display_data"
    }
   ],
   "source": [
    "vec_assembler_nolag = VectorAssembler(inputCols=features_nolag, outputCol='features') # Feature Assembler\n",
    "vec_assembler_wlag1h = VectorAssembler(inputCols=features_wlag1h, outputCol='features') # Feature Assembler\n",
    "vec_assembler_wlag24h = VectorAssembler(inputCols=features_wlag24h, outputCol='features') # Feature Assembler\n",
    "vec_assembler_wlags = VectorAssembler(inputCols=features_wlags, outputCol='features') # Feature Assembler\n",
    "\n",
    "#data_df = vec.transform(data_df)"
   ]
  },
  {
   "cell_type": "markdown",
   "metadata": {
    "application/vnd.databricks.v1+cell": {
     "cellMetadata": {},
     "inputWidgets": {},
     "nuid": "9d5d08e2-7018-4ac9-89ad-d31dc5edea80",
     "showTitle": false,
     "title": ""
    }
   },
   "source": [
    "#### <b style=\"color:blue;\"> Random Forest Regression</b>\n",
    "[PySpark Reference](https://spark.apache.org/docs/latest/api/python/reference/api/pyspark.ml.regression.RandomForestRegressor.html#pyspark.ml.regression.RandomForestRegressor)"
   ]
  },
  {
   "cell_type": "code",
   "execution_count": 0,
   "metadata": {
    "application/vnd.databricks.v1+cell": {
     "cellMetadata": {},
     "inputWidgets": {},
     "nuid": "f96252e7-9c70-47e5-8868-dd80a1259934",
     "showTitle": false,
     "title": ""
    }
   },
   "outputs": [
    {
     "data": {
      "text/html": [
       "<style scoped>\n",
       "  .ansiout {\n",
       "    display: block;\n",
       "    unicode-bidi: embed;\n",
       "    white-space: pre-wrap;\n",
       "    word-wrap: break-word;\n",
       "    word-break: break-all;\n",
       "    font-family: \"Source Code Pro\", \"Menlo\", monospace;;\n",
       "    font-size: 13px;\n",
       "    color: #555;\n",
       "    margin-left: 4px;\n",
       "    line-height: 19px;\n",
       "  }\n",
       "</style>\n",
       "<div class=\"ansiout\"></div>"
      ]
     },
     "metadata": {
      "application/vnd.databricks.v1+output": {
       "addedWidgets": {},
       "arguments": {},
       "data": "<div class=\"ansiout\"></div>",
       "datasetInfos": [],
       "metadata": {},
       "removedWidgets": [],
       "type": "html"
      }
     },
     "output_type": "display_data"
    }
   ],
   "source": [
    "rf = RandomForestRegressor(featuresCol=\"features\", labelCol=\"production\", predictionCol=\"predicted_production\", # predictionCol=\"predicted_production\",   # FALLS NOTWENDIG, ÜBERALL ANPASSEN\n",
    "                           seed=42 \n",
    "                           ) \n",
    "\n",
    "evaluator = RegressionEvaluator(labelCol=\"production\",  \n",
    "                                predictionCol=\"predicted_production\") # predictionCol=\"predicted_production\")   # FALLS NOTWENDIG, ÜBERALL ANPASSEN\n",
    "\n",
    "model_name = \"rf\" # for DF"
   ]
  },
  {
   "cell_type": "code",
   "execution_count": 0,
   "metadata": {
    "application/vnd.databricks.v1+cell": {
     "cellMetadata": {},
     "inputWidgets": {},
     "nuid": "da8a0253-3421-4680-9b24-87eb9e30f670",
     "showTitle": false,
     "title": ""
    }
   },
   "outputs": [
    {
     "data": {
      "text/html": [
       "<style scoped>\n",
       "  .ansiout {\n",
       "    display: block;\n",
       "    unicode-bidi: embed;\n",
       "    white-space: pre-wrap;\n",
       "    word-wrap: break-word;\n",
       "    word-break: break-all;\n",
       "    font-family: \"Source Code Pro\", \"Menlo\", monospace;;\n",
       "    font-size: 13px;\n",
       "    color: #555;\n",
       "    margin-left: 4px;\n",
       "    line-height: 19px;\n",
       "  }\n",
       "</style>\n",
       "<div class=\"ansiout\"></div>"
      ]
     },
     "metadata": {
      "application/vnd.databricks.v1+output": {
       "addedWidgets": {},
       "arguments": {},
       "data": "<div class=\"ansiout\"></div>",
       "datasetInfos": [],
       "metadata": {},
       "removedWidgets": [],
       "type": "html"
      }
     },
     "output_type": "display_data"
    }
   ],
   "source": [
    "pipeline_nolag = Pipeline(stages=[vec_assembler_nolag, rf])\n",
    "rf_model_nolag = pipeline_nolag.fit(train_df)\n",
    "rf_prediction_nolag = rf_model_nolag.transform(test_df)"
   ]
  },
  {
   "cell_type": "code",
   "execution_count": 0,
   "metadata": {
    "application/vnd.databricks.v1+cell": {
     "cellMetadata": {},
     "inputWidgets": {},
     "nuid": "6bb4734e-a7d5-4040-ad2c-e9c65ff4f14b",
     "showTitle": false,
     "title": ""
    }
   },
   "outputs": [
    {
     "data": {
      "text/html": [
       "<style scoped>\n",
       "  .ansiout {\n",
       "    display: block;\n",
       "    unicode-bidi: embed;\n",
       "    white-space: pre-wrap;\n",
       "    word-wrap: break-word;\n",
       "    word-break: break-all;\n",
       "    font-family: \"Source Code Pro\", \"Menlo\", monospace;;\n",
       "    font-size: 13px;\n",
       "    color: #555;\n",
       "    margin-left: 4px;\n",
       "    line-height: 19px;\n",
       "  }\n",
       "</style>\n",
       "<div class=\"ansiout\"></div>"
      ]
     },
     "metadata": {
      "application/vnd.databricks.v1+output": {
       "addedWidgets": {},
       "arguments": {},
       "data": "<div class=\"ansiout\"></div>",
       "datasetInfos": [],
       "metadata": {},
       "removedWidgets": [],
       "type": "html"
      }
     },
     "output_type": "display_data"
    }
   ],
   "source": [
    "#rf_prediction.head(1)"
   ]
  },
  {
   "cell_type": "code",
   "execution_count": 0,
   "metadata": {
    "application/vnd.databricks.v1+cell": {
     "cellMetadata": {},
     "inputWidgets": {},
     "nuid": "56e59a2d-1e05-4bb5-be35-f55d62ba6a70",
     "showTitle": false,
     "title": ""
    }
   },
   "outputs": [
    {
     "data": {
      "text/html": [
       "<style scoped>\n",
       "  .ansiout {\n",
       "    display: block;\n",
       "    unicode-bidi: embed;\n",
       "    white-space: pre-wrap;\n",
       "    word-wrap: break-word;\n",
       "    word-break: break-all;\n",
       "    font-family: \"Source Code Pro\", \"Menlo\", monospace;;\n",
       "    font-size: 13px;\n",
       "    color: #555;\n",
       "    margin-left: 4px;\n",
       "    line-height: 19px;\n",
       "  }\n",
       "</style>\n",
       "<div class=\"ansiout\"></div>"
      ]
     },
     "metadata": {
      "application/vnd.databricks.v1+output": {
       "addedWidgets": {},
       "arguments": {},
       "data": "<div class=\"ansiout\"></div>",
       "datasetInfos": [],
       "metadata": {},
       "removedWidgets": [],
       "type": "html"
      }
     },
     "output_type": "display_data"
    }
   ],
   "source": [
    "#display(rf_prediction.describe())"
   ]
  },
  {
   "cell_type": "code",
   "execution_count": 0,
   "metadata": {
    "application/vnd.databricks.v1+cell": {
     "cellMetadata": {},
     "inputWidgets": {},
     "nuid": "05c9d11a-903c-4c2e-8f24-5af266f97f69",
     "showTitle": false,
     "title": ""
    }
   },
   "outputs": [
    {
     "data": {
      "text/html": [
       "<style scoped>\n",
       "  .ansiout {\n",
       "    display: block;\n",
       "    unicode-bidi: embed;\n",
       "    white-space: pre-wrap;\n",
       "    word-wrap: break-word;\n",
       "    word-break: break-all;\n",
       "    font-family: \"Source Code Pro\", \"Menlo\", monospace;;\n",
       "    font-size: 13px;\n",
       "    color: #555;\n",
       "    margin-left: 4px;\n",
       "    line-height: 19px;\n",
       "  }\n",
       "</style>\n",
       "<div class=\"ansiout\"></div>"
      ]
     },
     "metadata": {
      "application/vnd.databricks.v1+output": {
       "addedWidgets": {},
       "arguments": {},
       "data": "<div class=\"ansiout\"></div>",
       "datasetInfos": [],
       "metadata": {},
       "removedWidgets": [],
       "type": "html"
      }
     },
     "output_type": "display_data"
    }
   ],
   "source": [
    "rf_rmse_nolag = evaluator.evaluate(rf_prediction_nolag, {evaluator.metricName: \"rmse\"}) \n",
    "rf_r2_nolag = evaluator.evaluate(rf_prediction_nolag, {evaluator.metricName: \"r2\"}) \n",
    "#print('RMSE: ' + str(rf_rmse_nolag)) \n",
    "#print('R^2: ' + str(rf_r2_nolag)) "
   ]
  },
  {
   "cell_type": "code",
   "execution_count": 0,
   "metadata": {
    "application/vnd.databricks.v1+cell": {
     "cellMetadata": {},
     "inputWidgets": {},
     "nuid": "1d7f7360-e0b2-4a53-b719-7248757a7b92",
     "showTitle": false,
     "title": ""
    }
   },
   "outputs": [
    {
     "data": {
      "text/html": [
       "<style scoped>\n",
       "  .ansiout {\n",
       "    display: block;\n",
       "    unicode-bidi: embed;\n",
       "    white-space: pre-wrap;\n",
       "    word-wrap: break-word;\n",
       "    word-break: break-all;\n",
       "    font-family: \"Source Code Pro\", \"Menlo\", monospace;;\n",
       "    font-size: 13px;\n",
       "    color: #555;\n",
       "    margin-left: 4px;\n",
       "    line-height: 19px;\n",
       "  }\n",
       "</style>\n",
       "<div class=\"ansiout\"></div>"
      ]
     },
     "metadata": {
      "application/vnd.databricks.v1+output": {
       "addedWidgets": {},
       "arguments": {},
       "data": "<div class=\"ansiout\"></div>",
       "datasetInfos": [],
       "metadata": {},
       "removedWidgets": [],
       "type": "html"
      }
     },
     "output_type": "display_data"
    }
   ],
   "source": [
    "columns_DF = ['Model', 'Input Data', 'RMSE', 'R^2']\n",
    "evaluation_DF = spark.createDataFrame([[model_name, 'no lag', rf_rmse_nolag, rf_r2_nolag]], columns_DF)"
   ]
  },
  {
   "cell_type": "code",
   "execution_count": 0,
   "metadata": {
    "application/vnd.databricks.v1+cell": {
     "cellMetadata": {},
     "inputWidgets": {},
     "nuid": "c0c02767-5afb-458f-8712-a650812538a5",
     "showTitle": false,
     "title": ""
    }
   },
   "outputs": [
    {
     "data": {
      "text/html": [
       "<style scoped>\n",
       "  .ansiout {\n",
       "    display: block;\n",
       "    unicode-bidi: embed;\n",
       "    white-space: pre-wrap;\n",
       "    word-wrap: break-word;\n",
       "    word-break: break-all;\n",
       "    font-family: \"Source Code Pro\", \"Menlo\", monospace;;\n",
       "    font-size: 13px;\n",
       "    color: #555;\n",
       "    margin-left: 4px;\n",
       "    line-height: 19px;\n",
       "  }\n",
       "</style>\n",
       "<div class=\"ansiout\"></div>"
      ]
     },
     "metadata": {
      "application/vnd.databricks.v1+output": {
       "addedWidgets": {},
       "arguments": {},
       "data": "<div class=\"ansiout\"></div>",
       "datasetInfos": [],
       "metadata": {},
       "removedWidgets": [],
       "type": "html"
      }
     },
     "output_type": "display_data"
    }
   ],
   "source": [
    "# lag 1h\n",
    "pipeline_wlag1h = Pipeline(stages=[vec_assembler_wlag1h, rf])\n",
    "rf_model_wlag1h = pipeline_wlag1h.fit(train_df)\n",
    "rf_prediction_wlag1h = rf_model_wlag1h.transform(test_df)\n",
    "\n",
    "rf_rmse_wlag1h = evaluator.evaluate(rf_prediction_wlag1h, {evaluator.metricName: \"rmse\"}) \n",
    "rf_r2_wlag1h = evaluator.evaluate(rf_prediction_wlag1h, {evaluator.metricName: \"r2\"}) \n",
    "#print('RMSE: ' + str(rf_rmse_wlag1h)) \n",
    "#print('R^2: ' + str(rf_r2_wlag1h)) \n",
    "\n",
    "newRow = spark.createDataFrame([[model_name, 'with lag 1 hour', rf_rmse_wlag1h, rf_r2_wlag1h]], columns_DF)\n",
    "evaluation_DF = evaluation_DF.union(newRow)"
   ]
  },
  {
   "cell_type": "code",
   "execution_count": 0,
   "metadata": {
    "application/vnd.databricks.v1+cell": {
     "cellMetadata": {},
     "inputWidgets": {},
     "nuid": "e3e22195-9583-4378-96f3-64c6fbf82c01",
     "showTitle": false,
     "title": ""
    }
   },
   "outputs": [
    {
     "data": {
      "text/html": [
       "<style scoped>\n",
       "  .ansiout {\n",
       "    display: block;\n",
       "    unicode-bidi: embed;\n",
       "    white-space: pre-wrap;\n",
       "    word-wrap: break-word;\n",
       "    word-break: break-all;\n",
       "    font-family: \"Source Code Pro\", \"Menlo\", monospace;;\n",
       "    font-size: 13px;\n",
       "    color: #555;\n",
       "    margin-left: 4px;\n",
       "    line-height: 19px;\n",
       "  }\n",
       "</style>\n",
       "<div class=\"ansiout\"></div>"
      ]
     },
     "metadata": {
      "application/vnd.databricks.v1+output": {
       "addedWidgets": {},
       "arguments": {},
       "data": "<div class=\"ansiout\"></div>",
       "datasetInfos": [],
       "metadata": {},
       "removedWidgets": [],
       "type": "html"
      }
     },
     "output_type": "display_data"
    }
   ],
   "source": [
    "# lag 24h\n",
    "pipeline_wlag24h = Pipeline(stages=[vec_assembler_wlag24h, rf])\n",
    "rf_model_wlag24h = pipeline_wlag24h.fit(train_df)\n",
    "rf_prediction_wlag24h = rf_model_wlag24h.transform(test_df)\n",
    "\n",
    "rf_rmse_wlag24h = evaluator.evaluate(rf_prediction_wlag24h, {evaluator.metricName: \"rmse\"}) \n",
    "rf_r2_wlag24h = evaluator.evaluate(rf_prediction_wlag24h, {evaluator.metricName: \"r2\"}) \n",
    "#print('RMSE: ' + str(rf_rmse_wlag24h)) \n",
    "#print('R^2: ' + str(rf_r2_wlag24h)) \n",
    "\n",
    "newRow = spark.createDataFrame([[model_name, 'with lag 24 hours', rf_rmse_wlag24h, rf_r2_wlag24h]], columns_DF)\n",
    "evaluation_DF = evaluation_DF.union(newRow)\n"
   ]
  },
  {
   "cell_type": "code",
   "execution_count": 0,
   "metadata": {
    "application/vnd.databricks.v1+cell": {
     "cellMetadata": {},
     "inputWidgets": {},
     "nuid": "e645eff9-4594-47d3-b6cf-480051cd09d4",
     "showTitle": false,
     "title": ""
    }
   },
   "outputs": [
    {
     "data": {
      "text/html": [
       "<style scoped>\n",
       "  .ansiout {\n",
       "    display: block;\n",
       "    unicode-bidi: embed;\n",
       "    white-space: pre-wrap;\n",
       "    word-wrap: break-word;\n",
       "    word-break: break-all;\n",
       "    font-family: \"Source Code Pro\", \"Menlo\", monospace;;\n",
       "    font-size: 13px;\n",
       "    color: #555;\n",
       "    margin-left: 4px;\n",
       "    line-height: 19px;\n",
       "  }\n",
       "</style>\n",
       "<div class=\"ansiout\"></div>"
      ]
     },
     "metadata": {
      "application/vnd.databricks.v1+output": {
       "addedWidgets": {},
       "arguments": {},
       "data": "<div class=\"ansiout\"></div>",
       "datasetInfos": [],
       "metadata": {},
       "removedWidgets": [],
       "type": "html"
      }
     },
     "output_type": "display_data"
    }
   ],
   "source": [
    "# lags\n",
    "pipeline_wlags = Pipeline(stages=[vec_assembler_wlags, rf])\n",
    "rf_model_wlags = pipeline_wlags.fit(train_df)\n",
    "rf_prediction_wlags = rf_model_wlags.transform(test_df)\n",
    "\n",
    "rf_rmse_wlags = evaluator.evaluate(rf_prediction_wlags, {evaluator.metricName: \"rmse\"}) \n",
    "rf_r2_wlags = evaluator.evaluate(rf_prediction_wlags, {evaluator.metricName: \"r2\"}) \n",
    "#print('RMSE: ' + str(rf_rmse_wlags)) \n",
    "#print('R^2: ' + str(rf_r2_wlags)) \n",
    "\n",
    "newRow = spark.createDataFrame([[model_name, 'with lags', rf_rmse_wlags, rf_r2_wlags]], columns_DF)\n",
    "evaluation_DF = evaluation_DF.union(newRow)"
   ]
  },
  {
   "cell_type": "code",
   "execution_count": 0,
   "metadata": {
    "application/vnd.databricks.v1+cell": {
     "cellMetadata": {},
     "inputWidgets": {},
     "nuid": "1bcaf909-e325-4081-b683-5f7924bd9006",
     "showTitle": false,
     "title": ""
    }
   },
   "outputs": [
    {
     "data": {
      "text/html": [
       "<style scoped>\n",
       "  .ansiout {\n",
       "    display: block;\n",
       "    unicode-bidi: embed;\n",
       "    white-space: pre-wrap;\n",
       "    word-wrap: break-word;\n",
       "    word-break: break-all;\n",
       "    font-family: \"Source Code Pro\", \"Menlo\", monospace;;\n",
       "    font-size: 13px;\n",
       "    color: #555;\n",
       "    margin-left: 4px;\n",
       "    line-height: 19px;\n",
       "  }\n",
       "</style>\n",
       "<div class=\"ansiout\">(10,[0,1,2,3,4,5,6,7,8,9],[7.034528289228866e-05,0.26791026184929434,0.0004171679569694342,0.01611318128254171,5.572484939467409e-05,0.005853006414274052,0.11810193096971482,0.0020048254464095482,0.02398324943914442,0.5654903065093648])\n",
       "</div>"
      ]
     },
     "metadata": {
      "application/vnd.databricks.v1+output": {
       "addedWidgets": {},
       "arguments": {},
       "data": "<div class=\"ansiout\">(10,[0,1,2,3,4,5,6,7,8,9],[7.034528289228866e-05,0.26791026184929434,0.0004171679569694342,0.01611318128254171,5.572484939467409e-05,0.005853006414274052,0.11810193096971482,0.0020048254464095482,0.02398324943914442,0.5654903065093648])\n</div>",
       "datasetInfos": [],
       "metadata": {},
       "removedWidgets": [],
       "type": "html"
      }
     },
     "output_type": "display_data"
    }
   ],
   "source": [
    "tree = rf_model_wlag1h.stages[-1]\n",
    "print(tree.featureImportances) # load feature importance from the model object"
   ]
  },
  {
   "cell_type": "code",
   "execution_count": 0,
   "metadata": {
    "application/vnd.databricks.v1+cell": {
     "cellMetadata": {},
     "inputWidgets": {},
     "nuid": "14a04319-6e92-4e9b-847a-31ed759da281",
     "showTitle": false,
     "title": ""
    }
   },
   "outputs": [
    {
     "data": {
      "text/html": [
       "<style scoped>\n",
       "  .ansiout {\n",
       "    display: block;\n",
       "    unicode-bidi: embed;\n",
       "    white-space: pre-wrap;\n",
       "    word-wrap: break-word;\n",
       "    word-break: break-all;\n",
       "    font-family: \"Source Code Pro\", \"Menlo\", monospace;;\n",
       "    font-size: 13px;\n",
       "    color: #555;\n",
       "    margin-left: 4px;\n",
       "    line-height: 19px;\n",
       "  }\n",
       "</style>\n",
       "<div class=\"ansiout\">Trees with Nodes: RandomForestRegressionModel: uid=RandomForestRegressor_25f99bc303a5, numTrees=20, numFeatures=10\n",
       "  Tree 0 (weight 1.0):\n",
       "    If (feature 8 &lt;= 39.5)\n",
       "     If (feature 1 &lt;= 17.5)\n",
       "      If (feature 1 &lt;= 0.5)\n",
       "       If (feature 9 &lt;= 3.8175)\n",
       "        If (feature 6 &lt;= 7.5)\n",
       "         Predict: 0.008625918924595674\n",
       "        Else (feature 6 &gt; 7.5)\n",
       "         Predict: 0.36396208530805685\n",
       "       Else (feature 9 &gt; 3.8175)\n",
       "        If (feature 3 &lt;= 4.36666666675)\n",
       "         Predict: 3.041021739130435\n",
       "        Else (feature 3 &gt; 4.36666666675)\n",
       "         Predict: 4.23403007518797\n",
       "      Else (feature 1 &gt; 0.5)\n",
       "       If (feature 9 &lt;= 3.8175)\n",
       "        If (feature 1 &lt;= 4.5)\n",
       "         Predict: 1.2047225274725277\n",
       "        Else (feature 1 &gt; 4.5)\n",
       "         Predict: 1.6006983240223465\n",
       "       Else (feature 9 &gt; 3.8175)\n",
       "        If (feature 6 &lt;= 16.5)\n",
       "         Predict: 5.10763768115942\n",
       "        Else (feature 6 &gt; 16.5)\n",
       "         Predict: 3.3010434782608686\n",
       "     Else (feature 1 &gt; 17.5)\n",
       "      If (feature 3 &lt;= 3.80833333325)\n",
       "       If (feature 6 &lt;= 8.5)\n",
       "        If (feature 2 &lt;= 198.583333325)\n",
       "         Predict: 0.30301\n",
       "        Else (feature 2 &gt; 198.583333325)\n",
       "         Predict: 0.6930606060606064\n",
       "       Else (feature 6 &gt; 8.5)\n",
       "        If (feature 9 &lt;= 4.6884999999999994)\n",
       "         Predict: 3.149854368932038\n",
       "        Else (feature 9 &gt; 4.6884999999999994)\n",
       "         Predict: 5.10964197530864\n",
       "      Else (feature 3 &gt; 3.80833333325)\n",
       "       If (feature 5 &lt;= 2.5)\n",
       "        If (feature 6 &lt;= 9.5)\n",
       "         Predict: 0.8379480519480519\n",
       "        Else (feature 6 &gt; 9.5)\n",
       "         Predict: 3.8957563559322033\n",
       "       Else (feature 5 &gt; 2.5)\n",
       "        If (feature 3 &lt;= 5.40833333325)\n",
       "         Predict: 4.464601418439716\n",
       "        Else (feature 3 &gt; 5.40833333325)\n",
       "         Predict: 5.82210507505361\n",
       "    Else (feature 8 &gt; 39.5)\n",
       "     If (feature 9 &lt;= 1.58)\n",
       "      If (feature 1 &lt;= 0.5)\n",
       "       If (feature 6 &lt;= 7.5)\n",
       "        If (feature 8 &lt;= 46.5)\n",
       "         Predict: 7.976513098464318E-4\n",
       "        Else (feature 8 &gt; 46.5)\n",
       "         Predict: 2.644466209598435E-5\n",
       "       Else (feature 6 &gt; 7.5)\n",
       "        If (feature 9 &lt;= 0.316)\n",
       "         Predict: 0.058258855585831076\n",
       "        Else (feature 9 &gt; 0.316)\n",
       "         Predict: 0.7020778443113775\n",
       "      Else (feature 1 &gt; 0.5)\n",
       "       If (feature 6 &lt;= 8.5)\n",
       "        If (feature 8 &lt;= 42.5)\n",
       "         Predict: 0.0946923076923077\n",
       "        Else (feature 8 &gt; 42.5)\n",
       "         Predict: 0.22543859649122802\n",
       "       Else (feature 6 &gt; 8.5)\n",
       "        If (feature 6 &lt;= 9.5)\n",
       "         Predict: 1.1541226415094339\n",
       "        Else (feature 6 &gt; 9.5)\n",
       "         Predict: 1.698404255319149\n",
       "     Else (feature 9 &gt; 1.58)\n",
       "      If (feature 5 &lt;= 10.5)\n",
       "       If (feature 1 &lt;= 19.5)\n",
       "        If (feature 6 &lt;= 15.5)\n",
       "         Predict: 2.912131313131313\n",
       "        Else (feature 6 &gt; 15.5)\n",
       "         Predict: 1.3514268292682927\n",
       "       Else (feature 1 &gt; 19.5)\n",
       "        If (feature 1 &lt;= 49.5)\n",
       "         Predict: 3.7948125000000004\n",
       "        Else (feature 1 &gt; 49.5)\n",
       "         Predict: 4.616976076555023\n",
       "      Else (feature 5 &gt; 10.5)\n",
       "       If (feature 1 &lt;= 25.5)\n",
       "        If (feature 0 &lt;= 0.102469136)\n",
       "         Predict: 2.045456852791878\n",
       "        Else (feature 0 &gt; 0.102469136)\n",
       "         Predict: 0.9974285714285754\n",
       "       Else (feature 1 &gt; 25.5)\n",
       "        If (feature 6 &lt;= 14.5)\n",
       "         Predict: 3.6932808219178086\n",
       "        Else (feature 6 &gt; 14.5)\n",
       "         Predict: 1.9126923076923084\n",
       "  Tree 1 (weight 1.0):\n",
       "    If (feature 6 &lt;= 8.5)\n",
       "     If (feature 9 &lt;= 0.0695)\n",
       "      If (feature 1 &lt;= 0.5)\n",
       "       If (feature 6 &lt;= 6.5)\n",
       "        If (feature 9 &lt;= 5.0E-4)\n",
       "         Predict: 5.410778071129056E-4\n",
       "        Else (feature 9 &gt; 5.0E-4)\n",
       "         Predict: 0.19833333333333333\n",
       "       Else (feature 6 &gt; 6.5)\n",
       "        If (feature 9 &lt;= 5.0E-4)\n",
       "         Predict: 0.02727062228654124\n",
       "        Else (feature 9 &gt; 5.0E-4)\n",
       "         Predict: 0.2809875\n",
       "      Else (feature 1 &gt; 0.5)\n",
       "       If (feature 6 &lt;= 6.5)\n",
       "        If (feature 5 &lt;= 7.5)\n",
       "         Predict: 0.05911711711711712\n",
       "        Else (feature 5 &gt; 7.5)\n",
       "         Predict: 0.006405797101449278\n",
       "       Else (feature 6 &gt; 6.5)\n",
       "        If (feature 9 &lt;= 0.0115)\n",
       "         Predict: 0.12233865814696486\n",
       "        Else (feature 9 &gt; 0.0115)\n",
       "         Predict: 0.47547297297297303\n",
       "     Else (feature 9 &gt; 0.0695)\n",
       "      If (feature 9 &lt;= 0.316)\n",
       "       If (feature 9 &lt;= 0.15899999999999997)\n",
       "        If (feature 8 &lt;= 32.5)\n",
       "         Predict: 0.5976241134751773\n",
       "        Else (feature 8 &gt; 32.5)\n",
       "         Predict: 0.8142884615384616\n",
       "       Else (feature 9 &gt; 0.15899999999999997)\n",
       "        If (feature 8 &lt;= 19.5)\n",
       "         Predict: 1.3537543859649124\n",
       "        Else (feature 8 &gt; 19.5)\n",
       "         Predict: 0.9242403100775193\n",
       "      Else (feature 9 &gt; 0.316)\n",
       "       If (feature 2 &lt;= 151.0000000075)\n",
       "        If (feature 5 &lt;= 3.5)\n",
       "         Predict: 2.3840909090909093\n",
       "        Else (feature 5 &gt; 3.5)\n",
       "         Predict: 1.6486315789473682\n",
       "       Else (feature 2 &gt; 151.0000000075)\n",
       "        If (feature 5 &lt;= 3.5)\n",
       "         Predict: 2.1491999999999996\n",
       "        Else (feature 5 &gt; 3.5)\n",
       "         Predict: 1.3817410714285716\n",
       "    Else (feature 6 &gt; 8.5)\n",
       "     If (feature 8 &lt;= 39.5)\n",
       "      If (feature 9 &lt;= 3.8175)\n",
       "       If (feature 9 &lt;= 1.1715)\n",
       "        If (feature 9 &lt;= 0.316)\n",
       "         Predict: 0.057601427395004116\n",
       "        Else (feature 9 &gt; 0.316)\n",
       "         Predict: 0.9974902874902875\n",
       "       Else (feature 9 &gt; 1.1715)\n",
       "        If (feature 1 &lt;= 25.5)\n",
       "         Predict: 1.7314831824062085\n",
       "        Else (feature 1 &gt; 25.5)\n",
       "         Predict: 4.1232862957937595\n",
       "      Else (feature 9 &gt; 3.8175)\n",
       "       If (feature 6 &lt;= 15.5)\n",
       "        If (feature 8 &lt;= 7.5)\n",
       "         Predict: 4.249026315789473\n",
       "        Else (feature 8 &gt; 7.5)\n",
       "         Predict: 7.23042361111111\n",
       "       Else (feature 6 &gt; 15.5)\n",
       "        If (feature 9 &lt;= 6.9944999999999995)\n",
       "         Predict: 3.4995822784810127\n",
       "        Else (feature 9 &gt; 6.9944999999999995)\n",
       "         Predict: 6.368576576576576\n",
       "     Else (feature 8 &gt; 39.5)\n",
       "      If (feature 6 &lt;= 15.5)\n",
       "       If (feature 9 &lt;= 1.58)\n",
       "        If (feature 1 &lt;= 5.5)\n",
       "         Predict: 0.6776388329979873\n",
       "        Else (feature 1 &gt; 5.5)\n",
       "         Predict: 1.6155117187499997\n",
       "       Else (feature 9 &gt; 1.58)\n",
       "        If (feature 8 &lt;= 42.5)\n",
       "         Predict: 4.31145701357466\n",
       "        Else (feature 8 &gt; 42.5)\n",
       "         Predict: 3.0014956709956704\n",
       "      Else (feature 6 &gt; 15.5)\n",
       "       If (feature 5 &lt;= 10.5)\n",
       "        If (feature 9 &lt;= 2.9875)\n",
       "         Predict: 0.08892786421499292\n",
       "        Else (feature 9 &gt; 2.9875)\n",
       "         Predict: 2.4687260273972607\n",
       "       Else (feature 5 &gt; 10.5)\n",
       "        If (feature 1 &lt;= 0.5)\n",
       "         Predict: 0.005997931034482759\n",
       "        Else (feature 1 &gt; 0.5)\n",
       "         Predict: 0.28800000000000003\n",
       "  Tree 2 (weight 1.0):\n",
       "    If (feature 1 &lt;= 15.5)\n",
       "     If (feature 9 &lt;= 1.58)\n",
       "      If (feature 3 &lt;= 2.6666666670000003)\n",
       "       If (feature 6 &lt;= 6.5)\n",
       "        If (feature 8 &lt;= 32.5)\n",
       "         Predict: 0.00432128514056225\n",
       "        Else (feature 8 &gt; 32.5)\n",
       "         Predict: 1.6279069767441824E-4\n",
       "       Else (feature 6 &gt; 6.5)\n",
       "        If (feature 9 &lt;= 0.316)\n",
       "         Predict: 0.04691263356379634\n",
       "        Else (feature 9 &gt; 0.316)\n",
       "         Predict: 0.6816446280991737\n",
       "      Else (feature 3 &gt; 2.6666666670000003)\n",
       "       If (feature 9 &lt;= 0.316)\n",
       "        If (feature 2 &lt;= 164.25)\n",
       "         Predict: 0.032569587013607064\n",
       "        Else (feature 2 &gt; 164.25)\n",
       "         Predict: 0.04534559322033898\n",
       "       Else (feature 9 &gt; 0.316)\n",
       "        If (feature 0 &lt;= 0.11975308600000001)\n",
       "         Predict: 0.9076813996316766\n",
       "        Else (feature 0 &gt; 0.11975308600000001)\n",
       "         Predict: 0.6457378917378924\n",
       "     Else (feature 9 &gt; 1.58)\n",
       "      If (feature 6 &lt;= 15.5)\n",
       "       If (feature 7 &lt;= 3.5)\n",
       "        If (feature 9 &lt;= 4.6884999999999994)\n",
       "         Predict: 2.932418467583497\n",
       "        Else (feature 9 &gt; 4.6884999999999994)\n",
       "         Predict: 5.4165653846153825\n",
       "       Else (feature 7 &gt; 3.5)\n",
       "        If (feature 4 &lt;= 2019.5)\n",
       "         Predict: 2.676045454545455\n",
       "        Else (feature 4 &gt; 2019.5)\n",
       "         Predict: 2.2522352941176473\n",
       "      Else (feature 6 &gt; 15.5)\n",
       "       If (feature 9 &lt;= 4.6884999999999994)\n",
       "        If (feature 9 &lt;= 3.8175)\n",
       "         Predict: 1.0398125937031486\n",
       "        Else (feature 9 &gt; 3.8175)\n",
       "         Predict: 2.2205113636363634\n",
       "       Else (feature 9 &gt; 4.6884999999999994)\n",
       "        If (feature 6 &lt;= 17.5)\n",
       "         Predict: 4.08116129032258\n",
       "        Else (feature 6 &gt; 17.5)\n",
       "         Predict: 2.851268292682928\n",
       "    Else (feature 1 &gt; 15.5)\n",
       "     If (feature 9 &lt;= 2.9875)\n",
       "      If (feature 9 &lt;= 0.316)\n",
       "       If (feature 3 &lt;= 2.14166666675)\n",
       "        If (feature 9 &lt;= 0.0075)\n",
       "         Predict: 0.05174501992031872\n",
       "        Else (feature 9 &gt; 0.0075)\n",
       "         Predict: 0.4673333333333332\n",
       "       Else (feature 3 &gt; 2.14166666675)\n",
       "        If (feature 9 &lt;= 0.0695)\n",
       "         Predict: 0.19198294243070363\n",
       "        Else (feature 9 &gt; 0.0695)\n",
       "         Predict: 1.0085578231292514\n",
       "      Else (feature 9 &gt; 0.316)\n",
       "       If (feature 6 &lt;= 8.5)\n",
       "        If (feature 7 &lt;= 1.5)\n",
       "         Predict: 2.57425\n",
       "        Else (feature 7 &gt; 1.5)\n",
       "         Predict: 1.6387905405405405\n",
       "       Else (feature 6 &gt; 8.5)\n",
       "        If (feature 6 &lt;= 13.5)\n",
       "         Predict: 3.3716166253101756\n",
       "        Else (feature 6 &gt; 13.5)\n",
       "         Predict: 2.01473631840796\n",
       "     Else (feature 9 &gt; 2.9875)\n",
       "      If (feature 1 &lt;= 49.5)\n",
       "       If (feature 9 &lt;= 5.7655)\n",
       "        If (feature 6 &lt;= 15.5)\n",
       "         Predict: 4.720973404255319\n",
       "        Else (feature 6 &gt; 15.5)\n",
       "         Predict: 2.5416261682243007\n",
       "       Else (feature 9 &gt; 5.7655)\n",
       "        If (feature 3 &lt;= 22.8458333325)\n",
       "         Predict: 6.838096470588235\n",
       "        Else (feature 3 &gt; 22.8458333325)\n",
       "         Predict: 4.693909090909074\n",
       "      Else (feature 1 &gt; 49.5)\n",
       "       If (feature 7 &lt;= 3.5)\n",
       "        If (feature 3 &lt;= 5.04166666675)\n",
       "         Predict: 5.67121293800539\n",
       "        Else (feature 3 &gt; 5.04166666675)\n",
       "         Predict: 7.200133185349612\n",
       "       Else (feature 7 &gt; 3.5)\n",
       "        If (feature 9 &lt;= 4.6884999999999994)\n",
       "         Predict: 4.017754966887417\n",
       "        Else (feature 9 &gt; 4.6884999999999994)\n",
       "         Predict: 5.10788785046729\n",
       "  Tree 3 (weight 1.0):\n",
       "    If (feature 3 &lt;= 3.80833333325)\n",
       "     If (feature 3 &lt;= 2.9375)\n",
       "      If (feature 1 &lt;= 0.5)\n",
       "       If (feature 9 &lt;= 0.8099999999999999)\n",
       "        If (feature 9 &lt;= 0.013000000000000001)\n",
       "         Predict: 0.003734854888701042\n",
       "        Else (feature 9 &gt; 0.013000000000000001)\n",
       "         Predict: 0.32567170626349895\n",
       "       Else (feature 9 &gt; 0.8099999999999999)\n",
       "        If (feature 6 &lt;= 16.5)\n",
       "         Predict: 1.5763314917127074\n",
       "        Else (feature 6 &gt; 16.5)\n",
       "         Predict: 0.512737288135593\n",
       "      Else (feature 1 &gt; 0.5)\n",
       "       If (feature 9 &lt;= 0.316)\n",
       "        If (feature 9 &lt;= 0.013000000000000001)\n",
       "         Predict: 0.06637626262626262\n",
       "        Else (feature 9 &gt; 0.013000000000000001)\n",
       "         Predict: 0.6972538860103625\n",
       "       Else (feature 9 &gt; 0.316)\n",
       "        If (feature 8 &lt;= 3.5)\n",
       "         Predict: 1.4261666666666668\n",
       "        Else (feature 8 &gt; 3.5)\n",
       "         Predict: 2.4904433497536944\n",
       "     Else (feature 3 &gt; 2.9375)\n",
       "      If (feature 1 &lt;= 1.5)\n",
       "       If (feature 9 &lt;= 1.1715)\n",
       "        If (feature 9 &lt;= 0.316)\n",
       "         Predict: 0.02320846153846154\n",
       "        Else (feature 9 &gt; 0.316)\n",
       "         Predict: 0.5952039473684211\n",
       "       Else (feature 9 &gt; 1.1715)\n",
       "        If (feature 8 &lt;= 29.5)\n",
       "         Predict: 1.8589848484848484\n",
       "        Else (feature 8 &gt; 29.5)\n",
       "         Predict: 1.4101304347826085\n",
       "      Else (feature 1 &gt; 1.5)\n",
       "       If (feature 1 &lt;= 58.5)\n",
       "        If (feature 8 &lt;= 29.5)\n",
       "         Predict: 1.6500546874999997\n",
       "        Else (feature 8 &gt; 29.5)\n",
       "         Predict: 2.5451162790697675\n",
       "       Else (feature 1 &gt; 58.5)\n",
       "        If (feature 8 &lt;= 13.5)\n",
       "         Predict: 4.5563714285714285\n",
       "        Else (feature 8 &gt; 13.5)\n",
       "         Predict: 2.7456932515337433\n",
       "    Else (feature 3 &gt; 3.80833333325)\n",
       "     If (feature 9 &lt;= 2.9875)\n",
       "      If (feature 6 &lt;= 7.5)\n",
       "       If (feature 1 &lt;= 0.5)\n",
       "        If (feature 9 &lt;= 5.0E-4)\n",
       "         Predict: 0.0014498456790123457\n",
       "        Else (feature 9 &gt; 5.0E-4)\n",
       "         Predict: 0.2752394366197183\n",
       "       Else (feature 1 &gt; 0.5)\n",
       "        If (feature 9 &lt;= 0.0055)\n",
       "         Predict: 0.055687499999999994\n",
       "        Else (feature 9 &gt; 0.0055)\n",
       "         Predict: 0.4917631578947368\n",
       "      Else (feature 6 &gt; 7.5)\n",
       "       If (feature 1 &lt;= 0.5)\n",
       "        If (feature 8 &lt;= 9.5)\n",
       "         Predict: 0.15798185776487664\n",
       "        Else (feature 8 &gt; 9.5)\n",
       "         Predict: 0.36986064659977697\n",
       "       Else (feature 1 &gt; 0.5)\n",
       "        If (feature 9 &lt;= 0.8099999999999999)\n",
       "         Predict: 1.2134468704512371\n",
       "        Else (feature 9 &gt; 0.8099999999999999)\n",
       "         Predict: 2.91356884057971\n",
       "     Else (feature 9 &gt; 2.9875)\n",
       "      If (feature 6 &lt;= 16.5)\n",
       "       If (feature 9 &lt;= 5.7655)\n",
       "        If (feature 6 &lt;= 12.5)\n",
       "         Predict: 5.5449482517482505\n",
       "        Else (feature 6 &gt; 12.5)\n",
       "         Predict: 3.9128389731621938\n",
       "       Else (feature 9 &gt; 5.7655)\n",
       "        If (feature 1 &lt;= 9.5)\n",
       "         Predict: 5.507577777777777\n",
       "        Else (feature 1 &gt; 9.5)\n",
       "         Predict: 7.684567616737415\n",
       "      Else (feature 6 &gt; 16.5)\n",
       "       If (feature 9 &lt;= 5.7655)\n",
       "        If (feature 6 &lt;= 18.5)\n",
       "         Predict: 2.615445512820512\n",
       "        Else (feature 6 &gt; 18.5)\n",
       "         Predict: 1.0189268292682925\n",
       "       Else (feature 9 &gt; 5.7655)\n",
       "        If (feature 9 &lt;= 6.9944999999999995)\n",
       "         Predict: 4.188992700729928\n",
       "        Else (feature 9 &gt; 6.9944999999999995)\n",
       "         Predict: 5.639302158273381\n",
       "  Tree 4 (weight 1.0):\n",
       "    If (feature 9 &lt;= 2.9875)\n",
       "     If (feature 9 &lt;= 0.8099999999999999)\n",
       "      If (feature 1 &lt;= 0.5)\n",
       "       If (feature 6 &lt;= 6.5)\n",
       "        If (feature 9 &lt;= 5.0E-4)\n",
       "         Predict: 5.784313725490194E-4\n",
       "        Else (feature 9 &gt; 5.0E-4)\n",
       "         Predict: 0.26533333333333337\n",
       "       Else (feature 6 &gt; 6.5)\n",
       "        If (feature 5 &lt;= 2.5)\n",
       "         Predict: 0.06315331928345626\n",
       "        Else (feature 5 &gt; 2.5)\n",
       "         Predict: 0.13176906096111396\n",
       "      Else (feature 1 &gt; 0.5)\n",
       "       If (feature 6 &lt;= 7.5)\n",
       "        If (feature 9 &lt;= 0.0075)\n",
       "         Predict: 0.05395102685624012\n",
       "        Else (feature 9 &gt; 0.0075)\n",
       "         Predict: 0.47188709677419344\n",
       "       Else (feature 6 &gt; 7.5)\n",
       "        If (feature 9 &lt;= 0.15899999999999997)\n",
       "         Predict: 0.518853904282116\n",
       "        Else (feature 9 &gt; 0.15899999999999997)\n",
       "         Predict: 1.673118699186992\n",
       "     Else (feature 9 &gt; 0.8099999999999999)\n",
       "      If (feature 1 &lt;= 20.5)\n",
       "       If (feature 1 &lt;= 0.5)\n",
       "        If (feature 6 &lt;= 14.5)\n",
       "         Predict: 1.8110106382978723\n",
       "        Else (feature 6 &gt; 14.5)\n",
       "         Predict: 0.5627874285714289\n",
       "       Else (feature 1 &gt; 0.5)\n",
       "        If (feature 6 &lt;= 14.5)\n",
       "         Predict: 2.615448753462604\n",
       "        Else (feature 6 &gt; 14.5)\n",
       "         Predict: 1.0073664596273273\n",
       "      Else (feature 1 &gt; 20.5)\n",
       "       If (feature 9 &lt;= 1.1715)\n",
       "        If (feature 8 &lt;= 1.5)\n",
       "         Predict: 0.7516666666666666\n",
       "        Else (feature 8 &gt; 1.5)\n",
       "         Predict: 2.706792\n",
       "       Else (feature 9 &gt; 1.1715)\n",
       "        If (feature 6 &lt;= 13.5)\n",
       "         Predict: 3.891404850746269\n",
       "        Else (feature 6 &gt; 13.5)\n",
       "         Predict: 2.561966666666668\n",
       "    Else (feature 9 &gt; 2.9875)\n",
       "     If (feature 8 &lt;= 38.5)\n",
       "      If (feature 6 &lt;= 16.5)\n",
       "       If (feature 1 &lt;= 25.5)\n",
       "        If (feature 4 &lt;= 2021.5)\n",
       "         Predict: 4.672811678832119\n",
       "        Else (feature 4 &gt; 2021.5)\n",
       "         Predict: 2.8455135135135166\n",
       "       Else (feature 1 &gt; 25.5)\n",
       "        If (feature 9 &lt;= 6.9944999999999995)\n",
       "         Predict: 5.99832113821138\n",
       "        Else (feature 9 &gt; 6.9944999999999995)\n",
       "         Predict: 8.306355023923441\n",
       "      Else (feature 6 &gt; 16.5)\n",
       "       If (feature 9 &lt;= 5.7655)\n",
       "        If (feature 7 &lt;= 1.5)\n",
       "         Predict: 1.3120196078431374\n",
       "        Else (feature 7 &gt; 1.5)\n",
       "         Predict: 2.231526666666667\n",
       "       Else (feature 9 &gt; 5.7655)\n",
       "        If (feature 6 &lt;= 17.5)\n",
       "         Predict: 5.526361111111112\n",
       "        Else (feature 6 &gt; 17.5)\n",
       "         Predict: 3.6183980582524264\n",
       "     Else (feature 8 &gt; 38.5)\n",
       "      If (feature 1 &lt;= 10.5)\n",
       "       If (feature 6 &lt;= 14.5)\n",
       "        If (feature 8 &lt;= 39.5)\n",
       "         Predict: 4.315666666666667\n",
       "        Else (feature 8 &gt; 39.5)\n",
       "         Predict: 3.1462857142857144\n",
       "       Else (feature 6 &gt; 14.5)\n",
       "        If (feature 5 &lt;= 9.5)\n",
       "         Predict: 3.2434444444444446\n",
       "        Else (feature 5 &gt; 9.5)\n",
       "         Predict: 1.8083432835820894\n",
       "      Else (feature 1 &gt; 10.5)\n",
       "       If (feature 6 &lt;= 14.5)\n",
       "        If (feature 3 &lt;= 4.083333333000001)\n",
       "         Predict: 3.993814814814815\n",
       "        Else (feature 3 &gt; 4.083333333000001)\n",
       "         Predict: 4.848330396475771\n",
       "       Else (feature 6 &gt; 14.5)\n",
       "        If (feature 5 &lt;= 10.5)\n",
       "         Predict: 3.8945339805825236\n",
       "        Else (feature 5 &gt; 10.5)\n",
       "         Predict: 2.1512799999999994\n",
       "  Tree 5 (weight 1.0):\n",
       "    If (feature 1 &lt;= 3.5)\n",
       "     If (feature 9 &lt;= 1.58)\n",
       "      If (feature 9 &lt;= 0.316)\n",
       "       If (feature 9 &lt;= 0.010499999999999999)\n",
       "        If (feature 6 &lt;= 5.5)\n",
       "         Predict: 2.2826276354765638E-5\n",
       "        Else (feature 6 &gt; 5.5)\n",
       "         Predict: 0.0095068422853233\n",
       "       Else (feature 9 &gt; 0.010499999999999999)\n",
       "        If (feature 3 &lt;= 5.81666666675)\n",
       "         Predict: 0.23266416978776527\n",
       "        Else (feature 3 &gt; 5.81666666675)\n",
       "         Predict: 0.17904109589041092\n",
       "      Else (feature 9 &gt; 0.316)\n",
       "       If (feature 6 &lt;= 14.5)\n",
       "        If (feature 9 &lt;= 0.8099999999999999)\n",
       "         Predict: 0.8757529812606472\n",
       "        Else (feature 9 &gt; 0.8099999999999999)\n",
       "         Predict: 1.4413062500000002\n",
       "       Else (feature 6 &gt; 14.5)\n",
       "        If (feature 6 &lt;= 17.5)\n",
       "         Predict: 0.4507561475409835\n",
       "        Else (feature 6 &gt; 17.5)\n",
       "         Predict: 0.16864837049742712\n",
       "     Else (feature 9 &gt; 1.58)\n",
       "      If (feature 9 &lt;= 4.6884999999999994)\n",
       "       If (feature 1 &lt;= 0.5)\n",
       "        If (feature 7 &lt;= 1.5)\n",
       "         Predict: 1.4139782608695655\n",
       "        Else (feature 7 &gt; 1.5)\n",
       "         Predict: 1.782698768197088\n",
       "       Else (feature 1 &gt; 0.5)\n",
       "        If (feature 8 &lt;= 39.5)\n",
       "         Predict: 2.5823663366336636\n",
       "        Else (feature 8 &gt; 39.5)\n",
       "         Predict: 1.7159090909090908\n",
       "      Else (feature 9 &gt; 4.6884999999999994)\n",
       "       If (feature 9 &lt;= 8.4025)\n",
       "        If (feature 2 &lt;= 333.333333325)\n",
       "         Predict: 4.3403709677419355\n",
       "        Else (feature 2 &gt; 333.333333325)\n",
       "         Predict: 7.960750000000019\n",
       "       Else (feature 9 &gt; 8.4025)\n",
       "        If (feature 2 &lt;= 175.916666675)\n",
       "         Predict: 8.5172\n",
       "        Else (feature 2 &gt; 175.916666675)\n",
       "         Predict: 5.8354615384615425\n",
       "    Else (feature 1 &gt; 3.5)\n",
       "     If (feature 8 &lt;= 38.5)\n",
       "      If (feature 9 &lt;= 3.8175)\n",
       "       If (feature 9 &lt;= 0.5295)\n",
       "        If (feature 9 &lt;= 0.15899999999999997)\n",
       "         Predict: 0.254674630261661\n",
       "        Else (feature 9 &gt; 0.15899999999999997)\n",
       "         Predict: 1.4098878504672898\n",
       "       Else (feature 9 &gt; 0.5295)\n",
       "        If (feature 7 &lt;= 1.5)\n",
       "         Predict: 2.9409189189189178\n",
       "        Else (feature 7 &gt; 1.5)\n",
       "         Predict: 3.4643594232749733\n",
       "      Else (feature 9 &gt; 3.8175)\n",
       "       If (feature 6 &lt;= 16.5)\n",
       "        If (feature 5 &lt;= 2.5)\n",
       "         Predict: 4.618155303030304\n",
       "        Else (feature 5 &gt; 2.5)\n",
       "         Predict: 7.343883110687024\n",
       "       Else (feature 6 &gt; 16.5)\n",
       "        If (feature 6 &lt;= 17.5)\n",
       "         Predict: 4.807679104477612\n",
       "        Else (feature 6 &gt; 17.5)\n",
       "         Predict: 2.968420814479638\n",
       "     Else (feature 8 &gt; 38.5)\n",
       "      If (feature 8 &lt;= 46.5)\n",
       "       If (feature 9 &lt;= 1.58)\n",
       "        If (feature 8 &lt;= 42.5)\n",
       "         Predict: 1.0940707070707072\n",
       "        Else (feature 8 &gt; 42.5)\n",
       "         Predict: 1.5695169491525423\n",
       "       Else (feature 9 &gt; 1.58)\n",
       "        If (feature 9 &lt;= 4.6884999999999994)\n",
       "         Predict: 3.4917988165680476\n",
       "        Else (feature 9 &gt; 4.6884999999999994)\n",
       "         Predict: 4.878311377245511\n",
       "      Else (feature 8 &gt; 46.5)\n",
       "       If (feature 9 &lt;= 0.316)\n",
       "        If (feature 6 &lt;= 8.5)\n",
       "         Predict: 0.09407407407407406\n",
       "        Else (feature 6 &gt; 8.5)\n",
       "         Predict: 0.5791296296296295\n",
       "       Else (feature 9 &gt; 0.316)\n",
       "        If (feature 1 &lt;= 49.5)\n",
       "         Predict: 2.1200789473684214\n",
       "        Else (feature 1 &gt; 49.5)\n",
       "         Predict: 3.2962705882352945\n",
       "  Tree 6 (weight 1.0):\n",
       "    If (feature 1 &lt;= 16.5)\n",
       "     If (feature 9 &lt;= 1.58)\n",
       "      If (feature 1 &lt;= 0.5)\n",
       "       If (feature 9 &lt;= 0.316)\n",
       "        If (feature 9 &lt;= 0.0695)\n",
       "         Predict: 0.00946961783967504\n",
       "        Else (feature 9 &gt; 0.0695)\n",
       "         Predict: 0.2493417849898581\n",
       "       Else (feature 9 &gt; 0.316)\n",
       "        If (feature 3 &lt;= 2.14166666675)\n",
       "         Predict: 0.3866815286624204\n",
       "        Else (feature 3 &gt; 2.14166666675)\n",
       "         Predict: 0.6964243792325056\n",
       "      Else (feature 1 &gt; 0.5)\n",
       "       If (feature 6 &lt;= 8.5)\n",
       "        If (feature 3 &lt;= 2.6666666670000003)\n",
       "         Predict: 0.06541237113402061\n",
       "        Else (feature 3 &gt; 2.6666666670000003)\n",
       "         Predict: 0.33447465437788015\n",
       "       Else (feature 6 &gt; 8.5)\n",
       "        If (feature 1 &lt;= 7.5)\n",
       "         Predict: 1.1455747126436782\n",
       "        Else (feature 1 &gt; 7.5)\n",
       "         Predict: 1.58659375\n",
       "     Else (feature 9 &gt; 1.58)\n",
       "      If (feature 6 &lt;= 15.5)\n",
       "       If (feature 8 &lt;= 41.5)\n",
       "        If (feature 9 &lt;= 5.7655)\n",
       "         Predict: 3.0790798722044728\n",
       "        Else (feature 9 &gt; 5.7655)\n",
       "         Predict: 6.314467625899282\n",
       "       Else (feature 8 &gt; 41.5)\n",
       "        If (feature 9 &lt;= 3.8175)\n",
       "         Predict: 1.9852944785276074\n",
       "        Else (feature 9 &gt; 3.8175)\n",
       "         Predict: 3.397374999999999\n",
       "      Else (feature 6 &gt; 15.5)\n",
       "       If (feature 6 &lt;= 18.5)\n",
       "        If (feature 5 &lt;= 8.5)\n",
       "         Predict: 2.3606870229007635\n",
       "        Else (feature 5 &gt; 8.5)\n",
       "         Predict: 1.4181470588235285\n",
       "       Else (feature 6 &gt; 18.5)\n",
       "        If (feature 5 &lt;= 8.5)\n",
       "         Predict: 0.8108693467336685\n",
       "        Else (feature 5 &gt; 8.5)\n",
       "         Predict: 0.08924324324324304\n",
       "    Else (feature 1 &gt; 16.5)\n",
       "     If (feature 6 &lt;= 9.5)\n",
       "      If (feature 6 &lt;= 8.5)\n",
       "       If (feature 6 &lt;= 7.5)\n",
       "        If (feature 9 &lt;= 0.0115)\n",
       "         Predict: 0.0680040650406504\n",
       "        Else (feature 9 &gt; 0.0115)\n",
       "         Predict: 0.4829948186528498\n",
       "       Else (feature 6 &gt; 7.5)\n",
       "        If (feature 8 &lt;= 36.5)\n",
       "         Predict: 1.2742194357366772\n",
       "        Else (feature 8 &gt; 36.5)\n",
       "         Predict: 0.45789622641509414\n",
       "      Else (feature 6 &gt; 8.5)\n",
       "       If (feature 9 &lt;= 0.5295)\n",
       "        If (feature 5 &lt;= 1.5)\n",
       "         Predict: 0.3751153846153847\n",
       "        Else (feature 5 &gt; 1.5)\n",
       "         Predict: 1.5320824742268038\n",
       "       Else (feature 9 &gt; 0.5295)\n",
       "        If (feature 8 &lt;= 29.5)\n",
       "         Predict: 3.8586102564102562\n",
       "        Else (feature 8 &gt; 29.5)\n",
       "         Predict: 3.114032520325203\n",
       "     Else (feature 6 &gt; 9.5)\n",
       "      If (feature 9 &lt;= 5.7655)\n",
       "       If (feature 9 &lt;= 1.58)\n",
       "        If (feature 9 &lt;= 1.1715)\n",
       "         Predict: 1.4439638009049773\n",
       "        Else (feature 9 &gt; 1.1715)\n",
       "         Predict: 2.715000000000001\n",
       "       Else (feature 9 &gt; 1.58)\n",
       "        If (feature 6 &lt;= 14.5)\n",
       "         Predict: 5.035721864951768\n",
       "        Else (feature 6 &gt; 14.5)\n",
       "         Predict: 3.079558867362145\n",
       "      Else (feature 9 &gt; 5.7655)\n",
       "       If (feature 9 &lt;= 8.4025)\n",
       "        If (feature 2 &lt;= 183.916666675)\n",
       "         Predict: 6.508424\n",
       "        Else (feature 2 &gt; 183.916666675)\n",
       "         Predict: 6.8658304093567235\n",
       "       Else (feature 9 &gt; 8.4025)\n",
       "        If (feature 6 &lt;= 15.5)\n",
       "         Predict: 8.915735185185186\n",
       "        Else (feature 6 &gt; 15.5)\n",
       "         Predict: 7.584203703703704\n",
       "  Tree 7 (weight 1.0):\n",
       "    If (feature 9 &lt;= 2.9875)\n",
       "     If (feature 6 &lt;= 7.5)\n",
       "      If (feature 1 &lt;= 49.5)\n",
       "       If (feature 9 &lt;= 0.0045000000000000005)\n",
       "        If (feature 6 &lt;= 5.5)\n",
       "         Predict: 6.976744186046513E-5\n",
       "        Else (feature 6 &gt; 5.5)\n",
       "         Predict: 0.021382273342354523\n",
       "       Else (feature 9 &gt; 0.0045000000000000005)\n",
       "        If (feature 9 &lt;= 0.0695)\n",
       "         Predict: 0.2907604166666666\n",
       "        Else (feature 9 &gt; 0.0695)\n",
       "         Predict: 0.659051724137931\n",
       "      Else (feature 1 &gt; 49.5)\n",
       "       If (feature 8 &lt;= 32.5)\n",
       "        If (feature 6 &lt;= 6.5)\n",
       "         Predict: 0.07593233082706767\n",
       "        Else (feature 6 &gt; 6.5)\n",
       "         Predict: 0.4115714285714285\n",
       "       Else (feature 8 &gt; 32.5)\n",
       "        If (feature 2 &lt;= 175.916666675)\n",
       "         Predict: 0.05365909090909091\n",
       "        Else (feature 2 &gt; 175.916666675)\n",
       "         Predict: 0.12650000000000003\n",
       "     Else (feature 6 &gt; 7.5)\n",
       "      If (feature 6 &lt;= 15.5)\n",
       "       If (feature 9 &lt;= 0.8099999999999999)\n",
       "        If (feature 9 &lt;= 0.0695)\n",
       "         Predict: 0.16196100000000002\n",
       "        Else (feature 9 &gt; 0.0695)\n",
       "         Predict: 1.0192700688073393\n",
       "       Else (feature 9 &gt; 0.8099999999999999)\n",
       "        If (feature 1 &lt;= 18.5)\n",
       "         Predict: 1.856740053050398\n",
       "        Else (feature 1 &gt; 18.5)\n",
       "         Predict: 3.5268681462140994\n",
       "      Else (feature 6 &gt; 15.5)\n",
       "       If (feature 1 &lt;= 0.5)\n",
       "        If (feature 8 &lt;= 41.5)\n",
       "         Predict: 0.11735163820950621\n",
       "        Else (feature 8 &gt; 41.5)\n",
       "         Predict: 0.013037994722955172\n",
       "       Else (feature 1 &gt; 0.5)\n",
       "        If (feature 8 &lt;= 15.5)\n",
       "         Predict: 0.5057260273972602\n",
       "        Else (feature 8 &gt; 15.5)\n",
       "         Predict: 1.7025454545454541\n",
       "    Else (feature 9 &gt; 2.9875)\n",
       "     If (feature 9 &lt;= 5.7655)\n",
       "      If (feature 1 &lt;= 36.5)\n",
       "       If (feature 6 &lt;= 15.5)\n",
       "        If (feature 9 &lt;= 4.6884999999999994)\n",
       "         Predict: 3.4417470997679835\n",
       "        Else (feature 9 &gt; 4.6884999999999994)\n",
       "         Predict: 4.777639999999998\n",
       "       Else (feature 6 &gt; 15.5)\n",
       "        If (feature 6 &lt;= 18.5)\n",
       "         Predict: 2.46115625\n",
       "        Else (feature 6 &gt; 18.5)\n",
       "         Predict: 1.0630944881889757\n",
       "      Else (feature 1 &gt; 36.5)\n",
       "       If (feature 6 &lt;= 13.5)\n",
       "        If (feature 8 &lt;= 38.5)\n",
       "         Predict: 6.078292828685258\n",
       "\n",
       "*** WARNING: skipped 15208 bytes of output ***\n",
       "\n",
       "       If (feature 6 &lt;= 8.5)\n",
       "        If (feature 9 &lt;= 0.0695)\n",
       "         Predict: 0.09746478873239435\n",
       "        Else (feature 9 &gt; 0.0695)\n",
       "         Predict: 1.030218487394958\n",
       "       Else (feature 6 &gt; 8.5)\n",
       "        If (feature 6 &lt;= 15.5)\n",
       "         Predict: 2.3362377690802347\n",
       "        Else (feature 6 &gt; 15.5)\n",
       "         Predict: 1.2406440129449836\n",
       "      Else (feature 1 &gt; 36.5)\n",
       "       If (feature 9 &lt;= 0.5295)\n",
       "        If (feature 9 &lt;= 0.15899999999999997)\n",
       "         Predict: 0.306003164556962\n",
       "        Else (feature 9 &gt; 0.15899999999999997)\n",
       "         Predict: 1.5179195402298846\n",
       "       Else (feature 9 &gt; 0.5295)\n",
       "        If (feature 9 &lt;= 1.58)\n",
       "         Predict: 2.981481994459833\n",
       "        Else (feature 9 &gt; 1.58)\n",
       "         Predict: 4.298715927750411\n",
       "    Else (feature 9 &gt; 3.8175)\n",
       "     If (feature 7 &lt;= 3.5)\n",
       "      If (feature 9 &lt;= 6.9944999999999995)\n",
       "       If (feature 6 &lt;= 15.5)\n",
       "        If (feature 9 &lt;= 5.7655)\n",
       "         Predict: 5.332099573257469\n",
       "        Else (feature 9 &gt; 5.7655)\n",
       "         Predict: 6.722547206165702\n",
       "       Else (feature 6 &gt; 15.5)\n",
       "        If (feature 9 &lt;= 4.6884999999999994)\n",
       "         Predict: 2.6313932038834964\n",
       "        Else (feature 9 &gt; 4.6884999999999994)\n",
       "         Predict: 4.008138349514563\n",
       "      Else (feature 9 &gt; 6.9944999999999995)\n",
       "       If (feature 1 &lt;= 49.5)\n",
       "        If (feature 6 &lt;= 15.5)\n",
       "         Predict: 7.210309352517983\n",
       "        Else (feature 6 &gt; 15.5)\n",
       "         Predict: 5.553707865168541\n",
       "       Else (feature 1 &gt; 49.5)\n",
       "        If (feature 9 &lt;= 8.4025)\n",
       "         Predict: 7.37478378378378\n",
       "        Else (feature 9 &gt; 8.4025)\n",
       "         Predict: 8.862003616636525\n",
       "     Else (feature 7 &gt; 3.5)\n",
       "      If (feature 9 &lt;= 4.6884999999999994)\n",
       "       If (feature 6 &lt;= 13.5)\n",
       "        If (feature 5 &lt;= 11.5)\n",
       "         Predict: 4.496576923076924\n",
       "        Else (feature 5 &gt; 11.5)\n",
       "         Predict: 3.642428571428571\n",
       "       Else (feature 6 &gt; 13.5)\n",
       "        If (feature 1 &lt;= 7.5)\n",
       "         Predict: 2.674\n",
       "        Else (feature 1 &gt; 7.5)\n",
       "         Predict: 3.3938529411764704\n",
       "      Else (feature 9 &gt; 4.6884999999999994)\n",
       "       If (feature 1 &lt;= 14.5)\n",
       "        If (feature 4 &lt;= 2020.5)\n",
       "         Predict: 3.474571428571429\n",
       "        Else (feature 4 &gt; 2020.5)\n",
       "         Predict: 4.070333333333333\n",
       "       Else (feature 1 &gt; 14.5)\n",
       "        If (feature 6 &lt;= 13.5)\n",
       "         Predict: 5.417125\n",
       "        Else (feature 6 &gt; 13.5)\n",
       "         Predict: 4.559962962962962\n",
       "  Tree 13 (weight 1.0):\n",
       "    If (feature 6 &lt;= 8.5)\n",
       "     If (feature 1 &lt;= 49.5)\n",
       "      If (feature 7 &lt;= 3.5)\n",
       "       If (feature 9 &lt;= 0.0695)\n",
       "        If (feature 1 &lt;= 0.5)\n",
       "         Predict: 0.01216206185567011\n",
       "        Else (feature 1 &gt; 0.5)\n",
       "         Predict: 0.08926885880077372\n",
       "       Else (feature 9 &gt; 0.0695)\n",
       "        If (feature 9 &lt;= 0.316)\n",
       "         Predict: 0.7448034682080923\n",
       "        Else (feature 9 &gt; 0.316)\n",
       "         Predict: 1.252620967741935\n",
       "      Else (feature 7 &gt; 3.5)\n",
       "       If (feature 9 &lt;= 5.0E-4)\n",
       "        If (feature 6 &lt;= 7.5)\n",
       "         Predict: 0.0011539855072463764\n",
       "        Else (feature 6 &gt; 7.5)\n",
       "         Predict: 0.05666081871345027\n",
       "       Else (feature 9 &gt; 5.0E-4)\n",
       "        If (feature 0 &lt;= 0.00308642)\n",
       "         Predict: 0.3748153846153846\n",
       "        Else (feature 0 &gt; 0.00308642)\n",
       "         Predict: 0.12375000000000025\n",
       "     Else (feature 1 &gt; 49.5)\n",
       "      If (feature 6 &lt;= 7.5)\n",
       "       If (feature 6 &lt;= 6.5)\n",
       "        If (feature 5 &lt;= 4.5)\n",
       "         Predict: 0.011655172413793104\n",
       "        Else (feature 5 &gt; 4.5)\n",
       "         Predict: 0.10112195121951222\n",
       "       Else (feature 6 &gt; 6.5)\n",
       "        If (feature 8 &lt;= 35.5)\n",
       "         Predict: 0.3607439024390244\n",
       "        Else (feature 8 &gt; 35.5)\n",
       "         Predict: 0.053520833333333385\n",
       "      Else (feature 6 &gt; 7.5)\n",
       "       If (feature 3 &lt;= 2.14166666675)\n",
       "        If (feature 9 &lt;= 0.0035)\n",
       "         Predict: 0.1566\n",
       "        Else (feature 9 &gt; 0.0035)\n",
       "         Predict: 0.7609375\n",
       "       Else (feature 3 &gt; 2.14166666675)\n",
       "        If (feature 4 &lt;= 2019.5)\n",
       "         Predict: 1.118787234042553\n",
       "        Else (feature 4 &gt; 2019.5)\n",
       "         Predict: 1.5193820754716982\n",
       "    Else (feature 6 &gt; 8.5)\n",
       "     If (feature 6 &lt;= 17.5)\n",
       "      If (feature 8 &lt;= 39.5)\n",
       "       If (feature 9 &lt;= 3.8175)\n",
       "        If (feature 7 &lt;= 1.5)\n",
       "         Predict: 1.3347026683608636\n",
       "        Else (feature 7 &gt; 1.5)\n",
       "         Predict: 2.715627118644065\n",
       "       Else (feature 9 &gt; 3.8175)\n",
       "        If (feature 9 &lt;= 6.9944999999999995)\n",
       "         Predict: 5.466590536277602\n",
       "        Else (feature 9 &gt; 6.9944999999999995)\n",
       "         Predict: 7.750674981658103\n",
       "      Else (feature 8 &gt; 39.5)\n",
       "       If (feature 1 &lt;= 6.5)\n",
       "        If (feature 5 &lt;= 10.5)\n",
       "         Predict: 1.1794570815450645\n",
       "        Else (feature 5 &gt; 10.5)\n",
       "         Predict: 0.5540660146699269\n",
       "       Else (feature 1 &gt; 6.5)\n",
       "        If (feature 9 &lt;= 2.9875)\n",
       "         Predict: 2.075814457831325\n",
       "        Else (feature 9 &gt; 2.9875)\n",
       "         Predict: 4.135322666666668\n",
       "     Else (feature 6 &gt; 17.5)\n",
       "      If (feature 9 &lt;= 3.8175)\n",
       "       If (feature 6 &lt;= 19.5)\n",
       "        If (feature 9 &lt;= 1.58)\n",
       "         Predict: 0.05731047765793528\n",
       "        Else (feature 9 &gt; 1.58)\n",
       "         Predict: 0.9787841530054645\n",
       "       Else (feature 6 &gt; 19.5)\n",
       "        If (feature 9 &lt;= 0.8099999999999999)\n",
       "         Predict: 0.001851365546218487\n",
       "        Else (feature 9 &gt; 0.8099999999999999)\n",
       "         Predict: 0.13925675675675675\n",
       "      Else (feature 9 &gt; 3.8175)\n",
       "       If (feature 6 &lt;= 18.5)\n",
       "        If (feature 0 &lt;= 0.00308642)\n",
       "         Predict: 3.165393203883495\n",
       "        Else (feature 0 &gt; 0.00308642)\n",
       "         Predict: 0.8940000000000055\n",
       "       Else (feature 6 &gt; 18.5)\n",
       "        If (feature 8 &lt;= 24.5)\n",
       "         Predict: 1.0786666666666669\n",
       "        Else (feature 8 &gt; 24.5)\n",
       "         Predict: 1.2303333333333333\n",
       "  Tree 14 (weight 1.0):\n",
       "    If (feature 1 &lt;= 16.5)\n",
       "     If (feature 6 &lt;= 8.5)\n",
       "      If (feature 9 &lt;= 0.0695)\n",
       "       If (feature 5 &lt;= 1.5)\n",
       "        If (feature 4 &lt;= 2020.5)\n",
       "         Predict: 0.003363636363636364\n",
       "        Else (feature 4 &gt; 2020.5)\n",
       "         Predict: 8.501805054151624E-4\n",
       "       Else (feature 5 &gt; 1.5)\n",
       "        If (feature 2 &lt;= 191.583333325)\n",
       "         Predict: 0.010526906401428207\n",
       "        Else (feature 2 &gt; 191.583333325)\n",
       "         Predict: 0.018806355140186918\n",
       "      Else (feature 9 &gt; 0.0695)\n",
       "       If (feature 6 &lt;= 7.5)\n",
       "        If (feature 3 &lt;= 8.466666665750001)\n",
       "         Predict: 0.6129130434782608\n",
       "        Else (feature 3 &gt; 8.466666665750001)\n",
       "         Predict: 0.8016666666666676\n",
       "       Else (feature 6 &gt; 7.5)\n",
       "        If (feature 4 &lt;= 2020.5)\n",
       "         Predict: 0.806974025974026\n",
       "        Else (feature 4 &gt; 2020.5)\n",
       "         Predict: 1.0154246575342467\n",
       "     Else (feature 6 &gt; 8.5)\n",
       "      If (feature 9 &lt;= 3.8175)\n",
       "       If (feature 2 &lt;= 183.916666675)\n",
       "        If (feature 9 &lt;= 1.1715)\n",
       "         Predict: 0.14384800422944755\n",
       "        Else (feature 9 &gt; 1.1715)\n",
       "         Predict: 1.446124050632911\n",
       "       Else (feature 2 &gt; 183.916666675)\n",
       "        If (feature 1 &lt;= 0.5)\n",
       "         Predict: 0.39087409678125645\n",
       "        Else (feature 1 &gt; 0.5)\n",
       "         Predict: 1.9108591800356505\n",
       "      Else (feature 9 &gt; 3.8175)\n",
       "       If (feature 9 &lt;= 5.7655)\n",
       "        If (feature 6 &lt;= 15.5)\n",
       "         Predict: 4.0325700483091795\n",
       "        Else (feature 6 &gt; 15.5)\n",
       "         Predict: 2.6706857142857143\n",
       "       Else (feature 9 &gt; 5.7655)\n",
       "        If (feature 9 &lt;= 8.4025)\n",
       "         Predict: 5.287792035398231\n",
       "        Else (feature 9 &gt; 8.4025)\n",
       "         Predict: 7.116353846153848\n",
       "    Else (feature 1 &gt; 16.5)\n",
       "     If (feature 9 &lt;= 3.8175)\n",
       "      If (feature 3 &lt;= 2.6666666670000003)\n",
       "       If (feature 3 &lt;= 2.14166666675)\n",
       "        If (feature 6 &lt;= 8.5)\n",
       "         Predict: 0.1432137404580153\n",
       "        Else (feature 6 &gt; 8.5)\n",
       "         Predict: 1.2396666666666667\n",
       "       Else (feature 3 &gt; 2.14166666675)\n",
       "        If (feature 9 &lt;= 0.316)\n",
       "         Predict: 0.41529104477611933\n",
       "        Else (feature 9 &gt; 0.316)\n",
       "         Predict: 2.6577749999999996\n",
       "      Else (feature 3 &gt; 2.6666666670000003)\n",
       "       If (feature 9 &lt;= 0.5295)\n",
       "        If (feature 9 &lt;= 0.15899999999999997)\n",
       "         Predict: 0.3065027932960894\n",
       "        Else (feature 9 &gt; 0.15899999999999997)\n",
       "         Predict: 1.4569932885906043\n",
       "       Else (feature 9 &gt; 0.5295)\n",
       "        If (feature 6 &lt;= 14.5)\n",
       "         Predict: 3.72936496350365\n",
       "        Else (feature 6 &gt; 14.5)\n",
       "         Predict: 2.0920122448979597\n",
       "     Else (feature 9 &gt; 3.8175)\n",
       "      If (feature 5 &lt;= 8.5)\n",
       "       If (feature 5 &lt;= 2.5)\n",
       "        If (feature 9 &lt;= 5.7655)\n",
       "         Predict: 4.268043956043956\n",
       "        Else (feature 9 &gt; 5.7655)\n",
       "         Predict: 6.175127906976744\n",
       "       Else (feature 5 &gt; 2.5)\n",
       "        If (feature 1 &lt;= 49.5)\n",
       "         Predict: 5.92998366013072\n",
       "        Else (feature 1 &gt; 49.5)\n",
       "         Predict: 7.609536922015181\n",
       "      Else (feature 5 &gt; 8.5)\n",
       "       If (feature 5 &lt;= 9.5)\n",
       "        If (feature 1 &lt;= 59.5)\n",
       "         Predict: 5.023819444444445\n",
       "        Else (feature 1 &gt; 59.5)\n",
       "         Predict: 6.330476793248944\n",
       "       Else (feature 5 &gt; 9.5)\n",
       "        If (feature 8 &lt;= 42.5)\n",
       "         Predict: 4.88221088435374\n",
       "        Else (feature 8 &gt; 42.5)\n",
       "         Predict: 3.954850746268658\n",
       "  Tree 15 (weight 1.0):\n",
       "    If (feature 8 &lt;= 38.5)\n",
       "     If (feature 9 &lt;= 3.8175)\n",
       "      If (feature 6 &lt;= 7.5)\n",
       "       If (feature 9 &lt;= 0.0045000000000000005)\n",
       "        If (feature 5 &lt;= 2.5)\n",
       "         Predict: 6.29601226993865E-4\n",
       "        Else (feature 5 &gt; 2.5)\n",
       "         Predict: 0.012200666111573687\n",
       "       Else (feature 9 &gt; 0.0045000000000000005)\n",
       "        If (feature 8 &lt;= 30.5)\n",
       "         Predict: 0.4598928571428571\n",
       "        Else (feature 8 &gt; 30.5)\n",
       "         Predict: 0.3192906976744188\n",
       "      Else (feature 6 &gt; 7.5)\n",
       "       If (feature 3 &lt;= 2.9375)\n",
       "        If (feature 9 &lt;= 0.316)\n",
       "         Predict: 0.09991545189504372\n",
       "        Else (feature 9 &gt; 0.316)\n",
       "         Predict: 1.1107612359550563\n",
       "       Else (feature 3 &gt; 2.9375)\n",
       "        If (feature 9 &lt;= 1.1715)\n",
       "         Predict: 0.40229675751879684\n",
       "        Else (feature 9 &gt; 1.1715)\n",
       "         Predict: 2.6079589953869813\n",
       "     Else (feature 9 &gt; 3.8175)\n",
       "      If (feature 6 &lt;= 15.5)\n",
       "       If (feature 9 &lt;= 6.9944999999999995)\n",
       "        If (feature 8 &lt;= 7.5)\n",
       "         Predict: 4.555585227272727\n",
       "        Else (feature 8 &gt; 7.5)\n",
       "         Predict: 6.271386069651742\n",
       "       Else (feature 9 &gt; 6.9944999999999995)\n",
       "        If (feature 1 &lt;= 49.5)\n",
       "         Predict: 7.409681063122925\n",
       "        Else (feature 1 &gt; 49.5)\n",
       "         Predict: 8.612458492975735\n",
       "      Else (feature 6 &gt; 15.5)\n",
       "       If (feature 8 &lt;= 11.5)\n",
       "        If (feature 2 &lt;= 135.083333325)\n",
       "         Predict: 3.3636190476190473\n",
       "        Else (feature 2 &gt; 135.083333325)\n",
       "         Predict: 2.5217428571428564\n",
       "       Else (feature 8 &gt; 11.5)\n",
       "        If (feature 1 &lt;= 49.5)\n",
       "         Predict: 3.681340040241448\n",
       "        Else (feature 1 &gt; 49.5)\n",
       "         Predict: 5.6008336980306375\n",
       "    Else (feature 8 &gt; 38.5)\n",
       "     If (feature 9 &lt;= 1.58)\n",
       "      If (feature 9 &lt;= 0.316)\n",
       "       If (feature 6 &lt;= 7.5)\n",
       "        If (feature 5 &lt;= 11.5)\n",
       "         Predict: 8.953626634958384E-4\n",
       "        Else (feature 5 &gt; 11.5)\n",
       "         Predict: 0.0\n",
       "       Else (feature 6 &gt; 7.5)\n",
       "        If (feature 1 &lt;= 2.5)\n",
       "         Predict: 0.05903748621830208\n",
       "        Else (feature 1 &gt; 2.5)\n",
       "         Predict: 0.6094153005464479\n",
       "      Else (feature 9 &gt; 0.316)\n",
       "       If (feature 0 &lt;= 0.102469136)\n",
       "        If (feature 1 &lt;= 5.5)\n",
       "         Predict: 0.7306961483594859\n",
       "        Else (feature 1 &gt; 5.5)\n",
       "         Predict: 2.197953488372093\n",
       "       Else (feature 0 &gt; 0.102469136)\n",
       "        If (feature 6 &lt;= 12.5)\n",
       "         Predict: 0.6668064516129032\n",
       "        Else (feature 6 &gt; 12.5)\n",
       "         Predict: 0.41130188679245266\n",
       "     Else (feature 9 &gt; 1.58)\n",
       "      If (feature 1 &lt;= 25.5)\n",
       "       If (feature 9 &lt;= 3.8175)\n",
       "        If (feature 3 &lt;= 5.04166666675)\n",
       "         Predict: 1.4435430107526883\n",
       "        Else (feature 3 &gt; 5.04166666675)\n",
       "         Predict: 1.8544847161572062\n",
       "       Else (feature 9 &gt; 3.8175)\n",
       "        If (feature 9 &lt;= 5.7655)\n",
       "         Predict: 3.3883253012048193\n",
       "        Else (feature 9 &gt; 5.7655)\n",
       "         Predict: 5.715142857142853\n",
       "      Else (feature 1 &gt; 25.5)\n",
       "       If (feature 5 &lt;= 10.5)\n",
       "        If (feature 1 &lt;= 58.5)\n",
       "         Predict: 4.325860606060607\n",
       "        Else (feature 1 &gt; 58.5)\n",
       "         Predict: 4.930830601092896\n",
       "       Else (feature 5 &gt; 10.5)\n",
       "        If (feature 6 &lt;= 14.5)\n",
       "         Predict: 3.645351190476191\n",
       "        Else (feature 6 &gt; 14.5)\n",
       "         Predict: 1.9808571428571435\n",
       "  Tree 16 (weight 1.0):\n",
       "    If (feature 6 &lt;= 8.5)\n",
       "     If (feature 1 &lt;= 1.5)\n",
       "      If (feature 1 &lt;= 0.5)\n",
       "       If (feature 9 &lt;= 0.013000000000000001)\n",
       "        If (feature 5 &lt;= 1.5)\n",
       "         Predict: 0.002166279069767442\n",
       "        Else (feature 5 &gt; 1.5)\n",
       "         Predict: 0.007357733927434756\n",
       "       Else (feature 9 &gt; 0.013000000000000001)\n",
       "        If (feature 6 &lt;= 7.5)\n",
       "         Predict: 0.4224242424242423\n",
       "        Else (feature 6 &gt; 7.5)\n",
       "         Predict: 0.6803571428571429\n",
       "      Else (feature 1 &gt; 0.5)\n",
       "       If (feature 9 &lt;= 0.15899999999999997)\n",
       "        If (feature 9 &lt;= 0.0115)\n",
       "         Predict: 0.061166666666666654\n",
       "        Else (feature 9 &gt; 0.0115)\n",
       "         Predict: 0.4569999999999999\n",
       "       Else (feature 9 &gt; 0.15899999999999997)\n",
       "        If (feature 5 &lt;= 7.5)\n",
       "         Predict: 1.31725\n",
       "        Else (feature 5 &gt; 7.5)\n",
       "         Predict: 0.9510000000000001\n",
       "     Else (feature 1 &gt; 1.5)\n",
       "      If (feature 9 &lt;= 0.15899999999999997)\n",
       "       If (feature 9 &lt;= 0.0115)\n",
       "        If (feature 6 &lt;= 6.5)\n",
       "         Predict: 0.04349122807017544\n",
       "        Else (feature 6 &gt; 6.5)\n",
       "         Predict: 0.1314691780821918\n",
       "       Else (feature 9 &gt; 0.0115)\n",
       "        If (feature 8 &lt;= 33.5)\n",
       "         Predict: 0.4978325581395349\n",
       "        Else (feature 8 &gt; 33.5)\n",
       "         Predict: 0.685350649350649\n",
       "      Else (feature 9 &gt; 0.15899999999999997)\n",
       "       If (feature 6 &lt;= 7.5)\n",
       "        If (feature 5 &lt;= 5.5)\n",
       "         Predict: 0.8033333333333333\n",
       "        Else (feature 5 &gt; 5.5)\n",
       "         Predict: 0.6259210526315788\n",
       "       Else (feature 6 &gt; 7.5)\n",
       "        If (feature 7 &lt;= 1.5)\n",
       "         Predict: 2.172296296296296\n",
       "        Else (feature 7 &gt; 1.5)\n",
       "         Predict: 1.4582352941176469\n",
       "    Else (feature 6 &gt; 8.5)\n",
       "     If (feature 8 &lt;= 38.5)\n",
       "      If (feature 9 &lt;= 3.8175)\n",
       "       If (feature 5 &lt;= 3.5)\n",
       "        If (feature 1 &lt;= 2.5)\n",
       "         Predict: 0.2391270627062705\n",
       "        Else (feature 1 &gt; 2.5)\n",
       "         Predict: 2.424130081300813\n",
       "       Else (feature 5 &gt; 3.5)\n",
       "        If (feature 9 &lt;= 1.1715)\n",
       "         Predict: 0.3213553788195897\n",
       "        Else (feature 9 &gt; 1.1715)\n",
       "         Predict: 2.6818365448504986\n",
       "      Else (feature 9 &gt; 3.8175)\n",
       "       If (feature 6 &lt;= 15.5)\n",
       "        If (feature 9 &lt;= 6.9944999999999995)\n",
       "         Predict: 5.954328719723183\n",
       "        Else (feature 9 &gt; 6.9944999999999995)\n",
       "         Predict: 8.23276960784314\n",
       "       Else (feature 6 &gt; 15.5)\n",
       "        If (feature 9 &lt;= 6.9944999999999995)\n",
       "         Predict: 3.502822429906542\n",
       "        Else (feature 9 &gt; 6.9944999999999995)\n",
       "         Predict: 6.3450380952380945\n",
       "     Else (feature 8 &gt; 38.5)\n",
       "      If (feature 8 &lt;= 46.5)\n",
       "       If (feature 1 &lt;= 2.5)\n",
       "        If (feature 1 &lt;= 0.5)\n",
       "         Predict: 0.41103731778425595\n",
       "        Else (feature 1 &gt; 0.5)\n",
       "         Predict: 1.667147058823529\n",
       "       Else (feature 1 &gt; 2.5)\n",
       "        If (feature 1 &lt;= 36.5)\n",
       "         Predict: 2.5766079734219267\n",
       "        Else (feature 1 &gt; 36.5)\n",
       "         Predict: 4.045526806526806\n",
       "      Else (feature 8 &gt; 46.5)\n",
       "       If (feature 0 &lt;= 0.00308642)\n",
       "        If (feature 1 &lt;= 0.5)\n",
       "         Predict: 0.26986519114688107\n",
       "        Else (feature 1 &gt; 0.5)\n",
       "         Predict: 2.0811262798634815\n",
       "       Else (feature 0 &gt; 0.00308642)\n",
       "        If (feature 9 &lt;= 0.316)\n",
       "         Predict: 0.028328638497652582\n",
       "        Else (feature 9 &gt; 0.316)\n",
       "         Predict: 0.40277551020408164\n",
       "  Tree 17 (weight 1.0):\n",
       "    If (feature 6 &lt;= 8.5)\n",
       "     If (feature 9 &lt;= 0.15899999999999997)\n",
       "      If (feature 6 &lt;= 6.5)\n",
       "       If (feature 1 &lt;= 49.5)\n",
       "        If (feature 6 &lt;= 5.5)\n",
       "         Predict: 4.749478079331943E-5\n",
       "        Else (feature 6 &gt; 5.5)\n",
       "         Predict: 0.01769257540603248\n",
       "       Else (feature 1 &gt; 49.5)\n",
       "        If (feature 8 &lt;= 30.5)\n",
       "         Predict: 0.10682291666666666\n",
       "        Else (feature 8 &gt; 30.5)\n",
       "         Predict: 0.020139534883720923\n",
       "      Else (feature 6 &gt; 6.5)\n",
       "       If (feature 9 &lt;= 0.0075)\n",
       "        If (feature 8 &lt;= 45.5)\n",
       "         Predict: 0.07096517412935323\n",
       "        Else (feature 8 &gt; 45.5)\n",
       "         Predict: 0.024170886075949385\n",
       "       Else (feature 9 &gt; 0.0075)\n",
       "        If (feature 2 &lt;= 43.416666667499996)\n",
       "         Predict: 0.3611190476190476\n",
       "        Else (feature 2 &gt; 43.416666667499996)\n",
       "         Predict: 0.4974633569739953\n",
       "     Else (feature 9 &gt; 0.15899999999999997)\n",
       "      If (feature 8 &lt;= 13.5)\n",
       "       If (feature 1 &lt;= 59.5)\n",
       "        If (feature 2 &lt;= 198.583333325)\n",
       "         Predict: 1.177\n",
       "        Else (feature 2 &gt; 198.583333325)\n",
       "         Predict: 1.9361538461538457\n",
       "       Else (feature 1 &gt; 59.5)\n",
       "        If (feature 9 &lt;= 0.316)\n",
       "         Predict: 2.0552\n",
       "        Else (feature 9 &gt; 0.316)\n",
       "         Predict: 2.7621428571428575\n",
       "      Else (feature 8 &gt; 13.5)\n",
       "       If (feature 9 &lt;= 0.316)\n",
       "        If (feature 1 &lt;= 6.5)\n",
       "         Predict: 0.6937187499999999\n",
       "        Else (feature 1 &gt; 6.5)\n",
       "         Predict: 1.0075740740740742\n",
       "       Else (feature 9 &gt; 0.316)\n",
       "        If (feature 1 &lt;= 36.5)\n",
       "         Predict: 1.263098901098901\n",
       "        Else (feature 1 &gt; 36.5)\n",
       "         Predict: 1.655550387596899\n",
       "    Else (feature 6 &gt; 8.5)\n",
       "     If (feature 1 &lt;= 18.5)\n",
       "      If (feature 8 &lt;= 41.5)\n",
       "       If (feature 9 &lt;= 3.8175)\n",
       "        If (feature 5 &lt;= 2.5)\n",
       "         Predict: 0.2994737108190091\n",
       "        Else (feature 5 &gt; 2.5)\n",
       "         Predict: 0.6844247216035636\n",
       "       Else (feature 9 &gt; 3.8175)\n",
       "        If (feature 6 &lt;= 15.5)\n",
       "         Predict: 5.324788235294118\n",
       "        Else (feature 6 &gt; 15.5)\n",
       "         Predict: 3.201165441176472\n",
       "      Else (feature 8 &gt; 41.5)\n",
       "       If (feature 2 &lt;= 175.916666675)\n",
       "        If (feature 6 &lt;= 15.5)\n",
       "         Predict: 0.9891424657534246\n",
       "        Else (feature 6 &gt; 15.5)\n",
       "         Predict: 0.04759980039920159\n",
       "       Else (feature 2 &gt; 175.916666675)\n",
       "        If (feature 6 &lt;= 14.5)\n",
       "         Predict: 1.0235659824046919\n",
       "        Else (feature 6 &gt; 14.5)\n",
       "         Predict: 0.07525141242937856\n",
       "     Else (feature 1 &gt; 18.5)\n",
       "      If (feature 6 &lt;= 9.5)\n",
       "       If (feature 8 &lt;= 6.5)\n",
       "        If (feature 5 &lt;= 1.5)\n",
       "         Predict: 0.4721818181818183\n",
       "        Else (feature 5 &gt; 1.5)\n",
       "         Predict: 1.5018333333333336\n",
       "       Else (feature 8 &gt; 6.5)\n",
       "        If (feature 1 &lt;= 59.5)\n",
       "         Predict: 2.6814263157894733\n",
       "        Else (feature 1 &gt; 59.5)\n",
       "         Predict: 3.6448166666666664\n",
       "      Else (feature 6 &gt; 9.5)\n",
       "       If (feature 5 &lt;= 9.5)\n",
       "        If (feature 1 &lt;= 58.5)\n",
       "         Predict: 5.028247157390784\n",
       "        Else (feature 1 &gt; 58.5)\n",
       "         Predict: 6.860386154678206\n",
       "       Else (feature 5 &gt; 9.5)\n",
       "        If (feature 8 &lt;= 46.5)\n",
       "         Predict: 3.9258363636363636\n",
       "        Else (feature 8 &gt; 46.5)\n",
       "         Predict: 2.483538961038959\n",
       "  Tree 18 (weight 1.0):\n",
       "    If (feature 9 &lt;= 2.9875)\n",
       "     If (feature 1 &lt;= 0.5)\n",
       "      If (feature 2 &lt;= 183.916666675)\n",
       "       If (feature 9 &lt;= 0.5295)\n",
       "        If (feature 8 &lt;= 41.5)\n",
       "         Predict: 0.023951938943894382\n",
       "        Else (feature 8 &gt; 41.5)\n",
       "         Predict: 0.04466188340807176\n",
       "       Else (feature 9 &gt; 0.5295)\n",
       "        If (feature 9 &lt;= 1.58)\n",
       "         Predict: 0.6856357723577235\n",
       "        Else (feature 9 &gt; 1.58)\n",
       "         Predict: 1.2065791139240505\n",
       "      Else (feature 2 &gt; 183.916666675)\n",
       "       If (feature 9 &lt;= 0.8099999999999999)\n",
       "        If (feature 6 &lt;= 6.5)\n",
       "         Predict: 0.0016149654921903374\n",
       "        Else (feature 6 &gt; 6.5)\n",
       "         Predict: 0.13071308225966302\n",
       "       Else (feature 9 &gt; 0.8099999999999999)\n",
       "        If (feature 6 &lt;= 13.5)\n",
       "         Predict: 1.8230318840579711\n",
       "        Else (feature 6 &gt; 13.5)\n",
       "         Predict: 0.8577942386831277\n",
       "     Else (feature 1 &gt; 0.5)\n",
       "      If (feature 3 &lt;= 2.6666666670000003)\n",
       "       If (feature 5 &lt;= 10.5)\n",
       "        If (feature 9 &lt;= 0.15899999999999997)\n",
       "         Predict: 0.16212820512820514\n",
       "        Else (feature 9 &gt; 0.15899999999999997)\n",
       "         Predict: 1.7274942528735628\n",
       "       Else (feature 5 &gt; 10.5)\n",
       "        If (feature 9 &lt;= 0.0695)\n",
       "         Predict: 0.37752941176470584\n",
       "        Else (feature 9 &gt; 0.0695)\n",
       "         Predict: 1.6139565217391307\n",
       "      Else (feature 3 &gt; 2.6666666670000003)\n",
       "       If (feature 3 &lt;= 3.80833333325)\n",
       "        If (feature 6 &lt;= 8.5)\n",
       "         Predict: 0.6832565217391304\n",
       "        Else (feature 6 &gt; 8.5)\n",
       "         Predict: 2.3824644351464435\n",
       "       Else (feature 3 &gt; 3.80833333325)\n",
       "        If (feature 6 &lt;= 8.5)\n",
       "         Predict: 0.6296101949025484\n",
       "        Else (feature 6 &gt; 8.5)\n",
       "         Predict: 2.4613367071524967\n",
       "    Else (feature 9 &gt; 2.9875)\n",
       "     If (feature 9 &lt;= 5.7655)\n",
       "      If (feature 6 &lt;= 14.5)\n",
       "       If (feature 1 &lt;= 25.5)\n",
       "        If (feature 2 &lt;= 333.333333325)\n",
       "         Predict: 3.6938967391304347\n",
       "        Else (feature 2 &gt; 333.333333325)\n",
       "         Predict: 7.482000000000009\n",
       "       Else (feature 1 &gt; 25.5)\n",
       "        If (feature 8 &lt;= 41.5)\n",
       "         Predict: 5.778536982248522\n",
       "        Else (feature 8 &gt; 41.5)\n",
       "         Predict: 4.357577669902913\n",
       "      Else (feature 6 &gt; 14.5)\n",
       "       If (feature 9 &lt;= 4.6884999999999994)\n",
       "        If (feature 1 &lt;= 2.5)\n",
       "         Predict: 1.6606384364820848\n",
       "        Else (feature 1 &gt; 2.5)\n",
       "         Predict: 2.5375710843373485\n",
       "       Else (feature 9 &gt; 4.6884999999999994)\n",
       "        If (feature 8 &lt;= 29.5)\n",
       "         Predict: 3.600778523489933\n",
       "        Else (feature 8 &gt; 29.5)\n",
       "         Predict: 4.21184239130435\n",
       "     Else (feature 9 &gt; 5.7655)\n",
       "      If (feature 6 &lt;= 15.5)\n",
       "       If (feature 9 &lt;= 8.4025)\n",
       "        If (feature 1 &lt;= 5.5)\n",
       "         Predict: 5.405687499999999\n",
       "        Else (feature 1 &gt; 5.5)\n",
       "         Predict: 7.236999999999998\n",
       "       Else (feature 9 &gt; 8.4025)\n",
       "        If (feature 6 &lt;= 14.5)\n",
       "         Predict: 9.077259079903149\n",
       "        Else (feature 6 &gt; 14.5)\n",
       "         Predict: 8.295100591715977\n",
       "      Else (feature 6 &gt; 15.5)\n",
       "       If (feature 1 &lt;= 58.5)\n",
       "        If (feature 2 &lt;= 53.833333332500004)\n",
       "         Predict: 5.3806756756756755\n",
       "        Else (feature 2 &gt; 53.833333332500004)\n",
       "         Predict: 4.7947869565217385\n",
       "       Else (feature 1 &gt; 58.5)\n",
       "        If (feature 9 &lt;= 8.4025)\n",
       "         Predict: 5.454517073170732\n",
       "        Else (feature 9 &gt; 8.4025)\n",
       "         Predict: 7.7100921052631595\n",
       "  Tree 19 (weight 1.0):\n",
       "    If (feature 6 &lt;= 8.5)\n",
       "     If (feature 1 &lt;= 0.5)\n",
       "      If (feature 6 &lt;= 7.5)\n",
       "       If (feature 9 &lt;= 0.0035)\n",
       "        If (feature 9 &lt;= 5.0E-4)\n",
       "         Predict: 0.0019065626839317226\n",
       "        Else (feature 9 &gt; 5.0E-4)\n",
       "         Predict: 0.14631249999999985\n",
       "       Else (feature 9 &gt; 0.0035)\n",
       "        If (feature 0 &lt;= 0.75)\n",
       "         Predict: 0.34464367816091945\n",
       "        Else (feature 0 &gt; 0.75)\n",
       "         Predict: 0.8350000000000009\n",
       "      Else (feature 6 &gt; 7.5)\n",
       "       If (feature 8 &lt;= 38.5)\n",
       "        If (feature 9 &lt;= 0.0695)\n",
       "         Predict: 0.13542857142857143\n",
       "        Else (feature 9 &gt; 0.0695)\n",
       "         Predict: 0.8179279999999999\n",
       "       Else (feature 8 &gt; 38.5)\n",
       "        If (feature 8 &lt;= 46.5)\n",
       "         Predict: 0.2101415094339623\n",
       "        Else (feature 8 &gt; 46.5)\n",
       "         Predict: 0.03542424242424244\n",
       "     Else (feature 1 &gt; 0.5)\n",
       "      If (feature 6 &lt;= 7.5)\n",
       "       If (feature 9 &lt;= 0.0115)\n",
       "        If (feature 1 &lt;= 49.5)\n",
       "         Predict: 0.032570155902004454\n",
       "        Else (feature 1 &gt; 49.5)\n",
       "         Predict: 0.10424603174603177\n",
       "       Else (feature 9 &gt; 0.0115)\n",
       "        If (feature 2 &lt;= 227.916666675)\n",
       "         Predict: 0.43690109890109885\n",
       "        Else (feature 2 &gt; 227.916666675)\n",
       "         Predict: 0.634840909090909\n",
       "      Else (feature 6 &gt; 7.5)\n",
       "       If (feature 5 &lt;= 8.5)\n",
       "        If (feature 5 &lt;= 2.5)\n",
       "         Predict: 0.3448169014084507\n",
       "        Else (feature 5 &gt; 2.5)\n",
       "         Predict: 1.4599219858156025\n",
       "       Else (feature 5 &gt; 8.5)\n",
       "        If (feature 8 &lt;= 38.5)\n",
       "         Predict: 0.7820769230769229\n",
       "        Else (feature 8 &gt; 38.5)\n",
       "         Predict: 0.29982978723404285\n",
       "    Else (feature 6 &gt; 8.5)\n",
       "     If (feature 1 &lt;= 16.5)\n",
       "      If (feature 9 &lt;= 3.8175)\n",
       "       If (feature 3 &lt;= 2.39166666675)\n",
       "        If (feature 9 &lt;= 0.316)\n",
       "         Predict: 0.0265351598173516\n",
       "        Else (feature 9 &gt; 0.316)\n",
       "         Predict: 0.851110749185668\n",
       "       Else (feature 3 &gt; 2.39166666675)\n",
       "        If (feature 9 &lt;= 0.8099999999999999)\n",
       "         Predict: 0.14015534834623497\n",
       "        Else (feature 9 &gt; 0.8099999999999999)\n",
       "         Predict: 1.4783261061946908\n",
       "      Else (feature 9 &gt; 3.8175)\n",
       "       If (feature 8 &lt;= 35.5)\n",
       "        If (feature 9 &lt;= 5.7655)\n",
       "         Predict: 3.6252395833333333\n",
       "        Else (feature 9 &gt; 5.7655)\n",
       "         Predict: 5.634678414096917\n",
       "       Else (feature 8 &gt; 35.5)\n",
       "        If (feature 3 &lt;= 2.39166666675)\n",
       "         Predict: 2.4418333333333333\n",
       "        Else (feature 3 &gt; 2.39166666675)\n",
       "         Predict: 3.725079646017699\n",
       "     Else (feature 1 &gt; 16.5)\n",
       "      If (feature 9 &lt;= 5.7655)\n",
       "       If (feature 1 &lt;= 58.5)\n",
       "        If (feature 5 &lt;= 2.5)\n",
       "         Predict: 2.5413598726114657\n",
       "        Else (feature 5 &gt; 2.5)\n",
       "         Predict: 3.562921073401736\n",
       "       Else (feature 1 &gt; 58.5)\n",
       "        If (feature 9 &lt;= 2.1785)\n",
       "         Predict: 3.184727272727273\n",
       "        Else (feature 9 &gt; 2.1785)\n",
       "         Predict: 5.1827618364418955\n",
       "      Else (feature 9 &gt; 5.7655)\n",
       "       If (feature 9 &lt;= 8.4025)\n",
       "        If (feature 9 &lt;= 6.9944999999999995)\n",
       "         Predict: 6.2608836858006\n",
       "        Else (feature 9 &gt; 6.9944999999999995)\n",
       "         Predict: 7.2317189781021884\n",
       "       Else (feature 9 &gt; 8.4025)\n",
       "        If (feature 1 &lt;= 36.5)\n",
       "         Predict: 7.63025\n",
       "        Else (feature 1 &gt; 36.5)\n",
       "         Predict: 8.7078855721393\n",
       "\n",
       "</div>"
      ]
     },
     "metadata": {
      "application/vnd.databricks.v1+output": {
       "addedWidgets": {},
       "arguments": {},
       "data": "<div class=\"ansiout\">Trees with Nodes: RandomForestRegressionModel: uid=RandomForestRegressor_25f99bc303a5, numTrees=20, numFeatures=10\n  Tree 0 (weight 1.0):\n    If (feature 8 &lt;= 39.5)\n     If (feature 1 &lt;= 17.5)\n      If (feature 1 &lt;= 0.5)\n       If (feature 9 &lt;= 3.8175)\n        If (feature 6 &lt;= 7.5)\n         Predict: 0.008625918924595674\n        Else (feature 6 &gt; 7.5)\n         Predict: 0.36396208530805685\n       Else (feature 9 &gt; 3.8175)\n        If (feature 3 &lt;= 4.36666666675)\n         Predict: 3.041021739130435\n        Else (feature 3 &gt; 4.36666666675)\n         Predict: 4.23403007518797\n      Else (feature 1 &gt; 0.5)\n       If (feature 9 &lt;= 3.8175)\n        If (feature 1 &lt;= 4.5)\n         Predict: 1.2047225274725277\n        Else (feature 1 &gt; 4.5)\n         Predict: 1.6006983240223465\n       Else (feature 9 &gt; 3.8175)\n        If (feature 6 &lt;= 16.5)\n         Predict: 5.10763768115942\n        Else (feature 6 &gt; 16.5)\n         Predict: 3.3010434782608686\n     Else (feature 1 &gt; 17.5)\n      If (feature 3 &lt;= 3.80833333325)\n       If (feature 6 &lt;= 8.5)\n        If (feature 2 &lt;= 198.583333325)\n         Predict: 0.30301\n        Else (feature 2 &gt; 198.583333325)\n         Predict: 0.6930606060606064\n       Else (feature 6 &gt; 8.5)\n        If (feature 9 &lt;= 4.6884999999999994)\n         Predict: 3.149854368932038\n        Else (feature 9 &gt; 4.6884999999999994)\n         Predict: 5.10964197530864\n      Else (feature 3 &gt; 3.80833333325)\n       If (feature 5 &lt;= 2.5)\n        If (feature 6 &lt;= 9.5)\n         Predict: 0.8379480519480519\n        Else (feature 6 &gt; 9.5)\n         Predict: 3.8957563559322033\n       Else (feature 5 &gt; 2.5)\n        If (feature 3 &lt;= 5.40833333325)\n         Predict: 4.464601418439716\n        Else (feature 3 &gt; 5.40833333325)\n         Predict: 5.82210507505361\n    Else (feature 8 &gt; 39.5)\n     If (feature 9 &lt;= 1.58)\n      If (feature 1 &lt;= 0.5)\n       If (feature 6 &lt;= 7.5)\n        If (feature 8 &lt;= 46.5)\n         Predict: 7.976513098464318E-4\n        Else (feature 8 &gt; 46.5)\n         Predict: 2.644466209598435E-5\n       Else (feature 6 &gt; 7.5)\n        If (feature 9 &lt;= 0.316)\n         Predict: 0.058258855585831076\n        Else (feature 9 &gt; 0.316)\n         Predict: 0.7020778443113775\n      Else (feature 1 &gt; 0.5)\n       If (feature 6 &lt;= 8.5)\n        If (feature 8 &lt;= 42.5)\n         Predict: 0.0946923076923077\n        Else (feature 8 &gt; 42.5)\n         Predict: 0.22543859649122802\n       Else (feature 6 &gt; 8.5)\n        If (feature 6 &lt;= 9.5)\n         Predict: 1.1541226415094339\n        Else (feature 6 &gt; 9.5)\n         Predict: 1.698404255319149\n     Else (feature 9 &gt; 1.58)\n      If (feature 5 &lt;= 10.5)\n       If (feature 1 &lt;= 19.5)\n        If (feature 6 &lt;= 15.5)\n         Predict: 2.912131313131313\n        Else (feature 6 &gt; 15.5)\n         Predict: 1.3514268292682927\n       Else (feature 1 &gt; 19.5)\n        If (feature 1 &lt;= 49.5)\n         Predict: 3.7948125000000004\n        Else (feature 1 &gt; 49.5)\n         Predict: 4.616976076555023\n      Else (feature 5 &gt; 10.5)\n       If (feature 1 &lt;= 25.5)\n        If (feature 0 &lt;= 0.102469136)\n         Predict: 2.045456852791878\n        Else (feature 0 &gt; 0.102469136)\n         Predict: 0.9974285714285754\n       Else (feature 1 &gt; 25.5)\n        If (feature 6 &lt;= 14.5)\n         Predict: 3.6932808219178086\n        Else (feature 6 &gt; 14.5)\n         Predict: 1.9126923076923084\n  Tree 1 (weight 1.0):\n    If (feature 6 &lt;= 8.5)\n     If (feature 9 &lt;= 0.0695)\n      If (feature 1 &lt;= 0.5)\n       If (feature 6 &lt;= 6.5)\n        If (feature 9 &lt;= 5.0E-4)\n         Predict: 5.410778071129056E-4\n        Else (feature 9 &gt; 5.0E-4)\n         Predict: 0.19833333333333333\n       Else (feature 6 &gt; 6.5)\n        If (feature 9 &lt;= 5.0E-4)\n         Predict: 0.02727062228654124\n        Else (feature 9 &gt; 5.0E-4)\n         Predict: 0.2809875\n      Else (feature 1 &gt; 0.5)\n       If (feature 6 &lt;= 6.5)\n        If (feature 5 &lt;= 7.5)\n         Predict: 0.05911711711711712\n        Else (feature 5 &gt; 7.5)\n         Predict: 0.006405797101449278\n       Else (feature 6 &gt; 6.5)\n        If (feature 9 &lt;= 0.0115)\n         Predict: 0.12233865814696486\n        Else (feature 9 &gt; 0.0115)\n         Predict: 0.47547297297297303\n     Else (feature 9 &gt; 0.0695)\n      If (feature 9 &lt;= 0.316)\n       If (feature 9 &lt;= 0.15899999999999997)\n        If (feature 8 &lt;= 32.5)\n         Predict: 0.5976241134751773\n        Else (feature 8 &gt; 32.5)\n         Predict: 0.8142884615384616\n       Else (feature 9 &gt; 0.15899999999999997)\n        If (feature 8 &lt;= 19.5)\n         Predict: 1.3537543859649124\n        Else (feature 8 &gt; 19.5)\n         Predict: 0.9242403100775193\n      Else (feature 9 &gt; 0.316)\n       If (feature 2 &lt;= 151.0000000075)\n        If (feature 5 &lt;= 3.5)\n         Predict: 2.3840909090909093\n        Else (feature 5 &gt; 3.5)\n         Predict: 1.6486315789473682\n       Else (feature 2 &gt; 151.0000000075)\n        If (feature 5 &lt;= 3.5)\n         Predict: 2.1491999999999996\n        Else (feature 5 &gt; 3.5)\n         Predict: 1.3817410714285716\n    Else (feature 6 &gt; 8.5)\n     If (feature 8 &lt;= 39.5)\n      If (feature 9 &lt;= 3.8175)\n       If (feature 9 &lt;= 1.1715)\n        If (feature 9 &lt;= 0.316)\n         Predict: 0.057601427395004116\n        Else (feature 9 &gt; 0.316)\n         Predict: 0.9974902874902875\n       Else (feature 9 &gt; 1.1715)\n        If (feature 1 &lt;= 25.5)\n         Predict: 1.7314831824062085\n        Else (feature 1 &gt; 25.5)\n         Predict: 4.1232862957937595\n      Else (feature 9 &gt; 3.8175)\n       If (feature 6 &lt;= 15.5)\n        If (feature 8 &lt;= 7.5)\n         Predict: 4.249026315789473\n        Else (feature 8 &gt; 7.5)\n         Predict: 7.23042361111111\n       Else (feature 6 &gt; 15.5)\n        If (feature 9 &lt;= 6.9944999999999995)\n         Predict: 3.4995822784810127\n        Else (feature 9 &gt; 6.9944999999999995)\n         Predict: 6.368576576576576\n     Else (feature 8 &gt; 39.5)\n      If (feature 6 &lt;= 15.5)\n       If (feature 9 &lt;= 1.58)\n        If (feature 1 &lt;= 5.5)\n         Predict: 0.6776388329979873\n        Else (feature 1 &gt; 5.5)\n         Predict: 1.6155117187499997\n       Else (feature 9 &gt; 1.58)\n        If (feature 8 &lt;= 42.5)\n         Predict: 4.31145701357466\n        Else (feature 8 &gt; 42.5)\n         Predict: 3.0014956709956704\n      Else (feature 6 &gt; 15.5)\n       If (feature 5 &lt;= 10.5)\n        If (feature 9 &lt;= 2.9875)\n         Predict: 0.08892786421499292\n        Else (feature 9 &gt; 2.9875)\n         Predict: 2.4687260273972607\n       Else (feature 5 &gt; 10.5)\n        If (feature 1 &lt;= 0.5)\n         Predict: 0.005997931034482759\n        Else (feature 1 &gt; 0.5)\n         Predict: 0.28800000000000003\n  Tree 2 (weight 1.0):\n    If (feature 1 &lt;= 15.5)\n     If (feature 9 &lt;= 1.58)\n      If (feature 3 &lt;= 2.6666666670000003)\n       If (feature 6 &lt;= 6.5)\n        If (feature 8 &lt;= 32.5)\n         Predict: 0.00432128514056225\n        Else (feature 8 &gt; 32.5)\n         Predict: 1.6279069767441824E-4\n       Else (feature 6 &gt; 6.5)\n        If (feature 9 &lt;= 0.316)\n         Predict: 0.04691263356379634\n        Else (feature 9 &gt; 0.316)\n         Predict: 0.6816446280991737\n      Else (feature 3 &gt; 2.6666666670000003)\n       If (feature 9 &lt;= 0.316)\n        If (feature 2 &lt;= 164.25)\n         Predict: 0.032569587013607064\n        Else (feature 2 &gt; 164.25)\n         Predict: 0.04534559322033898\n       Else (feature 9 &gt; 0.316)\n        If (feature 0 &lt;= 0.11975308600000001)\n         Predict: 0.9076813996316766\n        Else (feature 0 &gt; 0.11975308600000001)\n         Predict: 0.6457378917378924\n     Else (feature 9 &gt; 1.58)\n      If (feature 6 &lt;= 15.5)\n       If (feature 7 &lt;= 3.5)\n        If (feature 9 &lt;= 4.6884999999999994)\n         Predict: 2.932418467583497\n        Else (feature 9 &gt; 4.6884999999999994)\n         Predict: 5.4165653846153825\n       Else (feature 7 &gt; 3.5)\n        If (feature 4 &lt;= 2019.5)\n         Predict: 2.676045454545455\n        Else (feature 4 &gt; 2019.5)\n         Predict: 2.2522352941176473\n      Else (feature 6 &gt; 15.5)\n       If (feature 9 &lt;= 4.6884999999999994)\n        If (feature 9 &lt;= 3.8175)\n         Predict: 1.0398125937031486\n        Else (feature 9 &gt; 3.8175)\n         Predict: 2.2205113636363634\n       Else (feature 9 &gt; 4.6884999999999994)\n        If (feature 6 &lt;= 17.5)\n         Predict: 4.08116129032258\n        Else (feature 6 &gt; 17.5)\n         Predict: 2.851268292682928\n    Else (feature 1 &gt; 15.5)\n     If (feature 9 &lt;= 2.9875)\n      If (feature 9 &lt;= 0.316)\n       If (feature 3 &lt;= 2.14166666675)\n        If (feature 9 &lt;= 0.0075)\n         Predict: 0.05174501992031872\n        Else (feature 9 &gt; 0.0075)\n         Predict: 0.4673333333333332\n       Else (feature 3 &gt; 2.14166666675)\n        If (feature 9 &lt;= 0.0695)\n         Predict: 0.19198294243070363\n        Else (feature 9 &gt; 0.0695)\n         Predict: 1.0085578231292514\n      Else (feature 9 &gt; 0.316)\n       If (feature 6 &lt;= 8.5)\n        If (feature 7 &lt;= 1.5)\n         Predict: 2.57425\n        Else (feature 7 &gt; 1.5)\n         Predict: 1.6387905405405405\n       Else (feature 6 &gt; 8.5)\n        If (feature 6 &lt;= 13.5)\n         Predict: 3.3716166253101756\n        Else (feature 6 &gt; 13.5)\n         Predict: 2.01473631840796\n     Else (feature 9 &gt; 2.9875)\n      If (feature 1 &lt;= 49.5)\n       If (feature 9 &lt;= 5.7655)\n        If (feature 6 &lt;= 15.5)\n         Predict: 4.720973404255319\n        Else (feature 6 &gt; 15.5)\n         Predict: 2.5416261682243007\n       Else (feature 9 &gt; 5.7655)\n        If (feature 3 &lt;= 22.8458333325)\n         Predict: 6.838096470588235\n        Else (feature 3 &gt; 22.8458333325)\n         Predict: 4.693909090909074\n      Else (feature 1 &gt; 49.5)\n       If (feature 7 &lt;= 3.5)\n        If (feature 3 &lt;= 5.04166666675)\n         Predict: 5.67121293800539\n        Else (feature 3 &gt; 5.04166666675)\n         Predict: 7.200133185349612\n       Else (feature 7 &gt; 3.5)\n        If (feature 9 &lt;= 4.6884999999999994)\n         Predict: 4.017754966887417\n        Else (feature 9 &gt; 4.6884999999999994)\n         Predict: 5.10788785046729\n  Tree 3 (weight 1.0):\n    If (feature 3 &lt;= 3.80833333325)\n     If (feature 3 &lt;= 2.9375)\n      If (feature 1 &lt;= 0.5)\n       If (feature 9 &lt;= 0.8099999999999999)\n        If (feature 9 &lt;= 0.013000000000000001)\n         Predict: 0.003734854888701042\n        Else (feature 9 &gt; 0.013000000000000001)\n         Predict: 0.32567170626349895\n       Else (feature 9 &gt; 0.8099999999999999)\n        If (feature 6 &lt;= 16.5)\n         Predict: 1.5763314917127074\n        Else (feature 6 &gt; 16.5)\n         Predict: 0.512737288135593\n      Else (feature 1 &gt; 0.5)\n       If (feature 9 &lt;= 0.316)\n        If (feature 9 &lt;= 0.013000000000000001)\n         Predict: 0.06637626262626262\n        Else (feature 9 &gt; 0.013000000000000001)\n         Predict: 0.6972538860103625\n       Else (feature 9 &gt; 0.316)\n        If (feature 8 &lt;= 3.5)\n         Predict: 1.4261666666666668\n        Else (feature 8 &gt; 3.5)\n         Predict: 2.4904433497536944\n     Else (feature 3 &gt; 2.9375)\n      If (feature 1 &lt;= 1.5)\n       If (feature 9 &lt;= 1.1715)\n        If (feature 9 &lt;= 0.316)\n         Predict: 0.02320846153846154\n        Else (feature 9 &gt; 0.316)\n         Predict: 0.5952039473684211\n       Else (feature 9 &gt; 1.1715)\n        If (feature 8 &lt;= 29.5)\n         Predict: 1.8589848484848484\n        Else (feature 8 &gt; 29.5)\n         Predict: 1.4101304347826085\n      Else (feature 1 &gt; 1.5)\n       If (feature 1 &lt;= 58.5)\n        If (feature 8 &lt;= 29.5)\n         Predict: 1.6500546874999997\n        Else (feature 8 &gt; 29.5)\n         Predict: 2.5451162790697675\n       Else (feature 1 &gt; 58.5)\n        If (feature 8 &lt;= 13.5)\n         Predict: 4.5563714285714285\n        Else (feature 8 &gt; 13.5)\n         Predict: 2.7456932515337433\n    Else (feature 3 &gt; 3.80833333325)\n     If (feature 9 &lt;= 2.9875)\n      If (feature 6 &lt;= 7.5)\n       If (feature 1 &lt;= 0.5)\n        If (feature 9 &lt;= 5.0E-4)\n         Predict: 0.0014498456790123457\n        Else (feature 9 &gt; 5.0E-4)\n         Predict: 0.2752394366197183\n       Else (feature 1 &gt; 0.5)\n        If (feature 9 &lt;= 0.0055)\n         Predict: 0.055687499999999994\n        Else (feature 9 &gt; 0.0055)\n         Predict: 0.4917631578947368\n      Else (feature 6 &gt; 7.5)\n       If (feature 1 &lt;= 0.5)\n        If (feature 8 &lt;= 9.5)\n         Predict: 0.15798185776487664\n        Else (feature 8 &gt; 9.5)\n         Predict: 0.36986064659977697\n       Else (feature 1 &gt; 0.5)\n        If (feature 9 &lt;= 0.8099999999999999)\n         Predict: 1.2134468704512371\n        Else (feature 9 &gt; 0.8099999999999999)\n         Predict: 2.91356884057971\n     Else (feature 9 &gt; 2.9875)\n      If (feature 6 &lt;= 16.5)\n       If (feature 9 &lt;= 5.7655)\n        If (feature 6 &lt;= 12.5)\n         Predict: 5.5449482517482505\n        Else (feature 6 &gt; 12.5)\n         Predict: 3.9128389731621938\n       Else (feature 9 &gt; 5.7655)\n        If (feature 1 &lt;= 9.5)\n         Predict: 5.507577777777777\n        Else (feature 1 &gt; 9.5)\n         Predict: 7.684567616737415\n      Else (feature 6 &gt; 16.5)\n       If (feature 9 &lt;= 5.7655)\n        If (feature 6 &lt;= 18.5)\n         Predict: 2.615445512820512\n        Else (feature 6 &gt; 18.5)\n         Predict: 1.0189268292682925\n       Else (feature 9 &gt; 5.7655)\n        If (feature 9 &lt;= 6.9944999999999995)\n         Predict: 4.188992700729928\n        Else (feature 9 &gt; 6.9944999999999995)\n         Predict: 5.639302158273381\n  Tree 4 (weight 1.0):\n    If (feature 9 &lt;= 2.9875)\n     If (feature 9 &lt;= 0.8099999999999999)\n      If (feature 1 &lt;= 0.5)\n       If (feature 6 &lt;= 6.5)\n        If (feature 9 &lt;= 5.0E-4)\n         Predict: 5.784313725490194E-4\n        Else (feature 9 &gt; 5.0E-4)\n         Predict: 0.26533333333333337\n       Else (feature 6 &gt; 6.5)\n        If (feature 5 &lt;= 2.5)\n         Predict: 0.06315331928345626\n        Else (feature 5 &gt; 2.5)\n         Predict: 0.13176906096111396\n      Else (feature 1 &gt; 0.5)\n       If (feature 6 &lt;= 7.5)\n        If (feature 9 &lt;= 0.0075)\n         Predict: 0.05395102685624012\n        Else (feature 9 &gt; 0.0075)\n         Predict: 0.47188709677419344\n       Else (feature 6 &gt; 7.5)\n        If (feature 9 &lt;= 0.15899999999999997)\n         Predict: 0.518853904282116\n        Else (feature 9 &gt; 0.15899999999999997)\n         Predict: 1.673118699186992\n     Else (feature 9 &gt; 0.8099999999999999)\n      If (feature 1 &lt;= 20.5)\n       If (feature 1 &lt;= 0.5)\n        If (feature 6 &lt;= 14.5)\n         Predict: 1.8110106382978723\n        Else (feature 6 &gt; 14.5)\n         Predict: 0.5627874285714289\n       Else (feature 1 &gt; 0.5)\n        If (feature 6 &lt;= 14.5)\n         Predict: 2.615448753462604\n        Else (feature 6 &gt; 14.5)\n         Predict: 1.0073664596273273\n      Else (feature 1 &gt; 20.5)\n       If (feature 9 &lt;= 1.1715)\n        If (feature 8 &lt;= 1.5)\n         Predict: 0.7516666666666666\n        Else (feature 8 &gt; 1.5)\n         Predict: 2.706792\n       Else (feature 9 &gt; 1.1715)\n        If (feature 6 &lt;= 13.5)\n         Predict: 3.891404850746269\n        Else (feature 6 &gt; 13.5)\n         Predict: 2.561966666666668\n    Else (feature 9 &gt; 2.9875)\n     If (feature 8 &lt;= 38.5)\n      If (feature 6 &lt;= 16.5)\n       If (feature 1 &lt;= 25.5)\n        If (feature 4 &lt;= 2021.5)\n         Predict: 4.672811678832119\n        Else (feature 4 &gt; 2021.5)\n         Predict: 2.8455135135135166\n       Else (feature 1 &gt; 25.5)\n        If (feature 9 &lt;= 6.9944999999999995)\n         Predict: 5.99832113821138\n        Else (feature 9 &gt; 6.9944999999999995)\n         Predict: 8.306355023923441\n      Else (feature 6 &gt; 16.5)\n       If (feature 9 &lt;= 5.7655)\n        If (feature 7 &lt;= 1.5)\n         Predict: 1.3120196078431374\n        Else (feature 7 &gt; 1.5)\n         Predict: 2.231526666666667\n       Else (feature 9 &gt; 5.7655)\n        If (feature 6 &lt;= 17.5)\n         Predict: 5.526361111111112\n        Else (feature 6 &gt; 17.5)\n         Predict: 3.6183980582524264\n     Else (feature 8 &gt; 38.5)\n      If (feature 1 &lt;= 10.5)\n       If (feature 6 &lt;= 14.5)\n        If (feature 8 &lt;= 39.5)\n         Predict: 4.315666666666667\n        Else (feature 8 &gt; 39.5)\n         Predict: 3.1462857142857144\n       Else (feature 6 &gt; 14.5)\n        If (feature 5 &lt;= 9.5)\n         Predict: 3.2434444444444446\n        Else (feature 5 &gt; 9.5)\n         Predict: 1.8083432835820894\n      Else (feature 1 &gt; 10.5)\n       If (feature 6 &lt;= 14.5)\n        If (feature 3 &lt;= 4.083333333000001)\n         Predict: 3.993814814814815\n        Else (feature 3 &gt; 4.083333333000001)\n         Predict: 4.848330396475771\n       Else (feature 6 &gt; 14.5)\n        If (feature 5 &lt;= 10.5)\n         Predict: 3.8945339805825236\n        Else (feature 5 &gt; 10.5)\n         Predict: 2.1512799999999994\n  Tree 5 (weight 1.0):\n    If (feature 1 &lt;= 3.5)\n     If (feature 9 &lt;= 1.58)\n      If (feature 9 &lt;= 0.316)\n       If (feature 9 &lt;= 0.010499999999999999)\n        If (feature 6 &lt;= 5.5)\n         Predict: 2.2826276354765638E-5\n        Else (feature 6 &gt; 5.5)\n         Predict: 0.0095068422853233\n       Else (feature 9 &gt; 0.010499999999999999)\n        If (feature 3 &lt;= 5.81666666675)\n         Predict: 0.23266416978776527\n        Else (feature 3 &gt; 5.81666666675)\n         Predict: 0.17904109589041092\n      Else (feature 9 &gt; 0.316)\n       If (feature 6 &lt;= 14.5)\n        If (feature 9 &lt;= 0.8099999999999999)\n         Predict: 0.8757529812606472\n        Else (feature 9 &gt; 0.8099999999999999)\n         Predict: 1.4413062500000002\n       Else (feature 6 &gt; 14.5)\n        If (feature 6 &lt;= 17.5)\n         Predict: 0.4507561475409835\n        Else (feature 6 &gt; 17.5)\n         Predict: 0.16864837049742712\n     Else (feature 9 &gt; 1.58)\n      If (feature 9 &lt;= 4.6884999999999994)\n       If (feature 1 &lt;= 0.5)\n        If (feature 7 &lt;= 1.5)\n         Predict: 1.4139782608695655\n        Else (feature 7 &gt; 1.5)\n         Predict: 1.782698768197088\n       Else (feature 1 &gt; 0.5)\n        If (feature 8 &lt;= 39.5)\n         Predict: 2.5823663366336636\n        Else (feature 8 &gt; 39.5)\n         Predict: 1.7159090909090908\n      Else (feature 9 &gt; 4.6884999999999994)\n       If (feature 9 &lt;= 8.4025)\n        If (feature 2 &lt;= 333.333333325)\n         Predict: 4.3403709677419355\n        Else (feature 2 &gt; 333.333333325)\n         Predict: 7.960750000000019\n       Else (feature 9 &gt; 8.4025)\n        If (feature 2 &lt;= 175.916666675)\n         Predict: 8.5172\n        Else (feature 2 &gt; 175.916666675)\n         Predict: 5.8354615384615425\n    Else (feature 1 &gt; 3.5)\n     If (feature 8 &lt;= 38.5)\n      If (feature 9 &lt;= 3.8175)\n       If (feature 9 &lt;= 0.5295)\n        If (feature 9 &lt;= 0.15899999999999997)\n         Predict: 0.254674630261661\n        Else (feature 9 &gt; 0.15899999999999997)\n         Predict: 1.4098878504672898\n       Else (feature 9 &gt; 0.5295)\n        If (feature 7 &lt;= 1.5)\n         Predict: 2.9409189189189178\n        Else (feature 7 &gt; 1.5)\n         Predict: 3.4643594232749733\n      Else (feature 9 &gt; 3.8175)\n       If (feature 6 &lt;= 16.5)\n        If (feature 5 &lt;= 2.5)\n         Predict: 4.618155303030304\n        Else (feature 5 &gt; 2.5)\n         Predict: 7.343883110687024\n       Else (feature 6 &gt; 16.5)\n        If (feature 6 &lt;= 17.5)\n         Predict: 4.807679104477612\n        Else (feature 6 &gt; 17.5)\n         Predict: 2.968420814479638\n     Else (feature 8 &gt; 38.5)\n      If (feature 8 &lt;= 46.5)\n       If (feature 9 &lt;= 1.58)\n        If (feature 8 &lt;= 42.5)\n         Predict: 1.0940707070707072\n        Else (feature 8 &gt; 42.5)\n         Predict: 1.5695169491525423\n       Else (feature 9 &gt; 1.58)\n        If (feature 9 &lt;= 4.6884999999999994)\n         Predict: 3.4917988165680476\n        Else (feature 9 &gt; 4.6884999999999994)\n         Predict: 4.878311377245511\n      Else (feature 8 &gt; 46.5)\n       If (feature 9 &lt;= 0.316)\n        If (feature 6 &lt;= 8.5)\n         Predict: 0.09407407407407406\n        Else (feature 6 &gt; 8.5)\n         Predict: 0.5791296296296295\n       Else (feature 9 &gt; 0.316)\n        If (feature 1 &lt;= 49.5)\n         Predict: 2.1200789473684214\n        Else (feature 1 &gt; 49.5)\n         Predict: 3.2962705882352945\n  Tree 6 (weight 1.0):\n    If (feature 1 &lt;= 16.5)\n     If (feature 9 &lt;= 1.58)\n      If (feature 1 &lt;= 0.5)\n       If (feature 9 &lt;= 0.316)\n        If (feature 9 &lt;= 0.0695)\n         Predict: 0.00946961783967504\n        Else (feature 9 &gt; 0.0695)\n         Predict: 0.2493417849898581\n       Else (feature 9 &gt; 0.316)\n        If (feature 3 &lt;= 2.14166666675)\n         Predict: 0.3866815286624204\n        Else (feature 3 &gt; 2.14166666675)\n         Predict: 0.6964243792325056\n      Else (feature 1 &gt; 0.5)\n       If (feature 6 &lt;= 8.5)\n        If (feature 3 &lt;= 2.6666666670000003)\n         Predict: 0.06541237113402061\n        Else (feature 3 &gt; 2.6666666670000003)\n         Predict: 0.33447465437788015\n       Else (feature 6 &gt; 8.5)\n        If (feature 1 &lt;= 7.5)\n         Predict: 1.1455747126436782\n        Else (feature 1 &gt; 7.5)\n         Predict: 1.58659375\n     Else (feature 9 &gt; 1.58)\n      If (feature 6 &lt;= 15.5)\n       If (feature 8 &lt;= 41.5)\n        If (feature 9 &lt;= 5.7655)\n         Predict: 3.0790798722044728\n        Else (feature 9 &gt; 5.7655)\n         Predict: 6.314467625899282\n       Else (feature 8 &gt; 41.5)\n        If (feature 9 &lt;= 3.8175)\n         Predict: 1.9852944785276074\n        Else (feature 9 &gt; 3.8175)\n         Predict: 3.397374999999999\n      Else (feature 6 &gt; 15.5)\n       If (feature 6 &lt;= 18.5)\n        If (feature 5 &lt;= 8.5)\n         Predict: 2.3606870229007635\n        Else (feature 5 &gt; 8.5)\n         Predict: 1.4181470588235285\n       Else (feature 6 &gt; 18.5)\n        If (feature 5 &lt;= 8.5)\n         Predict: 0.8108693467336685\n        Else (feature 5 &gt; 8.5)\n         Predict: 0.08924324324324304\n    Else (feature 1 &gt; 16.5)\n     If (feature 6 &lt;= 9.5)\n      If (feature 6 &lt;= 8.5)\n       If (feature 6 &lt;= 7.5)\n        If (feature 9 &lt;= 0.0115)\n         Predict: 0.0680040650406504\n        Else (feature 9 &gt; 0.0115)\n         Predict: 0.4829948186528498\n       Else (feature 6 &gt; 7.5)\n        If (feature 8 &lt;= 36.5)\n         Predict: 1.2742194357366772\n        Else (feature 8 &gt; 36.5)\n         Predict: 0.45789622641509414\n      Else (feature 6 &gt; 8.5)\n       If (feature 9 &lt;= 0.5295)\n        If (feature 5 &lt;= 1.5)\n         Predict: 0.3751153846153847\n        Else (feature 5 &gt; 1.5)\n         Predict: 1.5320824742268038\n       Else (feature 9 &gt; 0.5295)\n        If (feature 8 &lt;= 29.5)\n         Predict: 3.8586102564102562\n        Else (feature 8 &gt; 29.5)\n         Predict: 3.114032520325203\n     Else (feature 6 &gt; 9.5)\n      If (feature 9 &lt;= 5.7655)\n       If (feature 9 &lt;= 1.58)\n        If (feature 9 &lt;= 1.1715)\n         Predict: 1.4439638009049773\n        Else (feature 9 &gt; 1.1715)\n         Predict: 2.715000000000001\n       Else (feature 9 &gt; 1.58)\n        If (feature 6 &lt;= 14.5)\n         Predict: 5.035721864951768\n        Else (feature 6 &gt; 14.5)\n         Predict: 3.079558867362145\n      Else (feature 9 &gt; 5.7655)\n       If (feature 9 &lt;= 8.4025)\n        If (feature 2 &lt;= 183.916666675)\n         Predict: 6.508424\n        Else (feature 2 &gt; 183.916666675)\n         Predict: 6.8658304093567235\n       Else (feature 9 &gt; 8.4025)\n        If (feature 6 &lt;= 15.5)\n         Predict: 8.915735185185186\n        Else (feature 6 &gt; 15.5)\n         Predict: 7.584203703703704\n  Tree 7 (weight 1.0):\n    If (feature 9 &lt;= 2.9875)\n     If (feature 6 &lt;= 7.5)\n      If (feature 1 &lt;= 49.5)\n       If (feature 9 &lt;= 0.0045000000000000005)\n        If (feature 6 &lt;= 5.5)\n         Predict: 6.976744186046513E-5\n        Else (feature 6 &gt; 5.5)\n         Predict: 0.021382273342354523\n       Else (feature 9 &gt; 0.0045000000000000005)\n        If (feature 9 &lt;= 0.0695)\n         Predict: 0.2907604166666666\n        Else (feature 9 &gt; 0.0695)\n         Predict: 0.659051724137931\n      Else (feature 1 &gt; 49.5)\n       If (feature 8 &lt;= 32.5)\n        If (feature 6 &lt;= 6.5)\n         Predict: 0.07593233082706767\n        Else (feature 6 &gt; 6.5)\n         Predict: 0.4115714285714285\n       Else (feature 8 &gt; 32.5)\n        If (feature 2 &lt;= 175.916666675)\n         Predict: 0.05365909090909091\n        Else (feature 2 &gt; 175.916666675)\n         Predict: 0.12650000000000003\n     Else (feature 6 &gt; 7.5)\n      If (feature 6 &lt;= 15.5)\n       If (feature 9 &lt;= 0.8099999999999999)\n        If (feature 9 &lt;= 0.0695)\n         Predict: 0.16196100000000002\n        Else (feature 9 &gt; 0.0695)\n         Predict: 1.0192700688073393\n       Else (feature 9 &gt; 0.8099999999999999)\n        If (feature 1 &lt;= 18.5)\n         Predict: 1.856740053050398\n        Else (feature 1 &gt; 18.5)\n         Predict: 3.5268681462140994\n      Else (feature 6 &gt; 15.5)\n       If (feature 1 &lt;= 0.5)\n        If (feature 8 &lt;= 41.5)\n         Predict: 0.11735163820950621\n        Else (feature 8 &gt; 41.5)\n         Predict: 0.013037994722955172\n       Else (feature 1 &gt; 0.5)\n        If (feature 8 &lt;= 15.5)\n         Predict: 0.5057260273972602\n        Else (feature 8 &gt; 15.5)\n         Predict: 1.7025454545454541\n    Else (feature 9 &gt; 2.9875)\n     If (feature 9 &lt;= 5.7655)\n      If (feature 1 &lt;= 36.5)\n       If (feature 6 &lt;= 15.5)\n        If (feature 9 &lt;= 4.6884999999999994)\n         Predict: 3.4417470997679835\n        Else (feature 9 &gt; 4.6884999999999994)\n         Predict: 4.777639999999998\n       Else (feature 6 &gt; 15.5)\n        If (feature 6 &lt;= 18.5)\n         Predict: 2.46115625\n        Else (feature 6 &gt; 18.5)\n         Predict: 1.0630944881889757\n      Else (feature 1 &gt; 36.5)\n       If (feature 6 &lt;= 13.5)\n        If (feature 8 &lt;= 38.5)\n         Predict: 6.078292828685258\n\n*** WARNING: skipped 15208 bytes of output ***\n\n       If (feature 6 &lt;= 8.5)\n        If (feature 9 &lt;= 0.0695)\n         Predict: 0.09746478873239435\n        Else (feature 9 &gt; 0.0695)\n         Predict: 1.030218487394958\n       Else (feature 6 &gt; 8.5)\n        If (feature 6 &lt;= 15.5)\n         Predict: 2.3362377690802347\n        Else (feature 6 &gt; 15.5)\n         Predict: 1.2406440129449836\n      Else (feature 1 &gt; 36.5)\n       If (feature 9 &lt;= 0.5295)\n        If (feature 9 &lt;= 0.15899999999999997)\n         Predict: 0.306003164556962\n        Else (feature 9 &gt; 0.15899999999999997)\n         Predict: 1.5179195402298846\n       Else (feature 9 &gt; 0.5295)\n        If (feature 9 &lt;= 1.58)\n         Predict: 2.981481994459833\n        Else (feature 9 &gt; 1.58)\n         Predict: 4.298715927750411\n    Else (feature 9 &gt; 3.8175)\n     If (feature 7 &lt;= 3.5)\n      If (feature 9 &lt;= 6.9944999999999995)\n       If (feature 6 &lt;= 15.5)\n        If (feature 9 &lt;= 5.7655)\n         Predict: 5.332099573257469\n        Else (feature 9 &gt; 5.7655)\n         Predict: 6.722547206165702\n       Else (feature 6 &gt; 15.5)\n        If (feature 9 &lt;= 4.6884999999999994)\n         Predict: 2.6313932038834964\n        Else (feature 9 &gt; 4.6884999999999994)\n         Predict: 4.008138349514563\n      Else (feature 9 &gt; 6.9944999999999995)\n       If (feature 1 &lt;= 49.5)\n        If (feature 6 &lt;= 15.5)\n         Predict: 7.210309352517983\n        Else (feature 6 &gt; 15.5)\n         Predict: 5.553707865168541\n       Else (feature 1 &gt; 49.5)\n        If (feature 9 &lt;= 8.4025)\n         Predict: 7.37478378378378\n        Else (feature 9 &gt; 8.4025)\n         Predict: 8.862003616636525\n     Else (feature 7 &gt; 3.5)\n      If (feature 9 &lt;= 4.6884999999999994)\n       If (feature 6 &lt;= 13.5)\n        If (feature 5 &lt;= 11.5)\n         Predict: 4.496576923076924\n        Else (feature 5 &gt; 11.5)\n         Predict: 3.642428571428571\n       Else (feature 6 &gt; 13.5)\n        If (feature 1 &lt;= 7.5)\n         Predict: 2.674\n        Else (feature 1 &gt; 7.5)\n         Predict: 3.3938529411764704\n      Else (feature 9 &gt; 4.6884999999999994)\n       If (feature 1 &lt;= 14.5)\n        If (feature 4 &lt;= 2020.5)\n         Predict: 3.474571428571429\n        Else (feature 4 &gt; 2020.5)\n         Predict: 4.070333333333333\n       Else (feature 1 &gt; 14.5)\n        If (feature 6 &lt;= 13.5)\n         Predict: 5.417125\n        Else (feature 6 &gt; 13.5)\n         Predict: 4.559962962962962\n  Tree 13 (weight 1.0):\n    If (feature 6 &lt;= 8.5)\n     If (feature 1 &lt;= 49.5)\n      If (feature 7 &lt;= 3.5)\n       If (feature 9 &lt;= 0.0695)\n        If (feature 1 &lt;= 0.5)\n         Predict: 0.01216206185567011\n        Else (feature 1 &gt; 0.5)\n         Predict: 0.08926885880077372\n       Else (feature 9 &gt; 0.0695)\n        If (feature 9 &lt;= 0.316)\n         Predict: 0.7448034682080923\n        Else (feature 9 &gt; 0.316)\n         Predict: 1.252620967741935\n      Else (feature 7 &gt; 3.5)\n       If (feature 9 &lt;= 5.0E-4)\n        If (feature 6 &lt;= 7.5)\n         Predict: 0.0011539855072463764\n        Else (feature 6 &gt; 7.5)\n         Predict: 0.05666081871345027\n       Else (feature 9 &gt; 5.0E-4)\n        If (feature 0 &lt;= 0.00308642)\n         Predict: 0.3748153846153846\n        Else (feature 0 &gt; 0.00308642)\n         Predict: 0.12375000000000025\n     Else (feature 1 &gt; 49.5)\n      If (feature 6 &lt;= 7.5)\n       If (feature 6 &lt;= 6.5)\n        If (feature 5 &lt;= 4.5)\n         Predict: 0.011655172413793104\n        Else (feature 5 &gt; 4.5)\n         Predict: 0.10112195121951222\n       Else (feature 6 &gt; 6.5)\n        If (feature 8 &lt;= 35.5)\n         Predict: 0.3607439024390244\n        Else (feature 8 &gt; 35.5)\n         Predict: 0.053520833333333385\n      Else (feature 6 &gt; 7.5)\n       If (feature 3 &lt;= 2.14166666675)\n        If (feature 9 &lt;= 0.0035)\n         Predict: 0.1566\n        Else (feature 9 &gt; 0.0035)\n         Predict: 0.7609375\n       Else (feature 3 &gt; 2.14166666675)\n        If (feature 4 &lt;= 2019.5)\n         Predict: 1.118787234042553\n        Else (feature 4 &gt; 2019.5)\n         Predict: 1.5193820754716982\n    Else (feature 6 &gt; 8.5)\n     If (feature 6 &lt;= 17.5)\n      If (feature 8 &lt;= 39.5)\n       If (feature 9 &lt;= 3.8175)\n        If (feature 7 &lt;= 1.5)\n         Predict: 1.3347026683608636\n        Else (feature 7 &gt; 1.5)\n         Predict: 2.715627118644065\n       Else (feature 9 &gt; 3.8175)\n        If (feature 9 &lt;= 6.9944999999999995)\n         Predict: 5.466590536277602\n        Else (feature 9 &gt; 6.9944999999999995)\n         Predict: 7.750674981658103\n      Else (feature 8 &gt; 39.5)\n       If (feature 1 &lt;= 6.5)\n        If (feature 5 &lt;= 10.5)\n         Predict: 1.1794570815450645\n        Else (feature 5 &gt; 10.5)\n         Predict: 0.5540660146699269\n       Else (feature 1 &gt; 6.5)\n        If (feature 9 &lt;= 2.9875)\n         Predict: 2.075814457831325\n        Else (feature 9 &gt; 2.9875)\n         Predict: 4.135322666666668\n     Else (feature 6 &gt; 17.5)\n      If (feature 9 &lt;= 3.8175)\n       If (feature 6 &lt;= 19.5)\n        If (feature 9 &lt;= 1.58)\n         Predict: 0.05731047765793528\n        Else (feature 9 &gt; 1.58)\n         Predict: 0.9787841530054645\n       Else (feature 6 &gt; 19.5)\n        If (feature 9 &lt;= 0.8099999999999999)\n         Predict: 0.001851365546218487\n        Else (feature 9 &gt; 0.8099999999999999)\n         Predict: 0.13925675675675675\n      Else (feature 9 &gt; 3.8175)\n       If (feature 6 &lt;= 18.5)\n        If (feature 0 &lt;= 0.00308642)\n         Predict: 3.165393203883495\n        Else (feature 0 &gt; 0.00308642)\n         Predict: 0.8940000000000055\n       Else (feature 6 &gt; 18.5)\n        If (feature 8 &lt;= 24.5)\n         Predict: 1.0786666666666669\n        Else (feature 8 &gt; 24.5)\n         Predict: 1.2303333333333333\n  Tree 14 (weight 1.0):\n    If (feature 1 &lt;= 16.5)\n     If (feature 6 &lt;= 8.5)\n      If (feature 9 &lt;= 0.0695)\n       If (feature 5 &lt;= 1.5)\n        If (feature 4 &lt;= 2020.5)\n         Predict: 0.003363636363636364\n        Else (feature 4 &gt; 2020.5)\n         Predict: 8.501805054151624E-4\n       Else (feature 5 &gt; 1.5)\n        If (feature 2 &lt;= 191.583333325)\n         Predict: 0.010526906401428207\n        Else (feature 2 &gt; 191.583333325)\n         Predict: 0.018806355140186918\n      Else (feature 9 &gt; 0.0695)\n       If (feature 6 &lt;= 7.5)\n        If (feature 3 &lt;= 8.466666665750001)\n         Predict: 0.6129130434782608\n        Else (feature 3 &gt; 8.466666665750001)\n         Predict: 0.8016666666666676\n       Else (feature 6 &gt; 7.5)\n        If (feature 4 &lt;= 2020.5)\n         Predict: 0.806974025974026\n        Else (feature 4 &gt; 2020.5)\n         Predict: 1.0154246575342467\n     Else (feature 6 &gt; 8.5)\n      If (feature 9 &lt;= 3.8175)\n       If (feature 2 &lt;= 183.916666675)\n        If (feature 9 &lt;= 1.1715)\n         Predict: 0.14384800422944755\n        Else (feature 9 &gt; 1.1715)\n         Predict: 1.446124050632911\n       Else (feature 2 &gt; 183.916666675)\n        If (feature 1 &lt;= 0.5)\n         Predict: 0.39087409678125645\n        Else (feature 1 &gt; 0.5)\n         Predict: 1.9108591800356505\n      Else (feature 9 &gt; 3.8175)\n       If (feature 9 &lt;= 5.7655)\n        If (feature 6 &lt;= 15.5)\n         Predict: 4.0325700483091795\n        Else (feature 6 &gt; 15.5)\n         Predict: 2.6706857142857143\n       Else (feature 9 &gt; 5.7655)\n        If (feature 9 &lt;= 8.4025)\n         Predict: 5.287792035398231\n        Else (feature 9 &gt; 8.4025)\n         Predict: 7.116353846153848\n    Else (feature 1 &gt; 16.5)\n     If (feature 9 &lt;= 3.8175)\n      If (feature 3 &lt;= 2.6666666670000003)\n       If (feature 3 &lt;= 2.14166666675)\n        If (feature 6 &lt;= 8.5)\n         Predict: 0.1432137404580153\n        Else (feature 6 &gt; 8.5)\n         Predict: 1.2396666666666667\n       Else (feature 3 &gt; 2.14166666675)\n        If (feature 9 &lt;= 0.316)\n         Predict: 0.41529104477611933\n        Else (feature 9 &gt; 0.316)\n         Predict: 2.6577749999999996\n      Else (feature 3 &gt; 2.6666666670000003)\n       If (feature 9 &lt;= 0.5295)\n        If (feature 9 &lt;= 0.15899999999999997)\n         Predict: 0.3065027932960894\n        Else (feature 9 &gt; 0.15899999999999997)\n         Predict: 1.4569932885906043\n       Else (feature 9 &gt; 0.5295)\n        If (feature 6 &lt;= 14.5)\n         Predict: 3.72936496350365\n        Else (feature 6 &gt; 14.5)\n         Predict: 2.0920122448979597\n     Else (feature 9 &gt; 3.8175)\n      If (feature 5 &lt;= 8.5)\n       If (feature 5 &lt;= 2.5)\n        If (feature 9 &lt;= 5.7655)\n         Predict: 4.268043956043956\n        Else (feature 9 &gt; 5.7655)\n         Predict: 6.175127906976744\n       Else (feature 5 &gt; 2.5)\n        If (feature 1 &lt;= 49.5)\n         Predict: 5.92998366013072\n        Else (feature 1 &gt; 49.5)\n         Predict: 7.609536922015181\n      Else (feature 5 &gt; 8.5)\n       If (feature 5 &lt;= 9.5)\n        If (feature 1 &lt;= 59.5)\n         Predict: 5.023819444444445\n        Else (feature 1 &gt; 59.5)\n         Predict: 6.330476793248944\n       Else (feature 5 &gt; 9.5)\n        If (feature 8 &lt;= 42.5)\n         Predict: 4.88221088435374\n        Else (feature 8 &gt; 42.5)\n         Predict: 3.954850746268658\n  Tree 15 (weight 1.0):\n    If (feature 8 &lt;= 38.5)\n     If (feature 9 &lt;= 3.8175)\n      If (feature 6 &lt;= 7.5)\n       If (feature 9 &lt;= 0.0045000000000000005)\n        If (feature 5 &lt;= 2.5)\n         Predict: 6.29601226993865E-4\n        Else (feature 5 &gt; 2.5)\n         Predict: 0.012200666111573687\n       Else (feature 9 &gt; 0.0045000000000000005)\n        If (feature 8 &lt;= 30.5)\n         Predict: 0.4598928571428571\n        Else (feature 8 &gt; 30.5)\n         Predict: 0.3192906976744188\n      Else (feature 6 &gt; 7.5)\n       If (feature 3 &lt;= 2.9375)\n        If (feature 9 &lt;= 0.316)\n         Predict: 0.09991545189504372\n        Else (feature 9 &gt; 0.316)\n         Predict: 1.1107612359550563\n       Else (feature 3 &gt; 2.9375)\n        If (feature 9 &lt;= 1.1715)\n         Predict: 0.40229675751879684\n        Else (feature 9 &gt; 1.1715)\n         Predict: 2.6079589953869813\n     Else (feature 9 &gt; 3.8175)\n      If (feature 6 &lt;= 15.5)\n       If (feature 9 &lt;= 6.9944999999999995)\n        If (feature 8 &lt;= 7.5)\n         Predict: 4.555585227272727\n        Else (feature 8 &gt; 7.5)\n         Predict: 6.271386069651742\n       Else (feature 9 &gt; 6.9944999999999995)\n        If (feature 1 &lt;= 49.5)\n         Predict: 7.409681063122925\n        Else (feature 1 &gt; 49.5)\n         Predict: 8.612458492975735\n      Else (feature 6 &gt; 15.5)\n       If (feature 8 &lt;= 11.5)\n        If (feature 2 &lt;= 135.083333325)\n         Predict: 3.3636190476190473\n        Else (feature 2 &gt; 135.083333325)\n         Predict: 2.5217428571428564\n       Else (feature 8 &gt; 11.5)\n        If (feature 1 &lt;= 49.5)\n         Predict: 3.681340040241448\n        Else (feature 1 &gt; 49.5)\n         Predict: 5.6008336980306375\n    Else (feature 8 &gt; 38.5)\n     If (feature 9 &lt;= 1.58)\n      If (feature 9 &lt;= 0.316)\n       If (feature 6 &lt;= 7.5)\n        If (feature 5 &lt;= 11.5)\n         Predict: 8.953626634958384E-4\n        Else (feature 5 &gt; 11.5)\n         Predict: 0.0\n       Else (feature 6 &gt; 7.5)\n        If (feature 1 &lt;= 2.5)\n         Predict: 0.05903748621830208\n        Else (feature 1 &gt; 2.5)\n         Predict: 0.6094153005464479\n      Else (feature 9 &gt; 0.316)\n       If (feature 0 &lt;= 0.102469136)\n        If (feature 1 &lt;= 5.5)\n         Predict: 0.7306961483594859\n        Else (feature 1 &gt; 5.5)\n         Predict: 2.197953488372093\n       Else (feature 0 &gt; 0.102469136)\n        If (feature 6 &lt;= 12.5)\n         Predict: 0.6668064516129032\n        Else (feature 6 &gt; 12.5)\n         Predict: 0.41130188679245266\n     Else (feature 9 &gt; 1.58)\n      If (feature 1 &lt;= 25.5)\n       If (feature 9 &lt;= 3.8175)\n        If (feature 3 &lt;= 5.04166666675)\n         Predict: 1.4435430107526883\n        Else (feature 3 &gt; 5.04166666675)\n         Predict: 1.8544847161572062\n       Else (feature 9 &gt; 3.8175)\n        If (feature 9 &lt;= 5.7655)\n         Predict: 3.3883253012048193\n        Else (feature 9 &gt; 5.7655)\n         Predict: 5.715142857142853\n      Else (feature 1 &gt; 25.5)\n       If (feature 5 &lt;= 10.5)\n        If (feature 1 &lt;= 58.5)\n         Predict: 4.325860606060607\n        Else (feature 1 &gt; 58.5)\n         Predict: 4.930830601092896\n       Else (feature 5 &gt; 10.5)\n        If (feature 6 &lt;= 14.5)\n         Predict: 3.645351190476191\n        Else (feature 6 &gt; 14.5)\n         Predict: 1.9808571428571435\n  Tree 16 (weight 1.0):\n    If (feature 6 &lt;= 8.5)\n     If (feature 1 &lt;= 1.5)\n      If (feature 1 &lt;= 0.5)\n       If (feature 9 &lt;= 0.013000000000000001)\n        If (feature 5 &lt;= 1.5)\n         Predict: 0.002166279069767442\n        Else (feature 5 &gt; 1.5)\n         Predict: 0.007357733927434756\n       Else (feature 9 &gt; 0.013000000000000001)\n        If (feature 6 &lt;= 7.5)\n         Predict: 0.4224242424242423\n        Else (feature 6 &gt; 7.5)\n         Predict: 0.6803571428571429\n      Else (feature 1 &gt; 0.5)\n       If (feature 9 &lt;= 0.15899999999999997)\n        If (feature 9 &lt;= 0.0115)\n         Predict: 0.061166666666666654\n        Else (feature 9 &gt; 0.0115)\n         Predict: 0.4569999999999999\n       Else (feature 9 &gt; 0.15899999999999997)\n        If (feature 5 &lt;= 7.5)\n         Predict: 1.31725\n        Else (feature 5 &gt; 7.5)\n         Predict: 0.9510000000000001\n     Else (feature 1 &gt; 1.5)\n      If (feature 9 &lt;= 0.15899999999999997)\n       If (feature 9 &lt;= 0.0115)\n        If (feature 6 &lt;= 6.5)\n         Predict: 0.04349122807017544\n        Else (feature 6 &gt; 6.5)\n         Predict: 0.1314691780821918\n       Else (feature 9 &gt; 0.0115)\n        If (feature 8 &lt;= 33.5)\n         Predict: 0.4978325581395349\n        Else (feature 8 &gt; 33.5)\n         Predict: 0.685350649350649\n      Else (feature 9 &gt; 0.15899999999999997)\n       If (feature 6 &lt;= 7.5)\n        If (feature 5 &lt;= 5.5)\n         Predict: 0.8033333333333333\n        Else (feature 5 &gt; 5.5)\n         Predict: 0.6259210526315788\n       Else (feature 6 &gt; 7.5)\n        If (feature 7 &lt;= 1.5)\n         Predict: 2.172296296296296\n        Else (feature 7 &gt; 1.5)\n         Predict: 1.4582352941176469\n    Else (feature 6 &gt; 8.5)\n     If (feature 8 &lt;= 38.5)\n      If (feature 9 &lt;= 3.8175)\n       If (feature 5 &lt;= 3.5)\n        If (feature 1 &lt;= 2.5)\n         Predict: 0.2391270627062705\n        Else (feature 1 &gt; 2.5)\n         Predict: 2.424130081300813\n       Else (feature 5 &gt; 3.5)\n        If (feature 9 &lt;= 1.1715)\n         Predict: 0.3213553788195897\n        Else (feature 9 &gt; 1.1715)\n         Predict: 2.6818365448504986\n      Else (feature 9 &gt; 3.8175)\n       If (feature 6 &lt;= 15.5)\n        If (feature 9 &lt;= 6.9944999999999995)\n         Predict: 5.954328719723183\n        Else (feature 9 &gt; 6.9944999999999995)\n         Predict: 8.23276960784314\n       Else (feature 6 &gt; 15.5)\n        If (feature 9 &lt;= 6.9944999999999995)\n         Predict: 3.502822429906542\n        Else (feature 9 &gt; 6.9944999999999995)\n         Predict: 6.3450380952380945\n     Else (feature 8 &gt; 38.5)\n      If (feature 8 &lt;= 46.5)\n       If (feature 1 &lt;= 2.5)\n        If (feature 1 &lt;= 0.5)\n         Predict: 0.41103731778425595\n        Else (feature 1 &gt; 0.5)\n         Predict: 1.667147058823529\n       Else (feature 1 &gt; 2.5)\n        If (feature 1 &lt;= 36.5)\n         Predict: 2.5766079734219267\n        Else (feature 1 &gt; 36.5)\n         Predict: 4.045526806526806\n      Else (feature 8 &gt; 46.5)\n       If (feature 0 &lt;= 0.00308642)\n        If (feature 1 &lt;= 0.5)\n         Predict: 0.26986519114688107\n        Else (feature 1 &gt; 0.5)\n         Predict: 2.0811262798634815\n       Else (feature 0 &gt; 0.00308642)\n        If (feature 9 &lt;= 0.316)\n         Predict: 0.028328638497652582\n        Else (feature 9 &gt; 0.316)\n         Predict: 0.40277551020408164\n  Tree 17 (weight 1.0):\n    If (feature 6 &lt;= 8.5)\n     If (feature 9 &lt;= 0.15899999999999997)\n      If (feature 6 &lt;= 6.5)\n       If (feature 1 &lt;= 49.5)\n        If (feature 6 &lt;= 5.5)\n         Predict: 4.749478079331943E-5\n        Else (feature 6 &gt; 5.5)\n         Predict: 0.01769257540603248\n       Else (feature 1 &gt; 49.5)\n        If (feature 8 &lt;= 30.5)\n         Predict: 0.10682291666666666\n        Else (feature 8 &gt; 30.5)\n         Predict: 0.020139534883720923\n      Else (feature 6 &gt; 6.5)\n       If (feature 9 &lt;= 0.0075)\n        If (feature 8 &lt;= 45.5)\n         Predict: 0.07096517412935323\n        Else (feature 8 &gt; 45.5)\n         Predict: 0.024170886075949385\n       Else (feature 9 &gt; 0.0075)\n        If (feature 2 &lt;= 43.416666667499996)\n         Predict: 0.3611190476190476\n        Else (feature 2 &gt; 43.416666667499996)\n         Predict: 0.4974633569739953\n     Else (feature 9 &gt; 0.15899999999999997)\n      If (feature 8 &lt;= 13.5)\n       If (feature 1 &lt;= 59.5)\n        If (feature 2 &lt;= 198.583333325)\n         Predict: 1.177\n        Else (feature 2 &gt; 198.583333325)\n         Predict: 1.9361538461538457\n       Else (feature 1 &gt; 59.5)\n        If (feature 9 &lt;= 0.316)\n         Predict: 2.0552\n        Else (feature 9 &gt; 0.316)\n         Predict: 2.7621428571428575\n      Else (feature 8 &gt; 13.5)\n       If (feature 9 &lt;= 0.316)\n        If (feature 1 &lt;= 6.5)\n         Predict: 0.6937187499999999\n        Else (feature 1 &gt; 6.5)\n         Predict: 1.0075740740740742\n       Else (feature 9 &gt; 0.316)\n        If (feature 1 &lt;= 36.5)\n         Predict: 1.263098901098901\n        Else (feature 1 &gt; 36.5)\n         Predict: 1.655550387596899\n    Else (feature 6 &gt; 8.5)\n     If (feature 1 &lt;= 18.5)\n      If (feature 8 &lt;= 41.5)\n       If (feature 9 &lt;= 3.8175)\n        If (feature 5 &lt;= 2.5)\n         Predict: 0.2994737108190091\n        Else (feature 5 &gt; 2.5)\n         Predict: 0.6844247216035636\n       Else (feature 9 &gt; 3.8175)\n        If (feature 6 &lt;= 15.5)\n         Predict: 5.324788235294118\n        Else (feature 6 &gt; 15.5)\n         Predict: 3.201165441176472\n      Else (feature 8 &gt; 41.5)\n       If (feature 2 &lt;= 175.916666675)\n        If (feature 6 &lt;= 15.5)\n         Predict: 0.9891424657534246\n        Else (feature 6 &gt; 15.5)\n         Predict: 0.04759980039920159\n       Else (feature 2 &gt; 175.916666675)\n        If (feature 6 &lt;= 14.5)\n         Predict: 1.0235659824046919\n        Else (feature 6 &gt; 14.5)\n         Predict: 0.07525141242937856\n     Else (feature 1 &gt; 18.5)\n      If (feature 6 &lt;= 9.5)\n       If (feature 8 &lt;= 6.5)\n        If (feature 5 &lt;= 1.5)\n         Predict: 0.4721818181818183\n        Else (feature 5 &gt; 1.5)\n         Predict: 1.5018333333333336\n       Else (feature 8 &gt; 6.5)\n        If (feature 1 &lt;= 59.5)\n         Predict: 2.6814263157894733\n        Else (feature 1 &gt; 59.5)\n         Predict: 3.6448166666666664\n      Else (feature 6 &gt; 9.5)\n       If (feature 5 &lt;= 9.5)\n        If (feature 1 &lt;= 58.5)\n         Predict: 5.028247157390784\n        Else (feature 1 &gt; 58.5)\n         Predict: 6.860386154678206\n       Else (feature 5 &gt; 9.5)\n        If (feature 8 &lt;= 46.5)\n         Predict: 3.9258363636363636\n        Else (feature 8 &gt; 46.5)\n         Predict: 2.483538961038959\n  Tree 18 (weight 1.0):\n    If (feature 9 &lt;= 2.9875)\n     If (feature 1 &lt;= 0.5)\n      If (feature 2 &lt;= 183.916666675)\n       If (feature 9 &lt;= 0.5295)\n        If (feature 8 &lt;= 41.5)\n         Predict: 0.023951938943894382\n        Else (feature 8 &gt; 41.5)\n         Predict: 0.04466188340807176\n       Else (feature 9 &gt; 0.5295)\n        If (feature 9 &lt;= 1.58)\n         Predict: 0.6856357723577235\n        Else (feature 9 &gt; 1.58)\n         Predict: 1.2065791139240505\n      Else (feature 2 &gt; 183.916666675)\n       If (feature 9 &lt;= 0.8099999999999999)\n        If (feature 6 &lt;= 6.5)\n         Predict: 0.0016149654921903374\n        Else (feature 6 &gt; 6.5)\n         Predict: 0.13071308225966302\n       Else (feature 9 &gt; 0.8099999999999999)\n        If (feature 6 &lt;= 13.5)\n         Predict: 1.8230318840579711\n        Else (feature 6 &gt; 13.5)\n         Predict: 0.8577942386831277\n     Else (feature 1 &gt; 0.5)\n      If (feature 3 &lt;= 2.6666666670000003)\n       If (feature 5 &lt;= 10.5)\n        If (feature 9 &lt;= 0.15899999999999997)\n         Predict: 0.16212820512820514\n        Else (feature 9 &gt; 0.15899999999999997)\n         Predict: 1.7274942528735628\n       Else (feature 5 &gt; 10.5)\n        If (feature 9 &lt;= 0.0695)\n         Predict: 0.37752941176470584\n        Else (feature 9 &gt; 0.0695)\n         Predict: 1.6139565217391307\n      Else (feature 3 &gt; 2.6666666670000003)\n       If (feature 3 &lt;= 3.80833333325)\n        If (feature 6 &lt;= 8.5)\n         Predict: 0.6832565217391304\n        Else (feature 6 &gt; 8.5)\n         Predict: 2.3824644351464435\n       Else (feature 3 &gt; 3.80833333325)\n        If (feature 6 &lt;= 8.5)\n         Predict: 0.6296101949025484\n        Else (feature 6 &gt; 8.5)\n         Predict: 2.4613367071524967\n    Else (feature 9 &gt; 2.9875)\n     If (feature 9 &lt;= 5.7655)\n      If (feature 6 &lt;= 14.5)\n       If (feature 1 &lt;= 25.5)\n        If (feature 2 &lt;= 333.333333325)\n         Predict: 3.6938967391304347\n        Else (feature 2 &gt; 333.333333325)\n         Predict: 7.482000000000009\n       Else (feature 1 &gt; 25.5)\n        If (feature 8 &lt;= 41.5)\n         Predict: 5.778536982248522\n        Else (feature 8 &gt; 41.5)\n         Predict: 4.357577669902913\n      Else (feature 6 &gt; 14.5)\n       If (feature 9 &lt;= 4.6884999999999994)\n        If (feature 1 &lt;= 2.5)\n         Predict: 1.6606384364820848\n        Else (feature 1 &gt; 2.5)\n         Predict: 2.5375710843373485\n       Else (feature 9 &gt; 4.6884999999999994)\n        If (feature 8 &lt;= 29.5)\n         Predict: 3.600778523489933\n        Else (feature 8 &gt; 29.5)\n         Predict: 4.21184239130435\n     Else (feature 9 &gt; 5.7655)\n      If (feature 6 &lt;= 15.5)\n       If (feature 9 &lt;= 8.4025)\n        If (feature 1 &lt;= 5.5)\n         Predict: 5.405687499999999\n        Else (feature 1 &gt; 5.5)\n         Predict: 7.236999999999998\n       Else (feature 9 &gt; 8.4025)\n        If (feature 6 &lt;= 14.5)\n         Predict: 9.077259079903149\n        Else (feature 6 &gt; 14.5)\n         Predict: 8.295100591715977\n      Else (feature 6 &gt; 15.5)\n       If (feature 1 &lt;= 58.5)\n        If (feature 2 &lt;= 53.833333332500004)\n         Predict: 5.3806756756756755\n        Else (feature 2 &gt; 53.833333332500004)\n         Predict: 4.7947869565217385\n       Else (feature 1 &gt; 58.5)\n        If (feature 9 &lt;= 8.4025)\n         Predict: 5.454517073170732\n        Else (feature 9 &gt; 8.4025)\n         Predict: 7.7100921052631595\n  Tree 19 (weight 1.0):\n    If (feature 6 &lt;= 8.5)\n     If (feature 1 &lt;= 0.5)\n      If (feature 6 &lt;= 7.5)\n       If (feature 9 &lt;= 0.0035)\n        If (feature 9 &lt;= 5.0E-4)\n         Predict: 0.0019065626839317226\n        Else (feature 9 &gt; 5.0E-4)\n         Predict: 0.14631249999999985\n       Else (feature 9 &gt; 0.0035)\n        If (feature 0 &lt;= 0.75)\n         Predict: 0.34464367816091945\n        Else (feature 0 &gt; 0.75)\n         Predict: 0.8350000000000009\n      Else (feature 6 &gt; 7.5)\n       If (feature 8 &lt;= 38.5)\n        If (feature 9 &lt;= 0.0695)\n         Predict: 0.13542857142857143\n        Else (feature 9 &gt; 0.0695)\n         Predict: 0.8179279999999999\n       Else (feature 8 &gt; 38.5)\n        If (feature 8 &lt;= 46.5)\n         Predict: 0.2101415094339623\n        Else (feature 8 &gt; 46.5)\n         Predict: 0.03542424242424244\n     Else (feature 1 &gt; 0.5)\n      If (feature 6 &lt;= 7.5)\n       If (feature 9 &lt;= 0.0115)\n        If (feature 1 &lt;= 49.5)\n         Predict: 0.032570155902004454\n        Else (feature 1 &gt; 49.5)\n         Predict: 0.10424603174603177\n       Else (feature 9 &gt; 0.0115)\n        If (feature 2 &lt;= 227.916666675)\n         Predict: 0.43690109890109885\n        Else (feature 2 &gt; 227.916666675)\n         Predict: 0.634840909090909\n      Else (feature 6 &gt; 7.5)\n       If (feature 5 &lt;= 8.5)\n        If (feature 5 &lt;= 2.5)\n         Predict: 0.3448169014084507\n        Else (feature 5 &gt; 2.5)\n         Predict: 1.4599219858156025\n       Else (feature 5 &gt; 8.5)\n        If (feature 8 &lt;= 38.5)\n         Predict: 0.7820769230769229\n        Else (feature 8 &gt; 38.5)\n         Predict: 0.29982978723404285\n    Else (feature 6 &gt; 8.5)\n     If (feature 1 &lt;= 16.5)\n      If (feature 9 &lt;= 3.8175)\n       If (feature 3 &lt;= 2.39166666675)\n        If (feature 9 &lt;= 0.316)\n         Predict: 0.0265351598173516\n        Else (feature 9 &gt; 0.316)\n         Predict: 0.851110749185668\n       Else (feature 3 &gt; 2.39166666675)\n        If (feature 9 &lt;= 0.8099999999999999)\n         Predict: 0.14015534834623497\n        Else (feature 9 &gt; 0.8099999999999999)\n         Predict: 1.4783261061946908\n      Else (feature 9 &gt; 3.8175)\n       If (feature 8 &lt;= 35.5)\n        If (feature 9 &lt;= 5.7655)\n         Predict: 3.6252395833333333\n        Else (feature 9 &gt; 5.7655)\n         Predict: 5.634678414096917\n       Else (feature 8 &gt; 35.5)\n        If (feature 3 &lt;= 2.39166666675)\n         Predict: 2.4418333333333333\n        Else (feature 3 &gt; 2.39166666675)\n         Predict: 3.725079646017699\n     Else (feature 1 &gt; 16.5)\n      If (feature 9 &lt;= 5.7655)\n       If (feature 1 &lt;= 58.5)\n        If (feature 5 &lt;= 2.5)\n         Predict: 2.5413598726114657\n        Else (feature 5 &gt; 2.5)\n         Predict: 3.562921073401736\n       Else (feature 1 &gt; 58.5)\n        If (feature 9 &lt;= 2.1785)\n         Predict: 3.184727272727273\n        Else (feature 9 &gt; 2.1785)\n         Predict: 5.1827618364418955\n      Else (feature 9 &gt; 5.7655)\n       If (feature 9 &lt;= 8.4025)\n        If (feature 9 &lt;= 6.9944999999999995)\n         Predict: 6.2608836858006\n        Else (feature 9 &gt; 6.9944999999999995)\n         Predict: 7.2317189781021884\n       Else (feature 9 &gt; 8.4025)\n        If (feature 1 &lt;= 36.5)\n         Predict: 7.63025\n        Else (feature 1 &gt; 36.5)\n         Predict: 8.7078855721393\n\n</div>",
       "datasetInfos": [],
       "metadata": {},
       "removedWidgets": [],
       "type": "html"
      }
     },
     "output_type": "display_data"
    }
   ],
   "source": [
    "# Print the trees with nodes: \n",
    "print('Trees with Nodes: {}'.format(tree.toDebugString))"
   ]
  },
  {
   "cell_type": "markdown",
   "metadata": {
    "application/vnd.databricks.v1+cell": {
     "cellMetadata": {},
     "inputWidgets": {},
     "nuid": "9f224461-ca4e-40f5-b33f-afb4defc6117",
     "showTitle": false,
     "title": ""
    }
   },
   "source": [
    "#### <b style=\"color:blue;\"> Regression with gradient boosted trees</b>\n",
    "[PySpark Reference](https://spark.apache.org/docs/latest/api/python/reference/api/pyspark.ml.regression.GBTRegressor.html#pyspark.ml.regression.GBTRegressor)"
   ]
  },
  {
   "cell_type": "code",
   "execution_count": 0,
   "metadata": {
    "application/vnd.databricks.v1+cell": {
     "cellMetadata": {},
     "inputWidgets": {},
     "nuid": "f78dc9cf-300d-41de-a64b-de331157e73d",
     "showTitle": false,
     "title": ""
    }
   },
   "outputs": [
    {
     "data": {
      "text/html": [
       "<style scoped>\n",
       "  .ansiout {\n",
       "    display: block;\n",
       "    unicode-bidi: embed;\n",
       "    white-space: pre-wrap;\n",
       "    word-wrap: break-word;\n",
       "    word-break: break-all;\n",
       "    font-family: \"Source Code Pro\", \"Menlo\", monospace;;\n",
       "    font-size: 13px;\n",
       "    color: #555;\n",
       "    margin-left: 4px;\n",
       "    line-height: 19px;\n",
       "  }\n",
       "</style>\n",
       "<div class=\"ansiout\"></div>"
      ]
     },
     "metadata": {
      "application/vnd.databricks.v1+output": {
       "addedWidgets": {},
       "arguments": {},
       "data": "<div class=\"ansiout\"></div>",
       "datasetInfos": [],
       "metadata": {},
       "removedWidgets": [],
       "type": "html"
      }
     },
     "output_type": "display_data"
    }
   ],
   "source": [
    "gbt = GBTRegressor(featuresCol=\"features\", labelCol=\"production\", predictionCol=\"predicted_production\", \n",
    "                           seed=42, \n",
    "                           maxDepth=2) \n",
    "\n",
    "model_name = \"gbt\" # for DF"
   ]
  },
  {
   "cell_type": "code",
   "execution_count": 0,
   "metadata": {
    "application/vnd.databricks.v1+cell": {
     "cellMetadata": {},
     "inputWidgets": {},
     "nuid": "a57da7d3-7f31-4bad-a8fb-c741a56b0253",
     "showTitle": false,
     "title": ""
    }
   },
   "outputs": [
    {
     "data": {
      "text/html": [
       "<style scoped>\n",
       "  .ansiout {\n",
       "    display: block;\n",
       "    unicode-bidi: embed;\n",
       "    white-space: pre-wrap;\n",
       "    word-wrap: break-word;\n",
       "    word-break: break-all;\n",
       "    font-family: \"Source Code Pro\", \"Menlo\", monospace;;\n",
       "    font-size: 13px;\n",
       "    color: #555;\n",
       "    margin-left: 4px;\n",
       "    line-height: 19px;\n",
       "  }\n",
       "</style>\n",
       "<div class=\"ansiout\"></div>"
      ]
     },
     "metadata": {
      "application/vnd.databricks.v1+output": {
       "addedWidgets": {},
       "arguments": {},
       "data": "<div class=\"ansiout\"></div>",
       "datasetInfos": [],
       "metadata": {},
       "removedWidgets": [],
       "type": "html"
      }
     },
     "output_type": "display_data"
    }
   ],
   "source": [
    "pipeline_nolag = Pipeline(stages=[vec_assembler_nolag, gbt])\n",
    "gbt_model_nolag = pipeline_nolag.fit(train_df)\n",
    "gbt_prediction_nolag = gbt_model_nolag.transform(test_df)"
   ]
  },
  {
   "cell_type": "code",
   "execution_count": 0,
   "metadata": {
    "application/vnd.databricks.v1+cell": {
     "cellMetadata": {},
     "inputWidgets": {},
     "nuid": "d78b21ba-5372-4a1a-82ac-e3ff89fc542e",
     "showTitle": false,
     "title": ""
    }
   },
   "outputs": [
    {
     "data": {
      "text/html": [
       "<style scoped>\n",
       "  .ansiout {\n",
       "    display: block;\n",
       "    unicode-bidi: embed;\n",
       "    white-space: pre-wrap;\n",
       "    word-wrap: break-word;\n",
       "    word-break: break-all;\n",
       "    font-family: \"Source Code Pro\", \"Menlo\", monospace;;\n",
       "    font-size: 13px;\n",
       "    color: #555;\n",
       "    margin-left: 4px;\n",
       "    line-height: 19px;\n",
       "  }\n",
       "</style>\n",
       "<div class=\"ansiout\"></div>"
      ]
     },
     "metadata": {
      "application/vnd.databricks.v1+output": {
       "addedWidgets": {},
       "arguments": {},
       "data": "<div class=\"ansiout\"></div>",
       "datasetInfos": [],
       "metadata": {},
       "removedWidgets": [],
       "type": "html"
      }
     },
     "output_type": "display_data"
    }
   ],
   "source": [
    "#display(gbt_prediction.head(2))"
   ]
  },
  {
   "cell_type": "code",
   "execution_count": 0,
   "metadata": {
    "application/vnd.databricks.v1+cell": {
     "cellMetadata": {},
     "inputWidgets": {},
     "nuid": "1a7044f4-cb23-41c5-b71c-86e2c9a16f74",
     "showTitle": false,
     "title": ""
    }
   },
   "outputs": [
    {
     "data": {
      "text/html": [
       "<style scoped>\n",
       "  .ansiout {\n",
       "    display: block;\n",
       "    unicode-bidi: embed;\n",
       "    white-space: pre-wrap;\n",
       "    word-wrap: break-word;\n",
       "    word-break: break-all;\n",
       "    font-family: \"Source Code Pro\", \"Menlo\", monospace;;\n",
       "    font-size: 13px;\n",
       "    color: #555;\n",
       "    margin-left: 4px;\n",
       "    line-height: 19px;\n",
       "  }\n",
       "</style>\n",
       "<div class=\"ansiout\"></div>"
      ]
     },
     "metadata": {
      "application/vnd.databricks.v1+output": {
       "addedWidgets": {},
       "arguments": {},
       "data": "<div class=\"ansiout\"></div>",
       "datasetInfos": [],
       "metadata": {},
       "removedWidgets": [],
       "type": "html"
      }
     },
     "output_type": "display_data"
    }
   ],
   "source": [
    "gbt_rmse_nolag = evaluator.evaluate(gbt_prediction_nolag, {evaluator.metricName: \"rmse\"}) \n",
    "gbt_r2_nolag = evaluator.evaluate(gbt_prediction_nolag, {evaluator.metricName: \"r2\"}) \n",
    "#print('RMSE: ' + str(gbt_rmse_nolag)) \n",
    "#print('R^2: ' + str(gbt_r2_nolag))\n",
    "\n",
    "newRow = spark.createDataFrame([[model_name, 'no lag', gbt_rmse_nolag, gbt_r2_nolag]], columns_DF)\n",
    "evaluation_DF = evaluation_DF.union(newRow)"
   ]
  },
  {
   "cell_type": "code",
   "execution_count": 0,
   "metadata": {
    "application/vnd.databricks.v1+cell": {
     "cellMetadata": {},
     "inputWidgets": {},
     "nuid": "a888be55-2dbc-435b-a524-a953ddc27c38",
     "showTitle": false,
     "title": ""
    }
   },
   "outputs": [
    {
     "data": {
      "text/html": [
       "<style scoped>\n",
       "  .ansiout {\n",
       "    display: block;\n",
       "    unicode-bidi: embed;\n",
       "    white-space: pre-wrap;\n",
       "    word-wrap: break-word;\n",
       "    word-break: break-all;\n",
       "    font-family: \"Source Code Pro\", \"Menlo\", monospace;;\n",
       "    font-size: 13px;\n",
       "    color: #555;\n",
       "    margin-left: 4px;\n",
       "    line-height: 19px;\n",
       "  }\n",
       "</style>\n",
       "<div class=\"ansiout\"></div>"
      ]
     },
     "metadata": {
      "application/vnd.databricks.v1+output": {
       "addedWidgets": {},
       "arguments": {},
       "data": "<div class=\"ansiout\"></div>",
       "datasetInfos": [],
       "metadata": {},
       "removedWidgets": [],
       "type": "html"
      }
     },
     "output_type": "display_data"
    }
   ],
   "source": [
    "# with lag 1h\n",
    "pipeline_wlag1h = Pipeline(stages=[vec_assembler_wlag1h, gbt])\n",
    "gbt_model_wlag1h = pipeline_wlag1h.fit(train_df)\n",
    "gbt_prediction_wlag1h = gbt_model_wlag1h.transform(test_df)\n",
    "gbt_rmse_wlag1h = evaluator.evaluate(gbt_prediction_wlag1h, {evaluator.metricName: \"rmse\"}) \n",
    "gbt_r2_wlag1h = evaluator.evaluate(gbt_prediction_wlag1h, {evaluator.metricName: \"r2\"}) \n",
    "#print('RMSE: ' + str(gbt_rmse_wlag1h)) \n",
    "#print('R^2: ' + str(gbt_r2_wlag1h))\n",
    "\n",
    "newRow = spark.createDataFrame([[model_name, 'with lag 1 hour', gbt_rmse_wlag1h, gbt_r2_wlag1h]], columns_DF)\n",
    "evaluation_DF = evaluation_DF.union(newRow)"
   ]
  },
  {
   "cell_type": "code",
   "execution_count": 0,
   "metadata": {
    "application/vnd.databricks.v1+cell": {
     "cellMetadata": {},
     "inputWidgets": {},
     "nuid": "9bad1b8f-f41e-4473-89bc-3e5b9677aec1",
     "showTitle": false,
     "title": ""
    }
   },
   "outputs": [
    {
     "data": {
      "text/html": [
       "<style scoped>\n",
       "  .ansiout {\n",
       "    display: block;\n",
       "    unicode-bidi: embed;\n",
       "    white-space: pre-wrap;\n",
       "    word-wrap: break-word;\n",
       "    word-break: break-all;\n",
       "    font-family: \"Source Code Pro\", \"Menlo\", monospace;;\n",
       "    font-size: 13px;\n",
       "    color: #555;\n",
       "    margin-left: 4px;\n",
       "    line-height: 19px;\n",
       "  }\n",
       "</style>\n",
       "<div class=\"ansiout\"></div>"
      ]
     },
     "metadata": {
      "application/vnd.databricks.v1+output": {
       "addedWidgets": {},
       "arguments": {},
       "data": "<div class=\"ansiout\"></div>",
       "datasetInfos": [],
       "metadata": {},
       "removedWidgets": [],
       "type": "html"
      }
     },
     "output_type": "display_data"
    }
   ],
   "source": [
    "# with lag 24h\n",
    "pipeline = Pipeline(stages=[vec_assembler_wlag24h, gbt])\n",
    "gbt_model_wlag24h = pipeline_wlag24h.fit(train_df)\n",
    "gbt_prediction_wlag24h = gbt_model_wlag24h.transform(test_df)\n",
    "gbt_rmse_wlag24h = evaluator.evaluate(gbt_prediction_wlag24h, {evaluator.metricName: \"rmse\"}) \n",
    "gbt_r2_wlag24h = evaluator.evaluate(gbt_prediction_wlag24h, {evaluator.metricName: \"r2\"}) \n",
    "#print('RMSE: ' + str(gbt_rmse_wlag24h)) \n",
    "#print('R^2: ' + str(gbt_r2_wlag24h))\n",
    "\n",
    "newRow = spark.createDataFrame([[model_name, 'with lag 24 hours', gbt_rmse_wlag24h, gbt_r2_wlag24h]], columns_DF)\n",
    "evaluation_DF = evaluation_DF.union(newRow)"
   ]
  },
  {
   "cell_type": "code",
   "execution_count": 0,
   "metadata": {
    "application/vnd.databricks.v1+cell": {
     "cellMetadata": {},
     "inputWidgets": {},
     "nuid": "4dfc207b-c2fe-46e3-a4d9-b5abc26dad30",
     "showTitle": false,
     "title": ""
    }
   },
   "outputs": [
    {
     "data": {
      "text/html": [
       "<style scoped>\n",
       "  .ansiout {\n",
       "    display: block;\n",
       "    unicode-bidi: embed;\n",
       "    white-space: pre-wrap;\n",
       "    word-wrap: break-word;\n",
       "    word-break: break-all;\n",
       "    font-family: \"Source Code Pro\", \"Menlo\", monospace;;\n",
       "    font-size: 13px;\n",
       "    color: #555;\n",
       "    margin-left: 4px;\n",
       "    line-height: 19px;\n",
       "  }\n",
       "</style>\n",
       "<div class=\"ansiout\"></div>"
      ]
     },
     "metadata": {
      "application/vnd.databricks.v1+output": {
       "addedWidgets": {},
       "arguments": {},
       "data": "<div class=\"ansiout\"></div>",
       "datasetInfos": [],
       "metadata": {},
       "removedWidgets": [],
       "type": "html"
      }
     },
     "output_type": "display_data"
    }
   ],
   "source": [
    "# with lags\n",
    "pipeline = Pipeline(stages=[vec_assembler_wlags, gbt])\n",
    "gbt_model_wlags = pipeline_wlags.fit(train_df)\n",
    "gbt_prediction_wlags = gbt_model_wlags.transform(test_df)\n",
    "gbt_rmse_wlags = evaluator.evaluate(gbt_prediction_wlags, {evaluator.metricName: \"rmse\"}) \n",
    "gbt_r2_wlags = evaluator.evaluate(gbt_prediction_wlags, {evaluator.metricName: \"r2\"}) \n",
    "#print('RMSE: ' + str(gbt_rmse_wlags))\n",
    "#print('R^2: ' + str(gbt_r2_wlags))\n",
    "\n",
    "newRow = spark.createDataFrame([[model_name, 'with lags', gbt_rmse_wlags, gbt_r2_wlags]], columns_DF)\n",
    "evaluation_DF = evaluation_DF.union(newRow)"
   ]
  },
  {
   "cell_type": "code",
   "execution_count": 0,
   "metadata": {
    "application/vnd.databricks.v1+cell": {
     "cellMetadata": {},
     "inputWidgets": {},
     "nuid": "4e31faca-0ed8-4bdd-b133-4a7ed2dff83b",
     "showTitle": false,
     "title": ""
    }
   },
   "outputs": [
    {
     "data": {
      "text/html": [
       "<style scoped>\n",
       "  .ansiout {\n",
       "    display: block;\n",
       "    unicode-bidi: embed;\n",
       "    white-space: pre-wrap;\n",
       "    word-wrap: break-word;\n",
       "    word-break: break-all;\n",
       "    font-family: \"Source Code Pro\", \"Menlo\", monospace;;\n",
       "    font-size: 13px;\n",
       "    color: #555;\n",
       "    margin-left: 4px;\n",
       "    line-height: 19px;\n",
       "  }\n",
       "</style>\n",
       "<div class=\"ansiout\"></div>"
      ]
     },
     "metadata": {
      "application/vnd.databricks.v1+output": {
       "addedWidgets": {},
       "arguments": {},
       "data": "<div class=\"ansiout\"></div>",
       "datasetInfos": [],
       "metadata": {},
       "removedWidgets": [],
       "type": "html"
      }
     },
     "output_type": "display_data"
    }
   ],
   "source": [
    "#gbt_tree = gbt_model.stages[-1]\n",
    "#print(gbt_tree.featureImportances) # load feature importance from the model object"
   ]
  },
  {
   "cell_type": "code",
   "execution_count": 0,
   "metadata": {
    "application/vnd.databricks.v1+cell": {
     "cellMetadata": {},
     "inputWidgets": {},
     "nuid": "ea211ca1-bea0-40e5-af55-a9bdc6f3f425",
     "showTitle": false,
     "title": ""
    }
   },
   "outputs": [
    {
     "data": {
      "text/html": [
       "<style scoped>\n",
       "  .ansiout {\n",
       "    display: block;\n",
       "    unicode-bidi: embed;\n",
       "    white-space: pre-wrap;\n",
       "    word-wrap: break-word;\n",
       "    word-break: break-all;\n",
       "    font-family: \"Source Code Pro\", \"Menlo\", monospace;;\n",
       "    font-size: 13px;\n",
       "    color: #555;\n",
       "    margin-left: 4px;\n",
       "    line-height: 19px;\n",
       "  }\n",
       "</style>\n",
       "<div class=\"ansiout\"></div>"
      ]
     },
     "metadata": {
      "application/vnd.databricks.v1+output": {
       "addedWidgets": {},
       "arguments": {},
       "data": "<div class=\"ansiout\"></div>",
       "datasetInfos": [],
       "metadata": {},
       "removedWidgets": [],
       "type": "html"
      }
     },
     "output_type": "display_data"
    }
   ],
   "source": [
    "# Print the trees with nodes: \n",
    "#print('Trees with Nodes: {}'.format(gbt_tree.toDebugString))"
   ]
  },
  {
   "cell_type": "code",
   "execution_count": 0,
   "metadata": {
    "application/vnd.databricks.v1+cell": {
     "cellMetadata": {},
     "inputWidgets": {},
     "nuid": "c0606443-4856-4e9e-8ca9-e92b6f5e43f2",
     "showTitle": false,
     "title": ""
    }
   },
   "outputs": [
    {
     "data": {
      "text/html": [
       "<style scoped>\n",
       "  .ansiout {\n",
       "    display: block;\n",
       "    unicode-bidi: embed;\n",
       "    white-space: pre-wrap;\n",
       "    word-wrap: break-word;\n",
       "    word-break: break-all;\n",
       "    font-family: \"Source Code Pro\", \"Menlo\", monospace;;\n",
       "    font-size: 13px;\n",
       "    color: #555;\n",
       "    margin-left: 4px;\n",
       "    line-height: 19px;\n",
       "  }\n",
       "</style>\n",
       "<div class=\"ansiout\"></div>"
      ]
     },
     "metadata": {
      "application/vnd.databricks.v1+output": {
       "addedWidgets": {},
       "arguments": {},
       "data": "<div class=\"ansiout\"></div>",
       "datasetInfos": [],
       "metadata": {},
       "removedWidgets": [],
       "type": "html"
      }
     },
     "output_type": "display_data"
    }
   ],
   "source": [
    "#gbt_tree.toDebugString"
   ]
  },
  {
   "cell_type": "markdown",
   "metadata": {
    "application/vnd.databricks.v1+cell": {
     "cellMetadata": {},
     "inputWidgets": {},
     "nuid": "fef49ea8-d289-43ac-b139-1da24ad0c3de",
     "showTitle": false,
     "title": ""
    }
   },
   "source": [
    "#### <b style=\"color:blue;\"> Compare models </b>"
   ]
  },
  {
   "cell_type": "code",
   "execution_count": 0,
   "metadata": {
    "application/vnd.databricks.v1+cell": {
     "cellMetadata": {},
     "inputWidgets": {},
     "nuid": "edc05634-db5d-442a-9f60-f02416bde3ce",
     "showTitle": false,
     "title": ""
    }
   },
   "outputs": [
    {
     "data": {
      "text/html": [
       "<style scoped>\n",
       "  .table-result-container {\n",
       "    max-height: 300px;\n",
       "    overflow: auto;\n",
       "  }\n",
       "  table, th, td {\n",
       "    border: 1px solid black;\n",
       "    border-collapse: collapse;\n",
       "  }\n",
       "  th, td {\n",
       "    padding: 5px;\n",
       "  }\n",
       "  th {\n",
       "    text-align: left;\n",
       "  }\n",
       "</style><div class='table-result-container'><table class='table-result'><thead style='background-color: white'><tr><th>Model</th><th>Input Data</th><th>RMSE</th><th>R^2</th></tr></thead><tbody><tr><td>rf</td><td>with lags</td><td>0.7632212374971509</td><td>0.9312513465553528</td></tr><tr><td>gbt</td><td>with lags</td><td>0.7632212374971509</td><td>0.9312513465553528</td></tr><tr><td>rf</td><td>with lag 1 hour</td><td>0.77186198480283</td><td>0.9296858701271895</td></tr><tr><td>gbt</td><td>with lag 1 hour</td><td>0.7842017283304613</td><td>0.927419677556005</td></tr><tr><td>rf</td><td>with lag 24 hours</td><td>1.054566067595643</td><td>0.8687465011910007</td></tr><tr><td>gbt</td><td>with lag 24 hours</td><td>1.054566067595643</td><td>0.8687465011910007</td></tr><tr><td>gbt</td><td>no lag</td><td>1.183384442728275</td><td>0.8347220132262718</td></tr><tr><td>rf</td><td>no lag</td><td>1.250133991989478</td><td>0.8155509464056601</td></tr></tbody></table></div>"
      ]
     },
     "metadata": {
      "application/vnd.databricks.v1+output": {
       "addedWidgets": {},
       "aggData": [],
       "aggError": "",
       "aggOverflow": false,
       "aggSchema": [],
       "aggSeriesLimitReached": false,
       "aggType": "",
       "arguments": {},
       "columnCustomDisplayInfos": {},
       "data": [
        [
         "rf",
         "with lags",
         0.7632212374971509,
         0.9312513465553528
        ],
        [
         "gbt",
         "with lags",
         0.7632212374971509,
         0.9312513465553528
        ],
        [
         "rf",
         "with lag 1 hour",
         0.77186198480283,
         0.9296858701271895
        ],
        [
         "gbt",
         "with lag 1 hour",
         0.7842017283304613,
         0.927419677556005
        ],
        [
         "rf",
         "with lag 24 hours",
         1.054566067595643,
         0.8687465011910007
        ],
        [
         "gbt",
         "with lag 24 hours",
         1.054566067595643,
         0.8687465011910007
        ],
        [
         "gbt",
         "no lag",
         1.183384442728275,
         0.8347220132262718
        ],
        [
         "rf",
         "no lag",
         1.250133991989478,
         0.8155509464056601
        ]
       ],
       "datasetInfos": [],
       "dbfsResultPath": null,
       "isJsonSchema": true,
       "metadata": {},
       "overflow": false,
       "plotOptions": {
        "customPlotOptions": {},
        "displayType": "table",
        "pivotAggregation": null,
        "pivotColumns": null,
        "xColumns": null,
        "yColumns": null
       },
       "removedWidgets": [],
       "schema": [
        {
         "metadata": "{}",
         "name": "Model",
         "type": "\"string\""
        },
        {
         "metadata": "{}",
         "name": "Input Data",
         "type": "\"string\""
        },
        {
         "metadata": "{}",
         "name": "RMSE",
         "type": "\"double\""
        },
        {
         "metadata": "{}",
         "name": "R^2",
         "type": "\"double\""
        }
       ],
       "type": "table"
      }
     },
     "output_type": "display_data"
    }
   ],
   "source": [
    "evaluation_DF = evaluation_DF.sort(col(\"RMSE\"))\n",
    "display(evaluation_DF)"
   ]
  },
  {
   "cell_type": "code",
   "execution_count": 0,
   "metadata": {
    "application/vnd.databricks.v1+cell": {
     "cellMetadata": {},
     "inputWidgets": {},
     "nuid": "0dfb327a-8bb6-454b-bd53-902b090dc4c3",
     "showTitle": false,
     "title": ""
    }
   },
   "outputs": [
    {
     "data": {
      "text/html": [
       "<style scoped>\n",
       "  .ansiout {\n",
       "    display: block;\n",
       "    unicode-bidi: embed;\n",
       "    white-space: pre-wrap;\n",
       "    word-wrap: break-word;\n",
       "    word-break: break-all;\n",
       "    font-family: \"Source Code Pro\", \"Menlo\", monospace;;\n",
       "    font-size: 13px;\n",
       "    color: #555;\n",
       "    margin-left: 4px;\n",
       "    line-height: 19px;\n",
       "  }\n",
       "</style>\n",
       "<div class=\"ansiout\">Out[69]: DataFrame[summary: string, Model: string, Input Data: string, RMSE: string, R^2: string]</div>"
      ]
     },
     "metadata": {
      "application/vnd.databricks.v1+output": {
       "addedWidgets": {},
       "arguments": {},
       "data": "<div class=\"ansiout\">Out[69]: DataFrame[summary: string, Model: string, Input Data: string, RMSE: string, R^2: string]</div>",
       "datasetInfos": [],
       "metadata": {},
       "removedWidgets": [],
       "type": "html"
      }
     },
     "output_type": "display_data"
    }
   ],
   "source": [
    "evaluation_DF.describe()"
   ]
  },
  {
   "cell_type": "markdown",
   "metadata": {
    "application/vnd.databricks.v1+cell": {
     "cellMetadata": {},
     "inputWidgets": {},
     "nuid": "720204c0-f0e6-4456-ba20-048b4f5aa062",
     "showTitle": false,
     "title": ""
    }
   },
   "source": [
    "[Random Forest vs GBT](https://subscription.packtpub.com/book/big-data-and-business-intelligence/9781788479042/1/ch01lvl1sec15/boosting-the-performance-using-random-forest-regressor):\n",
    "- GBTs train one tree at a time, but Random Forest can train multiple trees in parallel. So the training time is lower for RF. However, in some special cases, training and using a smaller number of trees with GBTs is easier and quicker.\n",
    "- RFs are less prone to overfitting in most cases, so it reduces the likelihood of overfitting. In other words, Random Forest reduces variance with more trees, but GBTs reduce bias with more trees.\n",
    "- Finally, Random Forest can be easier to tune since performance improves monotonically with the number of trees, but GBT performs badly with an increased number of trees.\n",
    "\n",
    "-> selected RF model"
   ]
  },
  {
   "cell_type": "markdown",
   "metadata": {
    "application/vnd.databricks.v1+cell": {
     "cellMetadata": {},
     "inputWidgets": {},
     "nuid": "4f92f60f-b854-4c1c-86dc-bae136d299a1",
     "showTitle": false,
     "title": ""
    }
   },
   "source": [
    "#### <b style=\"color:blue;\"> [Hyperparameter Tuning](https://spark.apache.org/docs/latest/ml-tuning.html) with selected input data </b>"
   ]
  },
  {
   "cell_type": "code",
   "execution_count": 0,
   "metadata": {
    "application/vnd.databricks.v1+cell": {
     "cellMetadata": {},
     "inputWidgets": {},
     "nuid": "ae3b6b69-4b9d-43fc-9e68-b510cb57bac1",
     "showTitle": false,
     "title": ""
    }
   },
   "outputs": [
    {
     "data": {
      "text/html": [
       "<style scoped>\n",
       "  .ansiout {\n",
       "    display: block;\n",
       "    unicode-bidi: embed;\n",
       "    white-space: pre-wrap;\n",
       "    word-wrap: break-word;\n",
       "    word-break: break-all;\n",
       "    font-family: \"Source Code Pro\", \"Menlo\", monospace;;\n",
       "    font-size: 13px;\n",
       "    color: #555;\n",
       "    margin-left: 4px;\n",
       "    line-height: 19px;\n",
       "  }\n",
       "</style>\n",
       "<div class=\"ansiout\"></div>"
      ]
     },
     "metadata": {
      "application/vnd.databricks.v1+output": {
       "addedWidgets": {},
       "arguments": {},
       "data": "<div class=\"ansiout\"></div>",
       "datasetInfos": [],
       "metadata": {},
       "removedWidgets": [],
       "type": "html"
      }
     },
     "output_type": "display_data"
    }
   ],
   "source": [
    "paramGrid = ParamGridBuilder() \\\n",
    "    .addGrid(rf.maxDepth, [5, 10]) \\\n",
    "    .addGrid(rf.minInstancesPerNode, [1, 2,3,4]) \\\n",
    "    .addGrid(rf.numTrees, [10, 20, 50, 100]) \\\n",
    "    .build()\n",
    "\n",
    "crossval = CrossValidator(estimator=pipeline_wlag1h,\n",
    "                          estimatorParamMaps=paramGrid,\n",
    "                          evaluator=evaluator,\n",
    "                          numFolds=3,\n",
    "                          seed = 42)  # use 3+ folds in practice\n",
    "\n"
   ]
  },
  {
   "cell_type": "code",
   "execution_count": 0,
   "metadata": {
    "application/vnd.databricks.v1+cell": {
     "cellMetadata": {},
     "inputWidgets": {},
     "nuid": "a3f66582-11af-460c-bde5-89338598d05c",
     "showTitle": false,
     "title": ""
    }
   },
   "outputs": [
    {
     "data": {
      "text/html": [
       "<style scoped>\n",
       "  .ansiout {\n",
       "    display: block;\n",
       "    unicode-bidi: embed;\n",
       "    white-space: pre-wrap;\n",
       "    word-wrap: break-word;\n",
       "    word-break: break-all;\n",
       "    font-family: \"Source Code Pro\", \"Menlo\", monospace;;\n",
       "    font-size: 13px;\n",
       "    color: #555;\n",
       "    margin-left: 4px;\n",
       "    line-height: 19px;\n",
       "  }\n",
       "</style>\n",
       "<div class=\"ansiout\"></div>"
      ]
     },
     "metadata": {
      "application/vnd.databricks.v1+output": {
       "addedWidgets": {},
       "arguments": {},
       "data": "<div class=\"ansiout\"></div>",
       "datasetInfos": [],
       "metadata": {},
       "removedWidgets": [],
       "type": "html"
      }
     },
     "output_type": "display_data"
    }
   ],
   "source": [
    "# Run cross-validation, and choose the best set of parameters.\n",
    "cvModel = crossval.fit(train_df)"
   ]
  },
  {
   "cell_type": "code",
   "execution_count": 0,
   "metadata": {
    "application/vnd.databricks.v1+cell": {
     "cellMetadata": {},
     "inputWidgets": {},
     "nuid": "4ec8b3f9-2ec4-4f20-899b-e20b34c10712",
     "showTitle": false,
     "title": ""
    }
   },
   "outputs": [
    {
     "data": {
      "text/html": [
       "<style scoped>\n",
       "  .ansiout {\n",
       "    display: block;\n",
       "    unicode-bidi: embed;\n",
       "    white-space: pre-wrap;\n",
       "    word-wrap: break-word;\n",
       "    word-break: break-all;\n",
       "    font-family: \"Source Code Pro\", \"Menlo\", monospace;;\n",
       "    font-size: 13px;\n",
       "    color: #555;\n",
       "    margin-left: 4px;\n",
       "    line-height: 19px;\n",
       "  }\n",
       "</style>\n",
       "<div class=\"ansiout\">CrossValidatorModel_796217b4cd0f\n",
       "</div>"
      ]
     },
     "metadata": {
      "application/vnd.databricks.v1+output": {
       "addedWidgets": {},
       "arguments": {},
       "data": "<div class=\"ansiout\">CrossValidatorModel_796217b4cd0f\n</div>",
       "datasetInfos": [],
       "metadata": {},
       "removedWidgets": [],
       "type": "html"
      }
     },
     "output_type": "display_data"
    }
   ],
   "source": [
    "print(cvModel)"
   ]
  },
  {
   "cell_type": "code",
   "execution_count": 0,
   "metadata": {
    "application/vnd.databricks.v1+cell": {
     "cellMetadata": {},
     "inputWidgets": {},
     "nuid": "7b4367d5-d7c8-42fa-8626-b95ca037661f",
     "showTitle": false,
     "title": ""
    }
   },
   "outputs": [
    {
     "data": {
      "text/html": [
       "<style scoped>\n",
       "  .ansiout {\n",
       "    display: block;\n",
       "    unicode-bidi: embed;\n",
       "    white-space: pre-wrap;\n",
       "    word-wrap: break-word;\n",
       "    word-break: break-all;\n",
       "    font-family: \"Source Code Pro\", \"Menlo\", monospace;;\n",
       "    font-size: 13px;\n",
       "    color: #555;\n",
       "    margin-left: 4px;\n",
       "    line-height: 19px;\n",
       "  }\n",
       "</style>\n",
       "<div class=\"ansiout\"></div>"
      ]
     },
     "metadata": {
      "application/vnd.databricks.v1+output": {
       "addedWidgets": {},
       "arguments": {},
       "data": "<div class=\"ansiout\"></div>",
       "datasetInfos": [],
       "metadata": {},
       "removedWidgets": [],
       "type": "html"
      }
     },
     "output_type": "display_data"
    }
   ],
   "source": [
    "cv_prediction = cvModel.transform(test_df)"
   ]
  },
  {
   "cell_type": "code",
   "execution_count": 0,
   "metadata": {
    "application/vnd.databricks.v1+cell": {
     "cellMetadata": {},
     "inputWidgets": {},
     "nuid": "77a9fd8d-6bce-4de1-aa38-0a1133fe75ed",
     "showTitle": false,
     "title": ""
    }
   },
   "outputs": [
    {
     "data": {
      "text/html": [
       "<style scoped>\n",
       "  .ansiout {\n",
       "    display: block;\n",
       "    unicode-bidi: embed;\n",
       "    white-space: pre-wrap;\n",
       "    word-wrap: break-word;\n",
       "    word-break: break-all;\n",
       "    font-family: \"Source Code Pro\", \"Menlo\", monospace;;\n",
       "    font-size: 13px;\n",
       "    color: #555;\n",
       "    margin-left: 4px;\n",
       "    line-height: 19px;\n",
       "  }\n",
       "</style>\n",
       "<div class=\"ansiout\">RMSE: 0.7769580615710971\n",
       "R^2: 0.9377250831173495\n",
       "</div>"
      ]
     },
     "metadata": {
      "application/vnd.databricks.v1+output": {
       "addedWidgets": {},
       "arguments": {},
       "data": "<div class=\"ansiout\">RMSE: 0.7769580615710971\nR^2: 0.9377250831173495\n</div>",
       "datasetInfos": [],
       "metadata": {},
       "removedWidgets": [],
       "type": "html"
      }
     },
     "output_type": "display_data"
    }
   ],
   "source": [
    "rf_rmse_cv = evaluator.evaluate(cv_prediction, {evaluator.metricName: \"rmse\"}) \n",
    "rf_r2_cv = evaluator.evaluate(cv_prediction, {evaluator.metricName: \"r2\"}) \n",
    "print('RMSE: ' + str(rf_rmse_cv)) \n",
    "print('R^2: ' + str(rf_r2_cv)) "
   ]
  },
  {
   "cell_type": "markdown",
   "metadata": {
    "application/vnd.databricks.v1+cell": {
     "cellMetadata": {},
     "inputWidgets": {},
     "nuid": "56494dbf-6004-4032-abc0-9bbe00f915e1",
     "showTitle": false,
     "title": ""
    }
   },
   "source": [
    "#### <b style=\"color:blue;\"> Save model w/o vec_assembler_wlag1h </b>"
   ]
  },
  {
   "cell_type": "markdown",
   "metadata": {
    "application/vnd.databricks.v1+cell": {
     "cellMetadata": {},
     "inputWidgets": {},
     "nuid": "051a4edb-2d18-4ff8-ac12-8e9c1166bb34",
     "showTitle": false,
     "title": ""
    }
   },
   "source": [
    "Model rf <br>\n",
    "Input Data with lag 1 hour<br>\n",
    "RMSE 0.9807332651984103<br>\n",
    "R^2 0.900775295397652"
   ]
  },
  {
   "cell_type": "code",
   "execution_count": 0,
   "metadata": {
    "application/vnd.databricks.v1+cell": {
     "cellMetadata": {},
     "inputWidgets": {},
     "nuid": "663ace32-e43c-4191-96c2-c23ebfc5e343",
     "showTitle": false,
     "title": ""
    }
   },
   "outputs": [
    {
     "data": {
      "text/html": [
       "<style scoped>\n",
       "  .ansiout {\n",
       "    display: block;\n",
       "    unicode-bidi: embed;\n",
       "    white-space: pre-wrap;\n",
       "    word-wrap: break-word;\n",
       "    word-break: break-all;\n",
       "    font-family: \"Source Code Pro\", \"Menlo\", monospace;;\n",
       "    font-size: 13px;\n",
       "    color: #555;\n",
       "    margin-left: 4px;\n",
       "    line-height: 19px;\n",
       "  }\n",
       "</style>\n",
       "<div class=\"ansiout\"></div>"
      ]
     },
     "metadata": {
      "application/vnd.databricks.v1+output": {
       "addedWidgets": {},
       "arguments": {},
       "data": "<div class=\"ansiout\"></div>",
       "datasetInfos": [],
       "metadata": {},
       "removedWidgets": [],
       "type": "html"
      }
     },
     "output_type": "display_data"
    }
   ],
   "source": [
    "features = ['rr_SMA', 'ss_SMA', 'dd_SMA', 'ff_SMA', 'year', 'month', 'hour', 'quarter-of-year', 'week-of-year', 'lag_1h']"
   ]
  },
  {
   "cell_type": "code",
   "execution_count": 0,
   "metadata": {
    "application/vnd.databricks.v1+cell": {
     "cellMetadata": {},
     "inputWidgets": {},
     "nuid": "3d3f652b-4687-4d75-8d57-e686213a125d",
     "showTitle": false,
     "title": ""
    }
   },
   "outputs": [
    {
     "data": {
      "text/html": [
       "<style scoped>\n",
       "  .ansiout {\n",
       "    display: block;\n",
       "    unicode-bidi: embed;\n",
       "    white-space: pre-wrap;\n",
       "    word-wrap: break-word;\n",
       "    word-break: break-all;\n",
       "    font-family: \"Source Code Pro\", \"Menlo\", monospace;;\n",
       "    font-size: 13px;\n",
       "    color: #555;\n",
       "    margin-left: 4px;\n",
       "    line-height: 19px;\n",
       "  }\n",
       "</style>\n",
       "<div class=\"ansiout\"></div>"
      ]
     },
     "metadata": {
      "application/vnd.databricks.v1+output": {
       "addedWidgets": {},
       "arguments": {},
       "data": "<div class=\"ansiout\"></div>",
       "datasetInfos": [],
       "metadata": {},
       "removedWidgets": [],
       "type": "html"
      }
     },
     "output_type": "display_data"
    }
   ],
   "source": [
    "rf = RandomForestRegressor(featuresCol=\"features\", labelCol=\"production\", predictionCol=\"predicted_production\", # predictionCol=\"predicted_production\",   # FALLS NOTWENDIG, ÜBERALL ANPASSEN\n",
    "                           maxDepth = 5, minInstancesPerNode = 1, numTrees = 10, #output after cross validation\n",
    "                           seed=42 \n",
    "                           ) \n",
    "\n",
    "evaluator = RegressionEvaluator(labelCol=\"production\",  \n",
    "                                predictionCol=\"predicted_production\") # predictionCol=\"predicted_production\")   # FALLS NOTWENDIG, ÜBERALL ANPASSEN\n",
    "\n",
    "model_name = \"rf\" # for DF"
   ]
  },
  {
   "cell_type": "code",
   "execution_count": 0,
   "metadata": {
    "application/vnd.databricks.v1+cell": {
     "cellMetadata": {},
     "inputWidgets": {},
     "nuid": "a408b2f9-9de0-4c8a-8bb5-f73f1277da66",
     "showTitle": false,
     "title": ""
    }
   },
   "outputs": [
    {
     "data": {
      "text/html": [
       "<style scoped>\n",
       "  .ansiout {\n",
       "    display: block;\n",
       "    unicode-bidi: embed;\n",
       "    white-space: pre-wrap;\n",
       "    word-wrap: break-word;\n",
       "    word-break: break-all;\n",
       "    font-family: \"Source Code Pro\", \"Menlo\", monospace;;\n",
       "    font-size: 13px;\n",
       "    color: #555;\n",
       "    margin-left: 4px;\n",
       "    line-height: 19px;\n",
       "  }\n",
       "</style>\n",
       "<div class=\"ansiout\">RMSE: 0.9813124171647583\n",
       "R^2: 0.9006580705566889\n",
       "</div>"
      ]
     },
     "metadata": {
      "application/vnd.databricks.v1+output": {
       "addedWidgets": {},
       "arguments": {},
       "data": "<div class=\"ansiout\">RMSE: 0.9813124171647583\nR^2: 0.9006580705566889\n</div>",
       "datasetInfos": [],
       "metadata": {},
       "removedWidgets": [],
       "type": "html"
      }
     },
     "output_type": "display_data"
    }
   ],
   "source": [
    "# lag 1h\n",
    "pipeline_wlag1h = Pipeline(stages=[VectorAssembler(inputCols=features, outputCol='features'), rf])\n",
    "rf_model_wlag1h = pipeline_wlag1h.fit(train_df)\n",
    "rf_prediction_wlag1h = rf_model_wlag1h.transform(test_df)\n",
    "\n",
    "rf_rmse_wlag1h = evaluator.evaluate(rf_prediction_wlag1h, {evaluator.metricName: \"rmse\"}) \n",
    "rf_r2_wlag1h = evaluator.evaluate(rf_prediction_wlag1h, {evaluator.metricName: \"r2\"}) \n",
    "print('RMSE: ' + str(rf_rmse_wlag1h)) \n",
    "print('R^2: ' + str(rf_r2_wlag1h)) "
   ]
  },
  {
   "cell_type": "code",
   "execution_count": 0,
   "metadata": {
    "application/vnd.databricks.v1+cell": {
     "cellMetadata": {},
     "inputWidgets": {},
     "nuid": "c816c4eb-fde7-480f-8540-e781209842a9",
     "showTitle": false,
     "title": ""
    }
   },
   "outputs": [
    {
     "data": {
      "text/html": [
       "<style scoped>\n",
       "  .ansiout {\n",
       "    display: block;\n",
       "    unicode-bidi: embed;\n",
       "    white-space: pre-wrap;\n",
       "    word-wrap: break-word;\n",
       "    word-break: break-all;\n",
       "    font-family: \"Source Code Pro\", \"Menlo\", monospace;;\n",
       "    font-size: 13px;\n",
       "    color: #555;\n",
       "    margin-left: 4px;\n",
       "    line-height: 19px;\n",
       "  }\n",
       "</style>\n",
       "<div class=\"ansiout\"></div>"
      ]
     },
     "metadata": {
      "application/vnd.databricks.v1+output": {
       "addedWidgets": {},
       "arguments": {},
       "data": "<div class=\"ansiout\"></div>",
       "datasetInfos": [],
       "metadata": {},
       "removedWidgets": [],
       "type": "html"
      }
     },
     "output_type": "display_data"
    }
   ],
   "source": [
    "# model_to_save = rf_model_wlags\n",
    "mPath =  \"/path/to/model/folder/rf_model_wlag1h/\" # new name?\n",
    "rf_model_wlag1h.write().overwrite().save(mPath)"
   ]
  }
 ],
 "metadata": {
  "application/vnd.databricks.v1+notebook": {
   "dashboards": [],
   "language": "python",
   "notebookMetadata": {
    "mostRecentlyExecutedCommandWithImplicitDF": {
     "commandId": 1560136390089435,
     "dataframes": [
      "_sqldf"
     ]
    },
    "pythonIndentUnit": 4
   },
   "notebookName": "RFR GBTR models",
   "notebookOrigID": 1560136390089432,
   "widgets": {}
  },
  "kernelspec": {
   "display_name": "Python 3 (ipykernel)",
   "language": "python",
   "name": "python3"
  },
  "language_info": {
   "codemirror_mode": {
    "name": "ipython",
    "version": 3
   },
   "file_extension": ".py",
   "mimetype": "text/x-python",
   "name": "python",
   "nbconvert_exporter": "python",
   "pygments_lexer": "ipython3",
   "version": "3.8.0"
  }
 },
 "nbformat": 4,
 "nbformat_minor": 1
}
