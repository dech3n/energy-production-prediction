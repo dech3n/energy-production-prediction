{
 "cells": [
  {
   "cell_type": "markdown",
   "metadata": {
    "application/vnd.databricks.v1+cell": {
     "cellMetadata": {},
     "inputWidgets": {},
     "nuid": "b9de6fab-61f3-4ea9-99d0-181981e68290",
     "showTitle": false,
     "title": ""
    }
   },
   "source": [
    "### <b style=\"color:blue;\"> SolarEdge Data Stream Producer </b>\n",
    "\n",
    "Based on Producer notebook from lab 2.\n",
    "\n",
    "Data streamed from two different workbooks:\n",
    "- Stream **SolarEdge** data update each 15'   -> sleep 1.5s, keep timestamp from file\n",
    "- Stream **weather** data update each 10', aggregated to 30' -> sleep 3.0s, keep timestamp from file"
   ]
  },
  {
   "cell_type": "code",
   "execution_count": 0,
   "metadata": {
    "application/vnd.databricks.v1+cell": {
     "cellMetadata": {},
     "inputWidgets": {},
     "nuid": "a3a437fa-db82-4548-a7a6-45900af02462",
     "showTitle": false,
     "title": ""
    }
   },
   "outputs": [
    {
     "data": {
      "text/html": [
       "<style scoped>\n",
       "  .ansiout {\n",
       "    display: block;\n",
       "    unicode-bidi: embed;\n",
       "    white-space: pre-wrap;\n",
       "    word-wrap: break-word;\n",
       "    word-break: break-all;\n",
       "    font-family: \"Source Code Pro\", \"Menlo\", monospace;;\n",
       "    font-size: 13px;\n",
       "    color: #555;\n",
       "    margin-left: 4px;\n",
       "    line-height: 19px;\n",
       "  }\n",
       "</style>\n",
       "<div class=\"ansiout\"></div>"
      ]
     },
     "metadata": {
      "application/vnd.databricks.v1+output": {
       "addedWidgets": {},
       "arguments": {},
       "data": "<div class=\"ansiout\"></div>",
       "datasetInfos": [],
       "metadata": {},
       "removedWidgets": [],
       "type": "html"
      }
     },
     "output_type": "display_data"
    }
   ],
   "source": [
    "#%fs ls /FileStore/tables/ged/"
   ]
  },
  {
   "cell_type": "code",
   "execution_count": 0,
   "metadata": {
    "application/vnd.databricks.v1+cell": {
     "cellMetadata": {},
     "inputWidgets": {},
     "nuid": "888dccf9-34d8-4b02-bdcf-7c0a1435441c",
     "showTitle": false,
     "title": ""
    }
   },
   "outputs": [
    {
     "data": {
      "text/html": [
       "<style scoped>\n",
       "  .ansiout {\n",
       "    display: block;\n",
       "    unicode-bidi: embed;\n",
       "    white-space: pre-wrap;\n",
       "    word-wrap: break-word;\n",
       "    word-break: break-all;\n",
       "    font-family: \"Source Code Pro\", \"Menlo\", monospace;;\n",
       "    font-size: 13px;\n",
       "    color: #555;\n",
       "    margin-left: 4px;\n",
       "    line-height: 19px;\n",
       "  }\n",
       "</style>\n",
       "<div class=\"ansiout\"></div>"
      ]
     },
     "metadata": {
      "application/vnd.databricks.v1+output": {
       "addedWidgets": {},
       "arguments": {},
       "data": "<div class=\"ansiout\"></div>",
       "datasetInfos": [],
       "metadata": {},
       "removedWidgets": [],
       "type": "html"
      }
     },
     "output_type": "display_data"
    }
   ],
   "source": [
    "# remove tables\n",
    "#dbutils.fs.rm('dbfs:/FileStore/tables/sunshine.csv', True)"
   ]
  },
  {
   "cell_type": "code",
   "execution_count": 0,
   "metadata": {
    "application/vnd.databricks.v1+cell": {
     "cellMetadata": {},
     "inputWidgets": {},
     "nuid": "4d414f34-bf60-465f-b17f-ce4f45ce302c",
     "showTitle": false,
     "title": ""
    }
   },
   "outputs": [
    {
     "data": {
      "text/html": [
       "<style scoped>\n",
       "  .ansiout {\n",
       "    display: block;\n",
       "    unicode-bidi: embed;\n",
       "    white-space: pre-wrap;\n",
       "    word-wrap: break-word;\n",
       "    word-break: break-all;\n",
       "    font-family: \"Source Code Pro\", \"Menlo\", monospace;;\n",
       "    font-size: 13px;\n",
       "    color: #555;\n",
       "    margin-left: 4px;\n",
       "    line-height: 19px;\n",
       "  }\n",
       "</style>\n",
       "<div class=\"ansiout\">res0: Boolean = true\n",
       "</div>"
      ]
     },
     "metadata": {
      "application/vnd.databricks.v1+output": {
       "addedWidgets": {},
       "arguments": {},
       "data": "<div class=\"ansiout\">res0: Boolean = true\n</div>",
       "datasetInfos": [],
       "metadata": {
        "isDbfsCommandResult": false
       },
       "removedWidgets": [],
       "type": "html"
      }
     },
     "output_type": "display_data"
    }
   ],
   "source": [
    "%fs cp dbfs:/FileStore/tables/ged/SolarEdge_data_for_streaming.csv file:/FileStore/tables/ged/SolarEdge_data_for_streaming.csv"
   ]
  },
  {
   "cell_type": "code",
   "execution_count": 0,
   "metadata": {
    "application/vnd.databricks.v1+cell": {
     "cellMetadata": {},
     "inputWidgets": {},
     "nuid": "69b4b1cc-1d38-489e-b2f5-5eec327b2be6",
     "showTitle": false,
     "title": ""
    }
   },
   "outputs": [
    {
     "data": {
      "text/html": [
       "<style scoped>\n",
       "  .ansiout {\n",
       "    display: block;\n",
       "    unicode-bidi: embed;\n",
       "    white-space: pre-wrap;\n",
       "    word-wrap: break-word;\n",
       "    word-break: break-all;\n",
       "    font-family: \"Source Code Pro\", \"Menlo\", monospace;;\n",
       "    font-size: 13px;\n",
       "    color: #555;\n",
       "    margin-left: 4px;\n",
       "    line-height: 19px;\n",
       "  }\n",
       "</style>\n",
       "<div class=\"ansiout\">sending: ,timestamp,production,2023-01-15 22:12:23.891102\n",
       "sending: 127776,2022-11-01 00:00:00,,2023-01-15 22:12:25.391563\n",
       "sending: 127777,2022-11-01 00:15:00,,2023-01-15 22:12:26.893001\n",
       "sending: 127778,2022-11-01 00:30:00,,2023-01-15 22:12:28.394407\n",
       "sending: 127779,2022-11-01 00:45:00,,2023-01-15 22:12:29.895943\n",
       "sending: 127780,2022-11-01 01:00:00,,2023-01-15 22:12:31.397565\n",
       "sending: 127781,2022-11-01 01:15:00,,2023-01-15 22:12:32.897866\n",
       "sending: 127782,2022-11-01 01:30:00,,2023-01-15 22:12:34.398734\n",
       "sending: 127783,2022-11-01 01:45:00,,2023-01-15 22:12:35.900116\n",
       "sending: 127784,2022-11-01 02:00:00,,2023-01-15 22:12:37.400972\n",
       "sending: 127785,2022-11-01 02:15:00,,2023-01-15 22:12:38.901583\n",
       "sending: 127786,2022-11-01 02:30:00,,2023-01-15 22:12:40.403156\n",
       "sending: 127787,2022-11-01 02:45:00,,2023-01-15 22:12:41.904383\n",
       "sending: 127788,2022-11-01 03:00:00,,2023-01-15 22:12:43.405682\n",
       "sending: 127789,2022-11-01 03:15:00,,2023-01-15 22:12:44.905860\n",
       "sending: 127790,2022-11-01 03:30:00,,2023-01-15 22:12:46.407339\n",
       "sending: 127791,2022-11-01 03:45:00,,2023-01-15 22:12:47.908842\n",
       "sending: 127792,2022-11-01 04:00:00,,2023-01-15 22:12:49.410071\n",
       "sending: 127793,2022-11-01 04:15:00,,2023-01-15 22:12:50.911715\n",
       "sending: 127794,2022-11-01 04:30:00,,2023-01-15 22:12:52.412650\n",
       "sending: 127795,2022-11-01 04:45:00,,2023-01-15 22:12:53.913863\n",
       "sending: 127796,2022-11-01 05:00:00,,2023-01-15 22:12:55.415492\n",
       "sending: 127797,2022-11-01 05:15:00,0.0,2023-01-15 22:12:56.917064\n",
       "sending: 127798,2022-11-01 05:30:00,,2023-01-15 22:12:58.418623\n",
       "sending: 127799,2022-11-01 05:45:00,,2023-01-15 22:12:59.924347\n",
       "sending: 127800,2022-11-01 06:00:00,,2023-01-15 22:13:01.425943\n",
       "sending: 127801,2022-11-01 06:15:00,,2023-01-15 22:13:02.927569\n",
       "sending: 127802,2022-11-01 06:30:00,,2023-01-15 22:13:04.429207\n",
       "sending: 127803,2022-11-01 06:45:00,,2023-01-15 22:13:05.930255\n",
       "sending: 127804,2022-11-01 07:00:00,0.0,2023-01-15 22:13:07.430887\n",
       "sending: 127805,2022-11-01 07:15:00,0.0,2023-01-15 22:13:08.932053\n",
       "sending: 127806,2022-11-01 07:30:00,0.0,2023-01-15 22:13:10.432889\n",
       "sending: 127807,2022-11-01 07:45:00,0.001,2023-01-15 22:13:11.934451\n",
       "sending: 127808,2022-11-01 08:00:00,0.018,2023-01-15 22:13:13.435242\n",
       "sending: 127809,2022-11-01 08:15:00,0.028,2023-01-15 22:13:14.936458\n",
       "sending: 127810,2022-11-01 08:30:00,0.106,2023-01-15 22:13:16.438074\n",
       "sending: 127811,2022-11-01 08:45:00,0.142,2023-01-15 22:13:17.939696\n",
       "sending: 127812,2022-11-01 09:00:00,0.178,2023-01-15 22:13:19.441336\n",
       "sending: 127813,2022-11-01 09:15:00,0.181,2023-01-15 22:13:20.942960\n",
       "sending: 127814,2022-11-01 09:30:00,0.204,2023-01-15 22:13:22.444177\n",
       "sending: 127815,2022-11-01 09:45:00,0.245,2023-01-15 22:13:23.945807\n",
       "sending: 127816,2022-11-01 10:00:00,0.196,2023-01-15 22:13:25.447546\n",
       "sending: 127817,2022-11-01 10:15:00,0.217,2023-01-15 22:13:26.949111\n",
       "sending: 127818,2022-11-01 10:30:00,0.301,2023-01-15 22:13:28.450399\n",
       "sending: 127819,2022-11-01 10:45:00,0.252,2023-01-15 22:13:29.951635\n",
       "sending: 127820,2022-11-01 11:00:00,0.298,2023-01-15 22:13:31.452610\n",
       "sending: 127821,2022-11-01 11:15:00,0.378,2023-01-15 22:13:32.954180\n",
       "sending: 127822,2022-11-01 11:30:00,0.479,2023-01-15 22:13:34.455726\n",
       "sending: 127823,2022-11-01 11:45:00,0.6,2023-01-15 22:13:35.957366\n",
       "sending: 127824,2022-11-01 12:00:00,0.462,2023-01-15 22:13:37.458452\n",
       "sending: 127825,2022-11-01 12:15:00,0.426,2023-01-15 22:13:38.959887\n",
       "sending: 127826,2022-11-01 12:30:00,0.409,2023-01-15 22:13:40.461057\n",
       "sending: 127827,2022-11-01 12:45:00,0.312,2023-01-15 22:13:41.962065\n",
       "sending: 127828,2022-11-01 13:00:00,0.438,2023-01-15 22:13:43.463624\n",
       "sending: 127829,2022-11-01 13:15:00,0.511,2023-01-15 22:13:44.964745\n",
       "sending: 127830,2022-11-01 13:30:00,0.415,2023-01-15 22:13:46.465863\n",
       "sending: 127831,2022-11-01 13:45:00,0.383,2023-01-15 22:13:47.966918\n",
       "sending: 127832,2022-11-01 14:00:00,0.612,2023-01-15 22:13:49.467234\n",
       "sending: 127833,2022-11-01 14:15:00,1.136,2023-01-15 22:13:50.968847\n",
       "sending: 127834,2022-11-01 14:30:00,0.684,2023-01-15 22:13:52.469859\n",
       "sending: 127835,2022-11-01 14:45:00,0.97,2023-01-15 22:13:53.971498\n",
       "sending: 127836,2022-11-01 15:00:00,0.912,2023-01-15 22:13:55.473135\n",
       "sending: 127837,2022-11-01 15:15:00,0.796,2023-01-15 22:13:56.974307\n",
       "sending: 127838,2022-11-01 15:30:00,0.126,2023-01-15 22:13:58.475751\n",
       "sending: 127839,2022-11-01 15:45:00,0.116,2023-01-15 22:13:59.976486\n",
       "sending: 127840,2022-11-01 16:00:00,0.083,2023-01-15 22:14:01.478058\n",
       "sending: 127841,2022-11-01 16:15:00,0.041,2023-01-15 22:14:02.979370\n",
       "sending: 127842,2022-11-01 16:30:00,0.01,2023-01-15 22:14:04.481010\n",
       "sending: 127843,2022-11-01 16:45:00,0.005,2023-01-15 22:14:05.981891\n",
       "sending: 127844,2022-11-01 17:00:00,0.0,2023-01-15 22:14:07.483224\n",
       "sending: 127845,2022-11-01 17:15:00,0.0,2023-01-15 22:14:08.984859\n",
       "</div>"
      ]
     },
     "metadata": {
      "application/vnd.databricks.v1+output": {
       "addedWidgets": {},
       "arguments": {},
       "data": "<div class=\"ansiout\">sending: ,timestamp,production,2023-01-15 22:12:23.891102\nsending: 127776,2022-11-01 00:00:00,,2023-01-15 22:12:25.391563\nsending: 127777,2022-11-01 00:15:00,,2023-01-15 22:12:26.893001\nsending: 127778,2022-11-01 00:30:00,,2023-01-15 22:12:28.394407\nsending: 127779,2022-11-01 00:45:00,,2023-01-15 22:12:29.895943\nsending: 127780,2022-11-01 01:00:00,,2023-01-15 22:12:31.397565\nsending: 127781,2022-11-01 01:15:00,,2023-01-15 22:12:32.897866\nsending: 127782,2022-11-01 01:30:00,,2023-01-15 22:12:34.398734\nsending: 127783,2022-11-01 01:45:00,,2023-01-15 22:12:35.900116\nsending: 127784,2022-11-01 02:00:00,,2023-01-15 22:12:37.400972\nsending: 127785,2022-11-01 02:15:00,,2023-01-15 22:12:38.901583\nsending: 127786,2022-11-01 02:30:00,,2023-01-15 22:12:40.403156\nsending: 127787,2022-11-01 02:45:00,,2023-01-15 22:12:41.904383\nsending: 127788,2022-11-01 03:00:00,,2023-01-15 22:12:43.405682\nsending: 127789,2022-11-01 03:15:00,,2023-01-15 22:12:44.905860\nsending: 127790,2022-11-01 03:30:00,,2023-01-15 22:12:46.407339\nsending: 127791,2022-11-01 03:45:00,,2023-01-15 22:12:47.908842\nsending: 127792,2022-11-01 04:00:00,,2023-01-15 22:12:49.410071\nsending: 127793,2022-11-01 04:15:00,,2023-01-15 22:12:50.911715\nsending: 127794,2022-11-01 04:30:00,,2023-01-15 22:12:52.412650\nsending: 127795,2022-11-01 04:45:00,,2023-01-15 22:12:53.913863\nsending: 127796,2022-11-01 05:00:00,,2023-01-15 22:12:55.415492\nsending: 127797,2022-11-01 05:15:00,0.0,2023-01-15 22:12:56.917064\nsending: 127798,2022-11-01 05:30:00,,2023-01-15 22:12:58.418623\nsending: 127799,2022-11-01 05:45:00,,2023-01-15 22:12:59.924347\nsending: 127800,2022-11-01 06:00:00,,2023-01-15 22:13:01.425943\nsending: 127801,2022-11-01 06:15:00,,2023-01-15 22:13:02.927569\nsending: 127802,2022-11-01 06:30:00,,2023-01-15 22:13:04.429207\nsending: 127803,2022-11-01 06:45:00,,2023-01-15 22:13:05.930255\nsending: 127804,2022-11-01 07:00:00,0.0,2023-01-15 22:13:07.430887\nsending: 127805,2022-11-01 07:15:00,0.0,2023-01-15 22:13:08.932053\nsending: 127806,2022-11-01 07:30:00,0.0,2023-01-15 22:13:10.432889\nsending: 127807,2022-11-01 07:45:00,0.001,2023-01-15 22:13:11.934451\nsending: 127808,2022-11-01 08:00:00,0.018,2023-01-15 22:13:13.435242\nsending: 127809,2022-11-01 08:15:00,0.028,2023-01-15 22:13:14.936458\nsending: 127810,2022-11-01 08:30:00,0.106,2023-01-15 22:13:16.438074\nsending: 127811,2022-11-01 08:45:00,0.142,2023-01-15 22:13:17.939696\nsending: 127812,2022-11-01 09:00:00,0.178,2023-01-15 22:13:19.441336\nsending: 127813,2022-11-01 09:15:00,0.181,2023-01-15 22:13:20.942960\nsending: 127814,2022-11-01 09:30:00,0.204,2023-01-15 22:13:22.444177\nsending: 127815,2022-11-01 09:45:00,0.245,2023-01-15 22:13:23.945807\nsending: 127816,2022-11-01 10:00:00,0.196,2023-01-15 22:13:25.447546\nsending: 127817,2022-11-01 10:15:00,0.217,2023-01-15 22:13:26.949111\nsending: 127818,2022-11-01 10:30:00,0.301,2023-01-15 22:13:28.450399\nsending: 127819,2022-11-01 10:45:00,0.252,2023-01-15 22:13:29.951635\nsending: 127820,2022-11-01 11:00:00,0.298,2023-01-15 22:13:31.452610\nsending: 127821,2022-11-01 11:15:00,0.378,2023-01-15 22:13:32.954180\nsending: 127822,2022-11-01 11:30:00,0.479,2023-01-15 22:13:34.455726\nsending: 127823,2022-11-01 11:45:00,0.6,2023-01-15 22:13:35.957366\nsending: 127824,2022-11-01 12:00:00,0.462,2023-01-15 22:13:37.458452\nsending: 127825,2022-11-01 12:15:00,0.426,2023-01-15 22:13:38.959887\nsending: 127826,2022-11-01 12:30:00,0.409,2023-01-15 22:13:40.461057\nsending: 127827,2022-11-01 12:45:00,0.312,2023-01-15 22:13:41.962065\nsending: 127828,2022-11-01 13:00:00,0.438,2023-01-15 22:13:43.463624\nsending: 127829,2022-11-01 13:15:00,0.511,2023-01-15 22:13:44.964745\nsending: 127830,2022-11-01 13:30:00,0.415,2023-01-15 22:13:46.465863\nsending: 127831,2022-11-01 13:45:00,0.383,2023-01-15 22:13:47.966918\nsending: 127832,2022-11-01 14:00:00,0.612,2023-01-15 22:13:49.467234\nsending: 127833,2022-11-01 14:15:00,1.136,2023-01-15 22:13:50.968847\nsending: 127834,2022-11-01 14:30:00,0.684,2023-01-15 22:13:52.469859\nsending: 127835,2022-11-01 14:45:00,0.97,2023-01-15 22:13:53.971498\nsending: 127836,2022-11-01 15:00:00,0.912,2023-01-15 22:13:55.473135\nsending: 127837,2022-11-01 15:15:00,0.796,2023-01-15 22:13:56.974307\nsending: 127838,2022-11-01 15:30:00,0.126,2023-01-15 22:13:58.475751\nsending: 127839,2022-11-01 15:45:00,0.116,2023-01-15 22:13:59.976486\nsending: 127840,2022-11-01 16:00:00,0.083,2023-01-15 22:14:01.478058\nsending: 127841,2022-11-01 16:15:00,0.041,2023-01-15 22:14:02.979370\nsending: 127842,2022-11-01 16:30:00,0.01,2023-01-15 22:14:04.481010\nsending: 127843,2022-11-01 16:45:00,0.005,2023-01-15 22:14:05.981891\nsending: 127844,2022-11-01 17:00:00,0.0,2023-01-15 22:14:07.483224\nsending: 127845,2022-11-01 17:15:00,0.0,2023-01-15 22:14:08.984859\n</div>",
       "datasetInfos": [],
       "metadata": {},
       "removedWidgets": [],
       "type": "html"
      }
     },
     "output_type": "display_data"
    },
    {
     "data": {
      "text/html": [
       "<style scoped>\n",
       "  .ansiout {\n",
       "    display: block;\n",
       "    unicode-bidi: embed;\n",
       "    white-space: pre-wrap;\n",
       "    word-wrap: break-word;\n",
       "    word-break: break-all;\n",
       "    font-family: \"Source Code Pro\", \"Menlo\", monospace;;\n",
       "    font-size: 13px;\n",
       "    color: #555;\n",
       "    margin-left: 4px;\n",
       "    line-height: 19px;\n",
       "  }\n",
       "</style>"
      ]
     },
     "metadata": {
      "application/vnd.databricks.v1+output": {
       "arguments": {},
       "data": "",
       "errorSummary": "Cancelled",
       "errorTraceType": "html",
       "metadata": {},
       "type": "ipynbError"
      }
     },
     "output_type": "display_data"
    }
   ],
   "source": [
    "import socket\n",
    "import time\n",
    "from datetime import datetime\n",
    "\n",
    "def send():\n",
    "  \n",
    "  inputFile = \"/FileStore/tables/ged/SolarEdge_data_for_streaming.csv\"\n",
    "  ifile  = open(inputFile, 'r') \n",
    "  i = 0\n",
    "  time.sleep(6)\n",
    "        \n",
    "  while True:\n",
    "    client_socket = socket.socket(socket.AF_INET, socket.SOCK_STREAM)\n",
    "    client_socket.setsockopt(socket.SOL_SOCKET, socket.SO_REUSEADDR, 1)\n",
    "    client_socket.bind(('localhost', 9996))\n",
    "    client_socket.listen(10)\n",
    "    conn, addr = client_socket.accept()\n",
    "    try:  \n",
    "      while True:\n",
    "        start = time.time()\n",
    "        ifile  = open(inputFile, 'r') \n",
    "        for row in ifile.readlines() :\n",
    "          print(\"sending: \"+ row.rstrip() + \",\" + str(datetime.now()))\n",
    "          message = row.rstrip() + ',' + str(datetime.now()) + \"\\n\"\n",
    "          message = message.encode()\n",
    "          conn.send(message)\n",
    "          time.sleep(1.5) #time.sleep(0.1)           # send data every 100 ms\n",
    "\n",
    "    except Exception as e:\n",
    "        print(str(e))\n",
    "        conn.close()\n",
    "        client_socket.close()\n",
    "        continue\n",
    "    finally:\n",
    "        conn.close()\n",
    "        client_socket.close()\n",
    "\n",
    "send()"
   ]
  }
 ],
 "metadata": {
  "application/vnd.databricks.v1+notebook": {
   "dashboards": [],
   "language": "python",
   "notebookMetadata": {
    "mostRecentlyExecutedCommandWithImplicitDF": {
     "commandId": 1560136390089537,
     "dataframes": [
      "_sqldf"
     ]
    },
    "pythonIndentUnit": 2
   },
   "notebookName": "Producer PV",
   "notebookOrigID": 1560136390089533,
   "widgets": {}
  },
  "kernelspec": {
   "display_name": "Python 3 (ipykernel)",
   "language": "python",
   "name": "python3"
  },
  "language_info": {
   "codemirror_mode": {
    "name": "ipython",
    "version": 3
   },
   "file_extension": ".py",
   "mimetype": "text/x-python",
   "name": "python",
   "nbconvert_exporter": "python",
   "pygments_lexer": "ipython3",
   "version": "3.8.0"
  },
  "name": "netcat",
  "notebookId": 1851672597797230
 },
 "nbformat": 4,
 "nbformat_minor": 1
}
