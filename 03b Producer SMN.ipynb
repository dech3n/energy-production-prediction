{
 "cells": [
  {
   "cell_type": "markdown",
   "metadata": {
    "application/vnd.databricks.v1+cell": {
     "cellMetadata": {},
     "inputWidgets": {},
     "nuid": "b9de6fab-61f3-4ea9-99d0-181981e68290",
     "showTitle": false,
     "title": ""
    }
   },
   "source": [
    "### <b style=\"color:blue;\"> Weather Data Stream Producer </b>\n",
    "\n",
    "Based on Producer notebook from lab 2.\n",
    "\n",
    "Data streamed from two different workbooks:\n",
    "- Stream **SolarEdge** data update each 15'   -> sleep 1.5s, keep timestamp from file\n",
    "- Stream **weather** data update each 10', aggregated to 30' -> sleep 3.0s, keep timestamp from file"
   ]
  },
  {
   "cell_type": "code",
   "execution_count": 0,
   "metadata": {
    "application/vnd.databricks.v1+cell": {
     "cellMetadata": {},
     "inputWidgets": {},
     "nuid": "a3a437fa-db82-4548-a7a6-45900af02462",
     "showTitle": false,
     "title": ""
    }
   },
   "outputs": [
    {
     "data": {
      "text/html": [
       "<style scoped>\n",
       "  .ansiout {\n",
       "    display: block;\n",
       "    unicode-bidi: embed;\n",
       "    white-space: pre-wrap;\n",
       "    word-wrap: break-word;\n",
       "    word-break: break-all;\n",
       "    font-family: \"Source Code Pro\", \"Menlo\", monospace;;\n",
       "    font-size: 13px;\n",
       "    color: #555;\n",
       "    margin-left: 4px;\n",
       "    line-height: 19px;\n",
       "  }\n",
       "</style>\n",
       "<div class=\"ansiout\"></div>"
      ]
     },
     "metadata": {
      "application/vnd.databricks.v1+output": {
       "addedWidgets": {},
       "arguments": {},
       "data": "<div class=\"ansiout\"></div>",
       "datasetInfos": [],
       "metadata": {},
       "removedWidgets": [],
       "type": "html"
      }
     },
     "output_type": "display_data"
    }
   ],
   "source": [
    "#%fs ls /FileStore/tables/ged"
   ]
  },
  {
   "cell_type": "code",
   "execution_count": 0,
   "metadata": {
    "application/vnd.databricks.v1+cell": {
     "cellMetadata": {},
     "inputWidgets": {},
     "nuid": "8a567909-8256-4ab7-b953-001044bd7f86",
     "showTitle": false,
     "title": ""
    }
   },
   "outputs": [
    {
     "data": {
      "text/html": [
       "<style scoped>\n",
       "  .ansiout {\n",
       "    display: block;\n",
       "    unicode-bidi: embed;\n",
       "    white-space: pre-wrap;\n",
       "    word-wrap: break-word;\n",
       "    word-break: break-all;\n",
       "    font-family: \"Source Code Pro\", \"Menlo\", monospace;;\n",
       "    font-size: 13px;\n",
       "    color: #555;\n",
       "    margin-left: 4px;\n",
       "    line-height: 19px;\n",
       "  }\n",
       "</style>\n",
       "<div class=\"ansiout\"></div>"
      ]
     },
     "metadata": {
      "application/vnd.databricks.v1+output": {
       "addedWidgets": {},
       "arguments": {},
       "data": "<div class=\"ansiout\"></div>",
       "datasetInfos": [],
       "metadata": {},
       "removedWidgets": [],
       "type": "html"
      }
     },
     "output_type": "display_data"
    }
   ],
   "source": [
    "# remove tables\n",
    "#dbutils.fs.rm('dbfs:/FileStore/tables/ged/weather_data_for_streaming_2023.csv', True)"
   ]
  },
  {
   "cell_type": "code",
   "execution_count": 0,
   "metadata": {
    "application/vnd.databricks.v1+cell": {
     "cellMetadata": {},
     "inputWidgets": {},
     "nuid": "acf8c844-5212-42f4-8cce-168abf843003",
     "showTitle": false,
     "title": ""
    }
   },
   "outputs": [
    {
     "data": {
      "text/html": [
       "<style scoped>\n",
       "  .ansiout {\n",
       "    display: block;\n",
       "    unicode-bidi: embed;\n",
       "    white-space: pre-wrap;\n",
       "    word-wrap: break-word;\n",
       "    word-break: break-all;\n",
       "    font-family: \"Source Code Pro\", \"Menlo\", monospace;;\n",
       "    font-size: 13px;\n",
       "    color: #555;\n",
       "    margin-left: 4px;\n",
       "    line-height: 19px;\n",
       "  }\n",
       "</style>\n",
       "<div class=\"ansiout\">res0: Boolean = true\n",
       "</div>"
      ]
     },
     "metadata": {
      "application/vnd.databricks.v1+output": {
       "addedWidgets": {},
       "arguments": {},
       "data": "<div class=\"ansiout\">res0: Boolean = true\n</div>",
       "datasetInfos": [],
       "metadata": {
        "isDbfsCommandResult": false
       },
       "removedWidgets": [],
       "type": "html"
      }
     },
     "output_type": "display_data"
    }
   ],
   "source": [
    "%fs cp dbfs:/FileStore/tables/ged/weather_data_for_streaming.csv file:/FileStore/tables/ged/weather_data_for_streaming.csv"
   ]
  },
  {
   "cell_type": "code",
   "execution_count": 0,
   "metadata": {
    "application/vnd.databricks.v1+cell": {
     "cellMetadata": {},
     "inputWidgets": {},
     "nuid": "69b4b1cc-1d38-489e-b2f5-5eec327b2be6",
     "showTitle": false,
     "title": ""
    }
   },
   "outputs": [
    {
     "data": {
      "text/html": [
       "<style scoped>\n",
       "  .ansiout {\n",
       "    display: block;\n",
       "    unicode-bidi: embed;\n",
       "    white-space: pre-wrap;\n",
       "    word-wrap: break-word;\n",
       "    word-break: break-all;\n",
       "    font-family: \"Source Code Pro\", \"Menlo\", monospace;;\n",
       "    font-size: 13px;\n",
       "    color: #555;\n",
       "    margin-left: 4px;\n",
       "    line-height: 19px;\n",
       "  }\n",
       "</style>\n",
       "<div class=\"ansiout\">sending: ,DateTime,rr_SMA,ss_SMA,dd_SMA,ff_SMA,2023-01-15 22:12:24.526621\n",
       "sending: 0,2022-11-01 00:00:00+00:00,0.0,0.0,171.3333333,2.0,2023-01-15 22:12:27.527499\n",
       "sending: 1,2022-11-01 00:30:00+00:00,0.0,0.0,230.3333333,1.6,2023-01-15 22:12:30.530424\n",
       "sending: 2,2022-11-01 01:00:00+00:00,0.0,0.0,183.6666667,2.766666667,2023-01-15 22:12:33.533551\n",
       "sending: 3,2022-11-01 01:30:00+00:00,0.0,0.0,265.0,1.9,2023-01-15 22:12:36.536204\n",
       "sending: 4,2022-11-01 02:00:00+00:00,0.0,0.0,119.6666667,0.966666667,2023-01-15 22:12:39.539132\n",
       "sending: 5,2022-11-01 02:30:00+00:00,0.0,0.0,163.0,1.7,2023-01-15 22:12:42.541866\n",
       "sending: 6,2022-11-01 03:00:00+00:00,0.0,0.0,211.6666667,2.133333333,2023-01-15 22:12:45.544892\n",
       "sending: 7,2022-11-01 03:30:00+00:00,0.0,0.0,207.0,3.733333333,2023-01-15 22:12:48.546905\n",
       "sending: 8,2022-11-01 04:00:00+00:00,0.0,0.0,281.3333333,5.666666667,2023-01-15 22:12:51.549672\n",
       "sending: 9,2022-11-01 04:30:00+00:00,0.0,0.0,294.0,4.433333333,2023-01-15 22:12:54.552557\n",
       "sending: 10,2022-11-01 05:00:00+00:00,0.0,0.0,267.6666667,14.03333333,2023-01-15 22:12:57.555381\n",
       "sending: 11,2022-11-01 05:30:00+00:00,0.0,0.0,249.3333333,25.8,2023-01-15 22:13:00.558362\n",
       "sending: 12,2022-11-01 06:00:00+00:00,0.0,0.0,257.6666667,21.26666667,2023-01-15 22:13:03.560710\n",
       "sending: 13,2022-11-01 06:30:00+00:00,0.0,0.0,275.3333333,8.3,2023-01-15 22:13:06.561860\n",
       "sending: 14,2022-11-01 07:00:00+00:00,0.0,0.0,236.0,6.0,2023-01-15 22:13:09.564467\n",
       "sending: 15,2022-11-01 07:30:00+00:00,0.0,0.0,245.6666667,8.0,2023-01-15 22:13:12.567171\n",
       "sending: 16,2022-11-01 08:00:00+00:00,0.0,0.0,238.6666667,7.066666667,2023-01-15 22:13:15.567573\n",
       "sending: 17,2022-11-01 08:30:00+00:00,0.0,0.0,219.3333333,6.233333333,2023-01-15 22:13:18.570043\n",
       "sending: 18,2022-11-01 09:00:00+00:00,0.0,0.0,199.6666667,10.33333333,2023-01-15 22:13:21.573176\n",
       "sending: 19,2022-11-01 09:30:00+00:00,0.0,0.0,210.3333333,9.833333333,2023-01-15 22:13:24.573868\n",
       "sending: 20,2022-11-01 10:00:00+00:00,0.0,0.0,183.6666667,11.26666667,2023-01-15 22:13:27.576996\n",
       "sending: 21,2022-11-01 10:30:00+00:00,0.0,0.0,211.6666667,13.9,2023-01-15 22:13:30.578622\n",
       "sending: 22,2022-11-01 11:00:00+00:00,0.0,0.0,227.0,8.866666667,2023-01-15 22:13:33.581562\n",
       "sending: 23,2022-11-01 11:30:00+00:00,0.0,0.0,242.6666667,11.9,2023-01-15 22:13:36.584247\n",
       "sending: 24,2022-11-01 12:00:00+00:00,0.0,0.0,253.6666667,12.26666667,2023-01-15 22:13:39.584956\n",
       "sending: 25,2022-11-01 12:30:00+00:00,0.0,0.0,233.3333333,10.93333333,2023-01-15 22:13:42.585269\n",
       "sending: 26,2022-11-01 13:00:00+00:00,0.0,0.0,261.3333333,8.433333333,2023-01-15 22:13:45.588147\n",
       "sending: 27,2022-11-01 13:30:00+00:00,0.0,21.0,210.3333333,6.6,2023-01-15 22:13:48.591179\n",
       "sending: 28,2022-11-01 14:00:00+00:00,0.0,12.0,221.3333333,5.633333333,2023-01-15 22:13:51.594007\n",
       "sending: 29,2022-11-01 14:30:00+00:00,0.0,10.0,234.0,6.5,2023-01-15 22:13:54.594312\n",
       "sending: 30,2022-11-01 15:00:00+00:00,0.0,0.0,223.3333333,6.933333333,2023-01-15 22:13:57.594483\n",
       "sending: 31,2022-11-01 15:30:00+00:00,0.0,0.0,242.3333333,7.933333333,2023-01-15 22:14:00.595096\n",
       "sending: 32,2022-11-01 16:00:00+00:00,0.0,3.0,251.0,7.433333333,2023-01-15 22:14:03.598255\n",
       "sending: 33,2022-11-01 16:30:00+00:00,0.0,0.0,274.0,6.6,2023-01-15 22:14:06.599304\n",
       "</div>"
      ]
     },
     "metadata": {
      "application/vnd.databricks.v1+output": {
       "addedWidgets": {},
       "arguments": {},
       "data": "<div class=\"ansiout\">sending: ,DateTime,rr_SMA,ss_SMA,dd_SMA,ff_SMA,2023-01-15 22:12:24.526621\nsending: 0,2022-11-01 00:00:00+00:00,0.0,0.0,171.3333333,2.0,2023-01-15 22:12:27.527499\nsending: 1,2022-11-01 00:30:00+00:00,0.0,0.0,230.3333333,1.6,2023-01-15 22:12:30.530424\nsending: 2,2022-11-01 01:00:00+00:00,0.0,0.0,183.6666667,2.766666667,2023-01-15 22:12:33.533551\nsending: 3,2022-11-01 01:30:00+00:00,0.0,0.0,265.0,1.9,2023-01-15 22:12:36.536204\nsending: 4,2022-11-01 02:00:00+00:00,0.0,0.0,119.6666667,0.966666667,2023-01-15 22:12:39.539132\nsending: 5,2022-11-01 02:30:00+00:00,0.0,0.0,163.0,1.7,2023-01-15 22:12:42.541866\nsending: 6,2022-11-01 03:00:00+00:00,0.0,0.0,211.6666667,2.133333333,2023-01-15 22:12:45.544892\nsending: 7,2022-11-01 03:30:00+00:00,0.0,0.0,207.0,3.733333333,2023-01-15 22:12:48.546905\nsending: 8,2022-11-01 04:00:00+00:00,0.0,0.0,281.3333333,5.666666667,2023-01-15 22:12:51.549672\nsending: 9,2022-11-01 04:30:00+00:00,0.0,0.0,294.0,4.433333333,2023-01-15 22:12:54.552557\nsending: 10,2022-11-01 05:00:00+00:00,0.0,0.0,267.6666667,14.03333333,2023-01-15 22:12:57.555381\nsending: 11,2022-11-01 05:30:00+00:00,0.0,0.0,249.3333333,25.8,2023-01-15 22:13:00.558362\nsending: 12,2022-11-01 06:00:00+00:00,0.0,0.0,257.6666667,21.26666667,2023-01-15 22:13:03.560710\nsending: 13,2022-11-01 06:30:00+00:00,0.0,0.0,275.3333333,8.3,2023-01-15 22:13:06.561860\nsending: 14,2022-11-01 07:00:00+00:00,0.0,0.0,236.0,6.0,2023-01-15 22:13:09.564467\nsending: 15,2022-11-01 07:30:00+00:00,0.0,0.0,245.6666667,8.0,2023-01-15 22:13:12.567171\nsending: 16,2022-11-01 08:00:00+00:00,0.0,0.0,238.6666667,7.066666667,2023-01-15 22:13:15.567573\nsending: 17,2022-11-01 08:30:00+00:00,0.0,0.0,219.3333333,6.233333333,2023-01-15 22:13:18.570043\nsending: 18,2022-11-01 09:00:00+00:00,0.0,0.0,199.6666667,10.33333333,2023-01-15 22:13:21.573176\nsending: 19,2022-11-01 09:30:00+00:00,0.0,0.0,210.3333333,9.833333333,2023-01-15 22:13:24.573868\nsending: 20,2022-11-01 10:00:00+00:00,0.0,0.0,183.6666667,11.26666667,2023-01-15 22:13:27.576996\nsending: 21,2022-11-01 10:30:00+00:00,0.0,0.0,211.6666667,13.9,2023-01-15 22:13:30.578622\nsending: 22,2022-11-01 11:00:00+00:00,0.0,0.0,227.0,8.866666667,2023-01-15 22:13:33.581562\nsending: 23,2022-11-01 11:30:00+00:00,0.0,0.0,242.6666667,11.9,2023-01-15 22:13:36.584247\nsending: 24,2022-11-01 12:00:00+00:00,0.0,0.0,253.6666667,12.26666667,2023-01-15 22:13:39.584956\nsending: 25,2022-11-01 12:30:00+00:00,0.0,0.0,233.3333333,10.93333333,2023-01-15 22:13:42.585269\nsending: 26,2022-11-01 13:00:00+00:00,0.0,0.0,261.3333333,8.433333333,2023-01-15 22:13:45.588147\nsending: 27,2022-11-01 13:30:00+00:00,0.0,21.0,210.3333333,6.6,2023-01-15 22:13:48.591179\nsending: 28,2022-11-01 14:00:00+00:00,0.0,12.0,221.3333333,5.633333333,2023-01-15 22:13:51.594007\nsending: 29,2022-11-01 14:30:00+00:00,0.0,10.0,234.0,6.5,2023-01-15 22:13:54.594312\nsending: 30,2022-11-01 15:00:00+00:00,0.0,0.0,223.3333333,6.933333333,2023-01-15 22:13:57.594483\nsending: 31,2022-11-01 15:30:00+00:00,0.0,0.0,242.3333333,7.933333333,2023-01-15 22:14:00.595096\nsending: 32,2022-11-01 16:00:00+00:00,0.0,3.0,251.0,7.433333333,2023-01-15 22:14:03.598255\nsending: 33,2022-11-01 16:30:00+00:00,0.0,0.0,274.0,6.6,2023-01-15 22:14:06.599304\n</div>",
       "datasetInfos": [],
       "metadata": {},
       "removedWidgets": [],
       "type": "html"
      }
     },
     "output_type": "display_data"
    },
    {
     "data": {
      "text/html": [
       "<style scoped>\n",
       "  .ansiout {\n",
       "    display: block;\n",
       "    unicode-bidi: embed;\n",
       "    white-space: pre-wrap;\n",
       "    word-wrap: break-word;\n",
       "    word-break: break-all;\n",
       "    font-family: \"Source Code Pro\", \"Menlo\", monospace;;\n",
       "    font-size: 13px;\n",
       "    color: #555;\n",
       "    margin-left: 4px;\n",
       "    line-height: 19px;\n",
       "  }\n",
       "</style>"
      ]
     },
     "metadata": {
      "application/vnd.databricks.v1+output": {
       "arguments": {},
       "data": "",
       "errorSummary": "Cancelled",
       "errorTraceType": "html",
       "metadata": {},
       "type": "ipynbError"
      }
     },
     "output_type": "display_data"
    }
   ],
   "source": [
    "import socket\n",
    "import time\n",
    "from datetime import datetime\n",
    "\n",
    "def send():\n",
    "  \n",
    "  inputFile = \"/FileStore/tables/ged/weather_data_for_streaming.csv\"\n",
    "  ifile  = open(inputFile, 'r') \n",
    "  i = 0\n",
    "  \n",
    "        \n",
    "  while True:\n",
    "    client_socket = socket.socket(socket.AF_INET, socket.SOCK_STREAM)\n",
    "    client_socket.setsockopt(socket.SOL_SOCKET, socket.SO_REUSEADDR, 1)\n",
    "    client_socket.bind(('localhost', 9998))\n",
    "    client_socket.listen(10)\n",
    "    conn, addr = client_socket.accept()\n",
    "    try:  \n",
    "      while True:\n",
    "        start = time.time()\n",
    "        ifile  = open(inputFile, 'r') \n",
    "        for row in ifile.readlines() :\n",
    "          print(\"sending: \"+ row.rstrip() + \",\" + str(datetime.now()))\n",
    "          message = row.rstrip() + ',' + str(datetime.now()) + \"\\n\"\n",
    "          message = message.encode()\n",
    "          conn.send(message)\n",
    "          time.sleep(3.0) #time.sleep(0.1)          # send data every 100 ms\n",
    "\n",
    "    except Exception as e:\n",
    "        print(str(e))\n",
    "        conn.close()\n",
    "        client_socket.close()\n",
    "        continue\n",
    "    finally:\n",
    "        conn.close()\n",
    "        client_socket.close()\n",
    "\n",
    "send()"
   ]
  }
 ],
 "metadata": {
  "application/vnd.databricks.v1+notebook": {
   "dashboards": [],
   "language": "python",
   "notebookMetadata": {
    "mostRecentlyExecutedCommandWithImplicitDF": {
     "commandId": 1560136390089547,
     "dataframes": [
      "_sqldf"
     ]
    },
    "pythonIndentUnit": 2
   },
   "notebookName": "Producer SMN",
   "notebookOrigID": 1560136390089542,
   "widgets": {}
  },
  "kernelspec": {
   "display_name": "Python 3 (ipykernel)",
   "language": "python",
   "name": "python3"
  },
  "language_info": {
   "codemirror_mode": {
    "name": "ipython",
    "version": 3
   },
   "file_extension": ".py",
   "mimetype": "text/x-python",
   "name": "python",
   "nbconvert_exporter": "python",
   "pygments_lexer": "ipython3",
   "version": "3.8.0"
  },
  "name": "netcat",
  "notebookId": 1851672597797230
 },
 "nbformat": 4,
 "nbformat_minor": 1
}
