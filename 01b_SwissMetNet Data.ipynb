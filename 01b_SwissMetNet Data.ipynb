{
 "cells": [
  {
   "cell_type": "markdown",
   "metadata": {
    "application/vnd.databricks.v1+cell": {
     "cellMetadata": {},
     "inputWidgets": {},
     "nuid": "10b658e1-aed9-4b8e-a67f-4544fbe198ad",
     "showTitle": false,
     "title": ""
    }
   },
   "source": [
    "## <span style=\"color:blue\"> SwissMetNet Historical Data </span>"
   ]
  },
  {
   "cell_type": "markdown",
   "metadata": {},
   "source": [
    "final selected time period: 2019.07 - 2022.11"
   ]
  },
  {
   "cell_type": "markdown",
   "metadata": {},
   "source": [
    "### <b style=\"color:blue;\"> Data sources </b>"
   ]
  },
  {
   "cell_type": "markdown",
   "metadata": {
    "application/vnd.databricks.v1+cell": {
     "cellMetadata": {},
     "inputWidgets": {},
     "nuid": "75bfedd3-df7e-4471-a7d7-9c3ef511d5d1",
     "showTitle": false,
     "title": ""
    }
   },
   "source": [
    "SwissMetNet is the automatic monitoring network of MeteoSwiss. Current measurement values are available on [opendata.swiss](https://opendata.swiss/de/dataset/automatische-wetterstationen-aktuelle-messwerte), historical data is not.\n",
    "\n",
    "Collection of APIs and data stored in a DB relating to the SwissMetNet data is available on [ExistenzAPI](https://api.existenz.ch/), this includes some historical timeseries. \n",
    "Package designed to automate loading of data from SwissMetNet built on top of the ExistenzAPIs [ExistenzAPIFetcher](https://github.com/Lilian1510/ExistenzAPIFetcher), but retrieval period is not flexible. I have copied this coded and adapted it for my purposes (as queries need to be written in flux, adapting/rewriting them as not straightforward)."
   ]
  },
  {
   "cell_type": "markdown",
   "metadata": {},
   "source": [
    "### <b style=\"color:blue;\"> Basics </b>"
   ]
  },
  {
   "cell_type": "code",
   "execution_count": 1,
   "metadata": {
    "application/vnd.databricks.v1+cell": {
     "cellMetadata": {},
     "inputWidgets": {},
     "nuid": "7ac7a255-f43c-412f-854a-db601e999029",
     "showTitle": false,
     "title": ""
    }
   },
   "outputs": [],
   "source": [
    "#!pip install existenz_api_fetcher\n",
    "#!pip install pyet\n",
    "#!pip install influxdb-client # dbutils.library.installPyPI('influxdb-client')"
   ]
  },
  {
   "cell_type": "code",
   "execution_count": 4,
   "metadata": {
    "application/vnd.databricks.v1+cell": {
     "cellMetadata": {},
     "inputWidgets": {},
     "nuid": "8dd5434b-0de3-4d04-9b70-0e31b7051913",
     "showTitle": false,
     "title": ""
    }
   },
   "outputs": [],
   "source": [
    "import pandas as pd\n",
    "from functools import reduce\n",
    "import warnings\n",
    "\n",
    "from influxdb_client import InfluxDBClient\n",
    "from influxdb_client.client.warnings import MissingPivotFunction"
   ]
  },
  {
   "cell_type": "code",
   "execution_count": 3,
   "metadata": {
    "application/vnd.databricks.v1+cell": {
     "cellMetadata": {},
     "inputWidgets": {},
     "nuid": "9e2ffc84-75ba-4836-a6a0-5100c885a816",
     "showTitle": false,
     "title": ""
    }
   },
   "outputs": [],
   "source": [
    "#%fs ls /FileStore/tables/"
   ]
  },
  {
   "cell_type": "code",
   "execution_count": 4,
   "metadata": {
    "application/vnd.databricks.v1+cell": {
     "cellMetadata": {},
     "inputWidgets": {},
     "nuid": "b9277471-f628-41ef-ae16-51f898b9b92f",
     "showTitle": false,
     "title": ""
    }
   },
   "outputs": [],
   "source": [
    "def geolocate(station: str) -> list:\n",
    "    \"\"\"\n",
    "    Function to geolocate MeteoSwiss stations.\n",
    "    Args: station code (str)\n",
    "    Returns: list with latitude, longitude, elevation (x, y, z) for MeteoSwiss\n",
    "    \"\"\"\n",
    "    meteo_df = pd.read_csv('https://api-datasette.konzept.space/existenz-api/smn_locations.csv?_size=max')\n",
    "\n",
    "    if station in meteo_df['code'].to_numpy():\n",
    "        result = meteo_df[meteo_df['code'] == station]\n",
    "        return [result['lat'].to_numpy()[0], result['lon'].to_numpy()[0], result['alt'].to_numpy()[0]]\n",
    "    else:\n",
    "        print(\"Please enter a valid station code.\")\n",
    "        \n",
    "def preprocess(df):\n",
    "    \"\"\"\n",
    "    Batch processes a DataFrame to make it easier to use.\n",
    "    Args: DataFrame\n",
    "    Return: Processed Dataframe\n",
    "    \"\"\"\n",
    "    if df.empty:\n",
    "        return None\n",
    "    else:\n",
    "        df.drop(['result', 'table', '_start', '_stop', '_measurement', '_field', 'loc'], axis=1, inplace=True)\n",
    "        df.set_index('_time', inplace=True)  # Set datetime as DataFrame index\n",
    "        df.index.names = ['DateTime']\n",
    "        df['_value'] = df['_value'].interpolate(method=\"time\")  # Interpolate missing data\n",
    "        return df\n",
    "\n",
    "\n",
    "def compute(df):\n",
    "    \"\"\"\n",
    "    Generates a dataframe from an existing one.\n",
    "    Args: DataFrame\n",
    "    Return: New Dataframe\n",
    "    \"\"\"\n",
    "    if df is None:\n",
    "        return None\n",
    "    else:\n",
    "        new_df = df.filter(['_value'], axis=1)\n",
    "        new_df.index = df.index\n",
    "        new_df['_field'] = 'pet'\n",
    "        new_df = new_df[[\"_value\"]]\n",
    "        return new_df\n",
    "\n",
    "\n",
    "def merge(*args):\n",
    "    \"\"\"\n",
    "    Function to merge DataFrames.\n",
    "    *Args: Dataframes\n",
    "    Returns: DataFrame with DateTime index and all parameters as columns\n",
    "    \"\"\"\n",
    "    if len(args) == 1:\n",
    "        return args[0]\n",
    "    else:\n",
    "        df = reduce(lambda left, right: pd.merge(left, right, on=['DateTime'],\n",
    "                                                 how='outer'), [d for d in args if d is not None])\n",
    "        # Interpolate missing values\n",
    "        df = df.astype(float).interpolate(method=\"time\", limit_direction=\"both\")\n",
    "        return "
   ]
  },
  {
   "cell_type": "code",
   "execution_count": 5,
   "metadata": {},
   "outputs": [],
   "source": [
    "warnings.simplefilter(\"ignore\", MissingPivotFunction)\n",
    "\n",
    "# Influx DB client configuration\n",
    "url = \"https://influx.konzept.space/\"\n",
    "org = \"api.existenz.ch\"\n",
    "bucket = \"existenzApi\"\n",
    "token = \"0yLbh-D7RMe1sX1iIudFel8CcqCI8sVfuRTaliUp56MgE6kub8-nSd05_EJ4zTTKt0lUzw8zcO73zL9QhC3jtA==\"\n",
    "client = InfluxDBClient(url=url, token=token, org=org)\n",
    "query_api = client.query_api()\n"
   ]
  },
  {
   "cell_type": "markdown",
   "metadata": {},
   "source": [
    "### <b style=\"color:blue;\"> Download measurements for specific weather stations </b>\n",
    "#### <b style=\"color:blue;\"> Select stations </b> <br>\n",
    "Based on map of [available weather stations](https://api-datasette.konzept.space/existenz-api/smn_locations.csv?_size=max)"
   ]
  },
  {
   "cell_type": "code",
   "execution_count": 121,
   "metadata": {
    "application/vnd.databricks.v1+cell": {
     "cellMetadata": {},
     "inputWidgets": {},
     "nuid": "416b1dd2-7c4a-4e42-b501-98a5fad7678c",
     "showTitle": false,
     "title": ""
    },
    "scrolled": true
   },
   "outputs": [
    {
     "data": {
      "text/html": [
       "<div>\n",
       "<style scoped>\n",
       "    .dataframe tbody tr th:only-of-type {\n",
       "        vertical-align: middle;\n",
       "    }\n",
       "\n",
       "    .dataframe tbody tr th {\n",
       "        vertical-align: top;\n",
       "    }\n",
       "\n",
       "    .dataframe thead th {\n",
       "        text-align: right;\n",
       "    }\n",
       "</style>\n",
       "<table border=\"1\" class=\"dataframe\">\n",
       "  <thead>\n",
       "    <tr style=\"text-align: right;\">\n",
       "      <th></th>\n",
       "      <th>station name</th>\n",
       "      <th>longitude</th>\n",
       "      <th>latitude</th>\n",
       "      <th>altitude</th>\n",
       "    </tr>\n",
       "  </thead>\n",
       "  <tbody>\n",
       "    <tr>\n",
       "      <th>SMA</th>\n",
       "      <td>Zurich / Fluntern</td>\n",
       "      <td>47.377925</td>\n",
       "      <td>8.565742</td>\n",
       "      <td>556</td>\n",
       "    </tr>\n",
       "    <tr>\n",
       "      <th>REH</th>\n",
       "      <td>Zurich / Affoltern</td>\n",
       "      <td>47.427694</td>\n",
       "      <td>8.517953</td>\n",
       "      <td>444</td>\n",
       "    </tr>\n",
       "    <tr>\n",
       "      <th>HOE</th>\n",
       "      <td>Hörnli</td>\n",
       "      <td>47.370864</td>\n",
       "      <td>8.941644</td>\n",
       "      <td>1133</td>\n",
       "    </tr>\n",
       "  </tbody>\n",
       "</table>\n",
       "</div>"
      ],
      "text/plain": [
       "           station name  longitude  latitude altitude\n",
       "SMA   Zurich / Fluntern  47.377925  8.565742      556\n",
       "REH  Zurich / Affoltern  47.427694  8.517953      444\n",
       "HOE              Hörnli  47.370864  8.941644     1133"
      ]
     },
     "execution_count": 121,
     "metadata": {},
     "output_type": "execute_result"
    }
   ],
   "source": [
    "# stations with values name, longitude, latitude, altitude\n",
    "\n",
    "#stations = {\"SMA\" : [\"Zurich / Fluntern\"], \"REH\" : [\"Zurich / Affoltern\"], \"KLO\": [\"Zurich / Kloten\"], \"TAE\" : [\"Aadorf / Taenikon\"]}\n",
    "stations = {\"SMA\" : [\"Zurich / Fluntern\"], \"REH\" : [\"Zurich / Affoltern\"]}\n",
    "for key in stations.keys():\n",
    "    for i in range(0,len(geolocate(key))):\n",
    "        stations[key].append(geolocate(key)[i])\n",
    "\n",
    "        # dictionary of stations with values name, longitude, latitude, altitude\n",
    "stations = pd.DataFrame(data=stations).transpose()\n",
    "stations.columns = [\"station name\", \"longitude\", \"latitude\", \"altitude\"]\n",
    "stations\n",
    "\n",
    "## check rainfall data availablility:\n",
    "# no data for TAE location\n",
    "# SMA and REH locations: 2019.07 - 2022.12\n",
    "# KLO: 2019.07 - 2020.12 \n",
    "# HOE: 2022.06 - 2022.11\n",
    "# PSI: 2019.12 - 2022.11\n",
    "\n",
    "# selected stations and time range after visualisation of gathered data: SMA, REH, HOE, 2019.07 - 2022.11"
   ]
  },
  {
   "cell_type": "markdown",
   "metadata": {},
   "source": [
    "#### <b style=\"color:blue;\"> Functions for downloading measurements </b>"
   ]
  },
  {
   "cell_type": "code",
   "execution_count": 7,
   "metadata": {
    "application/vnd.databricks.v1+cell": {
     "cellMetadata": {},
     "inputWidgets": {},
     "nuid": "e6db1287-8d96-40d3-80de-268f00768a8c",
     "showTitle": false,
     "title": ""
    }
   },
   "outputs": [],
   "source": [
    "def rainfall(station: str):\n",
    "    \"\"\"\n",
    "    Returns 4 years of rainfall [mm/day] data in the form of a pandas dataframe. Aggregated every 30 minutes \n",
    "    Args: MeteoSwiss station code (str). /     Returns: DataFrame with a datetime index\n",
    "    \"\"\"\n",
    "    rainfall_df = query_api.query_data_frame('from(bucket: \"existenzApi\")'\n",
    "                                       '|> range(start: -4y)'\n",
    "                                       '|> filter(fn: (r) => r[\"_measurement\"] == \"smn\")'\n",
    "                                       f'|> filter(fn: (r) => r[\"loc\"] == \"{station}\")'\n",
    "                                       '|> filter(fn: (r) => r[\"_field\"] == \"rr\")'\n",
    "                                       '|> aggregateWindow(every: 30m, fn: sum, createEmpty: true)'\n",
    "                                       '|> yield(name: \"sum\")'\n",
    "                                       )\n",
    "    rainfall_df = preprocess(rainfall_df).rename(columns = {'_value':(\"rr_\"+station)})\n",
    "    return rainfall_df\n"
   ]
  },
  {
   "cell_type": "code",
   "execution_count": 8,
   "metadata": {},
   "outputs": [],
   "source": [
    "def sunshine_duration(station: str):\n",
    "    \"\"\"\n",
    "    Returns 4 years of sunshine duration [min] data in the form of a pandas dataframe. Aggregated every 30 minutes \n",
    "    Args: MeteoSwiss station code (str). /     Returns: DataFrame with a datetime index\n",
    "    \"\"\"\n",
    "    ss_df = query_api.query_data_frame('from(bucket: \"existenzApi\")'\n",
    "                                       '|> range(start: -4y)'\n",
    "                                       '|> filter(fn: (r) => r[\"_measurement\"] == \"smn\")'\n",
    "                                       f'|> filter(fn: (r) => r[\"loc\"] == \"{station}\")'\n",
    "                                       '|> filter(fn: (r) => r[\"_field\"] == \"ss\")'\n",
    "                                       '|> aggregateWindow(every: 30m, fn: sum, createEmpty: true)'\n",
    "                                       '|> yield(name: \"sum\")'\n",
    "                                       )\n",
    "    ss_df = preprocess(ss_df).rename(columns = {'_value':(\"ss_\"+station)})\n",
    "    return ss_df\n",
    "    "
   ]
  },
  {
   "cell_type": "code",
   "execution_count": 9,
   "metadata": {},
   "outputs": [],
   "source": [
    "def wind_direction(station: str):\n",
    "    \"\"\"\n",
    "    Returns 4 years of sunshine duration [min] data in the form of a pandas dataframe. Aggregated every 30 minutes \n",
    "    Args: MeteoSwiss station code (str). /     Returns: DataFrame with a datetime index\n",
    "    \"\"\"\n",
    "    dd_df = query_api.query_data_frame('from(bucket: \"existenzApi\")'\n",
    "                                       '|> range(start: -4y)'\n",
    "                                       '|> filter(fn: (r) => r[\"_measurement\"] == \"smn\")'\n",
    "                                       f'|> filter(fn: (r) => r[\"loc\"] == \"{station}\")'\n",
    "                                       '|> filter(fn: (r) => r[\"_field\"] == \"dd\")'\n",
    "                                       '|> aggregateWindow(every: 30m, fn: mean, createEmpty: true)'\n",
    "                                       '|> yield(name: \"mean\")'\n",
    "                                       )\n",
    "    dd_df = preprocess(dd_df).rename(columns = {'_value':(\"dd_\"+station)})\n",
    "    return dd_df"
   ]
  },
  {
   "cell_type": "code",
   "execution_count": 10,
   "metadata": {},
   "outputs": [],
   "source": [
    "def wind_speed(station: str):\n",
    "    \"\"\"\n",
    "    Returns 4 years of wind speed [km/h] data in the form of a pandas dataframe.\n",
    "    Args: MeteoSwiss station code (str). Use the locations.map() function to open a map with all the stations for more info.\n",
    "    Returns: DataFrame with a datetime index\n",
    "    \"\"\"\n",
    "    ff_df = query_api.query_data_frame('from(bucket: \"existenzApi\")'\n",
    "                                       '|> range(start: -4y) '\n",
    "                                       '|> filter(fn: (r) => r[\"_measurement\"] == \"smn\")'\n",
    "                                       f'|> filter(fn: (r) => r[\"loc\"] == \"{station}\")'\n",
    "                                       '|> filter(fn: (r) => r[\"_field\"] == \"ff\")'\n",
    "                                       '|> aggregateWindow(every: 30m, fn: mean, createEmpty: true)'\n",
    "                                       '|> yield(name: \"mean\")'\n",
    "                                       )\n",
    "    ff_df = preprocess(ff_df).rename(columns = {'_value':(\"ff_\"+station)})\n",
    "    return ff_df"
   ]
  },
  {
   "cell_type": "code",
   "execution_count": 11,
   "metadata": {},
   "outputs": [],
   "source": [
    "def collect_data(func, stations):\n",
    "    \"\"\"\n",
    "    Collects measurements for all stations\n",
    "    Args: Function as defined above. MeteoSwiss station code (str).\n",
    "    Returns: DataFrame with a datetime index\n",
    "    \"\"\"\n",
    "    collected_df = [] \n",
    "    collected_df = func(stations.index.values[0])\n",
    "\n",
    "    for station in stations.index.values[1:]: \n",
    "        new_df = func(station)\n",
    "        collected_df = pd.concat([collected_df,new_df])\n",
    "    return collected_df"
   ]
  },
  {
   "cell_type": "markdown",
   "metadata": {},
   "source": [
    "#### <b style=\"color:blue;\"> Download and save measurements </b>"
   ]
  },
  {
   "cell_type": "code",
   "execution_count": 122,
   "metadata": {},
   "outputs": [],
   "source": [
    "rr_df = collect_data(rainfall, stations)\n",
    "rr_df.to_csv(\"rainfall.csv\", index=True)"
   ]
  },
  {
   "cell_type": "code",
   "execution_count": 123,
   "metadata": {},
   "outputs": [],
   "source": [
    "ss_df = collect_data(sunshine_duration, stations)\n",
    "ss_df.to_csv(\"sunshine.csv\", index=True)"
   ]
  },
  {
   "cell_type": "code",
   "execution_count": 124,
   "metadata": {},
   "outputs": [],
   "source": [
    "dd_df = collect_data(wind_direction, stations)\n",
    "dd_df.to_csv(\"wind_direction.csv\", index=True)"
   ]
  },
  {
   "cell_type": "code",
   "execution_count": 125,
   "metadata": {},
   "outputs": [],
   "source": [
    "ff_df = collect_data(wind_speed, stations)\n",
    "ff_df.to_csv(\"wind_speed.csv\", index=True)"
   ]
  },
  {
   "cell_type": "code",
   "execution_count": null,
   "metadata": {},
   "outputs": [],
   "source": [
    "# all_df = pd.concat([rr_df, ss_df], axis=1)"
   ]
  },
  {
   "cell_type": "code",
   "execution_count": null,
   "metadata": {},
   "outputs": [],
   "source": [
    "# check: read data from csv\n",
    "#check_data = pd.read_csv(\"wind_direction.csv\")\n",
    "#check_data"
   ]
  },
  {
   "cell_type": "markdown",
   "metadata": {},
   "source": [
    "### <b style=\"color:blue;\"> Verify measurements </b>"
   ]
  },
  {
   "cell_type": "markdown",
   "metadata": {},
   "source": [
    "#### <b style=\"color:blue;\"> Read data from csv </b>"
   ]
  },
  {
   "cell_type": "code",
   "execution_count": 142,
   "metadata": {},
   "outputs": [],
   "source": [
    "def read_from_csv(csv):\n",
    "    new_df = pd.read_csv(csv)\n",
    "    new_df['DateTime'] =  pd.to_datetime(new_df['DateTime'], format=\"%Y-%m-%d %H:%M:%S\")\n",
    "    new_df['DateTime'] =  pd.to_datetime(new_df['DateTime'], format=\"%Y-%m-%d %H:%M:%S\")\n",
    "    new_df['year'] =  new_df['DateTime'].dt.year\n",
    "    new_df['month'] =  new_df['DateTime'].dt.month\n",
    "    new_df['day'] =  new_df['DateTime'].dt.day\n",
    "    return new_df"
   ]
  },
  {
   "cell_type": "code",
   "execution_count": 143,
   "metadata": {},
   "outputs": [],
   "source": [
    "rr_df_from_csv = read_from_csv(\"rainfall.csv\")\n",
    "ss_df_from_csv = read_from_csv(\"sunshine.csv\")\n",
    "dd_df_from_csv = read_from_csv(\"wind_direction.csv\")\n",
    "ff_df_from_csv = read_from_csv(\"wind_speed.csv\")"
   ]
  },
  {
   "cell_type": "markdown",
   "metadata": {},
   "source": [
    "#### <b style=\"color:blue;\"> Visualise data</b>\n",
    "\n",
    "data availability\n",
    "first check: rainfall\n",
    "- no data for TAE location\n",
    "- SMA: 2019.07 - 2022.11\n",
    "- REH: 2019.07 - 2020.08\n",
    "- KLO: 2019.07 - 2020.12 \n",
    "- HOE: 2022.06 - 2022.11\n",
    "- PSI: 2019.12 - 2022.11\n",
    "\n",
    "adapted selected stations to SMA and REH and the period 2019.07-2022.11 \n",
    "\n",
    "checked availability of sunshine, wind direction, wind speed data -> ok"
   ]
  },
  {
   "cell_type": "code",
   "execution_count": 144,
   "metadata": {},
   "outputs": [],
   "source": [
    "import datetime\n",
    "import seaborn as sns\n",
    "import matplotlib.pyplot as plt"
   ]
  },
  {
   "cell_type": "code",
   "execution_count": 147,
   "metadata": {},
   "outputs": [
    {
     "data": {
      "text/plain": [
       "<AxesSubplot:xlabel='month'>"
      ]
     },
     "execution_count": 147,
     "metadata": {},
     "output_type": "execute_result"
    },
    {
     "data": {
      "image/png": "[encoded data removed]",
      "text/plain": [
       "<Figure size 1200x400 with 1 Axes>"
      ]
     },
     "metadata": {},
     "output_type": "display_data"
    }
   ],
   "source": [
    "df_for_chart = rr_df_from_csv # rr_df_from_csv,  ss_df_from_csv, dd_df_from_csv, ff_df_from_csv\n",
    "year_for_chart = 2020 # 2019, 2020, 2021, 2022\n",
    "\n",
    "df_for_chart = df_for_chart.iloc[:,[0,1,2]].loc[df_for_chart.year==year_for_chart]\n",
    "\n",
    "fig, axs = plt.subplots(figsize=(12, 4))\n",
    "df_for_chart.iloc[:,[1]].groupby(df_for_chart[\"DateTime\"].dt.month).sum().plot(\n",
    "    kind='bar', rot=0, ax=axs,\n",
    "    xlabel = 'month'\n",
    ")"
   ]
  },
  {
   "cell_type": "markdown",
   "metadata": {},
   "source": [
    "### <b style=\"color:blue;\"> Prepare data for model and streaming </b>"
   ]
  },
  {
   "cell_type": "code",
   "execution_count": 156,
   "metadata": {},
   "outputs": [],
   "source": [
    "start_date = '2019-07-01 00:00:00'\n",
    "split_date = '2022-11-01 00:00:00'\n",
    "end_date = '2022-11-30 23:59:59'\n",
    "#model_df = pd.DataFrame([])\n",
    "#stream_df = pd.DataFrame([])\n",
    "i = 0\n",
    "\n",
    "for df in [rr_df_from_csv, ss_df_from_csv, dd_df_from_csv, ff_df_from_csv]:\n",
    "    if i == 0:\n",
    "        model_df = df.iloc[:,[0,1]].loc[df['DateTime'] < split_date]\n",
    "        model_df = model_df.loc[model_df['DateTime'] >= start_date]\n",
    "        stream_df = df.iloc[:,[0,1]].loc[df['DateTime'] >= split_date]\n",
    "        stream_df = stream_df.loc[stream_df['DateTime'] < end_date]\n",
    "        i+=1\n",
    "    else:\n",
    "        new_model_df = df.iloc[:,[0,1]].loc[df['DateTime'] < split_date]\n",
    "        new_model_df = new_model_df.loc[new_model_df['DateTime'] >= start_date]   \n",
    "        new_stream_df = df.iloc[:,[0,1]].loc[df['DateTime'] >= split_date]\n",
    "        new_stream_df = new_stream_df.loc[new_stream_df['DateTime'] < end_date]\n",
    "        model_df = model_df.merge(new_model_df, on = \"DateTime\")\n",
    "        stream_df = stream_df.merge(new_stream_df, on = \"DateTime\")       "
   ]
  },
  {
   "cell_type": "code",
   "execution_count": 159,
   "metadata": {},
   "outputs": [],
   "source": [
    "model_df.to_csv(\"weather_data_for_modelling.csv\", index=True)\n",
    "stream_df.to_csv(\"weather_data_for_streaming.csv\", index=True)"
   ]
  }
 ],
 "metadata": {
  "application/vnd.databricks.v1+notebook": {
   "dashboards": [],
   "language": "python",
   "notebookMetadata": {
    "mostRecentlyExecutedCommandWithImplicitDF": {
     "commandId": 2737487447192613,
     "dataframes": [
      "_sqldf"
     ]
    },
    "pythonIndentUnit": 4
   },
   "notebookName": "20230103 03_SwissMetNet",
   "notebookOrigID": 2737487447192581,
   "widgets": {}
  },
  "kernelspec": {
   "display_name": "Python 3 (ipykernel)",
   "language": "python",
   "name": "python3"
  },
  "language_info": {
   "codemirror_mode": {
    "name": "ipython",
    "version": 3
   },
   "file_extension": ".py",
   "mimetype": "text/x-python",
   "name": "python",
   "nbconvert_exporter": "python",
   "pygments_lexer": "ipython3",
   "version": "3.8.0"
  }
 },
 "nbformat": 4,
 "nbformat_minor": 1
}
